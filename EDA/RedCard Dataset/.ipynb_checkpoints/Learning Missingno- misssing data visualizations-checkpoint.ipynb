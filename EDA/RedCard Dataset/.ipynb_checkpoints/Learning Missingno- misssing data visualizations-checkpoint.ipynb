{
 "cells": [
  {
   "cell_type": "markdown",
   "metadata": {},
   "source": [
    "## Understand Installing Modules in Python"
   ]
  },
  {
   "cell_type": "markdown",
   "metadata": {},
   "source": [
    "##### pip is the preferred installer program in python similar to npm in  node. Starting with Python 3.4, it is included by default with the Python binary installers.\n",
    "#### A virtual environment is a semi-isolated Python environment that allows packages to be installed for use by a particular application, rather than being installed system wide.\n",
    "##### venv is the standard tool for creating virtual environments, and has been part of Python since Python 3.3. Starting with Python 3.4, it defaults to installing pip into all created virtual environments.\n",
    "##### The Python Packaging Index is a public repository of open source licensed packages made available for use by other Python users.\n",
    "##### The Python Packaging Authority are the group of developers and documentation authors responsible for the maintenance and evolution of the standard packaging tools and the associated metadata and file format standards. They maintain a variety of tools, documentation, and issue trackers on both GitHub and BitBucket."
   ]
  },
  {
   "cell_type": "markdown",
   "metadata": {},
   "source": [
    "##### \n",
    "python -m pip install SomePackage"
   ]
  },
  {
   "cell_type": "markdown",
   "metadata": {},
   "source": [
    "#### First install missing number module using sys and pip"
   ]
  },
  {
   "cell_type": "code",
   "execution_count": 16,
   "metadata": {
    "collapsed": false
   },
   "outputs": [
    {
     "name": "stdout",
     "output_type": "stream",
     "text": [
      "Collecting missingno\n",
      "  Downloading https://files.pythonhosted.org/packages/57/eb/9d7d55ceec57e0e374e70e9ad8d16795ba91960a3c987f3b5ee71d3e8e4d/missingno-0.4.1-py3-none-any.whl\n",
      "Requirement already satisfied: seaborn in d:\\mallikarjun\\upxacademylearning\\anaconda\\lib\\site-packages (from missingno)\n",
      "Requirement already satisfied: scipy in d:\\mallikarjun\\upxacademylearning\\anaconda\\lib\\site-packages (from missingno)\n",
      "Requirement already satisfied: matplotlib in d:\\mallikarjun\\upxacademylearning\\anaconda\\lib\\site-packages (from missingno)\n",
      "Requirement already satisfied: numpy in d:\\mallikarjun\\upxacademylearning\\anaconda\\lib\\site-packages (from missingno)\n",
      "Requirement already satisfied: six>=1.10 in d:\\mallikarjun\\upxacademylearning\\anaconda\\lib\\site-packages (from matplotlib->missingno)\n",
      "Requirement already satisfied: python-dateutil in d:\\mallikarjun\\upxacademylearning\\anaconda\\lib\\site-packages (from matplotlib->missingno)\n",
      "Requirement already satisfied: pytz in d:\\mallikarjun\\upxacademylearning\\anaconda\\lib\\site-packages (from matplotlib->missingno)\n",
      "Requirement already satisfied: cycler>=0.10 in d:\\mallikarjun\\upxacademylearning\\anaconda\\lib\\site-packages (from matplotlib->missingno)\n",
      "Requirement already satisfied: pyparsing!=2.0.4,!=2.1.2,!=2.1.6,>=1.5.6 in d:\\mallikarjun\\upxacademylearning\\anaconda\\lib\\site-packages (from matplotlib->missingno)\n",
      "Installing collected packages: missingno\n",
      "Successfully installed missingno-0.4.1\n"
     ]
    },
    {
     "name": "stderr",
     "output_type": "stream",
     "text": [
      "You are using pip version 9.0.1, however version 10.0.1 is available.\n",
      "You should consider upgrading via the 'python -m pip install --upgrade pip' command.\n"
     ]
    }
   ],
   "source": [
    "import sys\n",
    "!{sys.executable} -m pip install missingno"
   ]
  },
  {
   "cell_type": "markdown",
   "metadata": {},
   "source": [
    "### Second- install quilt\n",
    "###### quilt is a command-line utility that builds, pushes, and installs data packages. A data package is a versioned bundle of serialized data wrapped in a Python module.\n",
    "###### quilt pushes to and pulls from the package registry at quiltdata.com\n",
    "###### For a Datascientist, 80% of the time goes in preparing the dataset.\n",
    "##### Similar to Git, npm that are used for managing source code, Quilt is used for versioning, searlizing data into packages\n",
    "##### Data packages are version datasets"
   ]
  },
  {
   "cell_type": "code",
   "execution_count": 1,
   "metadata": {
    "collapsed": false
   },
   "outputs": [
    {
     "ename": "SyntaxError",
     "evalue": "invalid syntax (<ipython-input-1-df4eee3ef722>, line 2)",
     "output_type": "error",
     "traceback": [
      "\u001b[0;36m  File \u001b[0;32m\"<ipython-input-1-df4eee3ef722>\"\u001b[0;36m, line \u001b[0;32m2\u001b[0m\n\u001b[0;31m    pip install quilt\u001b[0m\n\u001b[0m              ^\u001b[0m\n\u001b[0;31mSyntaxError\u001b[0m\u001b[0;31m:\u001b[0m invalid syntax\n"
     ]
    }
   ],
   "source": [
    "# the below command is only for information. It does not work in Jupyter\n",
    "pip install quilt"
   ]
  },
  {
   "cell_type": "code",
   "execution_count": 3,
   "metadata": {
    "collapsed": false
   },
   "outputs": [
    {
     "name": "stdout",
     "output_type": "stream",
     "text": [
      "Collecting quilt\n",
      "  Downloading https://files.pythonhosted.org/packages/c1/76/a0c3e839dde7acbd650186e767726bc2b05237b3284273e2e5358423da7b/quilt-2.9.6-py3-none-any.whl (99kB)\n",
      "Collecting pyarrow<0.8.0,>=0.4.0 (from quilt)\n",
      "  Downloading https://files.pythonhosted.org/packages/37/0e/3b28463f6ecf1fb183d246314c2352f9f06f91bcb5ebf9ba1f1796102c92/pyarrow-0.7.1-cp36-cp36m-win_amd64.whl (2.6MB)\n",
      "Requirement already satisfied: pyyaml>=3.12 in d:\\mallikarjun\\upxacademylearning\\anaconda\\lib\\site-packages (from quilt)\n",
      "Requirement already satisfied: pandas>=0.19.2 in d:\\mallikarjun\\upxacademylearning\\anaconda\\lib\\site-packages (from quilt)\n",
      "Collecting appdirs>=1.4.0 (from quilt)\n",
      "  Downloading https://files.pythonhosted.org/packages/56/eb/810e700ed1349edde4cbdc1b2a21e28cdf115f9faf263f6bbf8447c1abf3/appdirs-1.4.3-py2.py3-none-any.whl\n",
      "Collecting packaging>=16.8 (from quilt)\n",
      "  Downloading https://files.pythonhosted.org/packages/ad/c2/b500ea05d5f9f361a562f089fc91f77ed3b4783e13a08a3daf82069b1224/packaging-17.1-py2.py3-none-any.whl\n",
      "Requirement already satisfied: requests>=2.12.4 in d:\\mallikarjun\\upxacademylearning\\anaconda\\lib\\site-packages (from quilt)\n",
      "Collecting tqdm>=4.11.2 (from quilt)\n",
      "  Downloading https://files.pythonhosted.org/packages/93/24/6ab1df969db228aed36a648a8959d1027099ce45fad67532b9673d533318/tqdm-4.23.4-py2.py3-none-any.whl (42kB)\n",
      "Requirement already satisfied: six>=1.10.0 in d:\\mallikarjun\\upxacademylearning\\anaconda\\lib\\site-packages (from quilt)\n",
      "Requirement already satisfied: xlrd>=1.0.0 in d:\\mallikarjun\\upxacademylearning\\anaconda\\lib\\site-packages (from quilt)\n",
      "Collecting future>=0.16.0 (from quilt)\n",
      "  Downloading https://files.pythonhosted.org/packages/00/2b/8d082ddfed935f3608cc61140df6dcbf0edea1bc3ab52fb6c29ae3e81e85/future-0.16.0.tar.gz (824kB)\n",
      "Requirement already satisfied: numpy>=1.10 in d:\\mallikarjun\\upxacademylearning\\anaconda\\lib\\site-packages (from pyarrow<0.8.0,>=0.4.0->quilt)\n",
      "Requirement already satisfied: python-dateutil>=2 in d:\\mallikarjun\\upxacademylearning\\anaconda\\lib\\site-packages (from pandas>=0.19.2->quilt)\n",
      "Requirement already satisfied: pytz>=2011k in d:\\mallikarjun\\upxacademylearning\\anaconda\\lib\\site-packages (from pandas>=0.19.2->quilt)\n",
      "Requirement already satisfied: pyparsing>=2.0.2 in d:\\mallikarjun\\upxacademylearning\\anaconda\\lib\\site-packages (from packaging>=16.8->quilt)\n",
      "Building wheels for collected packages: future\n",
      "  Running setup.py bdist_wheel for future: started\n",
      "  Running setup.py bdist_wheel for future: finished with status 'done'\n",
      "  Stored in directory: C:\\Users\\ee206984\\AppData\\Local\\pip\\Cache\\wheels\\bf\\c9\\a3\\c538d90ef17cf7823fa51fc701a7a7a910a80f6a405bf15b1a\n",
      "Successfully built future\n",
      "Installing collected packages: pyarrow, appdirs, packaging, tqdm, future, quilt\n",
      "Successfully installed appdirs-1.4.3 future-0.16.0 packaging-17.1 pyarrow-0.7.1 quilt-2.9.6 tqdm-4.23.4\n"
     ]
    },
    {
     "name": "stderr",
     "output_type": "stream",
     "text": [
      "You are using pip version 9.0.1, however version 10.0.1 is available.\n",
      "You should consider upgrading via the 'python -m pip install --upgrade pip' command.\n"
     ]
    }
   ],
   "source": [
    "# you need to use sys package and pip\n",
    "import sys\n",
    "!{sys.executable} -m pip install quilt"
   ]
  },
  {
   "cell_type": "markdown",
   "metadata": {},
   "source": [
    "#### now import a data package. we will be taking ResidentMario missingno_data"
   ]
  },
  {
   "cell_type": "code",
   "execution_count": 2,
   "metadata": {
    "collapsed": false
   },
   "outputs": [
    {
     "ename": "SyntaxError",
     "evalue": "invalid syntax (<ipython-input-2-b628edf417d4>, line 2)",
     "output_type": "error",
     "traceback": [
      "\u001b[0;36m  File \u001b[0;32m\"<ipython-input-2-b628edf417d4>\"\u001b[0;36m, line \u001b[0;32m2\u001b[0m\n\u001b[0;31m    quilt install ResidentMario/missingno_data\u001b[0m\n\u001b[0m                ^\u001b[0m\n\u001b[0;31mSyntaxError\u001b[0m\u001b[0;31m:\u001b[0m invalid syntax\n"
     ]
    }
   ],
   "source": [
    "# the below command is only for information. It does not work in Jupyter\n",
    "quilt install ResidentMario/missingno_data"
   ]
  },
  {
   "cell_type": "code",
   "execution_count": 13,
   "metadata": {
    "collapsed": false
   },
   "outputs": [
    {
     "name": "stdout",
     "output_type": "stream",
     "text": [
      "Downloading package metadata...\n",
      "Downloading 17 fragments (43218270 bytes before compression)...\n"
     ]
    },
    {
     "name": "stderr",
     "output_type": "stream",
     "text": [
      "  2%|▉                                    | 1.03M/43.2M [00:00<00:19, 2.18MB/s]Exception in thread download-worker-16:\n",
      "Traceback (most recent call last):\n",
      "  File \"D:\\Mallikarjun\\UPXAcademylearning\\Anaconda\\lib\\shutil.py\", line 538, in move\n",
      "    os.rename(src, real_dst)\n",
      "PermissionError: [WinError 32] The process cannot access the file because it is being used by another process: 'C:\\\\Users\\\\ee206984\\\\AppData\\\\Local\\\\QuiltData\\\\QuiltCli\\\\quilt_packages\\\\tmp\\\\ff65dd10cb042b95a1cf5489aab3812e1e468eedc51fba7e3933e47b16b2775a' -> 'C:\\\\Users\\\\ee206984\\\\AppData\\\\Local\\\\QuiltData\\\\QuiltCli\\\\quilt_packages\\\\objs\\\\ff65dd10cb042b95a1cf5489aab3812e1e468eedc51fba7e3933e47b16b2775a'\n",
      "\n",
      "During handling of the above exception, another exception occurred:\n",
      "\n",
      "Traceback (most recent call last):\n",
      "  File \"D:\\Mallikarjun\\UPXAcademylearning\\Anaconda\\lib\\threading.py\", line 916, in _bootstrap_inner\n",
      "    self.run()\n",
      "  File \"D:\\Mallikarjun\\UPXAcademylearning\\Anaconda\\lib\\threading.py\", line 864, in run\n",
      "    self._target(*self._args, **self._kwargs)\n",
      "  File \"D:\\Mallikarjun\\UPXAcademylearning\\Anaconda\\lib\\site-packages\\quilt\\tools\\data_transfer.py\", line 198, in _worker_thread\n",
      "    move(temp_path, local_filename)\n",
      "  File \"D:\\Mallikarjun\\UPXAcademylearning\\Anaconda\\lib\\shutil.py\", line 553, in move\n",
      "    os.unlink(src)\n",
      "PermissionError: [WinError 32] The process cannot access the file because it is being used by another process: 'C:\\\\Users\\\\ee206984\\\\AppData\\\\Local\\\\QuiltData\\\\QuiltCli\\\\quilt_packages\\\\tmp\\\\ff65dd10cb042b95a1cf5489aab3812e1e468eedc51fba7e3933e47b16b2775a'\n",
      "\n",
      " 17%|██████▏                              | 7.24M/43.2M [00:01<00:05, 6.40MB/s]Exception in thread download-worker-8:\n",
      "Traceback (most recent call last):\n",
      "  File \"D:\\Mallikarjun\\UPXAcademylearning\\Anaconda\\lib\\shutil.py\", line 538, in move\n",
      "    os.rename(src, real_dst)\n",
      "PermissionError: [WinError 32] The process cannot access the file because it is being used by another process: 'C:\\\\Users\\\\ee206984\\\\AppData\\\\Local\\\\QuiltData\\\\QuiltCli\\\\quilt_packages\\\\tmp\\\\c19a467e07d134f78b35f0d90354f50a7b696919ecbf53fb205f39780007e372' -> 'C:\\\\Users\\\\ee206984\\\\AppData\\\\Local\\\\QuiltData\\\\QuiltCli\\\\quilt_packages\\\\objs\\\\c19a467e07d134f78b35f0d90354f50a7b696919ecbf53fb205f39780007e372'\n",
      "\n",
      "During handling of the above exception, another exception occurred:\n",
      "\n",
      "Traceback (most recent call last):\n",
      "  File \"D:\\Mallikarjun\\UPXAcademylearning\\Anaconda\\lib\\threading.py\", line 916, in _bootstrap_inner\n",
      "    self.run()\n",
      "  File \"D:\\Mallikarjun\\UPXAcademylearning\\Anaconda\\lib\\threading.py\", line 864, in run\n",
      "    self._target(*self._args, **self._kwargs)\n",
      "  File \"D:\\Mallikarjun\\UPXAcademylearning\\Anaconda\\lib\\site-packages\\quilt\\tools\\data_transfer.py\", line 198, in _worker_thread\n",
      "    move(temp_path, local_filename)\n",
      "  File \"D:\\Mallikarjun\\UPXAcademylearning\\Anaconda\\lib\\shutil.py\", line 553, in move\n",
      "    os.unlink(src)\n",
      "PermissionError: [WinError 32] The process cannot access the file because it is being used by another process: 'C:\\\\Users\\\\ee206984\\\\AppData\\\\Local\\\\QuiltData\\\\QuiltCli\\\\quilt_packages\\\\tmp\\\\c19a467e07d134f78b35f0d90354f50a7b696919ecbf53fb205f39780007e372'\n",
      "\n",
      "100%|█████████████████████████████████████| 43.2M/43.2M [00:05<00:00, 8.59MB/s]\n"
     ]
    },
    {
     "ename": "CommandException",
     "evalue": "Failed to download fragments",
     "output_type": "error",
     "traceback": [
      "\u001b[0;31m---------------------------------------------------------------------------\u001b[0m",
      "\u001b[0;31mCommandException\u001b[0m                          Traceback (most recent call last)",
      "\u001b[0;32m<ipython-input-13-4454a6025cf4>\u001b[0m in \u001b[0;36m<module>\u001b[0;34m()\u001b[0m\n\u001b[1;32m      1\u001b[0m \u001b[1;32mimport\u001b[0m \u001b[0mquilt\u001b[0m\u001b[1;33m\u001b[0m\u001b[0m\n\u001b[0;32m----> 2\u001b[0;31m \u001b[0mquilt\u001b[0m\u001b[1;33m.\u001b[0m\u001b[0minstall\u001b[0m\u001b[1;33m(\u001b[0m\u001b[1;34m\"ResidentMario/geoplot_data\"\u001b[0m\u001b[1;33m)\u001b[0m\u001b[1;33m\u001b[0m\u001b[0m\n\u001b[0m",
      "\u001b[0;32mD:\\Mallikarjun\\UPXAcademylearning\\Anaconda\\lib\\site-packages\\quilt\\tools\\command.py\u001b[0m in \u001b[0;36minstall\u001b[0;34m(package, hash, version, tag, force, meta_only)\u001b[0m\n\u001b[1;32m    960\u001b[0m         \u001b[0msuccess\u001b[0m \u001b[1;33m=\u001b[0m \u001b[0mdownload_fragments\u001b[0m\u001b[1;33m(\u001b[0m\u001b[0mstore\u001b[0m\u001b[1;33m,\u001b[0m \u001b[0mobj_urls\u001b[0m\u001b[1;33m,\u001b[0m \u001b[0mobj_sizes\u001b[0m\u001b[1;33m)\u001b[0m\u001b[1;33m\u001b[0m\u001b[0m\n\u001b[1;32m    961\u001b[0m         \u001b[1;32mif\u001b[0m \u001b[1;32mnot\u001b[0m \u001b[0msuccess\u001b[0m\u001b[1;33m:\u001b[0m\u001b[1;33m\u001b[0m\u001b[0m\n\u001b[0;32m--> 962\u001b[0;31m             \u001b[1;32mraise\u001b[0m \u001b[0mCommandException\u001b[0m\u001b[1;33m(\u001b[0m\u001b[1;34m\"Failed to download fragments\"\u001b[0m\u001b[1;33m)\u001b[0m\u001b[1;33m\u001b[0m\u001b[0m\n\u001b[0m\u001b[1;32m    963\u001b[0m     \u001b[1;32melse\u001b[0m\u001b[1;33m:\u001b[0m\u001b[1;33m\u001b[0m\u001b[0m\n\u001b[1;32m    964\u001b[0m         \u001b[0mprint\u001b[0m\u001b[1;33m(\u001b[0m\u001b[1;34m\"Fragments already downloaded\"\u001b[0m\u001b[1;33m)\u001b[0m\u001b[1;33m\u001b[0m\u001b[0m\n",
      "\u001b[0;31mCommandException\u001b[0m: Failed to download fragments"
     ]
    }
   ],
   "source": [
    "# Just happen to install geoplot_data instead of missingno_data\n",
    "import quilt\n",
    "quilt.install(\"ResidentMario/geoplot_data\")"
   ]
  },
  {
   "cell_type": "code",
   "execution_count": 31,
   "metadata": {
    "collapsed": false
   },
   "outputs": [
    {
     "name": "stdout",
     "output_type": "stream",
     "text": [
      "Downloading package metadata...\n",
      "ResidentMario/missingno_data already installed.\n",
      "Overwrite? (y/n) y\n",
      "Fragments already downloaded\n"
     ]
    }
   ],
   "source": [
    "import quilt\n",
    "quilt.install(\"ResidentMario/missingno_data\")"
   ]
  },
  {
   "cell_type": "code",
   "execution_count": 32,
   "metadata": {
    "collapsed": false
   },
   "outputs": [],
   "source": [
    "import missingno as msno"
   ]
  },
  {
   "cell_type": "code",
   "execution_count": 33,
   "metadata": {
    "collapsed": true
   },
   "outputs": [],
   "source": [
    "%matplotlib inline"
   ]
  },
  {
   "cell_type": "code",
   "execution_count": 34,
   "metadata": {
    "collapsed": false
   },
   "outputs": [
    {
     "ename": "NameError",
     "evalue": "name 'collisions' is not defined",
     "output_type": "error",
     "traceback": [
      "\u001b[0;31m---------------------------------------------------------------------------\u001b[0m",
      "\u001b[0;31mNameError\u001b[0m                                 Traceback (most recent call last)",
      "\u001b[0;32m<ipython-input-34-b4ed90a6ba48>\u001b[0m in \u001b[0;36m<module>\u001b[0;34m()\u001b[0m\n\u001b[0;32m----> 1\u001b[0;31m \u001b[0mmsno\u001b[0m\u001b[1;33m.\u001b[0m\u001b[0mmatrix\u001b[0m\u001b[1;33m(\u001b[0m\u001b[0mcollisions\u001b[0m\u001b[1;33m.\u001b[0m\u001b[0msample\u001b[0m\u001b[1;33m(\u001b[0m\u001b[1;36m250\u001b[0m\u001b[1;33m)\u001b[0m\u001b[1;33m)\u001b[0m\u001b[1;33m\u001b[0m\u001b[0m\n\u001b[0m",
      "\u001b[0;31mNameError\u001b[0m: name 'collisions' is not defined"
     ]
    }
   ],
   "source": [
    "msno.matrix(collisions.sample(250))"
   ]
  },
  {
   "cell_type": "code",
   "execution_count": 35,
   "metadata": {
    "collapsed": true
   },
   "outputs": [],
   "source": [
    "from quilt.data.ResidentMario import missingno_data"
   ]
  },
  {
   "cell_type": "code",
   "execution_count": 36,
   "metadata": {
    "collapsed": false
   },
   "outputs": [
    {
     "ename": "AttributeError",
     "evalue": "'PackageNode' object has no attribute 'nyc_injurious_collisions'",
     "output_type": "error",
     "traceback": [
      "\u001b[0;31m---------------------------------------------------------------------------\u001b[0m",
      "\u001b[0;31mAttributeError\u001b[0m                            Traceback (most recent call last)",
      "\u001b[0;32m<ipython-input-36-8e3e7e656172>\u001b[0m in \u001b[0;36m<module>\u001b[0;34m()\u001b[0m\n\u001b[0;32m----> 1\u001b[0;31m \u001b[0mcollisions\u001b[0m \u001b[1;33m=\u001b[0m \u001b[0mmissingno_data\u001b[0m\u001b[1;33m.\u001b[0m\u001b[0mnyc_injurious_collisions\u001b[0m \u001b[1;33m(\u001b[0m\u001b[1;33m)\u001b[0m\u001b[1;33m\u001b[0m\u001b[0m\n\u001b[0m",
      "\u001b[0;31mAttributeError\u001b[0m: 'PackageNode' object has no attribute 'nyc_injurious_collisions'"
     ]
    }
   ],
   "source": [
    "collisions = missingno_data.nyc_injurious_collisions ()"
   ]
  },
  {
   "cell_type": "code",
   "execution_count": 28,
   "metadata": {
    "collapsed": false
   },
   "outputs": [
    {
     "ename": "AttributeError",
     "evalue": "'PackageNode' object has no attribute 'nyc_injurious_collisions'",
     "output_type": "error",
     "traceback": [
      "\u001b[0;31m---------------------------------------------------------------------------\u001b[0m",
      "\u001b[0;31mAttributeError\u001b[0m                            Traceback (most recent call last)",
      "\u001b[0;32m<ipython-input-28-64b4d093b84c>\u001b[0m in \u001b[0;36m<module>\u001b[0;34m()\u001b[0m\n\u001b[0;32m----> 1\u001b[0;31m \u001b[0mcollisions\u001b[0m \u001b[1;33m=\u001b[0m \u001b[0mmissingno_data\u001b[0m\u001b[1;33m.\u001b[0m\u001b[0mnyc_injurious_collisions\u001b[0m\u001b[1;33m(\u001b[0m\u001b[1;33m)\u001b[0m\u001b[1;33m\u001b[0m\u001b[0m\n\u001b[0m",
      "\u001b[0;31mAttributeError\u001b[0m: 'PackageNode' object has no attribute 'nyc_injurious_collisions'"
     ]
    }
   ],
   "source": [
    " collisions = missingno_data.nyc_injurious_collisions()"
   ]
  },
  {
   "cell_type": "code",
   "execution_count": null,
   "metadata": {
    "collapsed": true
   },
   "outputs": [],
   "source": []
  }
 ],
 "metadata": {
  "kernelspec": {
   "display_name": "Python 3",
   "language": "python",
   "name": "python3"
  },
  "language_info": {
   "codemirror_mode": {
    "name": "ipython",
    "version": 3
   },
   "file_extension": ".py",
   "mimetype": "text/x-python",
   "name": "python",
   "nbconvert_exporter": "python",
   "pygments_lexer": "ipython3",
   "version": "3.6.0"
  }
 },
 "nbformat": 4,
 "nbformat_minor": 2
}
