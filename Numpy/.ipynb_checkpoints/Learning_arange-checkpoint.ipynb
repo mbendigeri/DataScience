{
 "cells": [
  {
   "cell_type": "markdown",
   "metadata": {},
   "source": [
    "## numpy.arange() in Python"
   ]
  },
  {
   "cell_type": "markdown",
   "metadata": {},
   "source": [
    "### About : \n",
    "https://www.geeksforgeeks.org/numpy-arange-python/\n",
    "\n",
    "arange([start,] stop[, step,][, dtype]) : Returns an array with evenly spaced elements as per the interval. The interval mentioned is half opened i.e. [Start, Stop)\n",
    "\n",
    "start : [optional] start of interval range. By default start = 0\n",
    "\n",
    "stop  : end of interval range\n",
    "\n",
    "step  : [optional] step size of interval. By default step size = 1,  \n",
    "\n",
    "For any output out, this is the distance between two adjacent values, out[i+1] - out[i]. \n",
    "\n",
    "dtype : type of output array"
   ]
  },
  {
   "cell_type": "code",
   "execution_count": 2,
   "metadata": {},
   "outputs": [
    {
     "name": "stdout",
     "output_type": "stream",
     "text": [
      "A\n",
      " [[0 1]\n",
      " [2 3]] \n",
      "\n",
      "A\n",
      " [4 5 6 7 8 9] \n",
      "\n",
      "A\n",
      " [ 4  7 10 13 16 19] \n",
      "\n"
     ]
    }
   ],
   "source": [
    "import numpy as np\n",
    " \n",
    "print(\"A\\n\", np.arange(4).reshape(2, 2), \"\\n\")\n",
    " \n",
    "print(\"A\\n\", np.arange(4, 10), \"\\n\")\n",
    " \n",
    "print(\"A\\n\", np.arange(4, 20, 3), \"\\n\")"
   ]
  },
  {
   "cell_type": "code",
   "execution_count": null,
   "metadata": {},
   "outputs": [],
   "source": []
  }
 ],
 "metadata": {
  "kernelspec": {
   "display_name": "Python 3",
   "language": "python",
   "name": "python3"
  },
  "language_info": {
   "codemirror_mode": {
    "name": "ipython",
    "version": 3
   },
   "file_extension": ".py",
   "mimetype": "text/x-python",
   "name": "python",
   "nbconvert_exporter": "python",
   "pygments_lexer": "ipython3",
   "version": "3.6.0"
  }
 },
 "nbformat": 4,
 "nbformat_minor": 2
}
