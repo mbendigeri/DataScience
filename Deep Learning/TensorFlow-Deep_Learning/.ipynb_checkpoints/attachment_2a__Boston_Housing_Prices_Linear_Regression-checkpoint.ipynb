{
 "cells": [
  {
   "cell_type": "markdown",
   "metadata": {
    "colab_type": "text",
    "id": "-j-kOYoictSS"
   },
   "source": [
    "## Linear Regression Model for Boston Housing Prices"
   ]
  },
  {
   "cell_type": "code",
   "execution_count": 0,
   "metadata": {
    "colab": {
     "autoexec": {
      "startup": false,
      "wait_interval": 0
     }
    },
    "colab_type": "code",
    "id": "3IUofLh9ctST"
   },
   "outputs": [],
   "source": [
    "import tensorflow as tf\n",
    "import numpy as np"
   ]
  },
  {
   "cell_type": "markdown",
   "metadata": {
    "colab_type": "text",
    "id": "eNhFJvUSctSY"
   },
   "source": [
    "Reset Default graph - Needed only for Jupyter notebook"
   ]
  },
  {
   "cell_type": "code",
   "execution_count": 0,
   "metadata": {
    "colab": {
     "autoexec": {
      "startup": false,
      "wait_interval": 0
     }
    },
    "colab_type": "code",
    "id": "k8JVQBjkctSZ"
   },
   "outputs": [],
   "source": [
    "tf.reset_default_graph()"
   ]
  },
  {
   "cell_type": "markdown",
   "metadata": {
    "colab_type": "text",
    "id": "U7BwWolqctSd"
   },
   "source": [
    "### Load Data\n",
    "Use Boston housing prices data available in tensorflow"
   ]
  },
  {
   "cell_type": "code",
   "execution_count": 0,
   "metadata": {
    "colab": {
     "autoexec": {
      "startup": false,
      "wait_interval": 0
     }
    },
    "colab_type": "code",
    "id": "WNfRIVcbctSf"
   },
   "outputs": [],
   "source": [
    "from tensorflow.contrib.learn import datasets\n",
    "boston = datasets.load_dataset('boston')\n",
    "\n",
    "#Input features\n",
    "features = np.array(boston.data)\n",
    "\n",
    "#Actual output\n",
    "prices = np.array(boston.target)\n",
    "\n",
    "prices = np.reshape(prices,(prices.shape[0],1))"
   ]
  },
  {
   "cell_type": "code",
   "execution_count": 0,
   "metadata": {
    "colab": {
     "autoexec": {
      "startup": false,
      "wait_interval": 0
     }
    },
    "colab_type": "code",
    "id": "adHKP6anZ9NM"
   },
   "outputs": [],
   "source": [
    "print('Input features shape: ', features.shape)\n",
    "print('Actual Prices data shape: ', prices.shape)"
   ]
  },
  {
   "cell_type": "markdown",
   "metadata": {
    "colab_type": "text",
    "id": "MWP_yrwuctSw"
   },
   "source": [
    "How many examples do we have?"
   ]
  },
  {
   "cell_type": "markdown",
   "metadata": {
    "colab_type": "text",
    "id": "z9_CySCVctS2"
   },
   "source": [
    "### Building the Graph"
   ]
  },
  {
   "cell_type": "markdown",
   "metadata": {
    "colab_type": "text",
    "id": "-M9_lQALctS3"
   },
   "source": [
    "Define input data placeholders as actual data will be provided at run time"
   ]
  },
  {
   "cell_type": "code",
   "execution_count": 0,
   "metadata": {
    "colab": {
     "autoexec": {
      "startup": false,
      "wait_interval": 0
     }
    },
    "colab_type": "code",
    "id": "Au1NqolPctS3"
   },
   "outputs": [],
   "source": [
    "#Input features placeholder\n",
    "x = tf.placeholder(shape=[None,features.shape[1]],dtype=tf.float32, name='x-input')\n",
    "\n",
    "#Actual Price placeholder\n",
    "y_ = tf.placeholder(shape=[None,prices.shape[1]],dtype=tf.float32, name='y-input')"
   ]
  },
  {
   "cell_type": "markdown",
   "metadata": {
    "colab_type": "text",
    "id": "cWeZXWBectS7"
   },
   "source": [
    "Define Weights and Bias"
   ]
  },
  {
   "cell_type": "code",
   "execution_count": 0,
   "metadata": {
    "colab": {
     "autoexec": {
      "startup": false,
      "wait_interval": 0
     }
    },
    "colab_type": "code",
    "id": "Px9_nxjMctS7"
   },
   "outputs": [],
   "source": [
    "W = tf.Variable(tf.zeros(shape=[features.shape[1],1]), name=\"Weights\")\n",
    "b = tf.Variable(tf.zeros(shape=[1]),name=\"Bias\")"
   ]
  },
  {
   "cell_type": "markdown",
   "metadata": {
    "colab_type": "text",
    "id": "YR304QL5ctS_"
   },
   "source": [
    "Prediction"
   ]
  },
  {
   "cell_type": "code",
   "execution_count": 0,
   "metadata": {
    "colab": {
     "autoexec": {
      "startup": false,
      "wait_interval": 0
     }
    },
    "colab_type": "code",
    "id": "23L246UfctS_"
   },
   "outputs": [],
   "source": [
    "#y = xW + b\n",
    "y = tf.add(tf.matmul(x,W),b,name='output')"
   ]
  },
  {
   "cell_type": "markdown",
   "metadata": {
    "colab_type": "text",
    "id": "YHV5Aj-2ctTD"
   },
   "source": [
    "Loss (Cost) Function"
   ]
  },
  {
   "cell_type": "code",
   "execution_count": 0,
   "metadata": {
    "colab": {
     "autoexec": {
      "startup": false,
      "wait_interval": 0
     }
    },
    "colab_type": "code",
    "id": "kzi904WXctTF"
   },
   "outputs": [],
   "source": [
    "#Mean Suared error\n",
    "loss = tf.reduce_mean(tf.square(y-y_),name='Loss')"
   ]
  },
  {
   "cell_type": "markdown",
   "metadata": {
    "colab_type": "text",
    "id": "y6gWDL8QctTJ"
   },
   "source": [
    "GradientDescent Optimizer to minimize Loss"
   ]
  },
  {
   "cell_type": "code",
   "execution_count": 0,
   "metadata": {
    "colab": {
     "autoexec": {
      "startup": false,
      "wait_interval": 0
     }
    },
    "colab_type": "code",
    "id": "cbj6hRSEctTK"
   },
   "outputs": [],
   "source": [
    "learn_rate = 0.03 #Can try different rates\n",
    "train_op = tf.train.GradientDescentOptimizer(learn_rate).minimize(loss)"
   ]
  },
  {
   "cell_type": "markdown",
   "metadata": {
    "colab_type": "text",
    "id": "SXWzDFYActTM"
   },
   "source": [
    "*How do I define Learning Rate?*"
   ]
  },
  {
   "cell_type": "markdown",
   "metadata": {
    "colab_type": "text",
    "id": "3OsLx8D0ctTN"
   },
   "source": [
    "### Executing the Graph"
   ]
  },
  {
   "cell_type": "code",
   "execution_count": 0,
   "metadata": {
    "colab": {
     "autoexec": {
      "startup": false,
      "wait_interval": 0
     }
    },
    "colab_type": "code",
    "id": "_euGMYsKctTO"
   },
   "outputs": [],
   "source": [
    "#Lets start graph Execution\n",
    "with tf.Session() as sess:\n",
    "  \n",
    "    # variables need to be initialized before we can use them\n",
    "    sess.run(tf.global_variables_initializer())\n",
    "    \n",
    "    #how many times data need to be shown to model\n",
    "    training_epochs = 1000  \n",
    "    \n",
    "    for epoch in range(training_epochs):\n",
    "        \n",
    "        #Calculate train_op and loss\n",
    "        _, train_loss = sess.run([train_op,loss], #Execute train_op and loss node\n",
    "                                 feed_dict={x:features, #Data for Input feature\n",
    "                                            y_:prices}) #Actual price data\n",
    "        \n",
    "        #Print the loss after every 100 iterations\n",
    "        if epoch % 100 == 0:\n",
    "            print ('Training loss at step: ', epoch, ' is ', train_loss)"
   ]
  },
  {
   "cell_type": "markdown",
   "metadata": {
    "colab_type": "text",
    "id": "3_45Mb_KfpG0"
   },
   "source": [
    "*How do you explain the training loss?* "
   ]
  },
  {
   "cell_type": "code",
   "execution_count": 0,
   "metadata": {
    "colab": {
     "autoexec": {
      "startup": false,
      "wait_interval": 0
     }
    },
    "colab_type": "code",
    "id": "ThHqfuB6kOsi"
   },
   "outputs": [],
   "source": [
    "#Print Max value for each Feature\n",
    "for num in np.max(features, axis=0):\n",
    "    print(num)"
   ]
  }
 ],
 "metadata": {
  "colab": {
   "collapsed_sections": [],
   "default_view": {},
   "name": "2a. Boston_Housing_Prices_Linear_Regression.ipynb",
   "private_outputs": true,
   "provenance": [],
   "version": "0.3.2",
   "views": {}
  },
  "kernelspec": {
   "display_name": "Python 3",
   "language": "python",
   "name": "python3"
  }
 },
 "nbformat": 4,
 "nbformat_minor": 0
}
