{
 "cells": [
  {
   "cell_type": "markdown",
   "metadata": {
    "colab_type": "text",
    "id": "-j-kOYoictSS"
   },
   "source": [
    "# Building a Linear Regression Model"
   ]
  },
  {
   "cell_type": "code",
   "execution_count": 3,
   "metadata": {
    "colab": {
     "autoexec": {
      "startup": false,
      "wait_interval": 0
     }
    },
    "colab_type": "code",
    "collapsed": true,
    "id": "3IUofLh9ctST"
   },
   "outputs": [],
   "source": [
    "import tensorflow as tf\n",
    "import numpy as np"
   ]
  },
  {
   "cell_type": "markdown",
   "metadata": {
    "colab_type": "text",
    "id": "eNhFJvUSctSY"
   },
   "source": [
    "Reset Default graph - Needed only for Jupyter notebook"
   ]
  },
  {
   "cell_type": "code",
   "execution_count": 4,
   "metadata": {
    "colab": {
     "autoexec": {
      "startup": false,
      "wait_interval": 0
     }
    },
    "colab_type": "code",
    "collapsed": true,
    "id": "k8JVQBjkctSZ"
   },
   "outputs": [],
   "source": [
    "tf.reset_default_graph()"
   ]
  },
  {
   "cell_type": "markdown",
   "metadata": {
    "colab_type": "text",
    "id": "U7BwWolqctSd"
   },
   "source": [
    "# Step 1 - Collect Data\n",
    "Use Boston housing prices data available in tensorflow"
   ]
  },
  {
   "cell_type": "code",
   "execution_count": 5,
   "metadata": {
    "colab": {
     "autoexec": {
      "startup": false,
      "wait_interval": 0
     }
    },
    "colab_type": "code",
    "collapsed": false,
    "id": "WNfRIVcbctSf"
   },
   "outputs": [
    {
     "name": "stdout",
     "output_type": "stream",
     "text": [
      "WARNING:tensorflow:From <ipython-input-5-83ffa42b5db6>:2: load_dataset (from tensorflow.contrib.learn.python.learn.datasets) is deprecated and will be removed in a future version.\n",
      "Instructions for updating:\n",
      "Please use tf.data.\n",
      "WARNING:tensorflow:From D:\\Mallikarjun\\UPXAcademylearning\\Anaconda\\lib\\site-packages\\tensorflow\\contrib\\learn\\python\\learn\\datasets\\__init__.py:80: load_boston (from tensorflow.contrib.learn.python.learn.datasets.base) is deprecated and will be removed in a future version.\n",
      "Instructions for updating:\n",
      "Use scikits.learn.datasets.\n",
      "WARNING:tensorflow:From D:\\Mallikarjun\\UPXAcademylearning\\Anaconda\\lib\\site-packages\\tensorflow\\contrib\\learn\\python\\learn\\datasets\\base.py:129: load_csv_with_header (from tensorflow.contrib.learn.python.learn.datasets.base) is deprecated and will be removed in a future version.\n",
      "Instructions for updating:\n",
      "Use tf.data instead.\n"
     ]
    }
   ],
   "source": [
    "from tensorflow.contrib.learn import datasets\n",
    "boston = datasets.load_dataset('boston')"
   ]
  },
  {
   "cell_type": "markdown",
   "metadata": {
    "colab_type": "text",
    "id": "-Z_2f2j8ctSl"
   },
   "source": [
    "#Step 1a - Extract input features and Target"
   ]
  },
  {
   "cell_type": "code",
   "execution_count": 6,
   "metadata": {
    "colab": {
     "autoexec": {
      "startup": false,
      "wait_interval": 0
     }
    },
    "colab_type": "code",
    "collapsed": false,
    "id": "YOaX1P8HctSm"
   },
   "outputs": [],
   "source": [
    "#Input features\n",
    "features = np.array(boston.data)\n",
    "\n",
    "#Actual output\n",
    "prices = np.array(boston.target)"
   ]
  },
  {
   "cell_type": "code",
   "execution_count": 7,
   "metadata": {
    "colab": {
     "autoexec": {
      "startup": false,
      "wait_interval": 0
     }
    },
    "colab_type": "code",
    "collapsed": false,
    "id": "bw__rPW2ctSp"
   },
   "outputs": [
    {
     "name": "stdout",
     "output_type": "stream",
     "text": [
      "Input features shape:  (506, 13)\n",
      "Actual Prices data shape:  (506,)\n"
     ]
    }
   ],
   "source": [
    "print('Input features shape: ', features.shape)\n",
    "print('Actual Prices data shape: ', prices.shape)"
   ]
  },
  {
   "cell_type": "code",
   "execution_count": 8,
   "metadata": {
    "colab": {
     "autoexec": {
      "startup": false,
      "wait_interval": 0
     }
    },
    "colab_type": "code",
    "collapsed": true,
    "id": "Ucf32ExBctSt"
   },
   "outputs": [],
   "source": [
    "#Reshape prices to make it work\n",
    "prices = np.reshape(prices,[-1,1])"
   ]
  },
  {
   "cell_type": "markdown",
   "metadata": {
    "colab_type": "text",
    "id": "MWP_yrwuctSw"
   },
   "source": [
    "How many examples do we have?"
   ]
  },
  {
   "cell_type": "markdown",
   "metadata": {
    "colab_type": "text",
    "id": "z9_CySCVctS2"
   },
   "source": [
    "# Building the Graph"
   ]
  },
  {
   "cell_type": "markdown",
   "metadata": {
    "colab_type": "text",
    "id": "-M9_lQALctS3"
   },
   "source": [
    "Define input data placeholders as actual data will be provided at run time"
   ]
  },
  {
   "cell_type": "code",
   "execution_count": 9,
   "metadata": {
    "colab": {
     "autoexec": {
      "startup": false,
      "wait_interval": 0
     }
    },
    "colab_type": "code",
    "collapsed": true,
    "id": "Au1NqolPctS3"
   },
   "outputs": [],
   "source": [
    "#Input features placeholder\n",
    "x = tf.placeholder(shape=[None,features.shape[1]],dtype=tf.float32, name='x-input')\n",
    "\n",
    "#Actual Price placeholder\n",
    "y_ = tf.placeholder(shape=[None,prices.shape[1]],dtype=tf.float32, name='y-input')"
   ]
  },
  {
   "cell_type": "code",
   "execution_count": 10,
   "metadata": {
    "colab": {
     "autoexec": {
      "startup": false,
      "wait_interval": 0
     }
    },
    "colab_type": "code",
    "collapsed": true,
    "id": "yPIt61EYhMOn"
   },
   "outputs": [],
   "source": [
    "#Normalize input features data\n",
    "x_n = tf.nn.l2_normalize(x,1)"
   ]
  },
  {
   "cell_type": "markdown",
   "metadata": {
    "colab_type": "text",
    "id": "cWeZXWBectS7"
   },
   "source": [
    "Define Weights and Bias"
   ]
  },
  {
   "cell_type": "code",
   "execution_count": 11,
   "metadata": {
    "colab": {
     "autoexec": {
      "startup": false,
      "wait_interval": 0
     }
    },
    "colab_type": "code",
    "collapsed": true,
    "id": "Px9_nxjMctS7"
   },
   "outputs": [],
   "source": [
    "W = tf.Variable(tf.zeros(shape=[features.shape[1],1]), name=\"Weights\")\n",
    "b = tf.Variable(tf.zeros(shape=[1]),name=\"Bias\")"
   ]
  },
  {
   "cell_type": "markdown",
   "metadata": {
    "colab_type": "text",
    "id": "YR304QL5ctS_"
   },
   "source": [
    "**Prediction**\n",
    "Make sure to use normalized data -> x_n"
   ]
  },
  {
   "cell_type": "code",
   "execution_count": 12,
   "metadata": {
    "colab": {
     "autoexec": {
      "startup": false,
      "wait_interval": 0
     }
    },
    "colab_type": "code",
    "collapsed": true,
    "id": "23L246UfctS_"
   },
   "outputs": [],
   "source": [
    "#y = x_n*W + b\n",
    "y = tf.add(tf.matmul(x_n,W),b,name='output')"
   ]
  },
  {
   "cell_type": "markdown",
   "metadata": {
    "colab_type": "text",
    "id": "YHV5Aj-2ctTD"
   },
   "source": [
    "Loss (Cost) Function"
   ]
  },
  {
   "cell_type": "code",
   "execution_count": 13,
   "metadata": {
    "colab": {
     "autoexec": {
      "startup": false,
      "wait_interval": 0
     }
    },
    "colab_type": "code",
    "collapsed": true,
    "id": "kzi904WXctTF"
   },
   "outputs": [],
   "source": [
    "#Mean Suared error\n",
    "loss = tf.reduce_mean(tf.square(y-y_),name='Loss')"
   ]
  },
  {
   "cell_type": "markdown",
   "metadata": {
    "colab_type": "text",
    "id": "y6gWDL8QctTJ"
   },
   "source": [
    "GradientDescent Optimizer to minimize Loss"
   ]
  },
  {
   "cell_type": "code",
   "execution_count": 14,
   "metadata": {
    "colab": {
     "autoexec": {
      "startup": false,
      "wait_interval": 0
     }
    },
    "colab_type": "code",
    "collapsed": true,
    "id": "cbj6hRSEctTK"
   },
   "outputs": [],
   "source": [
    "learn_rate = 0.03\n",
    "train_op = tf.train.GradientDescentOptimizer(learn_rate).minimize(loss)"
   ]
  },
  {
   "cell_type": "markdown",
   "metadata": {
    "colab_type": "text",
    "id": "SXWzDFYActTM"
   },
   "source": [
    "Logging information which can be used with TensorBoard"
   ]
  },
  {
   "cell_type": "code",
   "execution_count": 15,
   "metadata": {
    "colab": {
     "autoexec": {
      "startup": false,
      "wait_interval": 0
     }
    },
    "colab_type": "code",
    "collapsed": true,
    "id": "FnUgykF9iUbE"
   },
   "outputs": [],
   "source": [
    "#Define a summary scalar object to capture loss\n",
    "training_loss = tf.summary.scalar('train_loss',loss)\n",
    "\n",
    "#Define the logs directory to store the logs, you can change the value\n",
    "log_dir = '/tmp/boston/v1' \n",
    "\n",
    "#Initialize Writer for Logging\n",
    "writer = tf.summary.FileWriter(log_dir, graph=tf.get_default_graph())\n",
    "\n",
    "#Create saver to save the graph\n",
    "saver = tf.train.Saver()"
   ]
  },
  {
   "cell_type": "markdown",
   "metadata": {
    "colab_type": "text",
    "id": "3OsLx8D0ctTN"
   },
   "source": [
    "# Executing the Graph"
   ]
  },
  {
   "cell_type": "code",
   "execution_count": 16,
   "metadata": {
    "colab": {
     "autoexec": {
      "startup": false,
      "wait_interval": 0
     }
    },
    "colab_type": "code",
    "collapsed": false,
    "id": "_euGMYsKctTO"
   },
   "outputs": [
    {
     "name": "stdout",
     "output_type": "stream",
     "text": [
      "Training loss at step:  0  is  592.1469\n",
      "Training loss at step:  100  is  72.251595\n",
      "Training loss at step:  200  is  67.80704\n",
      "Training loss at step:  300  is  65.681366\n",
      "Training loss at step:  400  is  64.617775\n",
      "Training loss at step:  500  is  64.04199\n",
      "Training loss at step:  600  is  63.69156\n",
      "Training loss at step:  700  is  63.44648\n",
      "Training loss at step:  800  is  63.25185\n",
      "Training loss at step:  900  is  63.082523\n"
     ]
    }
   ],
   "source": [
    "#Lets start graph Execution\n",
    "with tf.Session() as sess:\n",
    "  \n",
    "    # variables need to be initialized before we can use them\n",
    "    sess.run(tf.global_variables_initializer())\n",
    "    \n",
    "    #how many times data need to be shown to model\n",
    "    training_epochs = 1000     \n",
    "    \n",
    "    \n",
    "    for epoch in range(training_epochs):\n",
    "        \n",
    "        #Calculate train_op and loss\n",
    "        _, train_loss, loss_log = sess.run([train_op,  #Gradient Descent node\n",
    "                                            loss,      #loss node for printing\n",
    "                                            training_loss], #stored in log file\n",
    "                                           feed_dict={x:features, y_:prices})\n",
    "        \n",
    "        #Write the logs\n",
    "        writer.add_summary(loss_log, epoch)\n",
    "        \n",
    "        #Print the loss after every 100 iterations\n",
    "        if epoch % 100 == 0:\n",
    "            print ('Training loss at step: ', epoch, ' is ', train_loss)\n",
    "            \n",
    "    #Saving the graph\n",
    "    saver.save(sess, log_dir + '/' + 'boston.ckpt')"
   ]
  },
  {
   "cell_type": "markdown",
   "metadata": {
    "colab_type": "text",
    "id": "3_45Mb_KfpG0"
   },
   "source": [
    "How do we view the logs and graph using TensorBoard? "
   ]
  },
  {
   "cell_type": "code",
   "execution_count": null,
   "metadata": {
    "collapsed": true
   },
   "outputs": [],
   "source": []
  }
 ],
 "metadata": {
  "colab": {
   "default_view": {},
   "name": "2c. Boston_Housing_Prices_with_Logging.ipynb",
   "private_outputs": true,
   "provenance": [],
   "version": "0.3.2",
   "views": {}
  },
  "kernelspec": {
   "display_name": "Python 3",
   "language": "python",
   "name": "python3"
  },
  "language_info": {
   "codemirror_mode": {
    "name": "ipython",
    "version": 3
   },
   "file_extension": ".py",
   "mimetype": "text/x-python",
   "name": "python",
   "nbconvert_exporter": "python",
   "pygments_lexer": "ipython3",
   "version": "3.6.0"
  }
 },
 "nbformat": 4,
 "nbformat_minor": 0
}
