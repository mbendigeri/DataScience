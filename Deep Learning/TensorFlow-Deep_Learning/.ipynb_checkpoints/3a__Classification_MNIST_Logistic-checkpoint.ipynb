{
 "cells": [
  {
   "cell_type": "markdown",
   "metadata": {
    "colab_type": "text",
    "id": "HHBZr3aPluCp"
   },
   "source": [
    "# MNIST Classification with Logistic Regression"
   ]
  },
  {
   "cell_type": "code",
   "execution_count": 0,
   "metadata": {
    "colab": {
     "autoexec": {
      "startup": false,
      "wait_interval": 0
     }
    },
    "colab_type": "code",
    "id": "ADxKs8kTluCs"
   },
   "outputs": [],
   "source": [
    "import tensorflow as tf"
   ]
  },
  {
   "cell_type": "code",
   "execution_count": 0,
   "metadata": {
    "colab": {
     "autoexec": {
      "startup": false,
      "wait_interval": 0
     }
    },
    "colab_type": "code",
    "id": "29AylAusluCx"
   },
   "outputs": [],
   "source": [
    "#Reset tensorflow graph\n",
    "tf.reset_default_graph()"
   ]
  },
  {
   "cell_type": "markdown",
   "metadata": {
    "colab_type": "text",
    "id": "JMyjscP0luC1"
   },
   "source": [
    "###Step 1 : Collect Data\n",
    "Use MNIST data provided with tensorflow library."
   ]
  },
  {
   "cell_type": "code",
   "execution_count": 0,
   "metadata": {
    "colab": {
     "autoexec": {
      "startup": false,
      "wait_interval": 0
     }
    },
    "colab_type": "code",
    "id": "FEFrv-QBluC2"
   },
   "outputs": [],
   "source": [
    "from tensorflow.examples.tutorials.mnist import input_data\n",
    "mnist = input_data.read_data_sets('MNIST_data', one_hot=True)"
   ]
  },
  {
   "cell_type": "markdown",
   "metadata": {
    "colab_type": "text",
    "id": "FObfk6eoluC5"
   },
   "source": [
    "Get Training and Test Data"
   ]
  },
  {
   "cell_type": "code",
   "execution_count": 0,
   "metadata": {
    "colab": {
     "autoexec": {
      "startup": false,
      "wait_interval": 0
     }
    },
    "colab_type": "code",
    "id": "ac7gYHBWluC7"
   },
   "outputs": [],
   "source": [
    "trainX = mnist.train.images\n",
    "trainY = mnist.train.labels"
   ]
  },
  {
   "cell_type": "code",
   "execution_count": 0,
   "metadata": {
    "colab": {
     "autoexec": {
      "startup": false,
      "wait_interval": 0
     }
    },
    "colab_type": "code",
    "id": "Rq29QqcjluC9"
   },
   "outputs": [],
   "source": [
    "testX = mnist.test.images\n",
    "testY = mnist.test.labels"
   ]
  },
  {
   "cell_type": "markdown",
   "metadata": {
    "colab_type": "text",
    "id": "IhwQer1-luDA"
   },
   "source": [
    "How many Training and Test Examples?"
   ]
  },
  {
   "cell_type": "code",
   "execution_count": 0,
   "metadata": {
    "colab": {
     "autoexec": {
      "startup": false,
      "wait_interval": 0
     }
    },
    "colab_type": "code",
    "id": "f_7-dwZVluDB"
   },
   "outputs": [],
   "source": [
    "print('Training input features: ', trainX.shape)\n",
    "print('Training target data: ', trainY.shape)"
   ]
  },
  {
   "cell_type": "code",
   "execution_count": 0,
   "metadata": {
    "colab": {
     "autoexec": {
      "startup": false,
      "wait_interval": 0
     }
    },
    "colab_type": "code",
    "id": "9GC-wJjBr3LT"
   },
   "outputs": [],
   "source": [
    "trainY[0]"
   ]
  },
  {
   "cell_type": "code",
   "execution_count": 0,
   "metadata": {
    "colab": {
     "autoexec": {
      "startup": false,
      "wait_interval": 0
     }
    },
    "colab_type": "code",
    "id": "RFDXd1jtluDF"
   },
   "outputs": [],
   "source": [
    "print('Test input features: ', testX.shape)\n",
    "print('Test target data: ', testY.shape)"
   ]
  },
  {
   "cell_type": "markdown",
   "metadata": {
    "colab_type": "text",
    "id": "XIjuY6OnluDL"
   },
   "source": [
    "Lets define some parameters"
   ]
  },
  {
   "cell_type": "code",
   "execution_count": 0,
   "metadata": {
    "colab": {
     "autoexec": {
      "startup": false,
      "wait_interval": 0
     }
    },
    "colab_type": "code",
    "id": "sSG6dX_jluDM"
   },
   "outputs": [],
   "source": [
    "#Directory to save logs and graph, change it as needed\n",
    "logs_path='/tmp/mnist/lr2'\n",
    "\n",
    "#Learning rate\n",
    "learning_rate = 0.03\n",
    "\n",
    "#Number of input features - MNIST has 784 features\n",
    "n_features = trainX.shape[1]\n",
    "\n",
    "#Number of possible output classess - 10 for MNIST\n",
    "n_classes = trainY.shape[1]\n",
    "\n",
    "#Model name for storage\n",
    "model_name = 'mnist_lr.ckpt'\n",
    "\n",
    "#How many times all the data will be shown to model\n",
    "training_epochs = 100"
   ]
  },
  {
   "cell_type": "markdown",
   "metadata": {
    "colab_type": "text",
    "id": "_HaqHWlFluDU"
   },
   "source": [
    "# Build the Graph"
   ]
  },
  {
   "cell_type": "markdown",
   "metadata": {
    "colab_type": "text",
    "id": "tNLaWsDuluDV"
   },
   "source": [
    "Input placeholders"
   ]
  },
  {
   "cell_type": "code",
   "execution_count": 0,
   "metadata": {
    "colab": {
     "autoexec": {
      "startup": false,
      "wait_interval": 0
     }
    },
    "colab_type": "code",
    "id": "alHyZgS-luDW"
   },
   "outputs": [],
   "source": [
    "with tf.name_scope('input'):\n",
    "    \n",
    "    # None -> batch size can be any size, with n_features\n",
    "    x = tf.placeholder(tf.float32, shape=[None, n_features], name=\"x-input\") \n",
    "    \n",
    "    # target n_classes output classes\n",
    "    y_ = tf.placeholder(tf.float32, shape=[None, n_classes], name=\"y-input\")"
   ]
  },
  {
   "cell_type": "markdown",
   "metadata": {
    "colab_type": "text",
    "id": "WdFv74grluDY"
   },
   "source": [
    "Define Weights and Bias"
   ]
  },
  {
   "cell_type": "code",
   "execution_count": 0,
   "metadata": {
    "colab": {
     "autoexec": {
      "startup": false,
      "wait_interval": 0
     }
    },
    "colab_type": "code",
    "id": "MRi032VoluDZ"
   },
   "outputs": [],
   "source": [
    "with tf.name_scope(\"weights\"):\n",
    "    W = tf.Variable(tf.zeros([n_features, n_classes]))  #784,10\n",
    "    b = tf.Variable(tf.zeros([n_classes])) #10"
   ]
  },
  {
   "cell_type": "markdown",
   "metadata": {
    "colab_type": "text",
    "id": "hpNPkhm0luDb"
   },
   "source": [
    "Prediction    "
   ]
  },
  {
   "cell_type": "code",
   "execution_count": 0,
   "metadata": {
    "colab": {
     "autoexec": {
      "startup": false,
      "wait_interval": 0
     }
    },
    "colab_type": "code",
    "id": "V1WsFIpKluDc"
   },
   "outputs": [],
   "source": [
    "with tf.name_scope(\"Output\"):\n",
    "    y = tf.nn.softmax(tf.matmul(x,W) + b)"
   ]
  },
  {
   "cell_type": "markdown",
   "metadata": {
    "colab_type": "text",
    "id": "7JDVOin3luDg"
   },
   "source": [
    "Loss"
   ]
  },
  {
   "cell_type": "code",
   "execution_count": 0,
   "metadata": {
    "colab": {
     "autoexec": {
      "startup": false,
      "wait_interval": 0
     }
    },
    "colab_type": "code",
    "id": "I5cvZr0IluDg"
   },
   "outputs": [],
   "source": [
    "with tf.name_scope('Loss'):\n",
    "    #Cross Entropy Loss\n",
    "    cross_entropy = tf.reduce_mean(-tf.reduce_sum(y_ * tf.log(y), reduction_indices=[1]))"
   ]
  },
  {
   "cell_type": "markdown",
   "metadata": {
    "colab_type": "text",
    "id": "lwLZdSS6luDl"
   },
   "source": [
    "GradientDescent Optimizer"
   ]
  },
  {
   "cell_type": "code",
   "execution_count": 0,
   "metadata": {
    "colab": {
     "autoexec": {
      "startup": false,
      "wait_interval": 0
     }
    },
    "colab_type": "code",
    "id": "QTegFczBluDm"
   },
   "outputs": [],
   "source": [
    "with tf.name_scope('train'):    \n",
    "    train_op = tf.train.GradientDescentOptimizer(learning_rate).minimize(\n",
    "        cross_entropy)    "
   ]
  },
  {
   "cell_type": "markdown",
   "metadata": {
    "colab_type": "text",
    "id": "cih1cB9yluDt"
   },
   "source": [
    "Model Accuracy"
   ]
  },
  {
   "cell_type": "code",
   "execution_count": 0,
   "metadata": {
    "colab": {
     "autoexec": {
      "startup": false,
      "wait_interval": 0
     }
    },
    "colab_type": "code",
    "id": "RGsjMn9WluDu"
   },
   "outputs": [],
   "source": [
    "with tf.name_scope('Accuracy'):\n",
    "    \n",
    "    #Get the number with highest probability\n",
    "    prediction = tf.argmax(y,1,name=\"Predict\")\n",
    "    \n",
    "    #Compare prediction with actual\n",
    "    correct_prediction = tf.equal(prediction, tf.argmax(y_,1))\n",
    "    \n",
    "    #Calculate mean accuracy across all data examples\n",
    "    accuracy = tf.reduce_mean(tf.cast(correct_prediction, tf.float32),\n",
    "                              name=\"accuracy\")"
   ]
  },
  {
   "cell_type": "markdown",
   "metadata": {
    "colab_type": "text",
    "id": "TaaHJxbGluDz"
   },
   "source": [
    "Loss and Accuracy Logging"
   ]
  },
  {
   "cell_type": "code",
   "execution_count": 0,
   "metadata": {
    "colab": {
     "autoexec": {
      "startup": false,
      "wait_interval": 0
     }
    },
    "colab_type": "code",
    "id": "1esNaCCYluD0"
   },
   "outputs": [],
   "source": [
    "# Training loss and accuracy\n",
    "training_loss = tf.summary.scalar(\"training_loss\", cross_entropy)\n",
    "training_accuracy = tf.summary.scalar(\"training_accuracy\", accuracy)\n",
    "\n",
    "#Test loss and accuracy\n",
    "test_loss = tf.summary.scalar(\"test_loss\", cross_entropy)\n",
    "test_accuracy = tf.summary.scalar(\"test_accuracy\", accuracy)\n",
    "\n",
    "# create log writer object\n",
    "writer = tf.summary.FileWriter(logs_path, graph=tf.get_default_graph())"
   ]
  },
  {
   "cell_type": "markdown",
   "metadata": {
    "colab_type": "text",
    "id": "F6rmVix8luD7"
   },
   "source": [
    "# Execute the Graph"
   ]
  },
  {
   "cell_type": "code",
   "execution_count": 0,
   "metadata": {
    "colab": {
     "autoexec": {
      "startup": false,
      "wait_interval": 0
     }
    },
    "colab_type": "code",
    "id": "beLGjqRcluD8"
   },
   "outputs": [],
   "source": [
    "#Start Graph execution\n",
    "with tf.Session() as sess:\n",
    "    \n",
    "    # variables need to be initialized before we can use them\n",
    "    sess.run(tf.global_variables_initializer())\n",
    "\n",
    "    # perform training cycles\n",
    "    for epoch in range(training_epochs):\n",
    "        \n",
    "        # perform the operations we defined earlier on batch\n",
    "        _,acc,loss = sess.run([train_op, training_accuracy,training_loss],\n",
    "                              feed_dict={x: trainX, y_: trainY})\n",
    "        \n",
    "        #log training accuracy and loss\n",
    "        writer.add_summary(acc, epoch)\n",
    "        writer.add_summary(loss, epoch) \n",
    "        \n",
    "        #Test loss and accuracy\n",
    "        #Please note we are giving test data for session run\n",
    "        acc,loss = sess.run([test_accuracy,test_loss],\n",
    "                                   feed_dict={x: testX, y_: testY})\n",
    "        \n",
    "        writer.add_summary(acc, epoch)\n",
    "        writer.add_summary(loss, epoch)\n",
    "        \n",
    "        if epoch % 5 == 0: \n",
    "            print (\"Epoch: \", epoch)\n",
    "            print (\"Test Accuracy: \", accuracy.eval(feed_dict={x: testX, \n",
    "                                                               y_: testY}))               \n",
    "    #Create a Saver to save the graph\n",
    "    saver = tf.train.Saver()\n",
    "    saver.save(sess, logs_path + '/' + model_name)"
   ]
  },
  {
   "cell_type": "code",
   "execution_count": 0,
   "metadata": {
    "colab": {
     "autoexec": {
      "startup": false,
      "wait_interval": 0
     }
    },
    "colab_type": "code",
    "id": "ESSxoEq_zmul"
   },
   "outputs": [],
   "source": [
    ""
   ]
  }
 ],
 "metadata": {
  "colab": {
   "collapsed_sections": [],
   "default_view": {},
   "name": "3a. Classification_MNIST_Logistic.ipynb",
   "private_outputs": true,
   "provenance": [],
   "version": "0.3.2",
   "views": {}
  },
  "kernelspec": {
   "display_name": "Python 3",
   "language": "python",
   "name": "python3"
  }
 },
 "nbformat": 4,
 "nbformat_minor": 0
}
