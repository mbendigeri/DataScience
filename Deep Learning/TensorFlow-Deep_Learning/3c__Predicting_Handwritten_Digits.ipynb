{
 "cells": [
  {
   "cell_type": "code",
   "execution_count": 0,
   "metadata": {
    "colab": {
     "autoexec": {
      "startup": false,
      "wait_interval": 0
     }
    },
    "colab_type": "code",
    "id": "zWWSe68BmFJG"
   },
   "outputs": [],
   "source": [
    "import tensorflow as tf\n",
    "\n",
    "tf.reset_default_graph()"
   ]
  },
  {
   "cell_type": "markdown",
   "metadata": {
    "colab_type": "text",
    "id": "07rgvUmaAQpJ"
   },
   "source": [
    "### List out contents of folder where logs and model is saved"
   ]
  },
  {
   "cell_type": "code",
   "execution_count": 0,
   "metadata": {
    "colab": {
     "autoexec": {
      "startup": false,
      "wait_interval": 0
     }
    },
    "colab_type": "code",
    "id": "t8zVnkz3_Onv"
   },
   "outputs": [],
   "source": [
    "!ls -s /tmp/mnist/lr"
   ]
  },
  {
   "cell_type": "markdown",
   "metadata": {
    "colab_type": "text",
    "id": "dM_3B5Nq_Yki"
   },
   "source": [
    "### Explanation of TensorFlow saved files"
   ]
  },
  {
   "cell_type": "markdown",
   "metadata": {
    "colab_type": "text",
    "id": "rrpzlcFwAbDI"
   },
   "source": [
    "1.   Graph structure is saved in '.meta' file\n",
    "2.   Data for the graph is saved in '.data-xxxxx-of-yyyyy'\n",
    "3.   'events.out.tfevents.xxxx' has logging data\n",
    "4.  'checkpoint' tracks different checkpoints taken at different times "
   ]
  },
  {
   "cell_type": "markdown",
   "metadata": {
    "colab_type": "text",
    "id": "1q847c2vl8ja"
   },
   "source": [
    "### Loading the graph"
   ]
  },
  {
   "cell_type": "code",
   "execution_count": 0,
   "metadata": {
    "colab": {
     "autoexec": {
      "startup": false,
      "wait_interval": 0
     }
    },
    "colab_type": "code",
    "id": "z7PzWkz3mQZp"
   },
   "outputs": [],
   "source": [
    "#Directory where graph and data is stored\n",
    "log_dir = '/tmp/mnist/lr2'\n",
    "model_name = 'mnist_lr.ckpt'\n",
    "\n",
    "#Start the session\n",
    "sess = tf.Session()\n",
    "\n",
    "#Load Graph\n",
    "new_saver = tf.train.import_meta_graph(log_dir + '/' + model_name + '.meta')\n",
    "\n",
    "#Load Weights and Bias\n",
    "new_saver.restore(sess, log_dir + '/' + model_name)"
   ]
  },
  {
   "cell_type": "markdown",
   "metadata": {
    "colab_type": "text",
    "id": "ZKkcgJj9sU9Q"
   },
   "source": [
    "## Get access to input and output tensors"
   ]
  },
  {
   "cell_type": "code",
   "execution_count": 0,
   "metadata": {
    "colab": {
     "autoexec": {
      "startup": false,
      "wait_interval": 0
     }
    },
    "colab_type": "code",
    "id": "elFA8gK3m2NV"
   },
   "outputs": [],
   "source": [
    "#Get access to current graph\n",
    "graph = tf.get_default_graph()\n",
    "\n",
    "#Get input tensor\n",
    "x = graph.get_tensor_by_name('input/x-input:0')\n",
    "\n",
    "#Get output tensor\n",
    "y = graph.get_tensor_by_name('Accuracy/Predict:0')"
   ]
  },
  {
   "cell_type": "markdown",
   "metadata": {
    "colab_type": "text",
    "id": "ioprHrGW2eUi"
   },
   "source": [
    "### Get Data for Prediction"
   ]
  },
  {
   "cell_type": "code",
   "execution_count": 0,
   "metadata": {
    "colab": {
     "autoexec": {
      "startup": false,
      "wait_interval": 0
     }
    },
    "colab_type": "code",
    "id": "zj0GOKVM2dbM"
   },
   "outputs": [],
   "source": [
    "from tensorflow.examples.tutorials.mnist import input_data\n",
    "mnist = input_data.read_data_sets('MNIST_data', one_hot=True)\n",
    "testX = mnist.test.images\n",
    "testY = mnist.test.labels"
   ]
  },
  {
   "cell_type": "markdown",
   "metadata": {
    "colab_type": "text",
    "id": "b9jEX2jCodoG"
   },
   "source": [
    "### Start Prediction"
   ]
  },
  {
   "cell_type": "code",
   "execution_count": 0,
   "metadata": {
    "colab": {
     "autoexec": {
      "startup": false,
      "wait_interval": 0
     }
    },
    "colab_type": "code",
    "id": "Sp1ky3eMocta"
   },
   "outputs": [],
   "source": [
    "#Predict price\n",
    "predicted_nums = sess.run([y], feed_dict={x:testX})\n",
    "\n",
    "print(predicted_nums[0])"
   ]
  },
  {
   "cell_type": "code",
   "execution_count": 0,
   "metadata": {
    "colab": {
     "autoexec": {
      "startup": false,
      "wait_interval": 0
     }
    },
    "colab_type": "code",
    "id": "k7B98clu4dWj"
   },
   "outputs": [],
   "source": [
    "len(predicted_nums[0])"
   ]
  },
  {
   "cell_type": "markdown",
   "metadata": {
    "colab_type": "text",
    "id": "CTeQ9AqU3WCQ"
   },
   "source": [
    "### Visualizing results"
   ]
  },
  {
   "cell_type": "code",
   "execution_count": 0,
   "metadata": {
    "colab": {
     "autoexec": {
      "startup": false,
      "wait_interval": 0
     }
    },
    "colab_type": "code",
    "id": "0BOoXTcf3U6f"
   },
   "outputs": [],
   "source": [
    "import matplotlib\n",
    "import numpy as np\n",
    "import matplotlib.pyplot as plt\n",
    "%matplotlib inline  "
   ]
  },
  {
   "cell_type": "code",
   "execution_count": 0,
   "metadata": {
    "colab": {
     "autoexec": {
      "startup": false,
      "wait_interval": 0
     }
    },
    "colab_type": "code",
    "id": "HVZ0_K1U3kWd"
   },
   "outputs": [],
   "source": [
    "#Get a random image number\n",
    "image_num = np.random.randint(testX.shape[0])\n",
    "\n",
    "print('Actual : ', np.argmax(testY[image_num]), \n",
    "      'Prediction : ', predicted_nums[0][image_num])\n",
    "plt.imshow(np.reshape(testX[image_num],(28,28)))"
   ]
  },
  {
   "cell_type": "markdown",
   "metadata": {
    "colab_type": "text",
    "id": "_waEf3wku2wI"
   },
   "source": [
    "### IMPORTANT - close the session"
   ]
  },
  {
   "cell_type": "code",
   "execution_count": 0,
   "metadata": {
    "colab": {
     "autoexec": {
      "startup": false,
      "wait_interval": 0
     }
    },
    "colab_type": "code",
    "id": "Sc-0I-aAu5_5"
   },
   "outputs": [],
   "source": [
    "sess.close()"
   ]
  }
 ],
 "metadata": {
  "colab": {
   "default_view": {},
   "name": "3c. Predicting_Handwritten_Digits.ipynb",
   "private_outputs": true,
   "provenance": [],
   "version": "0.3.2",
   "views": {}
  },
  "kernelspec": {
   "display_name": "Python 3",
   "name": "python3"
  }
 },
 "nbformat": 4,
 "nbformat_minor": 0
}
