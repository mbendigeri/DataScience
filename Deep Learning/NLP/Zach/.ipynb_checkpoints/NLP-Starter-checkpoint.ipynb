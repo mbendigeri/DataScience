{
 "cells": [
  {
   "cell_type": "markdown",
   "metadata": {
    "colab_type": "text",
    "id": "OMmMgpm5x86P"
   },
   "source": [
    "## School of AI: NLP Starter ##\n",
    "\n",
    "- Learn the basics of CoLab, DL, and NLP\n",
    "- Implemented in [TensorFlow](https://www.tensorflow.org)\n",
    "- _2018/08/21_\n"
   ]
  },
  {
   "cell_type": "markdown",
   "metadata": {
    "colab_type": "text",
    "id": "NXIF4A6M5vGh"
   },
   "source": [
    "#### A Note About Memory ####\n",
    "\n",
    "- Each CoLab Session is allocated 13 GB of Memory.  For many operations, this is more than enough, however there are scenarios where we approach the limits of this available memory - e.g., Image/Video processing and very large Word Embeddings (as is the case with this Notebook).  If you should require more, then consider Google Cloud Engine (pay version) or Amazon AWS CPU or GPU instances with more memory."
   ]
  },
  {
   "cell_type": "code",
   "execution_count": 48,
   "metadata": {
    "colab": {
     "base_uri": "https://localhost:8080/",
     "height": 124
    },
    "colab_type": "code",
    "executionInfo": {
     "elapsed": 342,
     "status": "ok",
     "timestamp": 1534893573007,
     "user": {
      "displayName": "Zachary Mccoy",
      "photoUrl": "//lh5.googleusercontent.com/-JivcaiuJcFw/AAAAAAAAAAI/AAAAAAAAAEU/3bgRqYCdzJw/s50-c-k-no/photo.jpg",
      "userId": "112421332417664355395"
     },
     "user_tz": 240
    },
    "id": "2UYrV7lG5BVV",
    "outputId": "84d48709-9634-429b-e66b-f934bddbd4d2"
   },
   "outputs": [
    {
     "name": "stdout",
     "output_type": "stream",
     "text": [
      "Total Memory (MB): 13022\n",
      "Used Memory (MB): 1799\n",
      "Free Memory (MB): 156\n",
      "Shared Memory (MB): 255\n",
      "Buff/Cache Memory (MB): 11066\n",
      "Available Memory (MB): 11149\n"
     ]
    }
   ],
   "source": [
    "import os\n",
    "def print_memory_usage():\n",
    "  tot_m, used_m, free_m, shared_m, buff_cache_m, avail_m = map(int, os.popen('free -t -m').readlines()[1].split()[1:])\n",
    "  print(\"Total Memory (MB): {}\".format(tot_m))\n",
    "  print(\"Used Memory (MB): {}\".format(used_m))\n",
    "  print(\"Free Memory (MB): {}\".format(free_m))\n",
    "  print(\"Shared Memory (MB): {}\".format(shared_m))\n",
    "  print(\"Buff/Cache Memory (MB): {}\".format(buff_cache_m))\n",
    "  print(\"Available Memory (MB): {}\".format(avail_m))\n",
    "  \n",
    "print_memory_usage()"
   ]
  },
  {
   "cell_type": "markdown",
   "metadata": {
    "colab_type": "text",
    "id": "viB9cqAJ0me6"
   },
   "source": [
    "#### Confirm GPU ####\n",
    "\n",
    "- Menu -> Runtime -> Change runtime type -> Hardware accelerator -> GPU -> Save\n",
    "- _GPU is free for 12 hr running session. If it terminates after this time, then just restart; infinite free sessions_"
   ]
  },
  {
   "cell_type": "code",
   "execution_count": 49,
   "metadata": {
    "colab": {
     "base_uri": "https://localhost:8080/",
     "height": 35
    },
    "colab_type": "code",
    "executionInfo": {
     "elapsed": 325,
     "status": "ok",
     "timestamp": 1534893576031,
     "user": {
      "displayName": "Zachary Mccoy",
      "photoUrl": "//lh5.googleusercontent.com/-JivcaiuJcFw/AAAAAAAAAAI/AAAAAAAAAEU/3bgRqYCdzJw/s50-c-k-no/photo.jpg",
      "userId": "112421332417664355395"
     },
     "user_tz": 240
    },
    "id": "CFRPaj4K0iwO",
    "outputId": "83723592-7c6f-46f7-bc34-9b3d25ab4af5"
   },
   "outputs": [
    {
     "name": "stdout",
     "output_type": "stream",
     "text": [
      "Found GPU at: /device:GPU:0\n"
     ]
    }
   ],
   "source": [
    "import tensorflow as tf\n",
    "device_name = tf.test.gpu_device_name()\n",
    "if device_name != '/device:GPU:0':\n",
    "  raise SystemError('GPU device not found')\n",
    "print('Found GPU at: {}'.format(device_name))"
   ]
  },
  {
   "cell_type": "markdown",
   "metadata": {
    "colab_type": "text",
    "id": "0lS4bV4F1kzI"
   },
   "source": [
    "#### Download Word Embeddings ####\n",
    "\n",
    "#### *GloVe* ####\n",
    "\n",
    "- Pre-trained Word Embeddings: ....\n",
    "- Click this Link and Add to your own Google Drive Account (_you should have 10 GB for free with any Google Account_): https://drive.google.com/open?id=1JtrqchLtQVCYVO1jD9whVe1DQZ5ZZeN4 . Then we will use PyDrive (see next few Cells below) to copy the 164 MB file from the Google Drive to this CoLab Notebook \"sandbox\"\n",
    "- You can also download it via !wget or !curl from here: http://nlp.stanford.edu/data/glove.6B.zip (Note: if you do choose to download it, then !unzip and use 'glove.6B.50d.txt')\n",
    "\n",
    "#### *FastText* #### \n",
    "\n",
    "- Pre-trained Word Embeddings: 1 million word vectors trained on Wikipedia 2017, UMBC webbase corpus and statmt.org news dataset (16B tokens): https://fasttext.cc/docs/en/english-vectors.html\n",
    "- Click this Link and Add to your own Google Drive Account (_you should have 10 GB for free with any Google Account_): https://drive.google.com/open?id=1J4r1FoHwsfkePCHjzWr2T8ElYsmR9V9W . Then we will use PyDrive (see next few Cells below) to copy the 1 GB file from the Google Drive to this CoLab Notebook \"sandbox\"\n",
    "\n",
    "#### *Word2Vec* ####\n",
    "\n",
    "- Pre-trained Word Embeddings: Trained on part of Google News dataset (about 100 billion words). The model contains 300-dimensional vectors for 3 million words and phrases: https://code.google.com/archive/p/word2vec/\n",
    "- Click this Link and Add to your own Google Drive Account (_you should have 10 GB for free with any Google Account_):  https://drive.google.com/open?id=0B7XkCwpI5KDYNlNUTTlSS21pQmM . Then we will use PyDrive (see next few Cells below) to copy the 1.5 GB file from Google Drive to this CoLab Notebook \"sandbox\""
   ]
  },
  {
   "cell_type": "code",
   "execution_count": 50,
   "metadata": {
    "colab": {
     "base_uri": "https://localhost:8080/",
     "height": 195
    },
    "colab_type": "code",
    "executionInfo": {
     "elapsed": 2851,
     "status": "ok",
     "timestamp": 1534893582149,
     "user": {
      "displayName": "Zachary Mccoy",
      "photoUrl": "//lh5.googleusercontent.com/-JivcaiuJcFw/AAAAAAAAAAI/AAAAAAAAAEU/3bgRqYCdzJw/s50-c-k-no/photo.jpg",
      "userId": "112421332417664355395"
     },
     "user_tz": 240
    },
    "id": "uWCoHVnN17YD",
    "outputId": "1aa91f53-e27b-4c82-91a6-de306b2a37bf"
   },
   "outputs": [
    {
     "name": "stdout",
     "output_type": "stream",
     "text": [
      "Requirement already satisfied: pydrive in /usr/local/lib/python3.6/dist-packages (1.3.1)\r\n",
      "Requirement already satisfied: PyYAML>=3.0 in /usr/local/lib/python3.6/dist-packages (from pydrive) (3.13)\r\n",
      "Requirement already satisfied: google-api-python-client>=1.2 in /usr/local/lib/python3.6/dist-packages (from pydrive) (1.6.7)\r\n",
      "Requirement already satisfied: oauth2client>=4.0.0 in /usr/local/lib/python3.6/dist-packages (from pydrive) (4.1.2)\r\n",
      "Requirement already satisfied: uritemplate<4dev,>=3.0.0 in /usr/local/lib/python3.6/dist-packages (from google-api-python-client>=1.2->pydrive) (3.0.0)\r\n",
      "Requirement already satisfied: six<2dev,>=1.6.1 in /usr/local/lib/python3.6/dist-packages (from google-api-python-client>=1.2->pydrive) (1.11.0)\r\n",
      "Requirement already satisfied: httplib2<1dev,>=0.9.2 in /usr/local/lib/python3.6/dist-packages (from google-api-python-client>=1.2->pydrive) (0.11.3)\r\n",
      "Requirement already satisfied: rsa>=3.1.4 in /usr/local/lib/python3.6/dist-packages (from oauth2client>=4.0.0->pydrive) (3.4.2)\r\n",
      "Requirement already satisfied: pyasn1>=0.1.7 in /usr/local/lib/python3.6/dist-packages (from oauth2client>=4.0.0->pydrive) (0.4.4)\r\n",
      "Requirement already satisfied: pyasn1-modules>=0.0.5 in /usr/local/lib/python3.6/dist-packages (from oauth2client>=4.0.0->pydrive) (0.2.2)\r\n"
     ]
    }
   ],
   "source": [
    "!pip install pydrive"
   ]
  },
  {
   "cell_type": "code",
   "execution_count": 0,
   "metadata": {
    "colab": {},
    "colab_type": "code",
    "id": "PUFSoexT2BbK"
   },
   "outputs": [],
   "source": [
    "from pydrive.auth import GoogleAuth\n",
    "from pydrive.drive import GoogleDrive\n",
    "from google.colab import auth\n",
    "from oauth2client.client import GoogleCredentials\n",
    " \n",
    "auth.authenticate_user()\n",
    "gauth = GoogleAuth()\n",
    "gauth.credentials = GoogleCredentials.get_application_default()\n",
    "drive = GoogleDrive(gauth)"
   ]
  },
  {
   "cell_type": "code",
   "execution_count": 0,
   "metadata": {
    "colab": {},
    "colab_type": "code",
    "id": "W2it1wYb2MV2"
   },
   "outputs": [],
   "source": [
    "def listGDrive():\n",
    "  file_list = drive.ListFile({'q': \"'root' in parents and trashed=false\"}).GetList()\n",
    "  for file1 in file_list:\n",
    "    print('title: %s, id: %s' % (file1['title'], file1['id']))\n",
    "    \n",
    "def saveToGDrive(filename):\n",
    "  file_obj = drive.CreateFile()\n",
    "  file_obj.SetContentFile(filename)\n",
    "  file_obj.Upload()"
   ]
  },
  {
   "cell_type": "code",
   "execution_count": 6,
   "metadata": {
    "colab": {
     "base_uri": "https://localhost:8080/",
     "height": 639
    },
    "colab_type": "code",
    "executionInfo": {
     "elapsed": 992,
     "status": "ok",
     "timestamp": 1534887482217,
     "user": {
      "displayName": "Zachary Mccoy",
      "photoUrl": "//lh5.googleusercontent.com/-JivcaiuJcFw/AAAAAAAAAAI/AAAAAAAAAEU/3bgRqYCdzJw/s50-c-k-no/photo.jpg",
      "userId": "112421332417664355395"
     },
     "user_tz": 240
    },
    "id": "lx-HG4J92U2g",
    "outputId": "494e88a5-daf4-467c-c0bd-fb0adf2955b6"
   },
   "outputs": [
    {
     "name": "stdout",
     "output_type": "stream",
     "text": [
      "title: glove.6B.50d.txt, id: 1JtrqchLtQVCYVO1jD9whVe1DQZ5ZZeN4\n",
      "title: twitter-airline-sentiment.csv, id: 1iA1zI24I9Ao2c9Maa33xDdrdUjhPj6U4\n",
      "title: wiki-news-300d-1M.vec.bin, id: 1J4r1FoHwsfkePCHjzWr2T8ElYsmR9V9W\n",
      "title: fake.csv, id: 1L9WgiTqNj6cXuZOBNMxLC4Z1bafx2tAu\n",
      "title: image.jpeg, id: 1rRGDVhWMRkZn_92VN11teDm5gmYKsm5c\n",
      "title: resnet_v1.py, id: 1_nk0KdDHa5hcYW3yuh_a8fTd9me39G3H\n",
      "title: resnet_utils.py, id: 1sTcoyOZ1gC_P_zEn39HFJu1ME0PojCzU\n",
      "title: east_icdar2015_resnet_v1_50_rbox.zip, id: 1awu-75Df71htBE-OiZDom58enOTqUWwn\n",
      "title: PetProject-MobileNet.ipynb, id: 1RFr5mZgSZtBGv-qmGLjdG9Y7S_BFjXDB\n",
      "title: petproject.pb, id: 1QGPeD29NKGviTDok1PJx_VNPsI5mdpGF\n",
      "title: dataset.tar, id: 1KpZKb4O14u-dXrGNl1Wg-ekefHpDlrB0\n",
      "title: FinalProject.ipynb, id: 1TVHYYt18b_tb9Rqm5CVS_vSiRJwcmpbT\n",
      "title: 20180526-1.csv, id: 1UdzLGsv7L0CGMvuRenP1i032Sg8YGSwW\n",
      "title: X_test.pickle, id: 1pIpV1qFVfS_T2LL7e1CnhxySshBUUYYD\n",
      "title: weights-downsampled-1000-500-21-05-0.78.hdf5, id: 1MggOiet_L490SLE-wMqC2DHj-GKmVHv0\n",
      "title: training_data_downsampled.pickle, id: 1nKGp0dljtb6dzE39p3MuVVD6YRVlnY9K\n",
      "title: weights-1000-500-21-01-0.40.hdf5, id: 16Y03HuWAFcrrgCvUijSO79qzoePPd0XX\n",
      "title: training_data.pickle, id: 1X84CsmLgfm3NhVQqCmAfU5_nUrdqZvwG\n",
      "title: Copy of FinalProject.ipynb, id: 1VNoTlQCo0vopZGNer3itgFSVYRwY4hv7\n",
      "title: test.csv.gz, id: 1TuwccBQbiRiv0Y1Uc_ix4LZL_H-NFKp1\n",
      "title: sales_train.csv.gz, id: 1cCxspLXaU6dTtrtr5SP_5a7RD2TE0ObB\n",
      "title: items.csv, id: 12Z8TBuT6lasQKpja1TM7jBuVOWG_kp9i\n",
      "title: shops.csv, id: 19JobZXRF8sixPGr3O68M2Ol6cqG-qj_a\n",
      "title: item_categories.csv, id: 1hwSz13wJzOSNNOa6dldhJBBBXyHZxORR\n",
      "title: PyDrive-and-KaggleAPI.ipynb, id: 1JjHfvSdYadvuP4iv5hwjTf8kl7QH_PI3\n",
      "title: train.csv, id: 1GXKSBKxl8scDgU6wpA3amHEI6lEQARqc\n",
      "title: test.csv, id: 13F6SHuM3ukq1VDq_RWE16X3RkSM5DqZ2\n",
      "title: kaggle.json, id: 1XQYzuXa5bbTpEo55wrTI3aUKunL8GRvS\n",
      "title: cookies.txt, id: 1Dfw0bts0smorsEcI4xgQbZAQZWu5NrOR\n",
      "title: Zachary Mccoy's Job Search Plan (Udacity), id: 1HTaMGj8mcGx51RSniXgJIv5BpbxzKHgIK3Cnm4qnJJE\n",
      "title: 2018-04-18.pdf, id: 1tJa6hT2NhZbwT7R_hP2qAj_JcBn4VjDE\n",
      "title: Zachary Mccoy: Application Tracker, id: 1R3vuJx3uq-p8t0bCvAbpLNI0fN1L1EobVLTXnJlTG68\n",
      "title: NIHDenseNet.ipynb, id: 19xPYod29G7rx0UMilwJ-hKWZk-81sksR\n",
      "title: Colab Notebooks, id: 1_ekUeqjQd2ENq1I-TOJxTjB4WbUrvq8y\n",
      "title: GoogleNews-vectors-negative300.bin.gz, id: 0B7XkCwpI5KDYNlNUTTlSS21pQmM\n"
     ]
    }
   ],
   "source": [
    "listGDrive()"
   ]
  },
  {
   "cell_type": "code",
   "execution_count": 0,
   "metadata": {
    "colab": {},
    "colab_type": "code",
    "id": "SWb1k3yGt71f"
   },
   "outputs": [],
   "source": [
    "#!wget \"https://s3-us-west-1.amazonaws.com/fasttext-vectors/wiki-news-300d-1M.vec.zip\"\n",
    "#!unzip wiki-news-300d-1M.vec.zip\n",
    "#w2v = load_w2v(\"wiki-news-300d-1M.vec\", binary=False) \n",
    "#w2v.save_word2vec_format(\"wiki-news-300d-1M.vec.bin\", binary=True)\n",
    "#saveToGDrive(\"wiki-news-300d-1M.vec.bin\")"
   ]
  },
  {
   "cell_type": "code",
   "execution_count": 0,
   "metadata": {
    "colab": {},
    "colab_type": "code",
    "id": "s9zacEuQ2YnG"
   },
   "outputs": [],
   "source": [
    "# your 'id' value will differ, so update this accordingly\n",
    "file_obj = drive.CreateFile({'id': '1JtrqchLtQVCYVO1jD9whVe1DQZ5ZZeN4'})\n",
    "file_obj.GetContentFile('glove.6B.50d.txt')  \n",
    "\n",
    "# it takes ~1 min to copy this 1.5 GB file from GDrive to this CoLab \"sandbox\"\n",
    "#file_obj = drive.CreateFile({'id': '0B7XkCwpI5KDYNlNUTTlSS21pQmM'})\n",
    "#file_obj.GetContentFile('GoogleNews-vectors-negative300.bin.gz')\n",
    "\n",
    "# it takes ~1 min to copy this 1 GB file from GDrive to this CoLab \"sandbox\"\n",
    "#file_obj = drive.CreateFile({'id': '1J4r1FoHwsfkePCHjzWr2T8ElYsmR9V9W'})\n",
    "#file_obj.GetContentFile('wiki-news-300d-1M.vec.bin')  "
   ]
  },
  {
   "cell_type": "code",
   "execution_count": 8,
   "metadata": {
    "colab": {
     "base_uri": "https://localhost:8080/",
     "height": 766
    },
    "colab_type": "code",
    "executionInfo": {
     "elapsed": 11340,
     "status": "ok",
     "timestamp": 1534887499629,
     "user": {
      "displayName": "Zachary Mccoy",
      "photoUrl": "//lh5.googleusercontent.com/-JivcaiuJcFw/AAAAAAAAAAI/AAAAAAAAAEU/3bgRqYCdzJw/s50-c-k-no/photo.jpg",
      "userId": "112421332417664355395"
     },
     "user_tz": 240
    },
    "id": "hGQlkBbZx86v",
    "outputId": "a0a30b4d-6a87-4d2b-f10b-d272d8fe8a47"
   },
   "outputs": [
    {
     "name": "stdout",
     "output_type": "stream",
     "text": [
      "Collecting gensim\n",
      "\u001b[?25l  Downloading https://files.pythonhosted.org/packages/86/f3/37504f07651330ddfdefa631ca5246974a60d0908216539efda842fd080f/gensim-3.5.0-cp36-cp36m-manylinux1_x86_64.whl (23.5MB)\n",
      "\u001b[K    100% |████████████████████████████████| 23.5MB 2.0MB/s \n",
      "\u001b[?25hRequirement already satisfied: numpy>=1.11.3 in /usr/local/lib/python3.6/dist-packages (from gensim) (1.14.5)\n",
      "Requirement already satisfied: six>=1.5.0 in /usr/local/lib/python3.6/dist-packages (from gensim) (1.11.0)\n",
      "Collecting smart-open>=1.2.1 (from gensim)\n",
      "  Downloading https://files.pythonhosted.org/packages/cf/3d/5f3a9a296d0ba8e00e263a8dee76762076b9eb5ddc254ccaa834651c8d65/smart_open-1.6.0.tar.gz\n",
      "Requirement already satisfied: scipy>=0.18.1 in /usr/local/lib/python3.6/dist-packages (from gensim) (0.19.1)\n",
      "Collecting boto>=2.32 (from smart-open>=1.2.1->gensim)\n",
      "\u001b[?25l  Downloading https://files.pythonhosted.org/packages/23/10/c0b78c27298029e4454a472a1919bde20cb182dab1662cec7f2ca1dcc523/boto-2.49.0-py2.py3-none-any.whl (1.4MB)\n",
      "\u001b[K    100% |████████████████████████████████| 1.4MB 10.5MB/s \n",
      "\u001b[?25hCollecting bz2file (from smart-open>=1.2.1->gensim)\n",
      "  Downloading https://files.pythonhosted.org/packages/61/39/122222b5e85cd41c391b68a99ee296584b2a2d1d233e7ee32b4532384f2d/bz2file-0.98.tar.gz\n",
      "Requirement already satisfied: requests in /usr/local/lib/python3.6/dist-packages (from smart-open>=1.2.1->gensim) (2.18.4)\n",
      "Collecting boto3 (from smart-open>=1.2.1->gensim)\n",
      "\u001b[?25l  Downloading https://files.pythonhosted.org/packages/9f/af/1f30df188ebc3d01ef3149fa816228794b440c210c221c676e024f4fb4dd/boto3-1.7.81-py2.py3-none-any.whl (128kB)\n",
      "\u001b[K    100% |████████████████████████████████| 133kB 21.6MB/s \n",
      "\u001b[?25hRequirement already satisfied: chardet<3.1.0,>=3.0.2 in /usr/local/lib/python3.6/dist-packages (from requests->smart-open>=1.2.1->gensim) (3.0.4)\n",
      "Requirement already satisfied: urllib3<1.23,>=1.21.1 in /usr/local/lib/python3.6/dist-packages (from requests->smart-open>=1.2.1->gensim) (1.22)\n",
      "Requirement already satisfied: idna<2.7,>=2.5 in /usr/local/lib/python3.6/dist-packages (from requests->smart-open>=1.2.1->gensim) (2.6)\n",
      "Requirement already satisfied: certifi>=2017.4.17 in /usr/local/lib/python3.6/dist-packages (from requests->smart-open>=1.2.1->gensim) (2018.8.13)\n",
      "Collecting jmespath<1.0.0,>=0.7.1 (from boto3->smart-open>=1.2.1->gensim)\n",
      "  Downloading https://files.pythonhosted.org/packages/b7/31/05c8d001f7f87f0f07289a5fc0fc3832e9a57f2dbd4d3b0fee70e0d51365/jmespath-0.9.3-py2.py3-none-any.whl\n",
      "Collecting s3transfer<0.2.0,>=0.1.10 (from boto3->smart-open>=1.2.1->gensim)\n",
      "\u001b[?25l  Downloading https://files.pythonhosted.org/packages/d7/14/2a0004d487464d120c9fb85313a75cd3d71a7506955be458eebfe19a6b1d/s3transfer-0.1.13-py2.py3-none-any.whl (59kB)\n",
      "\u001b[K    100% |████████████████████████████████| 61kB 18.1MB/s \n",
      "\u001b[?25hCollecting botocore<1.11.0,>=1.10.81 (from boto3->smart-open>=1.2.1->gensim)\n",
      "\u001b[?25l  Downloading https://files.pythonhosted.org/packages/e3/a2/a42ec424fc662aea7a582e17739ceca74102984b172676230d1bd0b36b98/botocore-1.10.81-py2.py3-none-any.whl (4.5MB)\n",
      "\u001b[K    100% |████████████████████████████████| 4.5MB 7.1MB/s \n",
      "\u001b[?25hCollecting docutils>=0.10 (from botocore<1.11.0,>=1.10.81->boto3->smart-open>=1.2.1->gensim)\n",
      "\u001b[?25l  Downloading https://files.pythonhosted.org/packages/36/fa/08e9e6e0e3cbd1d362c3bbee8d01d0aedb2155c4ac112b19ef3cae8eed8d/docutils-0.14-py3-none-any.whl (543kB)\n",
      "\u001b[K    100% |████████████████████████████████| 552kB 15.5MB/s \n",
      "\u001b[?25hRequirement already satisfied: python-dateutil<3.0.0,>=2.1; python_version >= \"2.7\" in /usr/local/lib/python3.6/dist-packages (from botocore<1.11.0,>=1.10.81->boto3->smart-open>=1.2.1->gensim) (2.5.3)\n",
      "Building wheels for collected packages: smart-open, bz2file\n",
      "  Running setup.py bdist_wheel for smart-open ... \u001b[?25l-\b \b\\\b \bdone\n",
      "\u001b[?25h  Stored in directory: /root/.cache/pip/wheels/73/f1/9b/ccf93d4ba073b6f79b1ed9df68ab5ce048d8136d0efcf90b30\n",
      "  Running setup.py bdist_wheel for bz2file ... \u001b[?25l-\b \bdone\n",
      "\u001b[?25h  Stored in directory: /root/.cache/pip/wheels/81/75/d6/e1317bf09bf1af5a30befc2a007869fa6e1f516b8f7c591cb9\n",
      "Successfully built smart-open bz2file\n",
      "Installing collected packages: boto, bz2file, jmespath, docutils, botocore, s3transfer, boto3, smart-open, gensim\n",
      "Successfully installed boto-2.49.0 boto3-1.7.81 botocore-1.10.81 bz2file-0.98 docutils-0.14 gensim-3.5.0 jmespath-0.9.3 s3transfer-0.1.13 smart-open-1.6.0\n"
     ]
    }
   ],
   "source": [
    "!pip install gensim"
   ]
  },
  {
   "cell_type": "markdown",
   "metadata": {
    "colab_type": "text",
    "id": "TvlF4zP2WrIW"
   },
   "source": [
    "#### Hack Alert!  ####\n",
    "\n",
    "- Due to Memory limitations, we need to invoke the ***init_sims(replace=True)*** method because the pre-trained Word Embeddings are too large for the available (13 GB) CoLab Session Memory.  The pre-trained model will load fine, but when we attempt to lookup words, run operations related to the embedding matrix, or train our model using it then the CoLab Runtime crashes.  \n",
    "- This *DOES* impact what we can do in terms of training, because invoking that method with ***replace=True*** effectively makes the Embedding a read-only model.  We cannot *fine-tune* it while training our own dataset.\n",
    "- As for ***init_sims()*** is doing, it precomputes the L2-normalized vectors, and if you use ***replace=True*** then you're instructing the model to \"forget the original vectors and only keep the normalized ones = saves lots of memory\" (https://radimrehurek.com/gensim/models/keyedvectors.html#gensim.models.keyedvectors.Word2VecKeyedVectors.init_sims)"
   ]
  },
  {
   "cell_type": "code",
   "execution_count": 0,
   "metadata": {
    "colab": {},
    "colab_type": "code",
    "id": "rh_NognA1qqF"
   },
   "outputs": [],
   "source": [
    "from gensim.models import KeyedVectors\n",
    "def load_w2v(filepath,binary):\n",
    "  smaller_embedding = filepath+\"-p\"\n",
    "  if os.path.exists(smaller_embedding):\n",
    "    return KeyedVectors.load(smaller_embedding,mmap='r')\n",
    "  else:\n",
    "    w2v = KeyedVectors.load_word2vec_format(filepath, binary=binary)\n",
    "    #w2v.init_sims(replace=True) # no longer necessary with the smaller GloVe Word Embeddings and the smaller Twitter tweet inputs\n",
    "    w2v.save(smaller_embedding)\n",
    "    return w2v"
   ]
  },
  {
   "cell_type": "markdown",
   "metadata": {
    "colab_type": "text",
    "id": "vIC0JRiOkhuI"
   },
   "source": [
    "#### Convert GloVe to Word2Vec format ####\n",
    "\n",
    "- GloVe Word Embeddings are in a slightly different format than Word2Vec (FastText continues the Word2Vec format), so we need to convert it before loading.  You could convert and then choose to save this file to GDrive instead of the one above, if you plan to use this Notebook often.  Although, it doesn't take more than a few seconds for the conversion script to execute."
   ]
  },
  {
   "cell_type": "code",
   "execution_count": 10,
   "metadata": {
    "colab": {
     "base_uri": "https://localhost:8080/",
     "height": 126
    },
    "colab_type": "code",
    "executionInfo": {
     "elapsed": 3243,
     "status": "ok",
     "timestamp": 1534887551235,
     "user": {
      "displayName": "Zachary Mccoy",
      "photoUrl": "//lh5.googleusercontent.com/-JivcaiuJcFw/AAAAAAAAAAI/AAAAAAAAAEU/3bgRqYCdzJw/s50-c-k-no/photo.jpg",
      "userId": "112421332417664355395"
     },
     "user_tz": 240
    },
    "id": "IGTplKV4kFgi",
    "outputId": "6827e55b-35e1-43de-eb71-c17adc412b70"
   },
   "outputs": [
    {
     "name": "stdout",
     "output_type": "stream",
     "text": [
      "/usr/lib/python3.6/runpy.py:125: RuntimeWarning: 'gensim.scripts.glove2word2vec' found in sys.modules after import of package 'gensim.scripts', but prior to execution of 'gensim.scripts.glove2word2vec'; this may result in unpredictable behaviour\r\n",
      "  warn(RuntimeWarning(msg))\r\n",
      "2018-08-21 21:39:09,785 - glove2word2vec - INFO - running /usr/local/lib/python3.6/dist-packages/gensim/scripts/glove2word2vec.py --input glove.6B.50d.txt --output glove.6B.50d.w2vformat.txt\n",
      "2018-08-21 21:39:10,033 - glove2word2vec - INFO - converting 400000 vectors from glove.6B.50d.txt to glove.6B.50d.w2vformat.txt\n",
      "2018-08-21 21:39:10,873 - glove2word2vec - INFO - Converted model with 400000 vectors and 50 dimensions\n"
     ]
    }
   ],
   "source": [
    "!python -m gensim.scripts.glove2word2vec --input  glove.6B.50d.txt --output glove.6B.50d.w2vformat.txt"
   ]
  },
  {
   "cell_type": "code",
   "execution_count": 54,
   "metadata": {
    "colab": {
     "base_uri": "https://localhost:8080/",
     "height": 35
    },
    "colab_type": "code",
    "executionInfo": {
     "elapsed": 1945,
     "status": "ok",
     "timestamp": 1534893615850,
     "user": {
      "displayName": "Zachary Mccoy",
      "photoUrl": "//lh5.googleusercontent.com/-JivcaiuJcFw/AAAAAAAAAAI/AAAAAAAAAEU/3bgRqYCdzJw/s50-c-k-no/photo.jpg",
      "userId": "112421332417664355395"
     },
     "user_tz": 240
    },
    "id": "rnp0ZXfTx866",
    "outputId": "803debe0-3531-4aa3-cd4c-178c5735ef62"
   },
   "outputs": [
    {
     "name": "stdout",
     "output_type": "stream",
     "text": [
      "400000\n"
     ]
    }
   ],
   "source": [
    "# 164 MB; vocab=400000; takes 15-20 secs to load\n",
    "w2v = load_w2v(\"glove.6B.50d.w2vformat.txt\", binary=False)\n",
    "\n",
    "# 1.5 GB; vocab=3000000; takes ~2-3 mins to load\n",
    "#w2v = load_w2v(\"GoogleNews-vectors-negative300.bin.gz\", binary=True)\n",
    "\n",
    "# 1 GB; vocab=999994; takes ~1 min to load\n",
    "#w2v = load_w2v(\"wiki-news-300d-1M.vec.bin\", binary=True) \n",
    "\n",
    "print(len(w2v.vocab))"
   ]
  },
  {
   "cell_type": "code",
   "execution_count": 12,
   "metadata": {
    "colab": {
     "base_uri": "https://localhost:8080/",
     "height": 70
    },
    "colab_type": "code",
    "executionInfo": {
     "elapsed": 1442,
     "status": "ok",
     "timestamp": 1534887591062,
     "user": {
      "displayName": "Zachary Mccoy",
      "photoUrl": "//lh5.googleusercontent.com/-JivcaiuJcFw/AAAAAAAAAAI/AAAAAAAAAEU/3bgRqYCdzJw/s50-c-k-no/photo.jpg",
      "userId": "112421332417664355395"
     },
     "user_tz": 240
    },
    "id": "zvWdH2XC2kdX",
    "outputId": "e15f860d-ba30-40b3-da19-53d72c7fafb1"
   },
   "outputs": [
    {
     "name": "stdout",
     "output_type": "stream",
     "text": [
      "adc.json          glove.6B.50d.w2vformat.txt                \u001b[0m\u001b[01;34msample_data\u001b[0m/\r\n",
      "\u001b[01;36mdatalab\u001b[0m@          glove.6B.50d.w2vformat.txt-p\r\n",
      "glove.6B.50d.txt  glove.6B.50d.w2vformat.txt-p.vectors.npy\r\n"
     ]
    }
   ],
   "source": [
    "ls"
   ]
  },
  {
   "cell_type": "code",
   "execution_count": 13,
   "metadata": {
    "colab": {
     "base_uri": "https://localhost:8080/",
     "height": 124
    },
    "colab_type": "code",
    "executionInfo": {
     "elapsed": 456,
     "status": "ok",
     "timestamp": 1534887594944,
     "user": {
      "displayName": "Zachary Mccoy",
      "photoUrl": "//lh5.googleusercontent.com/-JivcaiuJcFw/AAAAAAAAAAI/AAAAAAAAAEU/3bgRqYCdzJw/s50-c-k-no/photo.jpg",
      "userId": "112421332417664355395"
     },
     "user_tz": 240
    },
    "id": "Z_Cogmg6ZBj5",
    "outputId": "58879860-dd96-420b-df13-e48f851bb097"
   },
   "outputs": [
    {
     "name": "stdout",
     "output_type": "stream",
     "text": [
      "Total Memory (MB): 13022\n",
      "Used Memory (MB): 1592\n",
      "Free Memory (MB): 144\n",
      "Shared Memory (MB): 250\n",
      "Buff/Cache Memory (MB): 11285\n",
      "Available Memory (MB): 11113\n"
     ]
    }
   ],
   "source": [
    "print_memory_usage()"
   ]
  },
  {
   "cell_type": "code",
   "execution_count": 14,
   "metadata": {
    "colab": {
     "base_uri": "https://localhost:8080/",
     "height": 250
    },
    "colab_type": "code",
    "executionInfo": {
     "elapsed": 636,
     "status": "ok",
     "timestamp": 1534887597803,
     "user": {
      "displayName": "Zachary Mccoy",
      "photoUrl": "//lh5.googleusercontent.com/-JivcaiuJcFw/AAAAAAAAAAI/AAAAAAAAAEU/3bgRqYCdzJw/s50-c-k-no/photo.jpg",
      "userId": "112421332417664355395"
     },
     "user_tz": 240
    },
    "id": "jNv79Fh7Wg5h",
    "outputId": "4543c309-2c7f-4567-bd6c-79a3b2c2a147"
   },
   "outputs": [
    {
     "name": "stderr",
     "output_type": "stream",
     "text": [
      "/usr/local/lib/python3.6/dist-packages/gensim/matutils.py:737: FutureWarning: Conversion of the second argument of issubdtype from `int` to `np.signedinteger` is deprecated. In future, it will be treated as `np.int64 == np.dtype(int).type`.\n",
      "  if np.issubdtype(vec.dtype, np.int):\n"
     ]
    },
    {
     "data": {
      "text/plain": [
       "[('businessman', 0.7817543745040894),\n",
       " ('mp', 0.7724176645278931),\n",
       " ('liberal', 0.7486167550086975),\n",
       " ('lawmaker', 0.73398756980896),\n",
       " ('jurist', 0.7278751134872437),\n",
       " ('parliamentarian', 0.7202853560447693),\n",
       " ('conservative', 0.7129016518592834),\n",
       " ('elected', 0.7100611925125122),\n",
       " ('candidate', 0.7029688954353333),\n",
       " ('citizen', 0.700545072555542)]"
      ]
     },
     "execution_count": 14,
     "metadata": {
      "tags": []
     },
     "output_type": "execute_result"
    }
   ],
   "source": [
    "# running any operation on the Word2Vec model the 1st time will take longer as it loads the Embeddings into memory\n",
    "w2v.similar_by_word(\"politician\")"
   ]
  },
  {
   "cell_type": "code",
   "execution_count": 15,
   "metadata": {
    "colab": {
     "base_uri": "https://localhost:8080/",
     "height": 90
    },
    "colab_type": "code",
    "executionInfo": {
     "elapsed": 424,
     "status": "ok",
     "timestamp": 1534887607198,
     "user": {
      "displayName": "Zachary Mccoy",
      "photoUrl": "//lh5.googleusercontent.com/-JivcaiuJcFw/AAAAAAAAAAI/AAAAAAAAAEU/3bgRqYCdzJw/s50-c-k-no/photo.jpg",
      "userId": "112421332417664355395"
     },
     "user_tz": 240
    },
    "id": "cKC9Ni12Ufsf",
    "outputId": "5f28056b-df1a-4637-bd31-15318de7d6bf"
   },
   "outputs": [
    {
     "name": "stderr",
     "output_type": "stream",
     "text": [
      "/usr/local/lib/python3.6/dist-packages/gensim/matutils.py:737: FutureWarning: Conversion of the second argument of issubdtype from `int` to `np.signedinteger` is deprecated. In future, it will be treated as `np.int64 == np.dtype(int).type`.\n",
      "  if np.issubdtype(vec.dtype, np.int):\n"
     ]
    },
    {
     "data": {
      "text/plain": [
       "[('queen', 0.8523603677749634)]"
      ]
     },
     "execution_count": 15,
     "metadata": {
      "tags": []
     },
     "output_type": "execute_result"
    }
   ],
   "source": [
    "# Word Embeddings even enable analogies (sometimes)!\n",
    "w2v.most_similar(positive=['woman', 'king'], negative=['man'], topn=1)"
   ]
  },
  {
   "cell_type": "code",
   "execution_count": 16,
   "metadata": {
    "colab": {
     "base_uri": "https://localhost:8080/",
     "height": 195
    },
    "colab_type": "code",
    "executionInfo": {
     "elapsed": 340,
     "status": "ok",
     "timestamp": 1534887609973,
     "user": {
      "displayName": "Zachary Mccoy",
      "photoUrl": "//lh5.googleusercontent.com/-JivcaiuJcFw/AAAAAAAAAAI/AAAAAAAAAEU/3bgRqYCdzJw/s50-c-k-no/photo.jpg",
      "userId": "112421332417664355395"
     },
     "user_tz": 240
    },
    "id": "YKDPV7dcx87R",
    "outputId": "021d0561-8409-40eb-e10e-953fd62c1e6f"
   },
   "outputs": [
    {
     "name": "stdout",
     "output_type": "stream",
     "text": [
      "(50,)\n",
      "[ 4.1800e-01  2.4968e-01 -4.1242e-01  1.2170e-01  3.4527e-01 -4.4457e-02\n",
      " -4.9688e-01 -1.7862e-01 -6.6023e-04 -6.5660e-01  2.7843e-01 -1.4767e-01\n",
      " -5.5677e-01  1.4658e-01 -9.5095e-03  1.1658e-02  1.0204e-01 -1.2792e-01\n",
      " -8.4430e-01 -1.2181e-01 -1.6801e-02 -3.3279e-01 -1.5520e-01 -2.3131e-01\n",
      " -1.9181e-01 -1.8823e+00 -7.6746e-01  9.9051e-02 -4.2125e-01 -1.9526e-01\n",
      "  4.0071e+00 -1.8594e-01 -5.2287e-01 -3.1681e-01  5.9213e-04  7.4449e-03\n",
      "  1.7778e-01 -1.5897e-01  1.2041e-02 -5.4223e-02 -2.9871e-01 -1.5749e-01\n",
      " -3.4758e-01 -4.5637e-02 -4.4251e-01  1.8785e-01  2.7849e-03 -1.8411e-01\n",
      " -1.1514e-01 -7.8581e-01]\n"
     ]
    }
   ],
   "source": [
    "# Let's take a look at how a Word Embedding is actually represented\n",
    "sample_word = w2v[\"the\"]\n",
    "print(sample_word.shape)\n",
    "print(sample_word)"
   ]
  },
  {
   "cell_type": "code",
   "execution_count": 0,
   "metadata": {
    "colab": {},
    "colab_type": "code",
    "id": "3uqfqar_x86V"
   },
   "outputs": [],
   "source": [
    "import numpy as np\n",
    "import pandas as pd\n",
    "\n",
    "from matplotlib import pyplot as plt\n",
    "%matplotlib inline"
   ]
  },
  {
   "cell_type": "markdown",
   "metadata": {
    "colab_type": "text",
    "id": "UKRfZ6iG-xaA"
   },
   "source": [
    "#### Choose and Prepare your Dataset ####\n",
    "\n",
    "- Download the [CSV](https://www.kaggle.com/crowdflower/twitter-airline-sentiment) and upload to your Google Drive (3 MB uncompressed), or Add it from mine (like with the Word Embeddings): https://drive.google.com/open?id=1iA1zI24I9Ao2c9Maa33xDdrdUjhPj6U4\n"
   ]
  },
  {
   "cell_type": "code",
   "execution_count": 18,
   "metadata": {
    "colab": {
     "base_uri": "https://localhost:8080/",
     "height": 639
    },
    "colab_type": "code",
    "executionInfo": {
     "elapsed": 1286,
     "status": "ok",
     "timestamp": 1534887616006,
     "user": {
      "displayName": "Zachary Mccoy",
      "photoUrl": "//lh5.googleusercontent.com/-JivcaiuJcFw/AAAAAAAAAAI/AAAAAAAAAEU/3bgRqYCdzJw/s50-c-k-no/photo.jpg",
      "userId": "112421332417664355395"
     },
     "user_tz": 240
    },
    "id": "5kjxdm7VIG0M",
    "outputId": "0d55b0bf-0922-4244-ecfb-56d65e01e5eb"
   },
   "outputs": [
    {
     "name": "stdout",
     "output_type": "stream",
     "text": [
      "title: glove.6B.50d.txt, id: 1JtrqchLtQVCYVO1jD9whVe1DQZ5ZZeN4\n",
      "title: twitter-airline-sentiment.csv, id: 1iA1zI24I9Ao2c9Maa33xDdrdUjhPj6U4\n",
      "title: wiki-news-300d-1M.vec.bin, id: 1J4r1FoHwsfkePCHjzWr2T8ElYsmR9V9W\n",
      "title: fake.csv, id: 1L9WgiTqNj6cXuZOBNMxLC4Z1bafx2tAu\n",
      "title: image.jpeg, id: 1rRGDVhWMRkZn_92VN11teDm5gmYKsm5c\n",
      "title: resnet_v1.py, id: 1_nk0KdDHa5hcYW3yuh_a8fTd9me39G3H\n",
      "title: resnet_utils.py, id: 1sTcoyOZ1gC_P_zEn39HFJu1ME0PojCzU\n",
      "title: east_icdar2015_resnet_v1_50_rbox.zip, id: 1awu-75Df71htBE-OiZDom58enOTqUWwn\n",
      "title: PetProject-MobileNet.ipynb, id: 1RFr5mZgSZtBGv-qmGLjdG9Y7S_BFjXDB\n",
      "title: petproject.pb, id: 1QGPeD29NKGviTDok1PJx_VNPsI5mdpGF\n",
      "title: dataset.tar, id: 1KpZKb4O14u-dXrGNl1Wg-ekefHpDlrB0\n",
      "title: FinalProject.ipynb, id: 1TVHYYt18b_tb9Rqm5CVS_vSiRJwcmpbT\n",
      "title: 20180526-1.csv, id: 1UdzLGsv7L0CGMvuRenP1i032Sg8YGSwW\n",
      "title: X_test.pickle, id: 1pIpV1qFVfS_T2LL7e1CnhxySshBUUYYD\n",
      "title: weights-downsampled-1000-500-21-05-0.78.hdf5, id: 1MggOiet_L490SLE-wMqC2DHj-GKmVHv0\n",
      "title: training_data_downsampled.pickle, id: 1nKGp0dljtb6dzE39p3MuVVD6YRVlnY9K\n",
      "title: weights-1000-500-21-01-0.40.hdf5, id: 16Y03HuWAFcrrgCvUijSO79qzoePPd0XX\n",
      "title: training_data.pickle, id: 1X84CsmLgfm3NhVQqCmAfU5_nUrdqZvwG\n",
      "title: Copy of FinalProject.ipynb, id: 1VNoTlQCo0vopZGNer3itgFSVYRwY4hv7\n",
      "title: test.csv.gz, id: 1TuwccBQbiRiv0Y1Uc_ix4LZL_H-NFKp1\n",
      "title: sales_train.csv.gz, id: 1cCxspLXaU6dTtrtr5SP_5a7RD2TE0ObB\n",
      "title: items.csv, id: 12Z8TBuT6lasQKpja1TM7jBuVOWG_kp9i\n",
      "title: shops.csv, id: 19JobZXRF8sixPGr3O68M2Ol6cqG-qj_a\n",
      "title: item_categories.csv, id: 1hwSz13wJzOSNNOa6dldhJBBBXyHZxORR\n",
      "title: PyDrive-and-KaggleAPI.ipynb, id: 1JjHfvSdYadvuP4iv5hwjTf8kl7QH_PI3\n",
      "title: train.csv, id: 1GXKSBKxl8scDgU6wpA3amHEI6lEQARqc\n",
      "title: test.csv, id: 13F6SHuM3ukq1VDq_RWE16X3RkSM5DqZ2\n",
      "title: kaggle.json, id: 1XQYzuXa5bbTpEo55wrTI3aUKunL8GRvS\n",
      "title: cookies.txt, id: 1Dfw0bts0smorsEcI4xgQbZAQZWu5NrOR\n",
      "title: Zachary Mccoy's Job Search Plan (Udacity), id: 1HTaMGj8mcGx51RSniXgJIv5BpbxzKHgIK3Cnm4qnJJE\n",
      "title: 2018-04-18.pdf, id: 1tJa6hT2NhZbwT7R_hP2qAj_JcBn4VjDE\n",
      "title: Zachary Mccoy: Application Tracker, id: 1R3vuJx3uq-p8t0bCvAbpLNI0fN1L1EobVLTXnJlTG68\n",
      "title: NIHDenseNet.ipynb, id: 19xPYod29G7rx0UMilwJ-hKWZk-81sksR\n",
      "title: Colab Notebooks, id: 1_ekUeqjQd2ENq1I-TOJxTjB4WbUrvq8y\n",
      "title: GoogleNews-vectors-negative300.bin.gz, id: 0B7XkCwpI5KDYNlNUTTlSS21pQmM\n"
     ]
    }
   ],
   "source": [
    "listGDrive()"
   ]
  },
  {
   "cell_type": "code",
   "execution_count": 0,
   "metadata": {
    "colab": {},
    "colab_type": "code",
    "id": "DZ3i7csvIdW-"
   },
   "outputs": [],
   "source": [
    "# your 'id' value will differ, so update this accordingly\n",
    "file_obj = drive.CreateFile({'id': '1iA1zI24I9Ao2c9Maa33xDdrdUjhPj6U4'})\n",
    "file_obj.GetContentFile('twitter-airline-sentiment.csv') \n",
    "\n",
    "#file_obj = drive.CreateFile({'id': '1L9WgiTqNj6cXuZOBNMxLC4Z1bafx2tAu'})\n",
    "#file_obj.GetContentFile('fake.csv') "
   ]
  },
  {
   "cell_type": "code",
   "execution_count": 20,
   "metadata": {
    "colab": {
     "base_uri": "https://localhost:8080/",
     "height": 88
    },
    "colab_type": "code",
    "executionInfo": {
     "elapsed": 1555,
     "status": "ok",
     "timestamp": 1534887622851,
     "user": {
      "displayName": "Zachary Mccoy",
      "photoUrl": "//lh5.googleusercontent.com/-JivcaiuJcFw/AAAAAAAAAAI/AAAAAAAAAEU/3bgRqYCdzJw/s50-c-k-no/photo.jpg",
      "userId": "112421332417664355395"
     },
     "user_tz": 240
    },
    "id": "lfhH2A6XIigA",
    "outputId": "1a511d4a-1ac1-496a-9d99-578027c0d087"
   },
   "outputs": [
    {
     "name": "stdout",
     "output_type": "stream",
     "text": [
      "adc.json                    glove.6B.50d.w2vformat.txt-p\r\n",
      "\u001b[0m\u001b[01;36mdatalab\u001b[0m@                    glove.6B.50d.w2vformat.txt-p.vectors.npy\r\n",
      "glove.6B.50d.txt            \u001b[01;34msample_data\u001b[0m/\r\n",
      "glove.6B.50d.w2vformat.txt  twitter-airline-sentiment.csv\r\n"
     ]
    }
   ],
   "source": [
    "ls"
   ]
  },
  {
   "cell_type": "code",
   "execution_count": 56,
   "metadata": {
    "colab": {
     "base_uri": "https://localhost:8080/",
     "height": 452
    },
    "colab_type": "code",
    "executionInfo": {
     "elapsed": 302,
     "status": "ok",
     "timestamp": 1534893627235,
     "user": {
      "displayName": "Zachary Mccoy",
      "photoUrl": "//lh5.googleusercontent.com/-JivcaiuJcFw/AAAAAAAAAAI/AAAAAAAAAEU/3bgRqYCdzJw/s50-c-k-no/photo.jpg",
      "userId": "112421332417664355395"
     },
     "user_tz": 240
    },
    "id": "yjLsSLU1Ik_9",
    "outputId": "4d43ca51-f7b9-4006-f41c-036eedb8a1f4"
   },
   "outputs": [
    {
     "data": {
      "text/html": [
       "<div>\n",
       "<style scoped>\n",
       "    .dataframe tbody tr th:only-of-type {\n",
       "        vertical-align: middle;\n",
       "    }\n",
       "\n",
       "    .dataframe tbody tr th {\n",
       "        vertical-align: top;\n",
       "    }\n",
       "\n",
       "    .dataframe thead th {\n",
       "        text-align: right;\n",
       "    }\n",
       "</style>\n",
       "<table border=\"1\" class=\"dataframe\">\n",
       "  <thead>\n",
       "    <tr style=\"text-align: right;\">\n",
       "      <th></th>\n",
       "      <th>tweet_id</th>\n",
       "      <th>airline_sentiment</th>\n",
       "      <th>airline_sentiment_confidence</th>\n",
       "      <th>negativereason</th>\n",
       "      <th>negativereason_confidence</th>\n",
       "      <th>airline</th>\n",
       "      <th>airline_sentiment_gold</th>\n",
       "      <th>name</th>\n",
       "      <th>negativereason_gold</th>\n",
       "      <th>retweet_count</th>\n",
       "      <th>text</th>\n",
       "      <th>tweet_coord</th>\n",
       "      <th>tweet_created</th>\n",
       "      <th>tweet_location</th>\n",
       "      <th>user_timezone</th>\n",
       "    </tr>\n",
       "  </thead>\n",
       "  <tbody>\n",
       "    <tr>\n",
       "      <th>0</th>\n",
       "      <td>570306133677760513</td>\n",
       "      <td>neutral</td>\n",
       "      <td>1.0000</td>\n",
       "      <td>NaN</td>\n",
       "      <td>NaN</td>\n",
       "      <td>Virgin America</td>\n",
       "      <td>NaN</td>\n",
       "      <td>cairdin</td>\n",
       "      <td>NaN</td>\n",
       "      <td>0</td>\n",
       "      <td>@VirginAmerica What @dhepburn said.</td>\n",
       "      <td>NaN</td>\n",
       "      <td>2015-02-24 11:35:52 -0800</td>\n",
       "      <td>NaN</td>\n",
       "      <td>Eastern Time (US &amp; Canada)</td>\n",
       "    </tr>\n",
       "    <tr>\n",
       "      <th>1</th>\n",
       "      <td>570301130888122368</td>\n",
       "      <td>positive</td>\n",
       "      <td>0.3486</td>\n",
       "      <td>NaN</td>\n",
       "      <td>0.0000</td>\n",
       "      <td>Virgin America</td>\n",
       "      <td>NaN</td>\n",
       "      <td>jnardino</td>\n",
       "      <td>NaN</td>\n",
       "      <td>0</td>\n",
       "      <td>@VirginAmerica plus you've added commercials t...</td>\n",
       "      <td>NaN</td>\n",
       "      <td>2015-02-24 11:15:59 -0800</td>\n",
       "      <td>NaN</td>\n",
       "      <td>Pacific Time (US &amp; Canada)</td>\n",
       "    </tr>\n",
       "    <tr>\n",
       "      <th>2</th>\n",
       "      <td>570301083672813571</td>\n",
       "      <td>neutral</td>\n",
       "      <td>0.6837</td>\n",
       "      <td>NaN</td>\n",
       "      <td>NaN</td>\n",
       "      <td>Virgin America</td>\n",
       "      <td>NaN</td>\n",
       "      <td>yvonnalynn</td>\n",
       "      <td>NaN</td>\n",
       "      <td>0</td>\n",
       "      <td>@VirginAmerica I didn't today... Must mean I n...</td>\n",
       "      <td>NaN</td>\n",
       "      <td>2015-02-24 11:15:48 -0800</td>\n",
       "      <td>Lets Play</td>\n",
       "      <td>Central Time (US &amp; Canada)</td>\n",
       "    </tr>\n",
       "    <tr>\n",
       "      <th>3</th>\n",
       "      <td>570301031407624196</td>\n",
       "      <td>negative</td>\n",
       "      <td>1.0000</td>\n",
       "      <td>Bad Flight</td>\n",
       "      <td>0.7033</td>\n",
       "      <td>Virgin America</td>\n",
       "      <td>NaN</td>\n",
       "      <td>jnardino</td>\n",
       "      <td>NaN</td>\n",
       "      <td>0</td>\n",
       "      <td>@VirginAmerica it's really aggressive to blast...</td>\n",
       "      <td>NaN</td>\n",
       "      <td>2015-02-24 11:15:36 -0800</td>\n",
       "      <td>NaN</td>\n",
       "      <td>Pacific Time (US &amp; Canada)</td>\n",
       "    </tr>\n",
       "    <tr>\n",
       "      <th>4</th>\n",
       "      <td>570300817074462722</td>\n",
       "      <td>negative</td>\n",
       "      <td>1.0000</td>\n",
       "      <td>Can't Tell</td>\n",
       "      <td>1.0000</td>\n",
       "      <td>Virgin America</td>\n",
       "      <td>NaN</td>\n",
       "      <td>jnardino</td>\n",
       "      <td>NaN</td>\n",
       "      <td>0</td>\n",
       "      <td>@VirginAmerica and it's a really big bad thing...</td>\n",
       "      <td>NaN</td>\n",
       "      <td>2015-02-24 11:14:45 -0800</td>\n",
       "      <td>NaN</td>\n",
       "      <td>Pacific Time (US &amp; Canada)</td>\n",
       "    </tr>\n",
       "  </tbody>\n",
       "</table>\n",
       "</div>"
      ],
      "text/plain": [
       "             tweet_id airline_sentiment  airline_sentiment_confidence  \\\n",
       "0  570306133677760513           neutral                        1.0000   \n",
       "1  570301130888122368          positive                        0.3486   \n",
       "2  570301083672813571           neutral                        0.6837   \n",
       "3  570301031407624196          negative                        1.0000   \n",
       "4  570300817074462722          negative                        1.0000   \n",
       "\n",
       "  negativereason  negativereason_confidence         airline  \\\n",
       "0            NaN                        NaN  Virgin America   \n",
       "1            NaN                     0.0000  Virgin America   \n",
       "2            NaN                        NaN  Virgin America   \n",
       "3     Bad Flight                     0.7033  Virgin America   \n",
       "4     Can't Tell                     1.0000  Virgin America   \n",
       "\n",
       "  airline_sentiment_gold        name negativereason_gold  retweet_count  \\\n",
       "0                    NaN     cairdin                 NaN              0   \n",
       "1                    NaN    jnardino                 NaN              0   \n",
       "2                    NaN  yvonnalynn                 NaN              0   \n",
       "3                    NaN    jnardino                 NaN              0   \n",
       "4                    NaN    jnardino                 NaN              0   \n",
       "\n",
       "                                                text tweet_coord  \\\n",
       "0                @VirginAmerica What @dhepburn said.         NaN   \n",
       "1  @VirginAmerica plus you've added commercials t...         NaN   \n",
       "2  @VirginAmerica I didn't today... Must mean I n...         NaN   \n",
       "3  @VirginAmerica it's really aggressive to blast...         NaN   \n",
       "4  @VirginAmerica and it's a really big bad thing...         NaN   \n",
       "\n",
       "               tweet_created tweet_location               user_timezone  \n",
       "0  2015-02-24 11:35:52 -0800            NaN  Eastern Time (US & Canada)  \n",
       "1  2015-02-24 11:15:59 -0800            NaN  Pacific Time (US & Canada)  \n",
       "2  2015-02-24 11:15:48 -0800      Lets Play  Central Time (US & Canada)  \n",
       "3  2015-02-24 11:15:36 -0800            NaN  Pacific Time (US & Canada)  \n",
       "4  2015-02-24 11:14:45 -0800            NaN  Pacific Time (US & Canada)  "
      ]
     },
     "execution_count": 56,
     "metadata": {
      "tags": []
     },
     "output_type": "execute_result"
    }
   ],
   "source": [
    "df = pd.read_csv(\"twitter-airline-sentiment.csv\") #'fake.csv')\n",
    "df.head()"
   ]
  },
  {
   "cell_type": "code",
   "execution_count": 57,
   "metadata": {
    "colab": {
     "base_uri": "https://localhost:8080/",
     "height": 206
    },
    "colab_type": "code",
    "executionInfo": {
     "elapsed": 311,
     "status": "ok",
     "timestamp": 1534893629369,
     "user": {
      "displayName": "Zachary Mccoy",
      "photoUrl": "//lh5.googleusercontent.com/-JivcaiuJcFw/AAAAAAAAAAI/AAAAAAAAAEU/3bgRqYCdzJw/s50-c-k-no/photo.jpg",
      "userId": "112421332417664355395"
     },
     "user_tz": 240
    },
    "id": "cCqTL_uwptxy",
    "outputId": "0721391c-022a-42c1-f69e-170f0232bd62"
   },
   "outputs": [
    {
     "data": {
      "text/html": [
       "<div>\n",
       "<style scoped>\n",
       "    .dataframe tbody tr th:only-of-type {\n",
       "        vertical-align: middle;\n",
       "    }\n",
       "\n",
       "    .dataframe tbody tr th {\n",
       "        vertical-align: top;\n",
       "    }\n",
       "\n",
       "    .dataframe thead th {\n",
       "        text-align: right;\n",
       "    }\n",
       "</style>\n",
       "<table border=\"1\" class=\"dataframe\">\n",
       "  <thead>\n",
       "    <tr style=\"text-align: right;\">\n",
       "      <th></th>\n",
       "      <th>airline_sentiment</th>\n",
       "      <th>text</th>\n",
       "    </tr>\n",
       "  </thead>\n",
       "  <tbody>\n",
       "    <tr>\n",
       "      <th>0</th>\n",
       "      <td>neutral</td>\n",
       "      <td>@VirginAmerica What @dhepburn said.</td>\n",
       "    </tr>\n",
       "    <tr>\n",
       "      <th>1</th>\n",
       "      <td>positive</td>\n",
       "      <td>@VirginAmerica plus you've added commercials t...</td>\n",
       "    </tr>\n",
       "    <tr>\n",
       "      <th>2</th>\n",
       "      <td>neutral</td>\n",
       "      <td>@VirginAmerica I didn't today... Must mean I n...</td>\n",
       "    </tr>\n",
       "    <tr>\n",
       "      <th>3</th>\n",
       "      <td>negative</td>\n",
       "      <td>@VirginAmerica it's really aggressive to blast...</td>\n",
       "    </tr>\n",
       "    <tr>\n",
       "      <th>4</th>\n",
       "      <td>negative</td>\n",
       "      <td>@VirginAmerica and it's a really big bad thing...</td>\n",
       "    </tr>\n",
       "  </tbody>\n",
       "</table>\n",
       "</div>"
      ],
      "text/plain": [
       "  airline_sentiment                                               text\n",
       "0           neutral                @VirginAmerica What @dhepburn said.\n",
       "1          positive  @VirginAmerica plus you've added commercials t...\n",
       "2           neutral  @VirginAmerica I didn't today... Must mean I n...\n",
       "3          negative  @VirginAmerica it's really aggressive to blast...\n",
       "4          negative  @VirginAmerica and it's a really big bad thing..."
      ]
     },
     "execution_count": 57,
     "metadata": {
      "tags": []
     },
     "output_type": "execute_result"
    }
   ],
   "source": [
    "df.drop(['tweet_id', 'airline_sentiment_confidence', 'negativereason', 'negativereason_confidence', 'airline', 'airline_sentiment_gold', 'name', 'negativereason_gold', 'retweet_count', 'tweet_coord', 'tweet_created', 'tweet_location', 'user_timezone'], axis=1, inplace=True)\n",
    "df.head()"
   ]
  },
  {
   "cell_type": "code",
   "execution_count": 24,
   "metadata": {
    "colab": {
     "base_uri": "https://localhost:8080/",
     "height": 283
    },
    "colab_type": "code",
    "executionInfo": {
     "elapsed": 341,
     "status": "ok",
     "timestamp": 1534887641099,
     "user": {
      "displayName": "Zachary Mccoy",
      "photoUrl": "//lh5.googleusercontent.com/-JivcaiuJcFw/AAAAAAAAAAI/AAAAAAAAAEU/3bgRqYCdzJw/s50-c-k-no/photo.jpg",
      "userId": "112421332417664355395"
     },
     "user_tz": 240
    },
    "id": "R-5FvsGQ3NNh",
    "outputId": "0ec98af4-3fce-426e-9166-f28c3e1750be"
   },
   "outputs": [
    {
     "data": {
      "text/plain": [
       "<matplotlib.axes._subplots.AxesSubplot at 0x7fab2ea1c9e8>"
      ]
     },
     "execution_count": 24,
     "metadata": {
      "tags": []
     },
     "output_type": "execute_result"
    },
    {
     "data": {
      "image/png": "[encoded data removed]",
      "text/plain": [
       "<matplotlib.figure.Figure at 0x7fab3c8a2550>"
      ]
     },
     "metadata": {
      "tags": []
     },
     "output_type": "display_data"
    }
   ],
   "source": [
    "# Let's check out samples by type\n",
    "df[\"airline_sentiment\"].value_counts().plot(kind='barh')"
   ]
  },
  {
   "cell_type": "code",
   "execution_count": 25,
   "metadata": {
    "colab": {
     "base_uri": "https://localhost:8080/",
     "height": 106
    },
    "colab_type": "code",
    "executionInfo": {
     "elapsed": 350,
     "status": "ok",
     "timestamp": 1534887644624,
     "user": {
      "displayName": "Zachary Mccoy",
      "photoUrl": "//lh5.googleusercontent.com/-JivcaiuJcFw/AAAAAAAAAAI/AAAAAAAAAEU/3bgRqYCdzJw/s50-c-k-no/photo.jpg",
      "userId": "112421332417664355395"
     },
     "user_tz": 240
    },
    "id": "werfLS2m5khY",
    "outputId": "3d401042-3df2-4ff1-93fa-c4f1a02b2da6"
   },
   "outputs": [
    {
     "data": {
      "text/plain": [
       "airline_sentiment\n",
       "negative    9178\n",
       "neutral     3099\n",
       "positive    2363\n",
       "dtype: int64"
      ]
     },
     "execution_count": 25,
     "metadata": {
      "tags": []
     },
     "output_type": "execute_result"
    }
   ],
   "source": [
    "# It's significantly unbalanced!!\n",
    "df.groupby([\"airline_sentiment\"]).size()"
   ]
  },
  {
   "cell_type": "code",
   "execution_count": 58,
   "metadata": {
    "colab": {
     "base_uri": "https://localhost:8080/",
     "height": 106
    },
    "colab_type": "code",
    "executionInfo": {
     "elapsed": 384,
     "status": "ok",
     "timestamp": 1534893636060,
     "user": {
      "displayName": "Zachary Mccoy",
      "photoUrl": "//lh5.googleusercontent.com/-JivcaiuJcFw/AAAAAAAAAAI/AAAAAAAAAEU/3bgRqYCdzJw/s50-c-k-no/photo.jpg",
      "userId": "112421332417664355395"
     },
     "user_tz": 240
    },
    "id": "Wv0ea_NiM2AQ",
    "outputId": "ab48cb34-02f9-4c0a-e82c-6f035c956f45"
   },
   "outputs": [
    {
     "data": {
      "text/plain": [
       "airline_sentiment\n",
       "negative    3099\n",
       "neutral     3099\n",
       "positive    2363\n",
       "dtype: int64"
      ]
     },
     "execution_count": 58,
     "metadata": {
      "tags": []
     },
     "output_type": "execute_result"
    }
   ],
   "source": [
    "# Let's downsample the 'negative' type, otherwise our model will 'learn' to simply guess: negative (and it would be correct 60%! of time)\n",
    "COUNT=3099 # this is equal to the 2nd most value ('neutral')\n",
    "df_neg = df[(df['airline_sentiment']=='negative')].tail(COUNT)\n",
    "df = df[(df[\"airline_sentiment\"]!='negative')]\n",
    "df = pd.concat([df, df_neg], ignore_index=True)\n",
    "df.groupby([\"airline_sentiment\"]).size()"
   ]
  },
  {
   "cell_type": "code",
   "execution_count": 59,
   "metadata": {
    "colab": {
     "base_uri": "https://localhost:8080/",
     "height": 242
    },
    "colab_type": "code",
    "executionInfo": {
     "elapsed": 393,
     "status": "ok",
     "timestamp": 1534893642610,
     "user": {
      "displayName": "Zachary Mccoy",
      "photoUrl": "//lh5.googleusercontent.com/-JivcaiuJcFw/AAAAAAAAAAI/AAAAAAAAAEU/3bgRqYCdzJw/s50-c-k-no/photo.jpg",
      "userId": "112421332417664355395"
     },
     "user_tz": 240
    },
    "id": "9xPjF-QDJtv_",
    "outputId": "ee1e0ba8-7e91-45ad-de2c-ce181df952a0"
   },
   "outputs": [
    {
     "name": "stdout",
     "output_type": "stream",
     "text": [
      "(8561, 2)\n",
      "(8561, 3)\n"
     ]
    },
    {
     "data": {
      "text/html": [
       "<div>\n",
       "<style scoped>\n",
       "    .dataframe tbody tr th:only-of-type {\n",
       "        vertical-align: middle;\n",
       "    }\n",
       "\n",
       "    .dataframe tbody tr th {\n",
       "        vertical-align: top;\n",
       "    }\n",
       "\n",
       "    .dataframe thead th {\n",
       "        text-align: right;\n",
       "    }\n",
       "</style>\n",
       "<table border=\"1\" class=\"dataframe\">\n",
       "  <thead>\n",
       "    <tr style=\"text-align: right;\">\n",
       "      <th></th>\n",
       "      <th>airline_sentiment</th>\n",
       "      <th>text</th>\n",
       "      <th>text_word_count</th>\n",
       "    </tr>\n",
       "  </thead>\n",
       "  <tbody>\n",
       "    <tr>\n",
       "      <th>0</th>\n",
       "      <td>neutral</td>\n",
       "      <td>@VirginAmerica What @dhepburn said.</td>\n",
       "      <td>4</td>\n",
       "    </tr>\n",
       "    <tr>\n",
       "      <th>1</th>\n",
       "      <td>positive</td>\n",
       "      <td>@VirginAmerica plus you've added commercials t...</td>\n",
       "      <td>9</td>\n",
       "    </tr>\n",
       "    <tr>\n",
       "      <th>2</th>\n",
       "      <td>neutral</td>\n",
       "      <td>@VirginAmerica I didn't today... Must mean I n...</td>\n",
       "      <td>12</td>\n",
       "    </tr>\n",
       "    <tr>\n",
       "      <th>3</th>\n",
       "      <td>positive</td>\n",
       "      <td>@VirginAmerica yes, nearly every time I fly VX...</td>\n",
       "      <td>15</td>\n",
       "    </tr>\n",
       "    <tr>\n",
       "      <th>4</th>\n",
       "      <td>neutral</td>\n",
       "      <td>@VirginAmerica Really missed a prime opportuni...</td>\n",
       "      <td>13</td>\n",
       "    </tr>\n",
       "  </tbody>\n",
       "</table>\n",
       "</div>"
      ],
      "text/plain": [
       "  airline_sentiment                                               text  \\\n",
       "0           neutral                @VirginAmerica What @dhepburn said.   \n",
       "1          positive  @VirginAmerica plus you've added commercials t...   \n",
       "2           neutral  @VirginAmerica I didn't today... Must mean I n...   \n",
       "3          positive  @VirginAmerica yes, nearly every time I fly VX...   \n",
       "4           neutral  @VirginAmerica Really missed a prime opportuni...   \n",
       "\n",
       "   text_word_count  \n",
       "0                4  \n",
       "1                9  \n",
       "2               12  \n",
       "3               15  \n",
       "4               13  "
      ]
     },
     "execution_count": 59,
     "metadata": {
      "tags": []
     },
     "output_type": "execute_result"
    }
   ],
   "source": [
    "print(df.shape)\n",
    "df['text_word_count'] = df['text'].apply(lambda xx: int(len(str(xx).split(' '))))\n",
    "print(df.shape) # added a new dimension per our new column\n",
    "df.head()"
   ]
  },
  {
   "cell_type": "code",
   "execution_count": 28,
   "metadata": {
    "colab": {
     "base_uri": "https://localhost:8080/",
     "height": 177
    },
    "colab_type": "code",
    "executionInfo": {
     "elapsed": 441,
     "status": "ok",
     "timestamp": 1534887719714,
     "user": {
      "displayName": "Zachary Mccoy",
      "photoUrl": "//lh5.googleusercontent.com/-JivcaiuJcFw/AAAAAAAAAAI/AAAAAAAAAEU/3bgRqYCdzJw/s50-c-k-no/photo.jpg",
      "userId": "112421332417664355395"
     },
     "user_tz": 240
    },
    "id": "AxdfiHiNLzgF",
    "outputId": "f95214b3-22da-4cb2-f2db-eb4d805ea639"
   },
   "outputs": [
    {
     "data": {
      "text/plain": [
       "count    8561.000000\n",
       "mean       16.436748\n",
       "std         7.172491\n",
       "min         2.000000\n",
       "25%        11.000000\n",
       "50%        17.000000\n",
       "75%        23.000000\n",
       "max        32.000000\n",
       "Name: text_word_count, dtype: float64"
      ]
     },
     "execution_count": 28,
     "metadata": {
      "tags": []
     },
     "output_type": "execute_result"
    }
   ],
   "source": [
    "df['text_word_count'].describe()"
   ]
  },
  {
   "cell_type": "code",
   "execution_count": 42,
   "metadata": {
    "colab": {
     "base_uri": "https://localhost:8080/",
     "height": 35
    },
    "colab_type": "code",
    "executionInfo": {
     "elapsed": 414,
     "status": "ok",
     "timestamp": 1534383507619,
     "user": {
      "displayName": "Zachary Mccoy",
      "photoUrl": "//lh5.googleusercontent.com/-JivcaiuJcFw/AAAAAAAAAAI/AAAAAAAAAEU/3bgRqYCdzJw/s50-c-k-no/photo.jpg",
      "userId": "112421332417664355395"
     },
     "user_tz": 240
    },
    "id": "XZcPSNSpSvO8",
    "outputId": "92fa8275-c262-4b5d-8595-1469f759fa5a"
   },
   "outputs": [
    {
     "name": "stdout",
     "output_type": "stream",
     "text": [
      "1367\n"
     ]
    }
   ],
   "source": [
    "# NOTE: No longer necessary bc tweets contain few words\n",
    "# Remove upper outliers, in terms of article word count (this is for the sake of performance; dimensionality reduction)\n",
    "#Q1 = 122\n",
    "#Q3 = 620\n",
    "#IQR = Q3-Q1\n",
    "#outliers_upper = int(Q3 + 1.5*IQR)\n",
    "#print(outliers_upper)\n",
    "#df = df[(df['text_word_count'] < outliers_upper)]"
   ]
  },
  {
   "cell_type": "code",
   "execution_count": 60,
   "metadata": {
    "colab": {
     "base_uri": "https://localhost:8080/",
     "height": 70
    },
    "colab_type": "code",
    "executionInfo": {
     "elapsed": 456,
     "status": "ok",
     "timestamp": 1534893650309,
     "user": {
      "displayName": "Zachary Mccoy",
      "photoUrl": "//lh5.googleusercontent.com/-JivcaiuJcFw/AAAAAAAAAAI/AAAAAAAAAEU/3bgRqYCdzJw/s50-c-k-no/photo.jpg",
      "userId": "112421332417664355395"
     },
     "user_tz": 240
    },
    "id": "HoW9F3lox87J",
    "outputId": "7de544df-0153-4aa3-a7bc-fdd5311e3595"
   },
   "outputs": [
    {
     "name": "stdout",
     "output_type": "stream",
     "text": [
      "32\n",
      "400000\n",
      "50\n"
     ]
    }
   ],
   "source": [
    "MAX_SEQUENCE_LENGTH = df['text_word_count'].max() # based on our inputs above; max count of 'text' words in this case\n",
    "print(MAX_SEQUENCE_LENGTH) # 32\n",
    "MAX_NB_WORDS = len(w2v.vocab)\n",
    "print(MAX_NB_WORDS) # 400000 # 999994 # 3000000\n",
    "EMBEDDING_DIM = w2v[\"the\"].shape[0] #w2v=300, fastText=300; GloVe=50\n",
    "print(EMBEDDING_DIM) # 50"
   ]
  },
  {
   "cell_type": "markdown",
   "metadata": {
    "colab_type": "text",
    "id": "3M_XkNYgvWYY"
   },
   "source": [
    "#### Stop Words ####\n",
    "\n",
    "\"Sometimes, some extremely common words which would appear to be of little value in helping select documents matching a user need are excluded from the vocabulary entirely. These words are called stop words.\" (https://nlp.stanford.edu/IR-book/html/htmledition/dropping-common-terms-stop-words-1.html)"
   ]
  },
  {
   "cell_type": "code",
   "execution_count": 61,
   "metadata": {
    "colab": {
     "base_uri": "https://localhost:8080/",
     "height": 53
    },
    "colab_type": "code",
    "executionInfo": {
     "elapsed": 404,
     "status": "ok",
     "timestamp": 1534893654372,
     "user": {
      "displayName": "Zachary Mccoy",
      "photoUrl": "//lh5.googleusercontent.com/-JivcaiuJcFw/AAAAAAAAAAI/AAAAAAAAAEU/3bgRqYCdzJw/s50-c-k-no/photo.jpg",
      "userId": "112421332417664355395"
     },
     "user_tz": 240
    },
    "id": "2YmJ-_xyGZ6d",
    "outputId": "ee89c113-5175-449b-ca0a-72c55a430f74"
   },
   "outputs": [
    {
     "name": "stdout",
     "output_type": "stream",
     "text": [
      "[nltk_data] Downloading package stopwords to /root/nltk_data...\n",
      "[nltk_data]   Package stopwords is already up-to-date!\n"
     ]
    }
   ],
   "source": [
    "import nltk\n",
    "nltk.download('stopwords')\n",
    "from nltk.corpus import stopwords"
   ]
  },
  {
   "cell_type": "code",
   "execution_count": 31,
   "metadata": {
    "colab": {
     "base_uri": "https://localhost:8080/",
     "height": 55
    },
    "colab_type": "code",
    "executionInfo": {
     "elapsed": 869,
     "status": "ok",
     "timestamp": 1534887729506,
     "user": {
      "displayName": "Zachary Mccoy",
      "photoUrl": "//lh5.googleusercontent.com/-JivcaiuJcFw/AAAAAAAAAAI/AAAAAAAAAEU/3bgRqYCdzJw/s50-c-k-no/photo.jpg",
      "userId": "112421332417664355395"
     },
     "user_tz": 240
    },
    "id": "vsMWUmumx87k",
    "outputId": "2259f162-4e4e-4829-b9b8-a3dfd2ebd13a"
   },
   "outputs": [
    {
     "name": "stdout",
     "output_type": "stream",
     "text": [
      "['i', 'me', 'my', 'myself', 'we', 'our', 'ours', 'ourselves', 'you', \"you're\", \"you've\", \"you'll\", \"you'd\", 'your', 'yours', 'yourself', 'yourselves', 'he', 'him', 'his', 'himself', 'she', \"she's\", 'her', 'hers', 'herself', 'it', \"it's\", 'its', 'itself', 'they', 'them', 'their', 'theirs', 'themselves', 'what', 'which', 'who', 'whom', 'this', 'that', \"that'll\", 'these', 'those', 'am', 'is', 'are', 'was', 'were', 'be', 'been', 'being', 'have', 'has', 'had', 'having', 'do', 'does', 'did', 'doing', 'a', 'an', 'the', 'and', 'but', 'if', 'or', 'because', 'as', 'until', 'while', 'of', 'at', 'by', 'for', 'with', 'about', 'against', 'between', 'into', 'through', 'during', 'before', 'after', 'above', 'below', 'to', 'from', 'up', 'down', 'in', 'out', 'on', 'off', 'over', 'under', 'again', 'further', 'then', 'once', 'here', 'there', 'when', 'where', 'why', 'how', 'all', 'any', 'both', 'each', 'few', 'more', 'most', 'other', 'some', 'such', 'no', 'nor', 'not', 'only', 'own', 'same', 'so', 'than', 'too', 'very', 's', 't', 'can', 'will', 'just', 'don', \"don't\", 'should', \"should've\", 'now', 'd', 'll', 'm', 'o', 're', 've', 'y', 'ain', 'aren', \"aren't\", 'couldn', \"couldn't\", 'didn', \"didn't\", 'doesn', \"doesn't\", 'hadn', \"hadn't\", 'hasn', \"hasn't\", 'haven', \"haven't\", 'isn', \"isn't\", 'ma', 'mightn', \"mightn't\", 'mustn', \"mustn't\", 'needn', \"needn't\", 'shan', \"shan't\", 'shouldn', \"shouldn't\", 'wasn', \"wasn't\", 'weren', \"weren't\", 'won', \"won't\", 'wouldn', \"wouldn't\"]\n"
     ]
    }
   ],
   "source": [
    "print(stopwords.words('english'))"
   ]
  },
  {
   "cell_type": "code",
   "execution_count": 0,
   "metadata": {
    "colab": {},
    "colab_type": "code",
    "id": "bIQXIo_PKklz"
   },
   "outputs": [],
   "source": [
    "from keras.preprocessing.text import text_to_word_sequence\n",
    "from keras.preprocessing.text import Tokenizer\n",
    "from keras.preprocessing.sequence import pad_sequences\n",
    "\n",
    "def get_stop_words():\n",
    "  ''' if you want your own stop list\n",
    "  path = \"stop-words-list.txt\"\n",
    "  stop_words = []\n",
    "  with codecs.open(path, \"r\", encoding=\"utf-8\", errors=\"ignore\") as myfile:\n",
    "    stop_words = myfile.readlines()\n",
    "  stop_words = [word.strip() for word in stop_words]\n",
    "  return stop_words\n",
    "  '''\n",
    "  return stopwords.words('english')\n",
    "\n",
    "def get_label(label):\n",
    "  if label == \"negative\":\n",
    "    return np.array([0, 0, 1])\n",
    "  elif label == \"positive\":\n",
    "    return np.array([0, 1, 0])\n",
    "  else: # neutral\n",
    "    return np.array([1, 0, 0])\n",
    "  \n",
    "def get_text(text):\n",
    "  text_words = []\n",
    "  words = text.split(\" \")\n",
    "  stop_words = get_stop_words()\n",
    "  for word in words:\n",
    "    if word not in stop_words:\n",
    "      text_words.append(word)\n",
    "  return ' '.join(text_words)\n",
    "\n",
    "def get_text_sequences(texts):\n",
    "  tokenizer = Tokenizer(num_words=MAX_NB_WORDS)\n",
    "  tokenizer.fit_on_texts(texts)\n",
    "  sequences = tokenizer.texts_to_sequences(texts)\n",
    "  word_index = tokenizer.word_index\n",
    "  #print('Found %s unique tokens.' % len(word_index))\n",
    "  data = pad_sequences(sequences, maxlen=MAX_SEQUENCE_LENGTH)\n",
    "  return data, word_index\n",
    "  \n",
    "def get_data(df):\n",
    "  texts = []\n",
    "  labels = []\n",
    "  texts_df = df['text'].values\n",
    "  labels_df = df['airline_sentiment'].values #df['type'].values\n",
    "  for ii in range(len(texts_df)):\n",
    "    texts.append(get_text(texts_df[ii]))\n",
    "    labels.append(get_label(labels_df[ii]))\n",
    "  sequences, word_index = get_text_sequences(texts)\n",
    "  return sequences, np.array(labels), word_index\n",
    "\n",
    "def get_data_encoded(df):\n",
    "  texts = []\n",
    "  labels = []\n",
    "  texts_df = df['text'].values\n",
    "  labels_df = df['airline_sentiment'].values #df['type'].values\n",
    "  padded_texts = []\n",
    "  unknown_words = []\n",
    "  for ii in range(len(texts_df)):\n",
    "    word_sequences = text_to_word_sequence(texts_df[ii],\n",
    "      filters='ا\\n\\ufeff\\xa0!\"#$%&()*+,-./:;<=>?@[\\\\]^_`{|}~\\t',\n",
    "      lower=True,\n",
    "      split=\" \")\n",
    "    vecs = []\n",
    "    for word in word_sequences:\n",
    "      stop_words = get_stop_words()\n",
    "      if word not in stop_words:\n",
    "        try:\n",
    "          vecs.append(w2v[word])\n",
    "        except KeyError:\n",
    "          # TODO: incrementally update w2v with OOVs (out-of-vocabularies)\n",
    "          #print(\"' \" + str(word) + \"' not in vocabulary\")\n",
    "          unknown_words.append(word)\n",
    "      texts.append(vecs)  \n",
    "      labels.append(get_label(labels_df[ii]))\n",
    "  padded_vectors = pad_sequences(texts, maxlen=MAX_SEQUENCE_LENGTH)\n",
    "  return np.array(padded_texts), np.array(labels), unknown_words  "
   ]
  },
  {
   "cell_type": "code",
   "execution_count": 33,
   "metadata": {
    "colab": {
     "base_uri": "https://localhost:8080/",
     "height": 179
    },
    "colab_type": "code",
    "executionInfo": {
     "elapsed": 2822,
     "status": "ok",
     "timestamp": 1534887741000,
     "user": {
      "displayName": "Zachary Mccoy",
      "photoUrl": "//lh5.googleusercontent.com/-JivcaiuJcFw/AAAAAAAAAAI/AAAAAAAAAEU/3bgRqYCdzJw/s50-c-k-no/photo.jpg",
      "userId": "112421332417664355395"
     },
     "user_tz": 240
    },
    "id": "ewVOR_KJ6Viy",
    "outputId": "e583e114-8e94-46b7-82a9-f6204da05cd5"
   },
   "outputs": [
    {
     "name": "stdout",
     "output_type": "stream",
     "text": [
      "Collecting wordcloud\n",
      "\u001b[?25l  Downloading https://files.pythonhosted.org/packages/ae/af/849edf14d573eba9c8082db898ff0d090428d9485371cc4fe21a66717ad2/wordcloud-1.5.0-cp36-cp36m-manylinux1_x86_64.whl (361kB)\n",
      "\u001b[K    100% |████████████████████████████████| 368kB 5.8MB/s \n",
      "\u001b[?25hRequirement already satisfied: pillow in /usr/local/lib/python3.6/dist-packages (from wordcloud) (4.0.0)\n",
      "Requirement already satisfied: numpy>=1.6.1 in /usr/local/lib/python3.6/dist-packages (from wordcloud) (1.14.5)\n",
      "Requirement already satisfied: olefile in /usr/local/lib/python3.6/dist-packages (from pillow->wordcloud) (0.45.1)\n",
      "Installing collected packages: wordcloud\n",
      "Successfully installed wordcloud-1.5.0\n"
     ]
    }
   ],
   "source": [
    "!pip install wordcloud"
   ]
  },
  {
   "cell_type": "code",
   "execution_count": 34,
   "metadata": {
    "colab": {
     "base_uri": "https://localhost:8080/",
     "height": 219
    },
    "colab_type": "code",
    "executionInfo": {
     "elapsed": 1083,
     "status": "ok",
     "timestamp": 1534887743761,
     "user": {
      "displayName": "Zachary Mccoy",
      "photoUrl": "//lh5.googleusercontent.com/-JivcaiuJcFw/AAAAAAAAAAI/AAAAAAAAAEU/3bgRqYCdzJw/s50-c-k-no/photo.jpg",
      "userId": "112421332417664355395"
     },
     "user_tz": 240
    },
    "id": "1h0YWAk16L0m",
    "outputId": "06ff42e9-5626-4e81-eec3-71406d3cb365"
   },
   "outputs": [
    {
     "data": {
      "image/png": "[encoded data removed]",
      "text/plain": [
       "<matplotlib.figure.Figure at 0x7fab27e20160>"
      ]
     },
     "metadata": {
      "tags": []
     },
     "output_type": "display_data"
    }
   ],
   "source": [
    "# Let's take a quick look at some of our dataset\n",
    "from wordcloud import WordCloud\n",
    "cloud_neg = WordCloud(stopwords=stopwords.words('english'), max_font_size=40\n",
    "                        ).generate(\" \".join(df[(df['airline_sentiment']=='negative')]['text'].values))\n",
    "plt.imshow(cloud_neg, interpolation=\"bilinear\")\n",
    "plt.axis('off')\n",
    "plt.show()"
   ]
  },
  {
   "cell_type": "code",
   "execution_count": 35,
   "metadata": {
    "colab": {
     "base_uri": "https://localhost:8080/",
     "height": 219
    },
    "colab_type": "code",
    "executionInfo": {
     "elapsed": 1087,
     "status": "ok",
     "timestamp": 1534887746875,
     "user": {
      "displayName": "Zachary Mccoy",
      "photoUrl": "//lh5.googleusercontent.com/-JivcaiuJcFw/AAAAAAAAAAI/AAAAAAAAAEU/3bgRqYCdzJw/s50-c-k-no/photo.jpg",
      "userId": "112421332417664355395"
     },
     "user_tz": 240
    },
    "id": "acfOQsqUnlLM",
    "outputId": "bc422a71-d65a-463b-a104-6f25069e109d"
   },
   "outputs": [
    {
     "data": {
      "image/png": "[encoded data removed]",
      "text/plain": [
       "<matplotlib.figure.Figure at 0x7fab2726d390>"
      ]
     },
     "metadata": {
      "tags": []
     },
     "output_type": "display_data"
    }
   ],
   "source": [
    "# WordCloud for 'positive' tweets\n",
    "cloud_neg = WordCloud(stopwords=stopwords.words('english'), max_font_size=40\n",
    "                        ).generate(\" \".join(df[(df['airline_sentiment']=='positive')]['text'].values))\n",
    "plt.imshow(cloud_neg, interpolation=\"bilinear\")\n",
    "plt.axis('off')\n",
    "plt.show()"
   ]
  },
  {
   "cell_type": "markdown",
   "metadata": {
    "colab_type": "text",
    "id": "t0h291JknxUw"
   },
   "source": [
    "- It looks like folks prefer Southwest, JetBlue, and United"
   ]
  },
  {
   "cell_type": "code",
   "execution_count": 36,
   "metadata": {
    "colab": {
     "base_uri": "https://localhost:8080/",
     "height": 219
    },
    "colab_type": "code",
    "executionInfo": {
     "elapsed": 1308,
     "status": "ok",
     "timestamp": 1534887750772,
     "user": {
      "displayName": "Zachary Mccoy",
      "photoUrl": "//lh5.googleusercontent.com/-JivcaiuJcFw/AAAAAAAAAAI/AAAAAAAAAEU/3bgRqYCdzJw/s50-c-k-no/photo.jpg",
      "userId": "112421332417664355395"
     },
     "user_tz": 240
    },
    "id": "VErW-HJtn_sA",
    "outputId": "a59f10d5-afdf-4711-9e02-daf965485381"
   },
   "outputs": [
    {
     "data": {
      "image/png": "[encoded data removed]",
      "text/plain": [
       "<matplotlib.figure.Figure at 0x7fab5bf50748>"
      ]
     },
     "metadata": {
      "tags": []
     },
     "output_type": "display_data"
    }
   ],
   "source": [
    "# What are common words for 'neutral' tweets?\n",
    "cloud_neg = WordCloud(stopwords=stopwords.words('english'), max_font_size=40\n",
    "                        ).generate(\" \".join(df[(df['airline_sentiment']=='neutral')]['text'].values))\n",
    "plt.imshow(cloud_neg, interpolation=\"bilinear\")\n",
    "plt.axis('off')\n",
    "plt.show()"
   ]
  },
  {
   "cell_type": "markdown",
   "metadata": {
    "colab_type": "text",
    "id": "FTk7_-JLoIX_"
   },
   "source": [
    "- Somewhat difficult to distinguish from a mix of positive/negative"
   ]
  },
  {
   "cell_type": "markdown",
   "metadata": {
    "colab_type": "text",
    "id": "erFObTOEoRZ3"
   },
   "source": [
    "#### Split Training Data ####\n",
    "\n",
    "- Let's split our training data so that we can hold some as a validation set to determine how well our model is training"
   ]
  },
  {
   "cell_type": "code",
   "execution_count": 0,
   "metadata": {
    "colab": {},
    "colab_type": "code",
    "id": "hA2y32MXJ9pP"
   },
   "outputs": [],
   "source": [
    "train_test_split = 0.8\n",
    "df_shuffled = df.sample(frac=1)\n",
    "DATA_SPLIT = int(df_shuffled.shape[0]*train_test_split)"
   ]
  },
  {
   "cell_type": "code",
   "execution_count": 64,
   "metadata": {
    "colab": {
     "base_uri": "https://localhost:8080/",
     "height": 124
    },
    "colab_type": "code",
    "executionInfo": {
     "elapsed": 3126,
     "status": "ok",
     "timestamp": 1534893669462,
     "user": {
      "displayName": "Zachary Mccoy",
      "photoUrl": "//lh5.googleusercontent.com/-JivcaiuJcFw/AAAAAAAAAAI/AAAAAAAAAEU/3bgRqYCdzJw/s50-c-k-no/photo.jpg",
      "userId": "112421332417664355395"
     },
     "user_tz": 240
    },
    "id": "i8WGrxhlIa4p",
    "outputId": "d5b8f9e0-3d28-4064-c941-5dc579d932ca"
   },
   "outputs": [
    {
     "name": "stdout",
     "output_type": "stream",
     "text": [
      "(6848, 32)\n",
      "(6848, 3)\n",
      "10052\n",
      "(1713, 32)\n",
      "(1713, 3)\n",
      "4342\n"
     ]
    }
   ],
   "source": [
    "X_train, y_train, word_index_train = get_data(df_shuffled[:DATA_SPLIT])\n",
    "print(X_train.shape)\n",
    "print(y_train.shape)\n",
    "print(len(word_index_train))\n",
    "X_valid, y_valid, word_index_valid = get_data(df_shuffled[DATA_SPLIT:])\n",
    "print(X_valid.shape)\n",
    "print(y_valid.shape)\n",
    "print(len(word_index_valid))"
   ]
  },
  {
   "cell_type": "markdown",
   "metadata": {
    "colab_type": "text",
    "id": "ULcxtlU9siD6"
   },
   "source": [
    "- Let's take a look at our training data format now.  You'll notice a bunch of leading zeroes; these are paddings because the input needs to be uniform.  Since max # words in our dataset is 32, then we zero pad any tweet with less than 32 words"
   ]
  },
  {
   "cell_type": "code",
   "execution_count": 39,
   "metadata": {
    "colab": {
     "base_uri": "https://localhost:8080/",
     "height": 141
    },
    "colab_type": "code",
    "executionInfo": {
     "elapsed": 404,
     "status": "ok",
     "timestamp": 1534887761360,
     "user": {
      "displayName": "Zachary Mccoy",
      "photoUrl": "//lh5.googleusercontent.com/-JivcaiuJcFw/AAAAAAAAAAI/AAAAAAAAAEU/3bgRqYCdzJw/s50-c-k-no/photo.jpg",
      "userId": "112421332417664355395"
     },
     "user_tz": 240
    },
    "id": "qQ6QV_NPrVEI",
    "outputId": "1becc362-b911-49b5-b373-9288ef462890"
   },
   "outputs": [
    {
     "name": "stdout",
     "output_type": "stream",
     "text": [
      "[[   0    0    0 ...    8   10 4175]\n",
      " [   0    0    0 ...   44  427   21]\n",
      " [   0    0    0 ...    1  325   59]\n",
      " ...\n",
      " [   0    0    0 ...  365  139   20]\n",
      " [   0    0    0 ...   33  273  274]\n",
      " [   0    0    0 ... 1532 3949  278]]\n"
     ]
    }
   ],
   "source": [
    "print(X_train)"
   ]
  },
  {
   "cell_type": "markdown",
   "metadata": {
    "colab_type": "text",
    "id": "4yj5a2dbszTI"
   },
   "source": [
    "- Let's take a look at our labels.  It's as expected; \"One-Hot\" encoding for each possible label"
   ]
  },
  {
   "cell_type": "code",
   "execution_count": 40,
   "metadata": {
    "colab": {
     "base_uri": "https://localhost:8080/",
     "height": 141
    },
    "colab_type": "code",
    "executionInfo": {
     "elapsed": 403,
     "status": "ok",
     "timestamp": 1534887765725,
     "user": {
      "displayName": "Zachary Mccoy",
      "photoUrl": "//lh5.googleusercontent.com/-JivcaiuJcFw/AAAAAAAAAAI/AAAAAAAAAEU/3bgRqYCdzJw/s50-c-k-no/photo.jpg",
      "userId": "112421332417664355395"
     },
     "user_tz": 240
    },
    "id": "2mw_qvS9sbrL",
    "outputId": "0cb5a632-b251-4643-beba-73a50b00273a"
   },
   "outputs": [
    {
     "name": "stdout",
     "output_type": "stream",
     "text": [
      "[[1 0 0]\n",
      " [0 0 1]\n",
      " [1 0 0]\n",
      " ...\n",
      " [1 0 0]\n",
      " [0 1 0]\n",
      " [1 0 0]]\n"
     ]
    }
   ],
   "source": [
    "print(y_train)"
   ]
  },
  {
   "cell_type": "code",
   "execution_count": 65,
   "metadata": {
    "colab": {
     "base_uri": "https://localhost:8080/",
     "height": 35
    },
    "colab_type": "code",
    "executionInfo": {
     "elapsed": 320,
     "status": "ok",
     "timestamp": 1534893674131,
     "user": {
      "displayName": "Zachary Mccoy",
      "photoUrl": "//lh5.googleusercontent.com/-JivcaiuJcFw/AAAAAAAAAAI/AAAAAAAAAEU/3bgRqYCdzJw/s50-c-k-no/photo.jpg",
      "userId": "112421332417664355395"
     },
     "user_tz": 240
    },
    "id": "DrMkfyjgF6e5",
    "outputId": "ce17c298-9ba9-497f-f757-944c83675f93"
   },
   "outputs": [
    {
     "name": "stdout",
     "output_type": "stream",
     "text": [
      "11436\n"
     ]
    }
   ],
   "source": [
    "word_index = {}\n",
    "for wi in (word_index_train, word_index_valid): \n",
    "  word_index.update(wi)\n",
    "print(len(word_index))"
   ]
  },
  {
   "cell_type": "code",
   "execution_count": 66,
   "metadata": {
    "colab": {
     "base_uri": "https://localhost:8080/",
     "height": 35
    },
    "colab_type": "code",
    "executionInfo": {
     "elapsed": 381,
     "status": "ok",
     "timestamp": 1534893675653,
     "user": {
      "displayName": "Zachary Mccoy",
      "photoUrl": "//lh5.googleusercontent.com/-JivcaiuJcFw/AAAAAAAAAAI/AAAAAAAAAEU/3bgRqYCdzJw/s50-c-k-no/photo.jpg",
      "userId": "112421332417664355395"
     },
     "user_tz": 240
    },
    "id": "dnhYZE0Ox88F",
    "outputId": "0f5ef1f0-cf97-4bd2-952a-cbe5c6ef61d7"
   },
   "outputs": [
    {
     "name": "stdout",
     "output_type": "stream",
     "text": [
      "(11437, 50)\n"
     ]
    }
   ],
   "source": [
    "def create_embedding_matrix(word_index):\n",
    "  nb_words = min(MAX_NB_WORDS, len(word_index))+1\n",
    "  embedding_matrix = np.zeros((nb_words, EMBEDDING_DIM),dtype=\"float32\")\n",
    "  for word, ii in word_index.items():\n",
    "    if word in w2v.vocab:\n",
    "      embedding_matrix[ii] = w2v.word_vec(word)\n",
    "  return embedding_matrix\n",
    "\n",
    "embedding_matrix = create_embedding_matrix(word_index)\n",
    "print(embedding_matrix.shape)"
   ]
  },
  {
   "cell_type": "code",
   "execution_count": 0,
   "metadata": {
    "colab": {},
    "colab_type": "code",
    "id": "YJTkma9Tx879"
   },
   "outputs": [],
   "source": [
    "#X_train_enc, y_train, unk_train = get_data_encoded(df_shuffled[:DATA_SPLIT])\n",
    "#print(X_train_enc.shape)\n",
    "#print(y_train.shape)\n",
    "#print(len(unk_train))\n",
    "#X_valid_enc, y_valid, unk_valid = get_data_encoded(df_shuffled[DATA_SPLIT:])\n",
    "#print(X_valid_enc.shape)\n",
    "#print(y_valid.shape)\n",
    "#print(len(unk_valid))"
   ]
  },
  {
   "cell_type": "code",
   "execution_count": 43,
   "metadata": {
    "colab": {
     "base_uri": "https://localhost:8080/",
     "height": 124
    },
    "colab_type": "code",
    "executionInfo": {
     "elapsed": 453,
     "status": "ok",
     "timestamp": 1534887775600,
     "user": {
      "displayName": "Zachary Mccoy",
      "photoUrl": "//lh5.googleusercontent.com/-JivcaiuJcFw/AAAAAAAAAAI/AAAAAAAAAEU/3bgRqYCdzJw/s50-c-k-no/photo.jpg",
      "userId": "112421332417664355395"
     },
     "user_tz": 240
    },
    "id": "K9q7Pk_PBcvU",
    "outputId": "cf3016eb-6248-4577-8ba9-eecdb8d73768"
   },
   "outputs": [
    {
     "name": "stdout",
     "output_type": "stream",
     "text": [
      "Total Memory (MB): 13022\n",
      "Used Memory (MB): 1782\n",
      "Free Memory (MB): 165\n",
      "Shared Memory (MB): 250\n",
      "Buff/Cache Memory (MB): 11074\n",
      "Available Memory (MB): 11167\n"
     ]
    }
   ],
   "source": [
    "print_memory_usage()"
   ]
  },
  {
   "cell_type": "code",
   "execution_count": 0,
   "metadata": {
    "colab": {},
    "colab_type": "code",
    "id": "CZT9xS6TUn0i"
   },
   "outputs": [],
   "source": [
    "NUM_CLASSES = 3 #8\n",
    "BATCH_SIZE = 32\n",
    "LSTM_UNITS = 64"
   ]
  },
  {
   "cell_type": "code",
   "execution_count": 0,
   "metadata": {
    "colab": {},
    "colab_type": "code",
    "id": "Lvl7G2inUZYE"
   },
   "outputs": [],
   "source": [
    "import tensorflow as tf\n",
    "tf.reset_default_graph()\n",
    "\n",
    "input_data = tf.placeholder(tf.int32, [BATCH_SIZE, MAX_SEQUENCE_LENGTH], name=\"X\")\n",
    "labels = tf.placeholder(tf.float32, [BATCH_SIZE, NUM_CLASSES], name='y')\n",
    "\n",
    "data = tf.Variable(tf.zeros([BATCH_SIZE, MAX_SEQUENCE_LENGTH, EMBEDDING_DIM]),dtype=tf.float32)\n",
    "data = tf.nn.embedding_lookup(embedding_matrix, input_data) #wordVectors,input_data)\n",
    "\n",
    "lstmCell = tf.contrib.rnn.BasicLSTMCell(LSTM_UNITS)\n",
    "lstmCell = tf.contrib.rnn.DropoutWrapper(cell=lstmCell, output_keep_prob=0.75)\n",
    "value, _ = tf.nn.dynamic_rnn(lstmCell, data, dtype=tf.float32)\n",
    "\n",
    "weight = tf.Variable(tf.truncated_normal([LSTM_UNITS, NUM_CLASSES]))\n",
    "bias = tf.Variable(tf.constant(0.1, shape=[NUM_CLASSES]))\n",
    "value = tf.transpose(value, [1, 0, 2])\n",
    "last = tf.gather(value, int(value.get_shape()[0]) - 1)\n",
    "prediction = (tf.matmul(last, weight) + bias)\n",
    "\n",
    "correct_pred = tf.equal(tf.argmax(prediction,1), tf.argmax(labels,1))\n",
    "accuracy = tf.reduce_mean(tf.cast(correct_pred, tf.float32))\n",
    "\n",
    "loss = tf.reduce_mean(tf.nn.softmax_cross_entropy_with_logits(logits=prediction, labels=labels))\n",
    "optimizer = tf.train.AdamOptimizer().minimize(loss)"
   ]
  },
  {
   "cell_type": "code",
   "execution_count": 102,
   "metadata": {
    "colab": {
     "base_uri": "https://localhost:8080/",
     "height": 10154
    },
    "colab_type": "code",
    "executionInfo": {
     "elapsed": 371,
     "status": "ok",
     "timestamp": 1534900059583,
     "user": {
      "displayName": "Zachary Mccoy",
      "photoUrl": "//lh5.googleusercontent.com/-JivcaiuJcFw/AAAAAAAAAAI/AAAAAAAAAEU/3bgRqYCdzJw/s50-c-k-no/photo.jpg",
      "userId": "112421332417664355395"
     },
     "user_tz": 240
    },
    "id": "vHf4GbzFJhEU",
    "outputId": "4ea782b9-46bf-4451-fc2a-4f068f405a47"
   },
   "outputs": [
    {
     "data": {
      "text/plain": [
       "['X',\n",
       " 'y',\n",
       " 'zeros/shape_as_tensor',\n",
       " 'zeros/Const',\n",
       " 'zeros',\n",
       " 'Variable',\n",
       " 'Variable/Assign',\n",
       " 'Variable/read',\n",
       " 'embedding_lookup/params_0',\n",
       " 'embedding_lookup/axis',\n",
       " 'embedding_lookup',\n",
       " 'DropoutWrapperInit/Const',\n",
       " 'DropoutWrapperInit/Const_1',\n",
       " 'DropoutWrapperInit/Const_2',\n",
       " 'rnn/Rank',\n",
       " 'rnn/range/start',\n",
       " 'rnn/range/delta',\n",
       " 'rnn/range',\n",
       " 'rnn/concat/values_0',\n",
       " 'rnn/concat/axis',\n",
       " 'rnn/concat',\n",
       " 'rnn/transpose',\n",
       " 'rnn/DropoutWrapperZeroState/BasicLSTMCellZeroState/Const',\n",
       " 'rnn/DropoutWrapperZeroState/BasicLSTMCellZeroState/Const_1',\n",
       " 'rnn/DropoutWrapperZeroState/BasicLSTMCellZeroState/concat/axis',\n",
       " 'rnn/DropoutWrapperZeroState/BasicLSTMCellZeroState/concat',\n",
       " 'rnn/DropoutWrapperZeroState/BasicLSTMCellZeroState/zeros/Const',\n",
       " 'rnn/DropoutWrapperZeroState/BasicLSTMCellZeroState/zeros',\n",
       " 'rnn/DropoutWrapperZeroState/BasicLSTMCellZeroState/Const_2',\n",
       " 'rnn/DropoutWrapperZeroState/BasicLSTMCellZeroState/Const_3',\n",
       " 'rnn/DropoutWrapperZeroState/BasicLSTMCellZeroState/Const_4',\n",
       " 'rnn/DropoutWrapperZeroState/BasicLSTMCellZeroState/Const_5',\n",
       " 'rnn/DropoutWrapperZeroState/BasicLSTMCellZeroState/concat_1/axis',\n",
       " 'rnn/DropoutWrapperZeroState/BasicLSTMCellZeroState/concat_1',\n",
       " 'rnn/DropoutWrapperZeroState/BasicLSTMCellZeroState/zeros_1/Const',\n",
       " 'rnn/DropoutWrapperZeroState/BasicLSTMCellZeroState/zeros_1',\n",
       " 'rnn/DropoutWrapperZeroState/BasicLSTMCellZeroState/Const_6',\n",
       " 'rnn/DropoutWrapperZeroState/BasicLSTMCellZeroState/Const_7',\n",
       " 'rnn/Shape',\n",
       " 'rnn/strided_slice/stack',\n",
       " 'rnn/strided_slice/stack_1',\n",
       " 'rnn/strided_slice/stack_2',\n",
       " 'rnn/strided_slice',\n",
       " 'rnn/Const',\n",
       " 'rnn/Const_1',\n",
       " 'rnn/concat_1/axis',\n",
       " 'rnn/concat_1',\n",
       " 'rnn/zeros/Const',\n",
       " 'rnn/zeros',\n",
       " 'rnn/time',\n",
       " 'rnn/TensorArray',\n",
       " 'rnn/TensorArray_1',\n",
       " 'rnn/TensorArrayUnstack/Shape',\n",
       " 'rnn/TensorArrayUnstack/strided_slice/stack',\n",
       " 'rnn/TensorArrayUnstack/strided_slice/stack_1',\n",
       " 'rnn/TensorArrayUnstack/strided_slice/stack_2',\n",
       " 'rnn/TensorArrayUnstack/strided_slice',\n",
       " 'rnn/TensorArrayUnstack/range/start',\n",
       " 'rnn/TensorArrayUnstack/range/delta',\n",
       " 'rnn/TensorArrayUnstack/range',\n",
       " 'rnn/TensorArrayUnstack/TensorArrayScatter/TensorArrayScatterV3',\n",
       " 'rnn/Maximum/x',\n",
       " 'rnn/Maximum',\n",
       " 'rnn/Minimum',\n",
       " 'rnn/while/iteration_counter',\n",
       " 'rnn/while/Enter',\n",
       " 'rnn/while/Enter_1',\n",
       " 'rnn/while/Enter_2',\n",
       " 'rnn/while/Enter_3',\n",
       " 'rnn/while/Enter_4',\n",
       " 'rnn/while/Merge',\n",
       " 'rnn/while/Merge_1',\n",
       " 'rnn/while/Merge_2',\n",
       " 'rnn/while/Merge_3',\n",
       " 'rnn/while/Merge_4',\n",
       " 'rnn/while/Less',\n",
       " 'rnn/while/Less/Enter',\n",
       " 'rnn/while/Less_1',\n",
       " 'rnn/while/Less_1/Enter',\n",
       " 'rnn/while/LogicalAnd',\n",
       " 'rnn/while/LoopCond',\n",
       " 'rnn/while/Switch',\n",
       " 'rnn/while/Switch_1',\n",
       " 'rnn/while/Switch_2',\n",
       " 'rnn/while/Switch_3',\n",
       " 'rnn/while/Switch_4',\n",
       " 'rnn/while/Identity',\n",
       " 'rnn/while/Identity_1',\n",
       " 'rnn/while/Identity_2',\n",
       " 'rnn/while/Identity_3',\n",
       " 'rnn/while/Identity_4',\n",
       " 'rnn/while/add/y',\n",
       " 'rnn/while/add',\n",
       " 'rnn/while/TensorArrayReadV3',\n",
       " 'rnn/while/TensorArrayReadV3/Enter',\n",
       " 'rnn/while/TensorArrayReadV3/Enter_1',\n",
       " 'rnn/basic_lstm_cell/kernel/Initializer/random_uniform/shape',\n",
       " 'rnn/basic_lstm_cell/kernel/Initializer/random_uniform/min',\n",
       " 'rnn/basic_lstm_cell/kernel/Initializer/random_uniform/max',\n",
       " 'rnn/basic_lstm_cell/kernel/Initializer/random_uniform/RandomUniform',\n",
       " 'rnn/basic_lstm_cell/kernel/Initializer/random_uniform/sub',\n",
       " 'rnn/basic_lstm_cell/kernel/Initializer/random_uniform/mul',\n",
       " 'rnn/basic_lstm_cell/kernel/Initializer/random_uniform',\n",
       " 'rnn/basic_lstm_cell/kernel',\n",
       " 'rnn/basic_lstm_cell/kernel/Assign',\n",
       " 'rnn/basic_lstm_cell/kernel/read',\n",
       " 'rnn/basic_lstm_cell/bias/Initializer/zeros',\n",
       " 'rnn/basic_lstm_cell/bias',\n",
       " 'rnn/basic_lstm_cell/bias/Assign',\n",
       " 'rnn/basic_lstm_cell/bias/read',\n",
       " 'rnn/while/basic_lstm_cell/Const',\n",
       " 'rnn/while/basic_lstm_cell/concat/axis',\n",
       " 'rnn/while/basic_lstm_cell/concat',\n",
       " 'rnn/while/basic_lstm_cell/MatMul',\n",
       " 'rnn/while/basic_lstm_cell/MatMul/Enter',\n",
       " 'rnn/while/basic_lstm_cell/BiasAdd',\n",
       " 'rnn/while/basic_lstm_cell/BiasAdd/Enter',\n",
       " 'rnn/while/basic_lstm_cell/Const_1',\n",
       " 'rnn/while/basic_lstm_cell/split',\n",
       " 'rnn/while/basic_lstm_cell/Const_2',\n",
       " 'rnn/while/basic_lstm_cell/Add',\n",
       " 'rnn/while/basic_lstm_cell/Sigmoid',\n",
       " 'rnn/while/basic_lstm_cell/Mul',\n",
       " 'rnn/while/basic_lstm_cell/Sigmoid_1',\n",
       " 'rnn/while/basic_lstm_cell/Tanh',\n",
       " 'rnn/while/basic_lstm_cell/Mul_1',\n",
       " 'rnn/while/basic_lstm_cell/Add_1',\n",
       " 'rnn/while/basic_lstm_cell/Tanh_1',\n",
       " 'rnn/while/basic_lstm_cell/Sigmoid_2',\n",
       " 'rnn/while/basic_lstm_cell/Mul_2',\n",
       " 'rnn/while/dropout/keep_prob',\n",
       " 'rnn/while/dropout/Shape',\n",
       " 'rnn/while/dropout/random_uniform/min',\n",
       " 'rnn/while/dropout/random_uniform/max',\n",
       " 'rnn/while/dropout/random_uniform/RandomUniform',\n",
       " 'rnn/while/dropout/random_uniform/sub',\n",
       " 'rnn/while/dropout/random_uniform/mul',\n",
       " 'rnn/while/dropout/random_uniform',\n",
       " 'rnn/while/dropout/add',\n",
       " 'rnn/while/dropout/Floor',\n",
       " 'rnn/while/dropout/div',\n",
       " 'rnn/while/dropout/mul',\n",
       " 'rnn/while/TensorArrayWrite/TensorArrayWriteV3',\n",
       " 'rnn/while/TensorArrayWrite/TensorArrayWriteV3/Enter',\n",
       " 'rnn/while/add_1/y',\n",
       " 'rnn/while/add_1',\n",
       " 'rnn/while/NextIteration',\n",
       " 'rnn/while/NextIteration_1',\n",
       " 'rnn/while/NextIteration_2',\n",
       " 'rnn/while/NextIteration_3',\n",
       " 'rnn/while/NextIteration_4',\n",
       " 'rnn/while/Exit',\n",
       " 'rnn/while/Exit_1',\n",
       " 'rnn/while/Exit_2',\n",
       " 'rnn/while/Exit_3',\n",
       " 'rnn/while/Exit_4',\n",
       " 'rnn/TensorArrayStack/TensorArraySizeV3',\n",
       " 'rnn/TensorArrayStack/range/start',\n",
       " 'rnn/TensorArrayStack/range/delta',\n",
       " 'rnn/TensorArrayStack/range',\n",
       " 'rnn/TensorArrayStack/TensorArrayGatherV3',\n",
       " 'rnn/Const_2',\n",
       " 'rnn/Const_3',\n",
       " 'rnn/Rank_1',\n",
       " 'rnn/range_1/start',\n",
       " 'rnn/range_1/delta',\n",
       " 'rnn/range_1',\n",
       " 'rnn/concat_2/values_0',\n",
       " 'rnn/concat_2/axis',\n",
       " 'rnn/concat_2',\n",
       " 'rnn/transpose_1',\n",
       " 'truncated_normal/shape',\n",
       " 'truncated_normal/mean',\n",
       " 'truncated_normal/stddev',\n",
       " 'truncated_normal/TruncatedNormal',\n",
       " 'truncated_normal/mul',\n",
       " 'truncated_normal',\n",
       " 'Variable_1',\n",
       " 'Variable_1/Assign',\n",
       " 'Variable_1/read',\n",
       " 'Const',\n",
       " 'Variable_2',\n",
       " 'Variable_2/Assign',\n",
       " 'Variable_2/read',\n",
       " 'transpose/perm',\n",
       " 'transpose',\n",
       " 'GatherV2/indices',\n",
       " 'GatherV2/axis',\n",
       " 'GatherV2',\n",
       " 'MatMul',\n",
       " 'add',\n",
       " 'ArgMax/dimension',\n",
       " 'ArgMax',\n",
       " 'ArgMax_1/dimension',\n",
       " 'ArgMax_1',\n",
       " 'Equal',\n",
       " 'Cast',\n",
       " 'Const_1',\n",
       " 'Mean',\n",
       " 'softmax_cross_entropy_with_logits_sg/labels_stop_gradient',\n",
       " 'softmax_cross_entropy_with_logits_sg/Rank',\n",
       " 'softmax_cross_entropy_with_logits_sg/Shape',\n",
       " 'softmax_cross_entropy_with_logits_sg/Rank_1',\n",
       " 'softmax_cross_entropy_with_logits_sg/Shape_1',\n",
       " 'softmax_cross_entropy_with_logits_sg/Sub/y',\n",
       " 'softmax_cross_entropy_with_logits_sg/Sub',\n",
       " 'softmax_cross_entropy_with_logits_sg/Slice/begin',\n",
       " 'softmax_cross_entropy_with_logits_sg/Slice/size',\n",
       " 'softmax_cross_entropy_with_logits_sg/Slice',\n",
       " 'softmax_cross_entropy_with_logits_sg/concat/values_0',\n",
       " 'softmax_cross_entropy_with_logits_sg/concat/axis',\n",
       " 'softmax_cross_entropy_with_logits_sg/concat',\n",
       " 'softmax_cross_entropy_with_logits_sg/Reshape',\n",
       " 'softmax_cross_entropy_with_logits_sg/Rank_2',\n",
       " 'softmax_cross_entropy_with_logits_sg/Shape_2',\n",
       " 'softmax_cross_entropy_with_logits_sg/Sub_1/y',\n",
       " 'softmax_cross_entropy_with_logits_sg/Sub_1',\n",
       " 'softmax_cross_entropy_with_logits_sg/Slice_1/begin',\n",
       " 'softmax_cross_entropy_with_logits_sg/Slice_1/size',\n",
       " 'softmax_cross_entropy_with_logits_sg/Slice_1',\n",
       " 'softmax_cross_entropy_with_logits_sg/concat_1/values_0',\n",
       " 'softmax_cross_entropy_with_logits_sg/concat_1/axis',\n",
       " 'softmax_cross_entropy_with_logits_sg/concat_1',\n",
       " 'softmax_cross_entropy_with_logits_sg/Reshape_1',\n",
       " 'softmax_cross_entropy_with_logits_sg',\n",
       " 'softmax_cross_entropy_with_logits_sg/Sub_2/y',\n",
       " 'softmax_cross_entropy_with_logits_sg/Sub_2',\n",
       " 'softmax_cross_entropy_with_logits_sg/Slice_2/begin',\n",
       " 'softmax_cross_entropy_with_logits_sg/Slice_2/size',\n",
       " 'softmax_cross_entropy_with_logits_sg/Slice_2',\n",
       " 'softmax_cross_entropy_with_logits_sg/Reshape_2',\n",
       " 'Const_2',\n",
       " 'Mean_1',\n",
       " 'gradients/Shape',\n",
       " 'gradients/grad_ys_0',\n",
       " 'gradients/Fill',\n",
       " 'gradients/f_count',\n",
       " 'gradients/f_count_1',\n",
       " 'gradients/Merge',\n",
       " 'gradients/Switch',\n",
       " 'gradients/Add/y',\n",
       " 'gradients/Add',\n",
       " 'gradients/NextIteration',\n",
       " 'gradients/f_count_2',\n",
       " 'gradients/b_count',\n",
       " 'gradients/b_count_1',\n",
       " 'gradients/Merge_1',\n",
       " 'gradients/GreaterEqual',\n",
       " 'gradients/GreaterEqual/Enter',\n",
       " 'gradients/b_count_2',\n",
       " 'gradients/Switch_1',\n",
       " 'gradients/Sub',\n",
       " 'gradients/NextIteration_1',\n",
       " 'gradients/b_count_3',\n",
       " 'gradients/Mean_1_grad/Reshape/shape',\n",
       " 'gradients/Mean_1_grad/Reshape',\n",
       " 'gradients/Mean_1_grad/Const',\n",
       " 'gradients/Mean_1_grad/Tile',\n",
       " 'gradients/Mean_1_grad/Const_1',\n",
       " 'gradients/Mean_1_grad/truediv',\n",
       " 'gradients/softmax_cross_entropy_with_logits_sg/Reshape_2_grad/Shape',\n",
       " 'gradients/softmax_cross_entropy_with_logits_sg/Reshape_2_grad/Reshape',\n",
       " 'gradients/zeros_like',\n",
       " 'gradients/softmax_cross_entropy_with_logits_sg_grad/ExpandDims/dim',\n",
       " 'gradients/softmax_cross_entropy_with_logits_sg_grad/ExpandDims',\n",
       " 'gradients/softmax_cross_entropy_with_logits_sg_grad/mul',\n",
       " 'gradients/softmax_cross_entropy_with_logits_sg_grad/LogSoftmax',\n",
       " 'gradients/softmax_cross_entropy_with_logits_sg_grad/Neg',\n",
       " 'gradients/softmax_cross_entropy_with_logits_sg_grad/ExpandDims_1/dim',\n",
       " 'gradients/softmax_cross_entropy_with_logits_sg_grad/ExpandDims_1',\n",
       " 'gradients/softmax_cross_entropy_with_logits_sg_grad/mul_1',\n",
       " 'gradients/softmax_cross_entropy_with_logits_sg_grad/tuple/group_deps',\n",
       " 'gradients/softmax_cross_entropy_with_logits_sg_grad/tuple/control_dependency',\n",
       " 'gradients/softmax_cross_entropy_with_logits_sg_grad/tuple/control_dependency_1',\n",
       " 'gradients/softmax_cross_entropy_with_logits_sg/Reshape_grad/Shape',\n",
       " 'gradients/softmax_cross_entropy_with_logits_sg/Reshape_grad/Reshape',\n",
       " 'gradients/add_grad/Shape',\n",
       " 'gradients/add_grad/Shape_1',\n",
       " 'gradients/add_grad/BroadcastGradientArgs',\n",
       " 'gradients/add_grad/Sum',\n",
       " 'gradients/add_grad/Reshape',\n",
       " 'gradients/add_grad/Sum_1',\n",
       " 'gradients/add_grad/Reshape_1',\n",
       " 'gradients/add_grad/tuple/group_deps',\n",
       " 'gradients/add_grad/tuple/control_dependency',\n",
       " 'gradients/add_grad/tuple/control_dependency_1',\n",
       " 'gradients/MatMul_grad/MatMul',\n",
       " 'gradients/MatMul_grad/MatMul_1',\n",
       " 'gradients/MatMul_grad/tuple/group_deps',\n",
       " 'gradients/MatMul_grad/tuple/control_dependency',\n",
       " 'gradients/MatMul_grad/tuple/control_dependency_1',\n",
       " 'gradients/GatherV2_grad/Shape',\n",
       " 'gradients/GatherV2_grad/ToInt32',\n",
       " 'gradients/GatherV2_grad/Size',\n",
       " 'gradients/GatherV2_grad/ExpandDims/dim',\n",
       " 'gradients/GatherV2_grad/ExpandDims',\n",
       " 'gradients/GatherV2_grad/strided_slice/stack',\n",
       " 'gradients/GatherV2_grad/strided_slice/stack_1',\n",
       " 'gradients/GatherV2_grad/strided_slice/stack_2',\n",
       " 'gradients/GatherV2_grad/strided_slice',\n",
       " 'gradients/GatherV2_grad/concat/axis',\n",
       " 'gradients/GatherV2_grad/concat',\n",
       " 'gradients/GatherV2_grad/Reshape',\n",
       " 'gradients/GatherV2_grad/Reshape_1',\n",
       " 'gradients/transpose_grad/InvertPermutation',\n",
       " 'gradients/transpose_grad/transpose/strided_slice/stack',\n",
       " 'gradients/transpose_grad/transpose/strided_slice/stack_1',\n",
       " 'gradients/transpose_grad/transpose/strided_slice/stack_2',\n",
       " 'gradients/transpose_grad/transpose/strided_slice',\n",
       " 'gradients/transpose_grad/transpose/x',\n",
       " 'gradients/transpose_grad/transpose',\n",
       " 'gradients/rnn/transpose_1_grad/InvertPermutation',\n",
       " 'gradients/rnn/transpose_1_grad/transpose',\n",
       " 'gradients/rnn/TensorArrayStack/TensorArrayGatherV3_grad/TensorArrayGrad/TensorArrayGradV3',\n",
       " 'gradients/rnn/TensorArrayStack/TensorArrayGatherV3_grad/TensorArrayGrad/gradient_flow',\n",
       " 'gradients/rnn/TensorArrayStack/TensorArrayGatherV3_grad/TensorArrayScatter/TensorArrayScatterV3',\n",
       " 'gradients/zeros/shape_as_tensor',\n",
       " 'gradients/zeros/Const',\n",
       " 'gradients/zeros',\n",
       " 'gradients/zeros_1/shape_as_tensor',\n",
       " 'gradients/zeros_1/Const',\n",
       " 'gradients/zeros_1',\n",
       " 'gradients/rnn/while/Exit_2_grad/b_exit',\n",
       " 'gradients/rnn/while/Exit_3_grad/b_exit',\n",
       " 'gradients/rnn/while/Exit_4_grad/b_exit',\n",
       " 'gradients/rnn/while/Switch_2_grad/b_switch',\n",
       " 'gradients/rnn/while/Switch_3_grad/b_switch',\n",
       " 'gradients/rnn/while/Switch_4_grad/b_switch',\n",
       " 'gradients/rnn/while/Merge_2_grad/Switch',\n",
       " 'gradients/rnn/while/Merge_2_grad/tuple/group_deps',\n",
       " 'gradients/rnn/while/Merge_2_grad/tuple/control_dependency',\n",
       " 'gradients/rnn/while/Merge_2_grad/tuple/control_dependency_1',\n",
       " 'gradients/rnn/while/Merge_3_grad/Switch',\n",
       " 'gradients/rnn/while/Merge_3_grad/tuple/group_deps',\n",
       " 'gradients/rnn/while/Merge_3_grad/tuple/control_dependency',\n",
       " 'gradients/rnn/while/Merge_3_grad/tuple/control_dependency_1',\n",
       " 'gradients/rnn/while/Merge_4_grad/Switch',\n",
       " 'gradients/rnn/while/Merge_4_grad/tuple/group_deps',\n",
       " 'gradients/rnn/while/Merge_4_grad/tuple/control_dependency',\n",
       " 'gradients/rnn/while/Merge_4_grad/tuple/control_dependency_1',\n",
       " 'gradients/rnn/while/Enter_2_grad/Exit',\n",
       " 'gradients/rnn/while/Enter_3_grad/Exit',\n",
       " 'gradients/rnn/while/Enter_4_grad/Exit',\n",
       " 'gradients/rnn/while/TensorArrayWrite/TensorArrayWriteV3_grad/TensorArrayGrad/TensorArrayGradV3',\n",
       " 'gradients/rnn/while/TensorArrayWrite/TensorArrayWriteV3_grad/TensorArrayGrad/TensorArrayGradV3/Enter',\n",
       " 'gradients/rnn/while/TensorArrayWrite/TensorArrayWriteV3_grad/TensorArrayGrad/gradient_flow',\n",
       " 'gradients/rnn/while/TensorArrayWrite/TensorArrayWriteV3_grad/TensorArrayReadV3',\n",
       " 'gradients/rnn/while/TensorArrayWrite/TensorArrayWriteV3_grad/TensorArrayReadV3/Const',\n",
       " 'gradients/rnn/while/TensorArrayWrite/TensorArrayWriteV3_grad/TensorArrayReadV3/f_acc',\n",
       " 'gradients/rnn/while/TensorArrayWrite/TensorArrayWriteV3_grad/TensorArrayReadV3/Enter',\n",
       " 'gradients/rnn/while/TensorArrayWrite/TensorArrayWriteV3_grad/TensorArrayReadV3/StackPushV2',\n",
       " 'gradients/rnn/while/TensorArrayWrite/TensorArrayWriteV3_grad/TensorArrayReadV3/StackPopV2',\n",
       " 'gradients/rnn/while/TensorArrayWrite/TensorArrayWriteV3_grad/TensorArrayReadV3/StackPopV2/Enter',\n",
       " 'gradients/rnn/while/TensorArrayWrite/TensorArrayWriteV3_grad/TensorArrayReadV3/b_sync',\n",
       " 'gradients/rnn/while/TensorArrayWrite/TensorArrayWriteV3_grad/tuple/group_deps',\n",
       " 'gradients/rnn/while/TensorArrayWrite/TensorArrayWriteV3_grad/tuple/control_dependency',\n",
       " 'gradients/rnn/while/TensorArrayWrite/TensorArrayWriteV3_grad/tuple/control_dependency_1',\n",
       " 'gradients/rnn/while/dropout/mul_grad/Mul',\n",
       " 'gradients/rnn/while/dropout/mul_grad/Mul/Const',\n",
       " 'gradients/rnn/while/dropout/mul_grad/Mul/f_acc',\n",
       " 'gradients/rnn/while/dropout/mul_grad/Mul/Enter',\n",
       " 'gradients/rnn/while/dropout/mul_grad/Mul/StackPushV2',\n",
       " 'gradients/rnn/while/dropout/mul_grad/Mul/StackPopV2',\n",
       " 'gradients/rnn/while/dropout/mul_grad/Mul/StackPopV2/Enter',\n",
       " 'gradients/rnn/while/dropout/mul_grad/Mul_1',\n",
       " 'gradients/rnn/while/dropout/mul_grad/Mul_1/Const',\n",
       " 'gradients/rnn/while/dropout/mul_grad/Mul_1/f_acc',\n",
       " 'gradients/rnn/while/dropout/mul_grad/Mul_1/Enter',\n",
       " 'gradients/rnn/while/dropout/mul_grad/Mul_1/StackPushV2',\n",
       " 'gradients/rnn/while/dropout/mul_grad/Mul_1/StackPopV2',\n",
       " 'gradients/rnn/while/dropout/mul_grad/Mul_1/StackPopV2/Enter',\n",
       " 'gradients/rnn/while/dropout/mul_grad/tuple/group_deps',\n",
       " 'gradients/rnn/while/dropout/mul_grad/tuple/control_dependency',\n",
       " 'gradients/rnn/while/dropout/mul_grad/tuple/control_dependency_1',\n",
       " 'gradients/rnn/while/dropout/div_grad/Shape',\n",
       " 'gradients/rnn/while/dropout/div_grad/Shape_1',\n",
       " 'gradients/rnn/while/dropout/div_grad/BroadcastGradientArgs',\n",
       " 'gradients/rnn/while/dropout/div_grad/RealDiv',\n",
       " 'gradients/rnn/while/dropout/div_grad/RealDiv/Const',\n",
       " 'gradients/rnn/while/dropout/div_grad/Sum',\n",
       " 'gradients/rnn/while/dropout/div_grad/Reshape',\n",
       " 'gradients/rnn/while/dropout/div_grad/Neg',\n",
       " 'gradients/rnn/while/dropout/div_grad/Neg/Const',\n",
       " 'gradients/rnn/while/dropout/div_grad/Neg/f_acc',\n",
       " 'gradients/rnn/while/dropout/div_grad/Neg/Enter',\n",
       " 'gradients/rnn/while/dropout/div_grad/Neg/StackPushV2',\n",
       " 'gradients/rnn/while/dropout/div_grad/Neg/StackPopV2',\n",
       " 'gradients/rnn/while/dropout/div_grad/Neg/StackPopV2/Enter',\n",
       " 'gradients/rnn/while/dropout/div_grad/RealDiv_1',\n",
       " 'gradients/rnn/while/dropout/div_grad/RealDiv_2',\n",
       " 'gradients/rnn/while/dropout/div_grad/mul',\n",
       " 'gradients/rnn/while/dropout/div_grad/Sum_1',\n",
       " 'gradients/rnn/while/dropout/div_grad/Reshape_1',\n",
       " 'gradients/rnn/while/dropout/div_grad/tuple/group_deps',\n",
       " 'gradients/rnn/while/dropout/div_grad/tuple/control_dependency',\n",
       " 'gradients/rnn/while/dropout/div_grad/tuple/control_dependency_1',\n",
       " 'gradients/rnn/while/Switch_2_grad_1/NextIteration',\n",
       " 'gradients/AddN',\n",
       " 'gradients/rnn/while/basic_lstm_cell/Mul_2_grad/Mul',\n",
       " 'gradients/rnn/while/basic_lstm_cell/Mul_2_grad/Mul/Const',\n",
       " 'gradients/rnn/while/basic_lstm_cell/Mul_2_grad/Mul/f_acc',\n",
       " 'gradients/rnn/while/basic_lstm_cell/Mul_2_grad/Mul/Enter',\n",
       " 'gradients/rnn/while/basic_lstm_cell/Mul_2_grad/Mul/StackPushV2',\n",
       " 'gradients/rnn/while/basic_lstm_cell/Mul_2_grad/Mul/StackPopV2',\n",
       " 'gradients/rnn/while/basic_lstm_cell/Mul_2_grad/Mul/StackPopV2/Enter',\n",
       " 'gradients/rnn/while/basic_lstm_cell/Mul_2_grad/Mul_1',\n",
       " 'gradients/rnn/while/basic_lstm_cell/Mul_2_grad/Mul_1/Const',\n",
       " 'gradients/rnn/while/basic_lstm_cell/Mul_2_grad/Mul_1/f_acc',\n",
       " 'gradients/rnn/while/basic_lstm_cell/Mul_2_grad/Mul_1/Enter',\n",
       " 'gradients/rnn/while/basic_lstm_cell/Mul_2_grad/Mul_1/StackPushV2',\n",
       " 'gradients/rnn/while/basic_lstm_cell/Mul_2_grad/Mul_1/StackPopV2',\n",
       " 'gradients/rnn/while/basic_lstm_cell/Mul_2_grad/Mul_1/StackPopV2/Enter',\n",
       " 'gradients/rnn/while/basic_lstm_cell/Mul_2_grad/tuple/group_deps',\n",
       " 'gradients/rnn/while/basic_lstm_cell/Mul_2_grad/tuple/control_dependency',\n",
       " 'gradients/rnn/while/basic_lstm_cell/Mul_2_grad/tuple/control_dependency_1',\n",
       " 'gradients/rnn/while/basic_lstm_cell/Tanh_1_grad/TanhGrad',\n",
       " 'gradients/rnn/while/basic_lstm_cell/Sigmoid_2_grad/SigmoidGrad',\n",
       " 'gradients/AddN_1',\n",
       " 'gradients/rnn/while/basic_lstm_cell/Add_1_grad/tuple/group_deps',\n",
       " 'gradients/rnn/while/basic_lstm_cell/Add_1_grad/tuple/control_dependency',\n",
       " 'gradients/rnn/while/basic_lstm_cell/Add_1_grad/tuple/control_dependency_1',\n",
       " 'gradients/rnn/while/basic_lstm_cell/Mul_grad/Mul',\n",
       " 'gradients/rnn/while/basic_lstm_cell/Mul_grad/Mul/Const',\n",
       " 'gradients/rnn/while/basic_lstm_cell/Mul_grad/Mul/f_acc',\n",
       " 'gradients/rnn/while/basic_lstm_cell/Mul_grad/Mul/Enter',\n",
       " 'gradients/rnn/while/basic_lstm_cell/Mul_grad/Mul/StackPushV2',\n",
       " 'gradients/rnn/while/basic_lstm_cell/Mul_grad/Mul/StackPopV2',\n",
       " 'gradients/rnn/while/basic_lstm_cell/Mul_grad/Mul/StackPopV2/Enter',\n",
       " 'gradients/rnn/while/basic_lstm_cell/Mul_grad/Mul_1',\n",
       " 'gradients/rnn/while/basic_lstm_cell/Mul_grad/Mul_1/Const',\n",
       " 'gradients/rnn/while/basic_lstm_cell/Mul_grad/Mul_1/f_acc',\n",
       " 'gradients/rnn/while/basic_lstm_cell/Mul_grad/Mul_1/Enter',\n",
       " 'gradients/rnn/while/basic_lstm_cell/Mul_grad/Mul_1/StackPushV2',\n",
       " 'gradients/rnn/while/basic_lstm_cell/Mul_grad/Mul_1/StackPopV2',\n",
       " 'gradients/rnn/while/basic_lstm_cell/Mul_grad/Mul_1/StackPopV2/Enter',\n",
       " 'gradients/rnn/while/basic_lstm_cell/Mul_grad/tuple/group_deps',\n",
       " 'gradients/rnn/while/basic_lstm_cell/Mul_grad/tuple/control_dependency',\n",
       " 'gradients/rnn/while/basic_lstm_cell/Mul_grad/tuple/control_dependency_1',\n",
       " 'gradients/rnn/while/basic_lstm_cell/Mul_1_grad/Mul',\n",
       " 'gradients/rnn/while/basic_lstm_cell/Mul_1_grad/Mul/Const',\n",
       " 'gradients/rnn/while/basic_lstm_cell/Mul_1_grad/Mul/f_acc',\n",
       " 'gradients/rnn/while/basic_lstm_cell/Mul_1_grad/Mul/Enter',\n",
       " 'gradients/rnn/while/basic_lstm_cell/Mul_1_grad/Mul/StackPushV2',\n",
       " 'gradients/rnn/while/basic_lstm_cell/Mul_1_grad/Mul/StackPopV2',\n",
       " 'gradients/rnn/while/basic_lstm_cell/Mul_1_grad/Mul/StackPopV2/Enter',\n",
       " 'gradients/rnn/while/basic_lstm_cell/Mul_1_grad/Mul_1',\n",
       " 'gradients/rnn/while/basic_lstm_cell/Mul_1_grad/Mul_1/Const',\n",
       " 'gradients/rnn/while/basic_lstm_cell/Mul_1_grad/Mul_1/f_acc',\n",
       " 'gradients/rnn/while/basic_lstm_cell/Mul_1_grad/Mul_1/Enter',\n",
       " 'gradients/rnn/while/basic_lstm_cell/Mul_1_grad/Mul_1/StackPushV2',\n",
       " 'gradients/rnn/while/basic_lstm_cell/Mul_1_grad/Mul_1/StackPopV2',\n",
       " 'gradients/rnn/while/basic_lstm_cell/Mul_1_grad/Mul_1/StackPopV2/Enter',\n",
       " 'gradients/rnn/while/basic_lstm_cell/Mul_1_grad/tuple/group_deps',\n",
       " 'gradients/rnn/while/basic_lstm_cell/Mul_1_grad/tuple/control_dependency',\n",
       " 'gradients/rnn/while/basic_lstm_cell/Mul_1_grad/tuple/control_dependency_1',\n",
       " 'gradients/rnn/while/basic_lstm_cell/Sigmoid_grad/SigmoidGrad',\n",
       " 'gradients/rnn/while/basic_lstm_cell/Sigmoid_1_grad/SigmoidGrad',\n",
       " 'gradients/rnn/while/basic_lstm_cell/Tanh_grad/TanhGrad',\n",
       " 'gradients/rnn/while/Switch_3_grad_1/NextIteration',\n",
       " 'gradients/rnn/while/basic_lstm_cell/Add_grad/Shape',\n",
       " 'gradients/rnn/while/basic_lstm_cell/Add_grad/Shape_1',\n",
       " 'gradients/rnn/while/basic_lstm_cell/Add_grad/BroadcastGradientArgs',\n",
       " 'gradients/rnn/while/basic_lstm_cell/Add_grad/Sum',\n",
       " 'gradients/rnn/while/basic_lstm_cell/Add_grad/Reshape',\n",
       " 'gradients/rnn/while/basic_lstm_cell/Add_grad/Sum_1',\n",
       " 'gradients/rnn/while/basic_lstm_cell/Add_grad/Reshape_1',\n",
       " 'gradients/rnn/while/basic_lstm_cell/Add_grad/tuple/group_deps',\n",
       " 'gradients/rnn/while/basic_lstm_cell/Add_grad/tuple/control_dependency',\n",
       " 'gradients/rnn/while/basic_lstm_cell/Add_grad/tuple/control_dependency_1',\n",
       " 'gradients/rnn/while/basic_lstm_cell/split_grad/concat',\n",
       " 'gradients/rnn/while/basic_lstm_cell/split_grad/concat/Const',\n",
       " 'gradients/rnn/while/basic_lstm_cell/BiasAdd_grad/BiasAddGrad',\n",
       " 'gradients/rnn/while/basic_lstm_cell/BiasAdd_grad/tuple/group_deps',\n",
       " 'gradients/rnn/while/basic_lstm_cell/BiasAdd_grad/tuple/control_dependency',\n",
       " 'gradients/rnn/while/basic_lstm_cell/BiasAdd_grad/tuple/control_dependency_1',\n",
       " 'gradients/rnn/while/basic_lstm_cell/MatMul_grad/MatMul',\n",
       " 'gradients/rnn/while/basic_lstm_cell/MatMul_grad/MatMul/Enter',\n",
       " 'gradients/rnn/while/basic_lstm_cell/MatMul_grad/MatMul_1',\n",
       " 'gradients/rnn/while/basic_lstm_cell/MatMul_grad/MatMul_1/Const',\n",
       " 'gradients/rnn/while/basic_lstm_cell/MatMul_grad/MatMul_1/f_acc',\n",
       " 'gradients/rnn/while/basic_lstm_cell/MatMul_grad/MatMul_1/Enter',\n",
       " 'gradients/rnn/while/basic_lstm_cell/MatMul_grad/MatMul_1/StackPushV2',\n",
       " 'gradients/rnn/while/basic_lstm_cell/MatMul_grad/MatMul_1/StackPopV2',\n",
       " 'gradients/rnn/while/basic_lstm_cell/MatMul_grad/MatMul_1/StackPopV2/Enter',\n",
       " 'gradients/rnn/while/basic_lstm_cell/MatMul_grad/tuple/group_deps',\n",
       " 'gradients/rnn/while/basic_lstm_cell/MatMul_grad/tuple/control_dependency',\n",
       " 'gradients/rnn/while/basic_lstm_cell/MatMul_grad/tuple/control_dependency_1',\n",
       " 'gradients/rnn/while/basic_lstm_cell/BiasAdd/Enter_grad/b_acc',\n",
       " 'gradients/rnn/while/basic_lstm_cell/BiasAdd/Enter_grad/b_acc_1',\n",
       " 'gradients/rnn/while/basic_lstm_cell/BiasAdd/Enter_grad/b_acc_2',\n",
       " 'gradients/rnn/while/basic_lstm_cell/BiasAdd/Enter_grad/Switch',\n",
       " 'gradients/rnn/while/basic_lstm_cell/BiasAdd/Enter_grad/Add',\n",
       " 'gradients/rnn/while/basic_lstm_cell/BiasAdd/Enter_grad/NextIteration',\n",
       " 'gradients/rnn/while/basic_lstm_cell/BiasAdd/Enter_grad/b_acc_3',\n",
       " 'gradients/rnn/while/basic_lstm_cell/concat_grad/Const',\n",
       " 'gradients/rnn/while/basic_lstm_cell/concat_grad/Rank',\n",
       " 'gradients/rnn/while/basic_lstm_cell/concat_grad/mod',\n",
       " 'gradients/rnn/while/basic_lstm_cell/concat_grad/Shape',\n",
       " 'gradients/rnn/while/basic_lstm_cell/concat_grad/Shape_1',\n",
       " 'gradients/rnn/while/basic_lstm_cell/concat_grad/ConcatOffset',\n",
       " 'gradients/rnn/while/basic_lstm_cell/concat_grad/Slice',\n",
       " 'gradients/rnn/while/basic_lstm_cell/concat_grad/Slice_1',\n",
       " 'gradients/rnn/while/basic_lstm_cell/concat_grad/tuple/group_deps',\n",
       " 'gradients/rnn/while/basic_lstm_cell/concat_grad/tuple/control_dependency',\n",
       " 'gradients/rnn/while/basic_lstm_cell/concat_grad/tuple/control_dependency_1',\n",
       " 'gradients/rnn/while/basic_lstm_cell/MatMul/Enter_grad/b_acc',\n",
       " 'gradients/rnn/while/basic_lstm_cell/MatMul/Enter_grad/b_acc_1',\n",
       " 'gradients/rnn/while/basic_lstm_cell/MatMul/Enter_grad/b_acc_2',\n",
       " 'gradients/rnn/while/basic_lstm_cell/MatMul/Enter_grad/Switch',\n",
       " 'gradients/rnn/while/basic_lstm_cell/MatMul/Enter_grad/Add',\n",
       " 'gradients/rnn/while/basic_lstm_cell/MatMul/Enter_grad/NextIteration',\n",
       " 'gradients/rnn/while/basic_lstm_cell/MatMul/Enter_grad/b_acc_3',\n",
       " 'gradients/rnn/while/Switch_4_grad_1/NextIteration',\n",
       " 'beta1_power/initial_value',\n",
       " 'beta1_power',\n",
       " 'beta1_power/Assign',\n",
       " 'beta1_power/read',\n",
       " 'beta2_power/initial_value',\n",
       " 'beta2_power',\n",
       " 'beta2_power/Assign',\n",
       " 'beta2_power/read',\n",
       " 'rnn/basic_lstm_cell/kernel/Adam/Initializer/zeros/shape_as_tensor',\n",
       " 'rnn/basic_lstm_cell/kernel/Adam/Initializer/zeros/Const',\n",
       " 'rnn/basic_lstm_cell/kernel/Adam/Initializer/zeros',\n",
       " 'rnn/basic_lstm_cell/kernel/Adam',\n",
       " 'rnn/basic_lstm_cell/kernel/Adam/Assign',\n",
       " 'rnn/basic_lstm_cell/kernel/Adam/read',\n",
       " 'rnn/basic_lstm_cell/kernel/Adam_1/Initializer/zeros/shape_as_tensor',\n",
       " 'rnn/basic_lstm_cell/kernel/Adam_1/Initializer/zeros/Const',\n",
       " 'rnn/basic_lstm_cell/kernel/Adam_1/Initializer/zeros',\n",
       " 'rnn/basic_lstm_cell/kernel/Adam_1',\n",
       " 'rnn/basic_lstm_cell/kernel/Adam_1/Assign',\n",
       " 'rnn/basic_lstm_cell/kernel/Adam_1/read',\n",
       " 'rnn/basic_lstm_cell/bias/Adam/Initializer/zeros',\n",
       " 'rnn/basic_lstm_cell/bias/Adam',\n",
       " 'rnn/basic_lstm_cell/bias/Adam/Assign',\n",
       " 'rnn/basic_lstm_cell/bias/Adam/read',\n",
       " 'rnn/basic_lstm_cell/bias/Adam_1/Initializer/zeros',\n",
       " 'rnn/basic_lstm_cell/bias/Adam_1',\n",
       " 'rnn/basic_lstm_cell/bias/Adam_1/Assign',\n",
       " 'rnn/basic_lstm_cell/bias/Adam_1/read',\n",
       " 'Variable_1/Adam/Initializer/zeros',\n",
       " 'Variable_1/Adam',\n",
       " 'Variable_1/Adam/Assign',\n",
       " 'Variable_1/Adam/read',\n",
       " 'Variable_1/Adam_1/Initializer/zeros',\n",
       " 'Variable_1/Adam_1',\n",
       " 'Variable_1/Adam_1/Assign',\n",
       " 'Variable_1/Adam_1/read',\n",
       " 'Variable_2/Adam/Initializer/zeros',\n",
       " 'Variable_2/Adam',\n",
       " 'Variable_2/Adam/Assign',\n",
       " 'Variable_2/Adam/read',\n",
       " 'Variable_2/Adam_1/Initializer/zeros',\n",
       " 'Variable_2/Adam_1',\n",
       " 'Variable_2/Adam_1/Assign',\n",
       " 'Variable_2/Adam_1/read',\n",
       " 'Adam/learning_rate',\n",
       " 'Adam/beta1',\n",
       " 'Adam/beta2',\n",
       " 'Adam/epsilon',\n",
       " 'Adam/update_rnn/basic_lstm_cell/kernel/ApplyAdam',\n",
       " 'Adam/update_rnn/basic_lstm_cell/bias/ApplyAdam',\n",
       " 'Adam/update_Variable_1/ApplyAdam',\n",
       " 'Adam/update_Variable_2/ApplyAdam',\n",
       " 'Adam/mul',\n",
       " 'Adam/Assign',\n",
       " 'Adam/mul_1',\n",
       " 'Adam/Assign_1',\n",
       " 'Adam']"
      ]
     },
     "execution_count": 102,
     "metadata": {
      "tags": []
     },
     "output_type": "execute_result"
    }
   ],
   "source": [
    "#[op.name for op in tf.get_default_graph().as_graph_def().node]\n",
    "[op.name for op in tf.get_default_graph().get_operations()]"
   ]
  },
  {
   "cell_type": "code",
   "execution_count": 0,
   "metadata": {
    "colab": {},
    "colab_type": "code",
    "id": "tj-c9qPedmzw"
   },
   "outputs": [],
   "source": [
    "'''\n",
    "import datetime\n",
    "tf.summary.scalar('Loss', loss)\n",
    "tf.summary.scalar('Accuracy', accuracy)\n",
    "merged = tf.summary.merge_all()\n",
    "logdir = \"tensorboard/\" + datetime.datetime.now().strftime(\"%Y%m%d-%H%M%S\") + \"/\"\n",
    "writer = tf.summary.FileWriter(logdir, sess.graph)\n",
    "'''"
   ]
  },
  {
   "cell_type": "code",
   "execution_count": 0,
   "metadata": {
    "colab": {},
    "colab_type": "code",
    "id": "SnEpHJWejTsV"
   },
   "outputs": [],
   "source": [
    "def next_batch(num, data, labels):\n",
    "  idx = np.arange(0 , len(data))\n",
    "  np.random.shuffle(idx)\n",
    "  idx = idx[:num]\n",
    "  data_shuffle = [data[ii] for ii in idx]\n",
    "  labels_shuffle = [labels[ii] for ii in idx]\n",
    "  return np.asarray(data_shuffle), np.asarray(labels_shuffle)"
   ]
  },
  {
   "cell_type": "code",
   "execution_count": 113,
   "metadata": {
    "colab": {
     "base_uri": "https://localhost:8080/",
     "height": 1033
    },
    "colab_type": "code",
    "executionInfo": {
     "elapsed": 74359,
     "status": "ok",
     "timestamp": 1534900466761,
     "user": {
      "displayName": "Zachary Mccoy",
      "photoUrl": "//lh5.googleusercontent.com/-JivcaiuJcFw/AAAAAAAAAAI/AAAAAAAAAEU/3bgRqYCdzJw/s50-c-k-no/photo.jpg",
      "userId": "112421332417664355395"
     },
     "user_tz": 240
    },
    "id": "3KEDhchOcbiw",
    "outputId": "405cac2a-3e45-4931-f45d-b5d6110e54da"
   },
   "outputs": [
    {
     "name": "stderr",
     "output_type": "stream",
     "text": [
      "/usr/local/lib/python3.6/dist-packages/tensorflow/python/client/session.py:1645: UserWarning: An interactive session is already active. This can cause out-of-memory errors in some cases. You must explicitly call `InteractiveSession.close()` to release resources held by the other session(s).\n",
      "  warnings.warn('An interactive session is already active. This can '\n"
     ]
    },
    {
     "name": "stdout",
     "output_type": "stream",
     "text": [
      "step 0, training loss, 1.5804141759872437, training accuracy 0.40625\n",
      "step 32, training loss, 1.0058354139328003, training accuracy 0.5\n",
      "step 64, training loss, 1.0640628337860107, training accuracy 0.5\n",
      "step 96, training loss, 1.064509391784668, training accuracy 0.4375\n",
      "step 128, training loss, 1.154113531112671, training accuracy 0.4375\n",
      "step 160, training loss, 0.7760217189788818, training accuracy 0.59375\n",
      "step 192, training loss, 0.7441965341567993, training accuracy 0.5625\n",
      "step 214, training accuracy 0.5625, validation accuracy 0.5625\n",
      "validation accuracy HAS improved! saving checkpoint to ./pretrained_lstm.ckpt-214\n",
      "step 224, training loss, 1.0328634977340698, training accuracy 0.4375\n",
      "step 256, training loss, 0.8053716421127319, training accuracy 0.71875\n",
      "step 288, training loss, 0.6864995956420898, training accuracy 0.625\n",
      "step 320, training loss, 0.7960261106491089, training accuracy 0.5\n",
      "step 352, training loss, 0.7286034822463989, training accuracy 0.625\n",
      "step 384, training loss, 1.0105489492416382, training accuracy 0.46875\n",
      "step 416, training loss, 1.240321397781372, training accuracy 0.375\n",
      "step 428, training accuracy 0.375, validation accuracy 0.53125\n",
      "validation accuracy has NOT improved.\n",
      "step 448, training loss, 0.7822920083999634, training accuracy 0.6875\n",
      "step 480, training loss, 0.9975093603134155, training accuracy 0.5625\n",
      "step 512, training loss, 0.7869608998298645, training accuracy 0.6875\n",
      "step 544, training loss, 0.7147284150123596, training accuracy 0.6875\n",
      "step 576, training loss, 0.8664771318435669, training accuracy 0.625\n",
      "step 608, training loss, 0.96016526222229, training accuracy 0.5625\n",
      "step 640, training loss, 0.5897225141525269, training accuracy 0.8125\n",
      "step 642, training accuracy 0.8125, validation accuracy 0.59375\n",
      "validation accuracy HAS improved! saving checkpoint to ./pretrained_lstm.ckpt-642\n",
      "step 672, training loss, 0.6461228132247925, training accuracy 0.6875\n",
      "step 704, training loss, 0.6551414132118225, training accuracy 0.6875\n",
      "step 736, training loss, 0.6177334785461426, training accuracy 0.71875\n",
      "step 768, training loss, 0.7131940722465515, training accuracy 0.71875\n",
      "step 800, training loss, 0.743073046207428, training accuracy 0.65625\n",
      "step 832, training loss, 0.7244201302528381, training accuracy 0.78125\n",
      "step 856, training accuracy 0.78125, validation accuracy 0.4375\n",
      "validation accuracy has NOT improved.\n",
      "step 864, training loss, 0.5155752301216125, training accuracy 0.6875\n",
      "step 896, training loss, 0.9067950248718262, training accuracy 0.59375\n",
      "step 928, training loss, 0.8882700800895691, training accuracy 0.625\n",
      "step 960, training loss, 0.7310667037963867, training accuracy 0.65625\n",
      "step 992, training loss, 0.7510552406311035, training accuracy 0.6875\n",
      "step 1024, training loss, 0.6747585535049438, training accuracy 0.65625\n",
      "step 1056, training loss, 0.8767389059066772, training accuracy 0.53125\n",
      "step 1070, training accuracy 0.53125, validation accuracy 0.4375\n",
      "validation accuracy has NOT improved.\n",
      "step 1088, training loss, 0.5387324690818787, training accuracy 0.75\n",
      "step 1120, training loss, 0.6179104447364807, training accuracy 0.6875\n",
      "step 1152, training loss, 0.8045607805252075, training accuracy 0.75\n",
      "step 1184, training loss, 0.6080729961395264, training accuracy 0.75\n",
      "step 1216, training loss, 0.6506639122962952, training accuracy 0.78125\n",
      "step 1248, training loss, 0.6575307846069336, training accuracy 0.6875\n",
      "step 1280, training loss, 0.623525083065033, training accuracy 0.59375\n",
      "step 1284, training accuracy 0.59375, validation accuracy 0.5625\n",
      "validation accuracy has NOT improved.\n",
      "early stopping because validation accuracy has not improved in 3 epochs\n"
     ]
    }
   ],
   "source": [
    "sess = tf.InteractiveSession()\n",
    "saver = tf.train.Saver()\n",
    "sess.run(tf.global_variables_initializer())\n",
    "\n",
    "EPOCH = int(X_train.shape[0]/BATCH_SIZE)\n",
    "# num of epochs that validation has not improved\n",
    "wait = 0\n",
    "# num of epochs to wait for validation accuracy to improve\n",
    "patience = 3 \n",
    "# initialization\n",
    "max_valid_accuracy = 0.0\n",
    "valid_accuracy = 0.0\n",
    "\n",
    "iterations = 10\n",
    "for ii in range(EPOCH*iterations):\n",
    "  batch_X_train, batch_y_train = next_batch(BATCH_SIZE,X_train,y_train) \n",
    "  batch_X_valid, batch_y_valid = next_batch(BATCH_SIZE,X_valid,y_valid) \n",
    "  _, train_loss = sess.run([optimizer, loss], {input_data: batch_X_train, labels: batch_y_train})\n",
    "\n",
    "  if (ii % BATCH_SIZE == 0 or ii == 0):\n",
    "    train_accuracy = accuracy.eval(feed_dict={input_data: batch_X_train, labels: batch_y_train})\n",
    "    if (ii % EPOCH != 0 or ii ==0):\n",
    "      print('step {0}, training loss, {1}, training accuracy {2}'.format(ii, train_loss, train_accuracy)) #, end=\"\")\n",
    "  \n",
    "  if (ii % EPOCH == 0 and ii != 0):\n",
    "    valid_accuracy = accuracy.eval(feed_dict={input_data: batch_X_valid, labels: batch_y_valid})\n",
    "    print('step {0}, training accuracy {1}, validation accuracy {2}'.format(ii, train_accuracy, valid_accuracy)) #, end=\"\")\n",
    "    if max_valid_accuracy < valid_accuracy:\n",
    "      max_valid_accuracy = valid_accuracy\n",
    "      wait = 0\n",
    "      save_path = saver.save(sess, \"./pretrained_lstm.ckpt\", global_step=ii)\n",
    "      print(\"validation accuracy HAS improved! saving checkpoint to %s\" % save_path)\n",
    "    else:\n",
    "      print(\"validation accuracy has NOT improved.\")\n",
    "      wait = wait + 1\n",
    "      if wait >= patience:\n",
    "        print(\"early stopping because validation accuracy has not improved in {0} epochs\".format(patience))\n",
    "        break"
   ]
  },
  {
   "cell_type": "code",
   "execution_count": 0,
   "metadata": {
    "colab": {},
    "colab_type": "code",
    "id": "LvhkVkrwHds9"
   },
   "outputs": [],
   "source": [
    "checkpoint_filepath = \"./pretrained_lstm.ckpt-214\""
   ]
  },
  {
   "cell_type": "code",
   "execution_count": 109,
   "metadata": {
    "colab": {
     "base_uri": "https://localhost:8080/",
     "height": 8393
    },
    "colab_type": "code",
    "executionInfo": {
     "elapsed": 427,
     "status": "ok",
     "timestamp": 1534900158907,
     "user": {
      "displayName": "Zachary Mccoy",
      "photoUrl": "//lh5.googleusercontent.com/-JivcaiuJcFw/AAAAAAAAAAI/AAAAAAAAAEU/3bgRqYCdzJw/s50-c-k-no/photo.jpg",
      "userId": "112421332417664355395"
     },
     "user_tz": 240
    },
    "id": "dbAa6OI6Hboo",
    "outputId": "71dd5cf5-e5a8-4dbe-8f87-23d97ff0a0fd"
   },
   "outputs": [
    {
     "name": "stdout",
     "output_type": "stream",
     "text": [
      "tensor_name:  Variable\n",
      "[[[0. 0. 0. ... 0. 0. 0.]\n",
      "  [0. 0. 0. ... 0. 0. 0.]\n",
      "  [0. 0. 0. ... 0. 0. 0.]\n",
      "  ...\n",
      "  [0. 0. 0. ... 0. 0. 0.]\n",
      "  [0. 0. 0. ... 0. 0. 0.]\n",
      "  [0. 0. 0. ... 0. 0. 0.]]\n",
      "\n",
      " [[0. 0. 0. ... 0. 0. 0.]\n",
      "  [0. 0. 0. ... 0. 0. 0.]\n",
      "  [0. 0. 0. ... 0. 0. 0.]\n",
      "  ...\n",
      "  [0. 0. 0. ... 0. 0. 0.]\n",
      "  [0. 0. 0. ... 0. 0. 0.]\n",
      "  [0. 0. 0. ... 0. 0. 0.]]\n",
      "\n",
      " [[0. 0. 0. ... 0. 0. 0.]\n",
      "  [0. 0. 0. ... 0. 0. 0.]\n",
      "  [0. 0. 0. ... 0. 0. 0.]\n",
      "  ...\n",
      "  [0. 0. 0. ... 0. 0. 0.]\n",
      "  [0. 0. 0. ... 0. 0. 0.]\n",
      "  [0. 0. 0. ... 0. 0. 0.]]\n",
      "\n",
      " ...\n",
      "\n",
      " [[0. 0. 0. ... 0. 0. 0.]\n",
      "  [0. 0. 0. ... 0. 0. 0.]\n",
      "  [0. 0. 0. ... 0. 0. 0.]\n",
      "  ...\n",
      "  [0. 0. 0. ... 0. 0. 0.]\n",
      "  [0. 0. 0. ... 0. 0. 0.]\n",
      "  [0. 0. 0. ... 0. 0. 0.]]\n",
      "\n",
      " [[0. 0. 0. ... 0. 0. 0.]\n",
      "  [0. 0. 0. ... 0. 0. 0.]\n",
      "  [0. 0. 0. ... 0. 0. 0.]\n",
      "  ...\n",
      "  [0. 0. 0. ... 0. 0. 0.]\n",
      "  [0. 0. 0. ... 0. 0. 0.]\n",
      "  [0. 0. 0. ... 0. 0. 0.]]\n",
      "\n",
      " [[0. 0. 0. ... 0. 0. 0.]\n",
      "  [0. 0. 0. ... 0. 0. 0.]\n",
      "  [0. 0. 0. ... 0. 0. 0.]\n",
      "  ...\n",
      "  [0. 0. 0. ... 0. 0. 0.]\n",
      "  [0. 0. 0. ... 0. 0. 0.]\n",
      "  [0. 0. 0. ... 0. 0. 0.]]]\n",
      "tensor_name:  Variable_1\n",
      "[[-1.16183782e+00 -7.19821304e-02  9.48978603e-01]\n",
      " [-1.09816206e+00 -1.51995349e+00 -7.59210885e-02]\n",
      " [-1.20922554e+00  1.32254767e+00  6.55810833e-01]\n",
      " [ 4.70864385e-01  6.75889134e-01 -1.46003294e+00]\n",
      " [ 5.76517452e-03  5.59167862e-01  1.96204388e+00]\n",
      " [ 1.86014378e+00  7.12489784e-01  3.50640029e-01]\n",
      " [-4.51124042e-01 -9.75659192e-01 -8.94396424e-01]\n",
      " [-7.95111537e-01  1.70537972e+00 -9.15801644e-01]\n",
      " [ 1.61671412e+00  9.84684229e-01  5.28483331e-01]\n",
      " [ 5.83460748e-01 -4.66409683e-01 -2.42336653e-02]\n",
      " [-1.45698869e+00 -5.01441538e-01  3.82618494e-02]\n",
      " [-5.62059820e-01 -2.33334973e-01 -1.61535227e+00]\n",
      " [-8.62424895e-02  1.49305735e-03 -8.01617444e-01]\n",
      " [ 1.30495280e-01  6.97235227e-01  4.53238219e-01]\n",
      " [-1.04026198e+00  1.38023615e+00 -5.43218851e-01]\n",
      " [ 9.78302777e-01 -8.68331432e-01  1.22515929e+00]\n",
      " [-5.76033533e-01 -5.65789104e-01 -2.69320965e-01]\n",
      " [ 1.00683302e-01 -7.84671664e-01 -9.48171616e-01]\n",
      " [-9.28519845e-01  1.59878528e+00  6.09074652e-01]\n",
      " [-1.50867772e+00 -3.89983773e-01 -9.13811088e-01]\n",
      " [-8.92988801e-01 -5.54357409e-01 -8.13924894e-02]\n",
      " [ 1.40035713e+00 -5.17614245e-01 -6.56318784e-01]\n",
      " [ 3.54412161e-02  4.26517241e-02 -1.91048706e+00]\n",
      " [-1.08818376e+00 -1.53237164e+00  6.13945127e-01]\n",
      " [ 1.98134676e-01 -2.88750798e-01 -1.28052342e+00]\n",
      " [-1.05629051e+00  1.30286634e+00  5.27639031e-01]\n",
      " [-1.20805478e+00 -9.61426914e-01 -1.43451369e+00]\n",
      " [ 1.22141230e+00 -2.69558311e-01 -6.23194754e-01]\n",
      " [-4.41290289e-01 -7.56530643e-01  1.31715000e+00]\n",
      " [-6.06572568e-01  1.19241834e+00  1.93140842e-02]\n",
      " [-3.30856830e-01  6.40412450e-01 -7.66327202e-01]\n",
      " [-1.24062493e-01  2.97892869e-01 -1.00943536e-01]\n",
      " [-1.13090003e+00 -9.45660949e-01 -8.27202260e-01]\n",
      " [-9.22516286e-01 -4.49103653e-01 -1.68811709e-01]\n",
      " [-1.67793050e-01  9.66715634e-01  1.14227021e+00]\n",
      " [-2.17097461e-01 -6.34348869e-01  1.26833031e-02]\n",
      " [-9.12835076e-02  1.94982064e+00 -1.90546143e+00]\n",
      " [-1.53504968e+00  1.80513585e+00  6.46805167e-01]\n",
      " [ 4.92219865e-01  1.05693305e+00 -6.75067067e-01]\n",
      " [ 6.02140546e-01  6.95644557e-01 -8.40759695e-01]\n",
      " [-3.98441553e-01  9.76986408e-01 -1.55709636e+00]\n",
      " [-1.27394116e+00  4.57884938e-01  1.79778981e+00]\n",
      " [-6.28859103e-01 -1.18201780e+00  4.19662476e-01]\n",
      " [-8.74633729e-01 -2.62513459e-01  1.18840110e+00]\n",
      " [ 3.66995543e-01  1.28332663e+00 -1.07358217e+00]\n",
      " [-7.69760832e-02  4.92190123e-01  6.56478226e-01]\n",
      " [ 1.95330977e-01 -5.06729066e-01  9.91192535e-02]\n",
      " [-2.36813918e-01  6.84778512e-01 -1.65713871e+00]\n",
      " [-2.53804982e-01 -1.60838053e-01 -3.51121843e-01]\n",
      " [ 1.40691483e+00  4.76543486e-01  1.53628147e+00]\n",
      " [-6.43112242e-01  4.56434995e-01  3.46950740e-01]\n",
      " [ 7.02119693e-02  1.37893069e+00 -9.02368665e-01]\n",
      " [ 7.18944296e-02 -3.24789107e-01 -5.54959953e-01]\n",
      " [-2.02548459e-01 -6.23378038e-01 -8.82180482e-02]\n",
      " [-1.73334026e+00 -1.90627623e+00 -1.58801258e-01]\n",
      " [ 6.55994713e-01  2.84931093e-01 -3.23715150e-01]\n",
      " [-7.65070260e-01  1.03638220e+00  4.27320272e-01]\n",
      " [ 2.78877020e-01  4.28032339e-01  7.99084753e-02]\n",
      " [ 9.48800564e-01 -6.78820252e-01  9.39732671e-01]\n",
      " [-2.30386510e-01 -1.18830383e+00 -5.82180500e-01]\n",
      " [ 1.45034373e+00 -8.69416773e-01 -1.09949291e+00]\n",
      " [-7.08956897e-01 -3.59774619e-01  1.43894255e+00]\n",
      " [-2.16240138e-01  8.64059150e-01 -1.57675362e+00]\n",
      " [ 7.47431934e-01  3.59254450e-01  6.67909622e-01]]\n",
      "tensor_name:  Variable_1/Adam\n",
      "[[ 8.2382372e-05 -1.4027385e-03  1.3203562e-03]\n",
      " [ 9.4720075e-04 -2.0799736e-05 -9.2640112e-04]\n",
      " [ 1.2547787e-03 -3.3568178e-04 -9.1909687e-04]\n",
      " [ 2.7716244e-04  1.2491391e-03 -1.5263017e-03]\n",
      " [-1.0638355e-03 -2.4251372e-03  3.4889726e-03]\n",
      " [ 1.1664655e-03  7.3511968e-04 -1.9015851e-03]\n",
      " [ 7.4118015e-04  1.8439749e-04 -9.2557818e-04]\n",
      " [-1.9848510e-03  3.3099218e-03 -1.3250710e-03]\n",
      " [-3.4931451e-03  3.2941757e-03  1.9896906e-04]\n",
      " [ 1.3092327e-03 -2.5218977e-03  1.2126658e-03]\n",
      " [ 1.0429578e-04  1.6940433e-03 -1.7983392e-03]\n",
      " [ 2.4851121e-04 -2.1778785e-04 -3.0722593e-05]\n",
      " [ 4.9395708e-04 -1.1167577e-03  6.2280108e-04]\n",
      " [-7.5102490e-03  9.2002796e-03 -1.6900302e-03]\n",
      " [-2.2037518e-03  6.4169616e-04  1.5620553e-03]\n",
      " [ 2.6064976e-03 -1.2330823e-03 -1.3734152e-03]\n",
      " [ 3.3546565e-04 -3.7066899e-03  3.3712240e-03]\n",
      " [ 1.4049718e-03  2.1720910e-04 -1.6221799e-03]\n",
      " [-1.0392348e-03  1.3061835e-03 -2.6694938e-04]\n",
      " [-2.8786629e-03  2.2475775e-03  6.3108484e-04]\n",
      " [-1.3871942e-04 -8.2607969e-04  9.6479926e-04]\n",
      " [ 9.1458502e-04  2.2173123e-03 -3.1318974e-03]\n",
      " [ 1.0517517e-03  2.5948562e-04 -1.3112370e-03]\n",
      " [-3.7300173e-04 -1.2249858e-03  1.5979875e-03]\n",
      " [-7.0508634e-04 -6.4934138e-04  1.3544279e-03]\n",
      " [-3.5533451e-03  6.9093757e-04  2.8624071e-03]\n",
      " [ 5.9817936e-03 -3.3953129e-03 -2.5864809e-03]\n",
      " [ 9.6534303e-04 -3.7809956e-04 -5.8724312e-04]\n",
      " [-2.3614601e-03 -2.8352556e-04  2.6449864e-03]\n",
      " [ 6.4514123e-04 -1.2916243e-03  6.4648280e-04]\n",
      " [-2.5590786e-04  1.3007065e-03 -1.0447984e-03]\n",
      " [-6.8927469e-04  2.1771590e-04  4.7155857e-04]\n",
      " [ 4.1722683e-03 -3.7227783e-03 -4.4948951e-04]\n",
      " [ 1.2790937e-03  7.1042095e-04 -1.9895148e-03]\n",
      " [-4.9809669e-04 -1.8205997e-03  2.3186959e-03]\n",
      " [ 6.0136910e-03 -3.6140638e-03 -2.3996287e-03]\n",
      " [-2.9405075e-04  1.5202302e-03 -1.2261799e-03]\n",
      " [-1.2034343e-03  2.3131785e-03 -1.1097445e-03]\n",
      " [-2.7679154e-03  5.6635542e-03 -2.8956388e-03]\n",
      " [ 1.7924714e-03 -3.2935550e-03  1.5010836e-03]\n",
      " [-6.5470685e-04  2.2654994e-03 -1.6107927e-03]\n",
      " [-7.7021797e-04 -3.1345359e-03  3.9047541e-03]\n",
      " [-5.3920969e-04 -4.7074016e-03  5.2466118e-03]\n",
      " [ 9.1238489e-04 -2.4909158e-03  1.5785310e-03]\n",
      " [ 5.5957376e-04 -2.2476523e-03  1.6880789e-03]\n",
      " [-7.2806794e-03  3.9609978e-03  3.3196819e-03]\n",
      " [-1.6850812e-03  1.5749668e-03  1.1011455e-04]\n",
      " [-3.9415173e-03  5.1593892e-03 -1.2178716e-03]\n",
      " [-7.3141246e-03  3.5975964e-03  3.7165263e-03]\n",
      " [ 6.3411333e-03 -6.8015028e-03  4.6036975e-04]\n",
      " [-4.6471439e-04 -1.7566482e-03  2.2213627e-03]\n",
      " [-1.9006855e-03 -6.9390802e-04  2.5945937e-03]\n",
      " [ 1.2627470e-02 -1.5298452e-03 -1.1097626e-02]\n",
      " [ 2.8041138e-03 -2.4099788e-03 -3.9413545e-04]\n",
      " [-2.4905826e-03  2.5513549e-03 -6.0771948e-05]\n",
      " [-4.3051507e-05 -1.1447774e-03  1.1878290e-03]\n",
      " [-6.6362199e-04 -1.1136871e-03  1.7773090e-03]\n",
      " [-6.4812433e-03  6.8504922e-03 -3.6924769e-04]\n",
      " [-3.1340306e-03 -8.8586740e-04  4.0198974e-03]\n",
      " [ 3.7350594e-05 -7.3346449e-04  6.9611426e-04]\n",
      " [ 2.4793085e-03  4.4034267e-04 -2.9196516e-03]\n",
      " [-2.2633900e-03 -1.7721100e-03  4.0354994e-03]\n",
      " [ 2.8959743e-04 -7.7884638e-04  4.8924953e-04]\n",
      " [-2.7666623e-03  3.6147023e-03 -8.4804028e-04]]\n",
      "tensor_name:  Variable_1/Adam_1\n",
      "[[9.33402225e-06 8.22688253e-06 8.21262165e-06]\n",
      " [1.58278872e-05 1.17826185e-05 1.35823020e-05]\n",
      " [1.87282494e-05 1.91205690e-05 1.99741444e-05]\n",
      " [6.03970620e-05 4.64453296e-05 7.34221976e-05]\n",
      " [2.90026364e-05 2.46290183e-05 2.26863158e-05]\n",
      " [1.04309747e-05 9.25526001e-06 8.13758015e-06]\n",
      " [1.66729878e-05 1.50549167e-05 1.53559249e-05]\n",
      " [2.02859374e-05 1.98879461e-05 2.01314760e-05]\n",
      " [4.60600422e-05 3.55678094e-05 4.46367994e-05]\n",
      " [1.64024568e-05 1.13608294e-05 1.25252845e-05]\n",
      " [7.65755431e-06 7.07682238e-06 6.96815005e-06]\n",
      " [4.72915272e-05 3.73689290e-05 5.39271532e-05]\n",
      " [2.60131092e-05 1.67388826e-05 2.38816228e-05]\n",
      " [8.71757657e-05 1.07909422e-04 9.74455688e-05]\n",
      " [1.23980681e-05 1.07264941e-05 9.99340682e-06]\n",
      " [1.16106457e-05 9.24299457e-06 1.05226272e-05]\n",
      " [1.33173244e-05 1.38581690e-05 1.11039208e-05]\n",
      " [8.47749616e-05 7.55181536e-05 8.76322520e-05]\n",
      " [3.89043125e-05 3.68381734e-05 3.77008037e-05]\n",
      " [6.92288304e-05 5.84731788e-05 7.05428756e-05]\n",
      " [3.08971394e-05 2.32158909e-05 2.41952657e-05]\n",
      " [4.11429610e-05 2.92500590e-05 2.77297313e-05]\n",
      " [2.30223450e-05 1.59806386e-05 2.51137099e-05]\n",
      " [2.95129357e-05 2.33718583e-05 1.88831236e-05]\n",
      " [2.86402646e-05 2.63861002e-05 2.81668345e-05]\n",
      " [2.03928157e-05 1.30580493e-05 1.94207496e-05]\n",
      " [7.82829593e-05 5.17027802e-05 8.05028176e-05]\n",
      " [1.52898410e-05 1.33140775e-05 1.61595108e-05]\n",
      " [2.71397403e-05 3.00880620e-05 1.77038874e-05]\n",
      " [3.69729896e-05 3.08075432e-05 3.35039003e-05]\n",
      " [1.64641751e-05 1.68604911e-05 1.02386639e-05]\n",
      " [2.08208658e-04 1.85720855e-04 2.64385890e-04]\n",
      " [1.76214016e-05 1.53995788e-05 1.18830621e-05]\n",
      " [1.11443209e-04 1.14706905e-04 1.02527752e-04]\n",
      " [2.93540252e-05 2.35647385e-05 2.39215497e-05]\n",
      " [1.12695838e-04 8.08086115e-05 1.43309808e-04]\n",
      " [1.49334182e-05 1.35719911e-05 1.28036791e-05]\n",
      " [2.16141343e-05 2.11191400e-05 1.96986020e-05]\n",
      " [2.64682767e-05 1.81743617e-05 1.79810886e-05]\n",
      " [1.21839530e-05 1.05872987e-05 1.31017050e-05]\n",
      " [1.59093888e-05 1.40676284e-05 1.23074451e-05]\n",
      " [2.17569104e-05 1.41802739e-05 2.10179078e-05]\n",
      " [3.71744754e-05 2.83839927e-05 3.66785061e-05]\n",
      " [2.35860098e-05 1.71605298e-05 1.76274843e-05]\n",
      " [1.16879146e-05 8.59609827e-06 1.38692139e-05]\n",
      " [4.07509651e-05 3.44154869e-05 2.27479741e-05]\n",
      " [1.98978832e-05 1.80323532e-05 2.28198205e-05]\n",
      " [4.80492854e-05 4.97540968e-05 4.19328644e-05]\n",
      " [1.15965107e-04 5.68349315e-05 1.14194852e-04]\n",
      " [6.02631626e-05 4.55073314e-05 7.56208610e-05]\n",
      " [3.05603353e-05 2.61052846e-05 2.12373343e-05]\n",
      " [1.70105523e-05 1.61035114e-05 1.90334431e-05]\n",
      " [1.99008966e-04 2.07911653e-04 2.16014480e-04]\n",
      " [8.47345837e-06 7.41977055e-06 6.64321442e-06]\n",
      " [2.10763446e-05 1.44899295e-05 1.76326976e-05]\n",
      " [1.56378537e-05 1.39430149e-05 1.07439919e-05]\n",
      " [2.94670681e-05 2.84182552e-05 2.17609686e-05]\n",
      " [1.06920328e-04 1.24899510e-04 9.53729250e-05]\n",
      " [3.20637591e-05 2.30303522e-05 2.50128287e-05]\n",
      " [2.70956662e-05 2.27793662e-05 3.12267948e-05]\n",
      " [3.01144573e-05 2.21013397e-05 2.96021626e-05]\n",
      " [2.25312815e-05 1.82762124e-05 2.08183319e-05]\n",
      " [3.56183773e-05 2.34440467e-05 2.46548789e-05]\n",
      " [2.97514271e-05 2.38690027e-05 2.66887873e-05]]\n",
      "tensor_name:  Variable_2\n",
      "[0.11336155 0.09539631 0.08958588]\n",
      "tensor_name:  Variable_2/Adam\n",
      "[-0.01162226  0.01863742 -0.00701515]\n",
      "tensor_name:  Variable_2/Adam_1\n",
      "[0.00187432 0.00174043 0.00202443]\n",
      "tensor_name:  beta1_power\n",
      "1.3073125e-10\n",
      "tensor_name:  beta2_power\n",
      "0.80565035\n",
      "tensor_name:  rnn/basic_lstm_cell/bias\n",
      "[-0.02833102 -0.0210787  -0.02327886 -0.03312916 -0.0200077  -0.0219142\n",
      " -0.012088   -0.02192968 -0.00535937  0.01244567 -0.02732079 -0.01687725\n",
      " -0.00829741 -0.00834059 -0.04552576 -0.01844253 -0.00330969 -0.01353174\n",
      " -0.03625339 -0.01959963 -0.0078857  -0.02209739 -0.02653467 -0.0270173\n",
      " -0.02596573 -0.02859405 -0.00473354 -0.02360333 -0.02036593 -0.01135838\n",
      " -0.02571894  0.00930816 -0.00585148  0.01116355 -0.03229229  0.01469862\n",
      " -0.03284238 -0.04808744 -0.01992137 -0.03045531 -0.03923844 -0.0359368\n",
      " -0.00943457 -0.00150745 -0.01926656 -0.00145988 -0.00966089 -0.03251184\n",
      "  0.04267164 -0.00458485 -0.00774449 -0.00543817 -0.00495412 -0.02924018\n",
      " -0.01631868 -0.05193327 -0.00877477 -0.00061377 -0.04636441 -0.0176117\n",
      " -0.03077969 -0.0337829  -0.04173816 -0.01956432 -0.01940998  0.00088783\n",
      " -0.02104419  0.03098966 -0.00061616 -0.00015153 -0.02179592 -0.02609786\n",
      "  0.0058055   0.01061157 -0.01141355  0.00562483  0.00816779  0.00379973\n",
      " -0.00119735  0.0063796   0.01157413 -0.0138274  -0.02214031 -0.00298816\n",
      " -0.00437771  0.0014148   0.01177568  0.00557059  0.01229614 -0.0074599\n",
      "  0.00351416  0.00543064  0.00308746  0.00192404 -0.00091098  0.00909677\n",
      " -0.01950328  0.00315962 -0.03083669 -0.00917     0.00827404 -0.03064719\n",
      " -0.0004399   0.01201153 -0.01316896 -0.02054567 -0.00652901 -0.01631496\n",
      " -0.0016266   0.00741654  0.00453178 -0.01891022 -0.00081664 -0.00966728\n",
      " -0.00777488  0.003916   -0.02173469 -0.00200697 -0.00827934  0.00749173\n",
      "  0.01309391 -0.00532019  0.01932555 -0.00242766  0.01527826 -0.00956845\n",
      "  0.01985071  0.00777953 -0.02800973 -0.02179954 -0.02496741 -0.02742481\n",
      " -0.01468776  0.0280517   0.02025302 -0.01198598 -0.0087719   0.02925662\n",
      " -0.02021947  0.00035725  0.00866456  0.00479821 -0.02785225 -0.01589446\n",
      " -0.00653257 -0.00981927 -0.02060303 -0.0090459   0.00248058 -0.02372916\n",
      "  0.00186704  0.00023413 -0.01804673 -0.0048204  -0.00259724 -0.02092568\n",
      " -0.00264503 -0.01719316  0.00070008  0.0206269  -0.00861367  0.01123813\n",
      " -0.00244689  0.06309623 -0.00298534 -0.02451787  0.03293917 -0.00679626\n",
      " -0.01971745 -0.00365126  0.00613532  0.00023041 -0.02367582  0.05646224\n",
      "  0.00861388 -0.01612291  0.07438012  0.01597799 -0.01792338 -0.01823985\n",
      " -0.00511854  0.00751612 -0.0106527  -0.0411179  -0.00270723  0.01384309\n",
      " -0.01462065 -0.02474415  0.01558909 -0.00897085 -0.02430663 -0.02268755\n",
      " -0.02878299 -0.01732786 -0.02241186 -0.02889015 -0.02064186 -0.01881771\n",
      " -0.01260726 -0.0232576  -0.00431769  0.02614071 -0.01594117 -0.01255056\n",
      "  0.00208071 -0.0043425  -0.04544079 -0.02386377 -0.00960064 -0.01576301\n",
      " -0.03500799 -0.01729701 -0.00618972 -0.01646155 -0.02326961 -0.02644498\n",
      " -0.02859889 -0.02908714 -0.00441859 -0.02475993 -0.01989327 -0.01213693\n",
      " -0.0174432   0.00992671 -0.00067153  0.01098647 -0.0333959   0.02540628\n",
      " -0.02413708 -0.04466613  0.00501288 -0.02351256 -0.0333061  -0.03497274\n",
      " -0.01293963 -0.00037871 -0.0195054   0.0311768   0.00220384 -0.03743481\n",
      "  0.05645081  0.00182428 -0.00758044 -0.00060537  0.00132358 -0.02732973\n",
      " -0.02431557 -0.04964094 -0.00465988  0.00308086 -0.04454991 -0.01982591\n",
      " -0.02560958 -0.03777814 -0.0364554  -0.02048237]\n",
      "tensor_name:  rnn/basic_lstm_cell/bias/Adam\n",
      "[ 1.07104250e-03 -5.00401948e-04 -6.38404512e-04  2.16666865e-03\n",
      "  3.00865015e-03  1.05676788e-03  1.95834029e-04  4.85585816e-03\n",
      " -1.54487824e-03  1.44878833e-03 -5.11076418e-04  2.29843514e-04\n",
      "  1.80873729e-03  3.28243361e-03  1.03667262e-03  1.96661404e-03\n",
      "  5.90207870e-04  8.31565179e-04  1.61366560e-03  1.11500884e-03\n",
      " -2.43571831e-05 -5.80617925e-04  2.18087342e-03  1.15248677e-03\n",
      "  2.69429729e-04  2.69381306e-03  1.66906614e-03  1.49894494e-03\n",
      "  3.28072300e-03 -1.69097120e-03  1.89429510e-03  7.03599944e-04\n",
      " -1.14556693e-03 -5.37602573e-05  1.89890852e-03  3.77055397e-03\n",
      "  2.77457363e-03  1.84771675e-03  6.52620941e-03 -1.18981348e-03\n",
      "  2.33354047e-03  2.95088813e-03  2.91890162e-03  1.20678963e-03\n",
      " -2.74316920e-03  3.48885357e-03 -9.17347556e-04  2.93937931e-03\n",
      "  3.35781672e-03  5.86451683e-03  1.13635469e-04 -1.91305764e-03\n",
      "  1.40670245e-03  6.26339752e-04 -7.65282894e-04 -5.50814031e-04\n",
      " -2.44736497e-04  3.01296008e-04  1.41598179e-03  2.54460843e-04\n",
      "  2.19350425e-03  3.35561321e-03  6.11578871e-05 -3.67403642e-04\n",
      "  4.18961085e-02  7.74032623e-03  6.02278784e-02 -8.47603381e-03\n",
      " -8.99544451e-03 -4.59142849e-02 -5.24858478e-04 -9.39696620e-04\n",
      " -4.84771281e-02 -7.94588551e-02 -2.07235049e-02  3.39668840e-02\n",
      "  4.19019461e-02  2.81869136e-02  2.40036417e-02  1.99354049e-02\n",
      " -1.65484883e-02  9.73967602e-04  9.63340178e-02  2.92910375e-02\n",
      "  1.03598405e-02 -4.84419167e-02  1.93166919e-02 -1.38716716e-02\n",
      " -1.53709948e-02  1.07153580e-02  6.58260658e-02 -3.06778271e-02\n",
      " -4.93160486e-02  5.03943749e-02  3.35634016e-02 -2.90899426e-02\n",
      " -5.62666636e-03 -1.39055522e-02 -5.66311963e-02 -6.86594471e-02\n",
      "  9.31280106e-02  1.92919672e-02  6.11314401e-02  5.90921678e-02\n",
      "  6.14645518e-03 -1.35830045e-02 -6.82772622e-02 -5.10938615e-02\n",
      "  1.07418816e-03  1.08935408e-01 -4.95239049e-02  3.72664668e-02\n",
      "  1.01372287e-01 -6.87604100e-02 -1.63419638e-02 -2.18169484e-03\n",
      " -2.04917230e-02 -3.17298062e-02 -4.38188761e-02  1.01824850e-02\n",
      "  1.36420717e-02  3.78817432e-02 -5.43362368e-03  1.72739774e-02\n",
      " -3.38735469e-02 -4.00494225e-02  1.29554123e-02  4.56628157e-03\n",
      " -5.41786794e-05 -5.36025560e-04  1.40726997e-03  9.00435902e-04\n",
      "  5.35438303e-04  3.94145172e-04 -3.68137349e-04  1.89819082e-03\n",
      " -1.03916111e-03 -2.86682247e-04 -1.73672131e-04  2.87055294e-03\n",
      "  2.31594988e-03  2.47786916e-03  4.24651080e-04  1.27725699e-03\n",
      "  5.89574513e-04  1.63740115e-04  1.16300362e-03 -6.07777911e-04\n",
      " -6.40997256e-04 -4.46608895e-03  1.00781082e-03  1.03695458e-03\n",
      "  6.80187892e-04  1.21356174e-03  2.43431586e-03  1.45340594e-03\n",
      "  1.92791387e-03 -1.48020568e-03  5.74946927e-04  8.01604765e-04\n",
      " -1.13333610e-03 -3.86719854e-04  1.03716645e-03  1.75893831e-03\n",
      " -1.03003264e-03  1.17988314e-03  4.10133274e-03 -2.18296191e-04\n",
      "  1.92638719e-03  5.37771673e-04  1.74021767e-03  1.24789437e-03\n",
      " -9.39439982e-04 -1.81525378e-04 -1.45834323e-03  1.98796275e-03\n",
      "  2.19390215e-03  4.77295322e-03 -9.32265975e-05 -1.88106450e-03\n",
      "  9.99775832e-04  6.76618423e-04 -1.02083373e-03 -4.67226528e-05\n",
      " -7.70032872e-04 -6.72930968e-04  6.79559482e-04  6.83283433e-04\n",
      " -2.55352631e-03  4.23409417e-03 -7.88706355e-04 -4.21008328e-04\n",
      "  5.78593521e-04 -5.65911352e-04 -4.90413106e-04  2.49259220e-03\n",
      "  2.71422253e-03  5.19497320e-04  9.99923577e-05  5.48866298e-03\n",
      " -7.90416670e-04  3.81774706e-04 -5.17199282e-04  3.28186579e-04\n",
      "  1.31152989e-03  3.81127908e-03  1.42914918e-03  1.51833205e-03\n",
      "  7.43448792e-04  1.85686629e-03  2.11634929e-03  7.87954079e-04\n",
      "  1.03745595e-04 -1.00037677e-03  2.55887257e-03  1.51223468e-03\n",
      "  2.25085460e-04  3.04887583e-03  1.75744644e-03  1.03815389e-03\n",
      "  3.40641080e-03 -1.19525974e-03  1.84821757e-03  4.54048626e-04\n",
      " -1.24239887e-03 -1.46912775e-04  1.75062648e-03  2.52006226e-03\n",
      "  2.15967325e-03  3.13242571e-03  6.19497709e-03 -1.87463360e-03\n",
      "  2.43169605e-03  4.01271181e-03  3.43291741e-03  7.63166521e-04\n",
      " -2.47149356e-03  1.66139763e-03 -1.20541418e-03  3.25448764e-03\n",
      "  9.91474721e-04  5.76851983e-03  3.15589045e-06 -2.89327931e-03\n",
      "  2.18018133e-04  7.44243909e-04 -7.34605594e-04 -4.89370141e-04\n",
      " -1.08811553e-04  3.11358308e-04  1.64544501e-03  3.16440884e-04\n",
      "  1.48271746e-03  5.18600456e-03 -4.15858201e-04 -2.99076171e-04]\n",
      "tensor_name:  rnn/basic_lstm_cell/bias/Adam_1\n",
      "[7.62293212e-06 3.47870423e-06 2.30573532e-05 4.16313269e-05\n",
      " 1.64626981e-05 5.91886283e-06 1.22256802e-06 2.59556873e-05\n",
      " 1.29830287e-05 6.87769352e-06 3.94482595e-06 1.31664201e-05\n",
      " 7.59418390e-06 1.24299204e-05 1.35324117e-05 8.33696231e-06\n",
      " 5.53741415e-07 7.00802866e-06 3.31466617e-05 7.83562427e-06\n",
      " 2.74706235e-06 5.29704485e-05 2.20583970e-05 1.09480279e-05\n",
      " 7.44813224e-06 1.39769572e-05 1.06923617e-05 8.88791510e-06\n",
      " 5.26497934e-05 2.25597651e-05 1.98629659e-05 5.72588306e-06\n",
      " 9.59907311e-07 6.40007738e-06 1.43044881e-05 1.70197764e-05\n",
      " 3.85926578e-05 3.63716063e-05 1.98822163e-05 1.48454183e-05\n",
      " 1.23870104e-05 3.32337004e-05 1.28345173e-05 3.37126476e-05\n",
      " 1.23995069e-05 8.45706381e-06 3.81229142e-06 2.95521950e-05\n",
      " 1.31932939e-05 2.26776192e-05 1.16987085e-05 1.37855723e-05\n",
      " 2.73244459e-05 2.05150536e-06 1.76080266e-05 1.54249415e-06\n",
      " 1.73453373e-05 2.32625989e-05 8.42129248e-06 4.95486211e-06\n",
      " 3.10914984e-05 1.00419811e-05 1.22843148e-05 2.34345589e-06\n",
      " 3.13748745e-03 2.80601531e-03 1.17977234e-02 7.52111338e-03\n",
      " 6.25270419e-03 1.20349163e-02 5.21924812e-04 3.21720983e-03\n",
      " 5.37197059e-03 1.84602793e-02 5.21132862e-03 8.59974138e-03\n",
      " 1.22981276e-02 7.43709737e-03 1.43504003e-02 1.79989508e-03\n",
      " 1.67584734e-03 4.70893836e-04 8.54437798e-03 1.99628482e-03\n",
      " 1.30354695e-03 5.77335199e-03 1.36010805e-02 1.78763340e-03\n",
      " 7.19962642e-04 4.15186444e-03 1.48063675e-02 1.75171043e-03\n",
      " 1.31901074e-02 4.68522729e-03 7.90436938e-03 6.91056543e-04\n",
      " 7.89362239e-04 1.91284367e-03 1.66880656e-02 4.59218733e-02\n",
      " 3.64426933e-02 5.11602033e-03 4.80985530e-02 2.67735682e-02\n",
      " 6.27024239e-03 2.07689051e-02 2.27560643e-02 2.57586706e-02\n",
      " 3.15427594e-03 4.42644879e-02 7.94776529e-03 6.85877912e-03\n",
      " 5.19009680e-02 3.45893279e-02 4.74366779e-03 3.66043975e-03\n",
      " 5.73558128e-03 5.50011685e-03 6.09917985e-03 7.38256669e-04\n",
      " 2.35050125e-03 4.60283970e-03 1.94166601e-03 5.43224334e-04\n",
      " 1.45362923e-02 1.11477487e-02 5.59546519e-03 1.58474152e-03\n",
      " 6.41930956e-06 3.51143603e-06 2.68548938e-05 7.40573378e-05\n",
      " 2.86651739e-05 5.53655173e-06 1.38735152e-06 2.38300745e-05\n",
      " 1.41889805e-05 7.38085282e-06 2.98462078e-06 2.19545855e-05\n",
      " 1.12292046e-05 1.71805514e-05 1.39547374e-05 5.69250824e-06\n",
      " 6.13899431e-07 1.31235111e-05 6.11774303e-05 1.18315729e-05\n",
      " 5.81319773e-06 9.09701121e-05 3.04886362e-05 2.12660834e-05\n",
      " 8.61184435e-06 1.91794425e-05 1.45834310e-05 9.36820288e-06\n",
      " 5.08657286e-05 1.88064387e-05 2.45639767e-05 9.59363297e-06\n",
      " 1.06555456e-06 1.52123057e-05 2.10483558e-05 2.46502241e-05\n",
      " 5.32810409e-05 5.62276946e-05 3.90407040e-05 1.19890356e-05\n",
      " 1.94157292e-05 4.83458534e-05 2.49111981e-05 3.77856559e-05\n",
      " 1.10943047e-05 1.04638775e-05 3.50849837e-06 4.70760933e-05\n",
      " 2.61098448e-05 4.06831678e-05 2.13601870e-05 1.26382856e-05\n",
      " 1.67038525e-05 2.58371165e-06 1.61698244e-05 1.64933249e-06\n",
      " 1.74361485e-05 3.66431086e-05 1.19504548e-05 4.98914960e-06\n",
      " 5.29950084e-05 2.14657466e-05 2.46348354e-05 3.24867483e-06\n",
      " 9.72732869e-06 4.26412998e-06 2.65035706e-05 7.05702623e-05\n",
      " 2.07221365e-05 6.03275021e-06 1.49069035e-06 3.18870188e-05\n",
      " 1.51118466e-05 5.74686464e-06 3.70728344e-06 2.19224512e-05\n",
      " 5.51929634e-06 1.99126225e-05 1.62731958e-05 7.55169049e-06\n",
      " 7.22654988e-07 1.48404242e-05 6.03229564e-05 1.46014090e-05\n",
      " 6.81463462e-06 8.48197087e-05 2.79701781e-05 1.72403616e-05\n",
      " 7.37265691e-06 1.82237145e-05 2.39831807e-05 9.88260945e-06\n",
      " 3.52772258e-05 2.75662642e-05 2.31337781e-05 1.13664437e-05\n",
      " 1.14421437e-06 1.72331711e-05 1.70294843e-05 2.13350886e-05\n",
      " 4.33067726e-05 7.63650969e-05 3.17312588e-05 1.27326330e-05\n",
      " 2.10818653e-05 5.58480970e-05 2.05752513e-05 3.37104102e-05\n",
      " 1.07437954e-05 6.87115016e-06 2.99074577e-06 3.81212958e-05\n",
      " 2.57124393e-05 5.67209681e-05 1.78080045e-05 1.96913134e-05\n",
      " 3.06130678e-05 2.64568507e-06 1.62096203e-05 2.07162111e-06\n",
      " 1.60682939e-05 5.66073650e-05 1.37493253e-05 6.02089858e-06\n",
      " 4.17767624e-05 3.00362390e-05 1.62673205e-05 3.50643268e-06]\n",
      "tensor_name:  rnn/basic_lstm_cell/kernel\n",
      "[[-0.11492892 -0.09798378 -0.0067707  ...  0.01244553 -0.00858596\n",
      "  -0.06816118]\n",
      " [-0.07634383  0.09037495  0.07244908 ... -0.03151359  0.04486379\n",
      "  -0.05714663]\n",
      " [-0.07244045 -0.12602092 -0.07076797 ... -0.00802735 -0.10752011\n",
      "   0.08847597]\n",
      " ...\n",
      " [ 0.03624364 -0.08847938 -0.03354205 ...  0.04616598  0.01279575\n",
      "  -0.07952872]\n",
      " [-0.04748048 -0.03660385 -0.05171071 ... -0.00888607  0.09040448\n",
      "  -0.05481356]\n",
      " [ 0.01725551  0.11281855 -0.10586865 ...  0.07930023  0.08235457\n",
      "   0.08104569]]\n",
      "tensor_name:  rnn/basic_lstm_cell/kernel/Adam\n",
      "[[ 5.6710141e-04 -5.0425332e-04  8.0509478e-04 ...  2.3517802e-03\n",
      "  -3.3184071e-04  4.0289051e-05]\n",
      " [ 1.7723609e-03  7.1640505e-04  1.7195825e-04 ... -2.9163825e-04\n",
      "  -3.2233214e-04  3.0129931e-05]\n",
      " [-5.8723066e-04 -6.8137416e-04  4.1321121e-04 ...  1.9780749e-03\n",
      "  -1.0580164e-03 -5.7014604e-05]\n",
      " ...\n",
      " [-4.3686785e-05 -1.7995256e-07 -8.1308608e-06 ...  2.5216653e-04\n",
      "  -1.1742599e-04 -9.0021866e-05]\n",
      " [-2.3456907e-05 -6.4924279e-06 -2.3619270e-04 ...  2.9055311e-04\n",
      "  -7.4387397e-05 -2.1217818e-05]\n",
      " [ 9.3108494e-05 -1.5061811e-05 -1.6511875e-04 ...  5.4877979e-04\n",
      "  -3.2979847e-04 -6.8974608e-05]]\n",
      "tensor_name:  rnn/basic_lstm_cell/kernel/Adam_1\n",
      "[[6.03254330e-06 1.48629783e-06 4.96329631e-06 ... 1.62275392e-05\n",
      "  4.61349646e-06 4.47720453e-07]\n",
      " [2.65762037e-06 1.39631277e-06 4.11830342e-06 ... 7.16078284e-06\n",
      "  5.86977785e-06 4.64493525e-07]\n",
      " [2.72809393e-06 1.12459509e-06 5.87723980e-06 ... 6.37940275e-06\n",
      "  7.15390479e-06 4.29756625e-07]\n",
      " ...\n",
      " [1.00008585e-07 4.12116172e-08 2.76306878e-07 ... 7.15684621e-07\n",
      "  1.73480970e-07 3.11041255e-08]\n",
      " [1.07504533e-07 5.66934695e-08 2.87921068e-07 ... 3.82201563e-07\n",
      "  7.59286024e-07 6.30905816e-08]\n",
      " [9.50657935e-08 3.89254105e-08 2.91722813e-07 ... 3.01002558e-07\n",
      "  3.49496759e-07 8.62156071e-08]]\n"
     ]
    }
   ],
   "source": [
    "# import the inspect_checkpoint library\n",
    "from tensorflow.python.tools import inspect_checkpoint as chkp\n",
    "\n",
    "# print all tensors in checkpoint file\n",
    "chkp.print_tensors_in_checkpoint_file(checkpoint_filepath, tensor_name='', all_tensors=True)"
   ]
  },
  {
   "cell_type": "code",
   "execution_count": 91,
   "metadata": {
    "colab": {
     "base_uri": "https://localhost:8080/",
     "height": 636
    },
    "colab_type": "code",
    "executionInfo": {
     "elapsed": 228,
     "status": "error",
     "timestamp": 1534899374851,
     "user": {
      "displayName": "Zachary Mccoy",
      "photoUrl": "//lh5.googleusercontent.com/-JivcaiuJcFw/AAAAAAAAAAI/AAAAAAAAAEU/3bgRqYCdzJw/s50-c-k-no/photo.jpg",
      "userId": "112421332417664355395"
     },
     "user_tz": 240
    },
    "id": "Xwj-H4C7GaOr",
    "outputId": "eb0a0c4b-e370-4008-86ef-871375f3ae0e"
   },
   "outputs": [
    {
     "ename": "ValueError",
     "evalue": "ignored",
     "output_type": "error",
     "traceback": [
      "\u001b[0;31m---------------------------------------------------------------------------\u001b[0m",
      "\u001b[0;31mValueError\u001b[0m                                Traceback (most recent call last)",
      "\u001b[0;32m<ipython-input-91-eadde88fbb8b>\u001b[0m in \u001b[0;36m<module>\u001b[0;34m()\u001b[0m\n\u001b[1;32m      5\u001b[0m \u001b[0;34m\u001b[0m\u001b[0m\n\u001b[1;32m      6\u001b[0m \u001b[0;31m# Add ops to save and restore all the variables.\u001b[0m\u001b[0;34m\u001b[0m\u001b[0;34m\u001b[0m\u001b[0m\n\u001b[0;32m----> 7\u001b[0;31m \u001b[0msaver\u001b[0m \u001b[0;34m=\u001b[0m \u001b[0mtf\u001b[0m\u001b[0;34m.\u001b[0m\u001b[0mtrain\u001b[0m\u001b[0;34m.\u001b[0m\u001b[0mSaver\u001b[0m\u001b[0;34m(\u001b[0m\u001b[0;34m)\u001b[0m\u001b[0;34m\u001b[0m\u001b[0m\n\u001b[0m\u001b[1;32m      8\u001b[0m \u001b[0;34m\u001b[0m\u001b[0m\n\u001b[1;32m      9\u001b[0m \u001b[0;31m# Later, launch the model, use the saver to restore variables from disk, and\u001b[0m\u001b[0;34m\u001b[0m\u001b[0;34m\u001b[0m\u001b[0m\n",
      "\u001b[0;32m/usr/local/lib/python3.6/dist-packages/tensorflow/python/training/saver.py\u001b[0m in \u001b[0;36m__init__\u001b[0;34m(self, var_list, reshape, sharded, max_to_keep, keep_checkpoint_every_n_hours, name, restore_sequentially, saver_def, builder, defer_build, allow_empty, write_version, pad_step_number, save_relative_paths, filename)\u001b[0m\n\u001b[1;32m   1279\u001b[0m           time.time() + self._keep_checkpoint_every_n_hours * 3600)\n\u001b[1;32m   1280\u001b[0m     \u001b[0;32melif\u001b[0m \u001b[0;32mnot\u001b[0m \u001b[0mdefer_build\u001b[0m\u001b[0;34m:\u001b[0m\u001b[0;34m\u001b[0m\u001b[0m\n\u001b[0;32m-> 1281\u001b[0;31m       \u001b[0mself\u001b[0m\u001b[0;34m.\u001b[0m\u001b[0mbuild\u001b[0m\u001b[0;34m(\u001b[0m\u001b[0;34m)\u001b[0m\u001b[0;34m\u001b[0m\u001b[0m\n\u001b[0m\u001b[1;32m   1282\u001b[0m     \u001b[0;32mif\u001b[0m \u001b[0mself\u001b[0m\u001b[0;34m.\u001b[0m\u001b[0msaver_def\u001b[0m\u001b[0;34m:\u001b[0m\u001b[0;34m\u001b[0m\u001b[0m\n\u001b[1;32m   1283\u001b[0m       \u001b[0mself\u001b[0m\u001b[0;34m.\u001b[0m\u001b[0m_check_saver_def\u001b[0m\u001b[0;34m(\u001b[0m\u001b[0;34m)\u001b[0m\u001b[0;34m\u001b[0m\u001b[0m\n",
      "\u001b[0;32m/usr/local/lib/python3.6/dist-packages/tensorflow/python/training/saver.py\u001b[0m in \u001b[0;36mbuild\u001b[0;34m(self)\u001b[0m\n\u001b[1;32m   1291\u001b[0m     \u001b[0;32mif\u001b[0m \u001b[0mcontext\u001b[0m\u001b[0;34m.\u001b[0m\u001b[0mexecuting_eagerly\u001b[0m\u001b[0;34m(\u001b[0m\u001b[0;34m)\u001b[0m\u001b[0;34m:\u001b[0m\u001b[0;34m\u001b[0m\u001b[0m\n\u001b[1;32m   1292\u001b[0m       \u001b[0;32mraise\u001b[0m \u001b[0mRuntimeError\u001b[0m\u001b[0;34m(\u001b[0m\u001b[0;34m\"Use save/restore instead of build in eager mode.\"\u001b[0m\u001b[0;34m)\u001b[0m\u001b[0;34m\u001b[0m\u001b[0m\n\u001b[0;32m-> 1293\u001b[0;31m     \u001b[0mself\u001b[0m\u001b[0;34m.\u001b[0m\u001b[0m_build\u001b[0m\u001b[0;34m(\u001b[0m\u001b[0mself\u001b[0m\u001b[0;34m.\u001b[0m\u001b[0m_filename\u001b[0m\u001b[0;34m,\u001b[0m \u001b[0mbuild_save\u001b[0m\u001b[0;34m=\u001b[0m\u001b[0;32mTrue\u001b[0m\u001b[0;34m,\u001b[0m \u001b[0mbuild_restore\u001b[0m\u001b[0;34m=\u001b[0m\u001b[0;32mTrue\u001b[0m\u001b[0;34m)\u001b[0m\u001b[0;34m\u001b[0m\u001b[0m\n\u001b[0m\u001b[1;32m   1294\u001b[0m \u001b[0;34m\u001b[0m\u001b[0m\n\u001b[1;32m   1295\u001b[0m   \u001b[0;32mdef\u001b[0m \u001b[0m_build_eager\u001b[0m\u001b[0;34m(\u001b[0m\u001b[0mself\u001b[0m\u001b[0;34m,\u001b[0m \u001b[0mcheckpoint_path\u001b[0m\u001b[0;34m,\u001b[0m \u001b[0mbuild_save\u001b[0m\u001b[0;34m,\u001b[0m \u001b[0mbuild_restore\u001b[0m\u001b[0;34m)\u001b[0m\u001b[0;34m:\u001b[0m\u001b[0;34m\u001b[0m\u001b[0m\n",
      "\u001b[0;32m/usr/local/lib/python3.6/dist-packages/tensorflow/python/training/saver.py\u001b[0m in \u001b[0;36m_build\u001b[0;34m(self, checkpoint_path, build_save, build_restore)\u001b[0m\n\u001b[1;32m   1316\u001b[0m           \u001b[0;32mreturn\u001b[0m\u001b[0;34m\u001b[0m\u001b[0m\n\u001b[1;32m   1317\u001b[0m         \u001b[0;32melse\u001b[0m\u001b[0;34m:\u001b[0m\u001b[0;34m\u001b[0m\u001b[0m\n\u001b[0;32m-> 1318\u001b[0;31m           \u001b[0;32mraise\u001b[0m \u001b[0mValueError\u001b[0m\u001b[0;34m(\u001b[0m\u001b[0;34m\"No variables to save\"\u001b[0m\u001b[0;34m)\u001b[0m\u001b[0;34m\u001b[0m\u001b[0m\n\u001b[0m\u001b[1;32m   1319\u001b[0m       \u001b[0mself\u001b[0m\u001b[0;34m.\u001b[0m\u001b[0m_is_empty\u001b[0m \u001b[0;34m=\u001b[0m \u001b[0;32mFalse\u001b[0m\u001b[0;34m\u001b[0m\u001b[0m\n\u001b[1;32m   1320\u001b[0m \u001b[0;34m\u001b[0m\u001b[0m\n",
      "\u001b[0;31mValueError\u001b[0m: No variables to save"
     ]
    }
   ],
   "source": [
    "tf.reset_default_graph()\n",
    "session.graph.get_operations()\n",
    "\n",
    "# the variable(s) that you want to access post-restore\n",
    "#accuracy = tf.get_variable(\"accuracy\", shape=[3])\n",
    "\n",
    "# Add ops to save and restore all the variables.\n",
    "saver = tf.train.Saver()\n",
    "\n",
    "# Later, launch the model, use the saver to restore variables from disk, and\n",
    "# do some work with the model.\n",
    "with tf.Session() as sess:\n",
    "  # Restore variables from disk.\n",
    "  saver.restore(sess, checkpoint_filepath)\n",
    "  print(\"Model restored.\")\n",
    "  # Check the values of the variables\n",
    "  test_accuracy = accuracy.eval(feed_dict={input_data: X_valid, labels: y_valid})\n",
    "  print('test accuracy {0}'.format(test))\n"
   ]
  },
  {
   "cell_type": "code",
   "execution_count": 86,
   "metadata": {
    "colab": {
     "base_uri": "https://localhost:8080/",
     "height": 444
    },
    "colab_type": "code",
    "executionInfo": {
     "elapsed": 1507,
     "status": "ok",
     "timestamp": 1534898849756,
     "user": {
      "displayName": "Zachary Mccoy",
      "photoUrl": "//lh5.googleusercontent.com/-JivcaiuJcFw/AAAAAAAAAAI/AAAAAAAAAEU/3bgRqYCdzJw/s50-c-k-no/photo.jpg",
      "userId": "112421332417664355395"
     },
     "user_tz": 240
    },
    "id": "MWJ9RAgYGbym",
    "outputId": "11ebd8d7-0261-4727-95ba-0ab2827b87a5"
   },
   "outputs": [
    {
     "name": "stdout",
     "output_type": "stream",
     "text": [
      "adc.json\r\n",
      "checkpoint\r\n",
      "\u001b[0m\u001b[01;36mdatalab\u001b[0m@\r\n",
      "glove.6B.50d.txt\r\n",
      "glove.6B.50d.w2vformat.txt\r\n",
      "glove.6B.50d.w2vformat.txt-p\r\n",
      "glove.6B.50d.w2vformat.txt-p.vectors.npy\r\n",
      "pretrained_lstm.ckpt-1070.data-00000-of-00001\r\n",
      "pretrained_lstm.ckpt-1070.index\r\n",
      "pretrained_lstm.ckpt-1070.meta\r\n",
      "pretrained_lstm.ckpt-214.data-00000-of-00001\r\n",
      "pretrained_lstm.ckpt-214.index\r\n",
      "pretrained_lstm.ckpt-214.meta\r\n",
      "pretrained_lstm.ckpt-428.data-00000-of-00001\r\n",
      "pretrained_lstm.ckpt-428.index\r\n",
      "pretrained_lstm.ckpt-428.meta\r\n",
      "pretrained_lstm.ckpt-642.data-00000-of-00001\r\n",
      "pretrained_lstm.ckpt-642.index\r\n",
      "pretrained_lstm.ckpt-642.meta\r\n",
      "pretrained_lstm.ckpt-856.data-00000-of-00001\r\n",
      "pretrained_lstm.ckpt-856.index\r\n",
      "pretrained_lstm.ckpt-856.meta\r\n",
      "\u001b[01;34msample_data\u001b[0m/\r\n",
      "twitter-airline-sentiment.csv\r\n"
     ]
    }
   ],
   "source": [
    "ls"
   ]
  },
  {
   "cell_type": "markdown",
   "metadata": {
    "colab_type": "text",
    "id": "AGkN9anAxkqg"
   },
   "source": [
    "#### (Optional) Save Datasets #### \n",
    "\n",
    "- Save Datasets to disk and re-open after 'Restart runtime' (workaround to free memory for training)"
   ]
  },
  {
   "cell_type": "code",
   "execution_count": 0,
   "metadata": {
    "colab": {
     "base_uri": "https://localhost:8080/",
     "height": 53
    },
    "colab_type": "code",
    "executionInfo": {
     "elapsed": 3076,
     "status": "ok",
     "timestamp": 1534876512239,
     "user": {
      "displayName": "Zachary Mccoy",
      "photoUrl": "//lh5.googleusercontent.com/-JivcaiuJcFw/AAAAAAAAAAI/AAAAAAAAAEU/3bgRqYCdzJw/s50-c-k-no/photo.jpg",
      "userId": "112421332417664355395"
     },
     "user_tz": 240
    },
    "id": "ZaLiqqRfxj6J",
    "outputId": "bddf0e4b-efc8-4022-cfa3-68381861ede8"
   },
   "outputs": [
    {
     "name": "stdout",
     "output_type": "stream",
     "text": [
      "Requirement already satisfied: bcolz in /usr/local/lib/python3.6/dist-packages (1.2.1)\r\n",
      "Requirement already satisfied: numpy>=1.7 in /usr/local/lib/python3.6/dist-packages (from bcolz) (1.14.5)\r\n"
     ]
    }
   ],
   "source": [
    "!pip install bcolz"
   ]
  },
  {
   "cell_type": "code",
   "execution_count": 0,
   "metadata": {
    "colab": {},
    "colab_type": "code",
    "id": "Bp9oajteZVQU"
   },
   "outputs": [],
   "source": [
    "import bcolz\n",
    "\n",
    "def load_array(fname):\n",
    "  return bcolz.open(fname)[:]\n",
    "\n",
    "def save_array(fname, arr):\n",
    "    c=bcolz.carray(arr, rootdir=fname, mode='w')\n",
    "    c.flush()"
   ]
  },
  {
   "cell_type": "markdown",
   "metadata": {
    "colab_type": "text",
    "id": "tvcoISxJx1l2"
   },
   "source": [
    "#### ... ####"
   ]
  },
  {
   "cell_type": "code",
   "execution_count": 0,
   "metadata": {
    "colab": {},
    "colab_type": "code",
    "id": "vgnXTjTW28sV",
    "outputId": "f815969f-459d-421e-9ca5-b6c856547c14"
   },
   "outputs": [
    {
     "name": "stdout",
     "output_type": "stream",
     "text": [
      "[[ 0.43361151  0.56638849]]\n",
      "[0 1]\n",
      "[[ 0.43797344  0.56202662]]\n",
      "[0 1]\n",
      "[[ 0.4871538   0.51284623]]\n",
      "[0 1]\n",
      "[[ 0.49115032  0.50884968]]\n",
      "[0 1]\n",
      "[[ 0.50159067  0.49840936]]\n",
      "[0 1]\n",
      "[[ 0.48351571  0.51648432]]\n",
      "[0 1]\n",
      "[[ 0.49443078  0.50556916]]\n",
      "[0 1]\n",
      "[[ 0.45593712  0.54406291]]\n",
      "[0 1]\n",
      "[[ 0.45716313  0.54283684]]\n",
      "[0 1]\n",
      "[[ 0.44520226  0.55479771]]\n",
      "[0 1]\n",
      "[[ 0.44149619  0.55850375]]\n",
      "[0 1]\n",
      "[[ 0.46386287  0.53613716]]\n",
      "[0 1]\n",
      "[[ 0.4507618  0.5492382]]\n",
      "[0 1]\n",
      "[[ 0.49024183  0.50975811]]\n",
      "[0 1]\n",
      "[[ 0.46664053  0.53335947]]\n",
      "[0 1]\n",
      "[[ 0.48411196  0.51588804]]\n",
      "[0 1]\n",
      "[[ 0.51821077  0.48178923]]\n",
      "[1 0]\n",
      "[[ 0.43972757  0.56027246]]\n",
      "[0 1]\n",
      "[[ 0.47426388  0.52573609]]\n",
      "[0 1]\n",
      "[[ 0.41714111  0.58285892]]\n",
      "[0 1]\n",
      "[[ 0.42593279  0.57406718]]\n",
      "[0 1]\n",
      "[[ 0.43666127  0.56333876]]\n",
      "[1 0]\n",
      "[[ 0.43590912  0.56409079]]\n",
      "[0 1]\n",
      "[[ 0.43561319  0.56438679]]\n",
      "[0 1]\n",
      "[[ 0.47973943  0.52026051]]\n",
      "[0 1]\n",
      "[[ 0.47588331  0.52411669]]\n",
      "[0 1]\n",
      "[[ 0.42623574  0.57376426]]\n",
      "[0 1]\n",
      "[[ 0.46010175  0.53989828]]\n",
      "[0 1]\n",
      "[[ 0.4254297  0.5745703]]\n",
      "[0 1]\n",
      "[[ 0.50159067  0.49840936]]\n",
      "[0 1]\n",
      "[[ 0.47870195  0.52129805]]\n",
      "[0 1]\n",
      "[[ 0.46729136  0.53270864]]\n",
      "[0 1]\n",
      "[[ 0.40626103  0.59373891]]\n",
      "[0 1]\n",
      "[[ 0.45471418  0.54528588]]\n",
      "[0 1]\n",
      "[[ 0.49009073  0.50990933]]\n",
      "[0 1]\n",
      "[[ 0.50159067  0.49840936]]\n",
      "[1 0]\n",
      "[[ 0.43476626  0.56523377]]\n",
      "[0 1]\n",
      "[[ 0.50827146  0.49172848]]\n",
      "[0 1]\n",
      "[[ 0.45688567  0.54311436]]\n",
      "[0 1]\n",
      "[[ 0.45479596  0.54520398]]\n",
      "[0 1]\n",
      "[[ 0.42565572  0.57434428]]\n",
      "[0 1]\n",
      "[[ 0.46804997  0.53195006]]\n",
      "[1 0]\n",
      "[[ 0.41170704  0.58829296]]\n",
      "[0 1]\n",
      "[[ 0.45844585  0.54155415]]\n",
      "[0 1]\n",
      "[[ 0.41201028  0.58798969]]\n",
      "[0 1]\n",
      "[[ 0.4289676  0.5710324]]\n",
      "[0 1]\n",
      "[[ 0.43569982  0.56430018]]\n",
      "[0 1]\n",
      "[[ 0.43929607  0.56070399]]\n",
      "[0 1]\n",
      "[[ 0.46289632  0.53710371]]\n",
      "[0 1]\n",
      "[[ 0.48837706  0.51162297]]\n",
      "[0 1]\n",
      "[[ 0.48038602  0.51961398]]\n",
      "[0 1]\n",
      "[[ 0.44383281  0.55616713]]\n",
      "[0 1]\n",
      "[[ 0.4277935   0.57220644]]\n",
      "[0 1]\n",
      "[[ 0.42805383  0.5719462 ]]\n",
      "[0 1]\n",
      "[[ 0.45687497  0.54312497]]\n",
      "[0 1]\n",
      "[[ 0.49380204  0.50619793]]\n",
      "[0 1]\n",
      "[[ 0.47618902  0.52381092]]\n",
      "[0 1]\n",
      "[[ 0.44099632  0.55900365]]\n",
      "[0 1]\n",
      "[[ 0.43166459  0.56833541]]\n",
      "[0 1]\n",
      "[[ 0.48198736  0.51801258]]\n",
      "[0 1]\n",
      "[[ 0.46729136  0.53270864]]\n",
      "[0 1]\n",
      "[[ 0.44240358  0.55759645]]\n",
      "[0 1]\n",
      "[[ 0.48411196  0.51588804]]\n",
      "[0 1]\n",
      "[[ 0.44099632  0.55900365]]\n",
      "[0 1]\n",
      "[[ 0.43569982  0.56430018]]\n",
      "[0 1]\n",
      "[[ 0.46858433  0.5314157 ]]\n",
      "[0 1]\n",
      "[[ 0.49958682  0.50041318]]\n",
      "[0 1]\n",
      "[[ 0.48144183  0.5185582 ]]\n",
      "[0 1]\n",
      "[[ 0.43604404  0.56395596]]\n",
      "[1 0]\n",
      "[[ 0.44703251  0.55296743]]\n",
      "[0 1]\n",
      "[[ 0.42345694  0.57654303]]\n",
      "[0 1]\n",
      "[[ 0.44361818  0.55638182]]\n",
      "[0 1]\n",
      "[[ 0.48522645  0.51477349]]\n",
      "[0 1]\n",
      "[[ 0.44519788  0.55480212]]\n",
      "[1 0]\n",
      "[[ 0.48962149  0.51037848]]\n",
      "[0 1]\n",
      "[[ 0.44966295  0.55033702]]\n",
      "[0 1]\n",
      "[[ 0.456065    0.54393506]]\n",
      "[0 1]\n",
      "[[ 0.4484804   0.55151963]]\n",
      "[0 1]\n",
      "[[ 0.41062292  0.58937711]]\n",
      "[0 1]\n",
      "[[ 0.46443361  0.53556645]]\n",
      "[1 0]\n",
      "[[ 0.45287526  0.54712468]]\n",
      "[1 0]\n",
      "[[ 0.44769126  0.55230868]]\n",
      "[0 1]\n",
      "[[ 0.46892673  0.53107327]]\n",
      "[0 1]\n",
      "[[ 0.46842983  0.53157014]]\n",
      "[0 1]\n",
      "[[ 0.50178379  0.49821615]]\n",
      "[0 1]\n",
      "[[ 0.49982864  0.50017136]]\n",
      "[0 1]\n",
      "[[ 0.44273445  0.55726558]]\n",
      "[0 1]\n",
      "[[ 0.41614276  0.5838573 ]]\n",
      "[0 1]\n",
      "[[ 0.48736233  0.51263767]]\n",
      "[0 1]\n",
      "[[ 0.43686631  0.56313372]]\n",
      "[1 0]\n",
      "[[ 0.47704172  0.52295828]]\n",
      "[0 1]\n",
      "[[ 0.46808073  0.5319193 ]]\n",
      "[0 1]\n",
      "[[ 0.4463124   0.55368763]]\n",
      "[0 1]\n",
      "[[ 0.45406279  0.54593718]]\n",
      "[0 1]\n",
      "[[ 0.4449676   0.55503237]]\n",
      "[0 1]\n",
      "[[ 0.48652434  0.5134756 ]]\n",
      "[0 1]\n",
      "[[ 0.46976495  0.53023511]]\n",
      "[0 1]\n",
      "[[ 0.44921529  0.55078477]]\n",
      "[0 1]\n",
      "[[ 0.44552839  0.55447155]]\n",
      "[0 1]\n",
      "[[ 0.4065432  0.5934568]]\n",
      "[0 1]\n",
      "[[ 0.4349533   0.56504667]]\n",
      "[0 1]\n",
      "[[ 0.48107412  0.51892585]]\n",
      "[1 0]\n",
      "[[ 0.43432617  0.56567383]]\n",
      "[1 0]\n",
      "[[ 0.47943375  0.52056628]]\n",
      "[0 1]\n",
      "[[ 0.4681384   0.53186166]]\n",
      "[0 1]\n",
      "[[ 0.46096474  0.53903526]]\n",
      "[1 0]\n",
      "[[ 0.45355791  0.54644209]]\n",
      "[0 1]\n",
      "[[ 0.47882715  0.52117282]]\n",
      "[0 1]\n",
      "[[ 0.4210535   0.57894659]]\n",
      "[0 1]\n",
      "[[ 0.4402045  0.5597955]]\n",
      "[0 1]\n",
      "[[ 0.42395091  0.57604909]]\n",
      "[0 1]\n",
      "[[ 0.48921779  0.5107823 ]]\n",
      "[0 1]\n",
      "[[ 0.47587219  0.52412772]]\n",
      "[0 1]\n",
      "[[ 0.45069894  0.54930109]]\n",
      "[0 1]\n",
      "[[ 0.43889824  0.56110179]]\n",
      "[0 1]\n",
      "[[ 0.46124861  0.53875136]]\n",
      "[0 1]\n",
      "[[ 0.46582514  0.53417492]]\n",
      "[0 1]\n",
      "[[ 0.4351317   0.56486833]]\n",
      "[0 1]\n",
      "[[ 0.47643104  0.52356893]]\n",
      "[0 1]\n",
      "[[ 0.43158114  0.56841892]]\n",
      "[0 1]\n",
      "[[ 0.51009476  0.48990524]]\n",
      "[0 1]\n",
      "[[ 0.42422143  0.5757786 ]]\n",
      "[0 1]\n",
      "[[ 0.47943375  0.52056628]]\n",
      "[0 1]\n",
      "[[ 0.49011591  0.50988412]]\n",
      "[0 1]\n",
      "[[ 0.46576256  0.53423744]]\n",
      "[0 1]\n",
      "[[ 0.41997021  0.58002979]]\n",
      "[0 1]\n",
      "[[ 0.42519635  0.57480359]]\n",
      "[1 0]\n",
      "[[ 0.45699164  0.54300833]]\n",
      "[0 1]\n",
      "[[ 0.47643682  0.52356315]]\n",
      "[0 1]\n",
      "[[ 0.43596953  0.56403047]]\n",
      "[0 1]\n",
      "[[ 0.47418252  0.52581751]]\n",
      "[0 1]\n",
      "[[ 0.46653906  0.53346097]]\n",
      "[0 1]\n",
      "[[ 0.44478101  0.55521899]]\n",
      "[0 1]\n",
      "[[ 0.43041405  0.56958598]]\n",
      "[0 1]\n",
      "[[ 0.42613664  0.57386333]]\n",
      "[0 1]\n",
      "[[ 0.40347156  0.59652841]]\n",
      "[0 1]\n",
      "[[ 0.44799063  0.55200934]]\n",
      "[0 1]\n",
      "[[ 0.50540066  0.49459934]]\n",
      "[0 1]\n",
      "[[ 0.44043255  0.55956745]]\n",
      "[0 1]\n",
      "[[ 0.46601784  0.53398216]]\n",
      "[0 1]\n",
      "[[ 0.44462824  0.55537182]]\n",
      "[0 1]\n",
      "[[ 0.44799161  0.55200839]]\n",
      "[0 1]\n",
      "[[ 0.41594216  0.58405787]]\n",
      "[0 1]\n",
      "[[ 0.43034244  0.56965756]]\n",
      "[0 1]\n",
      "[[ 0.44157556  0.55842441]]\n",
      "[0 1]\n",
      "[[ 0.49942562  0.50057435]]\n",
      "[0 1]\n",
      "[[ 0.43166986  0.56833017]]\n",
      "[0 1]\n",
      "[[ 0.46618563  0.53381437]]\n",
      "[1 0]\n",
      "[[ 0.46154377  0.5384562 ]]\n",
      "[1 0]\n",
      "[[ 0.44762099  0.55237901]]\n",
      "[0 1]\n",
      "[[ 0.40501213  0.59498781]]\n",
      "[0 1]\n",
      "[[ 0.46711642  0.53288358]]\n",
      "[1 0]\n",
      "[[ 0.43561894  0.564381  ]]\n",
      "[0 1]\n",
      "[[ 0.46105793  0.53894204]]\n",
      "[0 1]\n",
      "[[ 0.43896109  0.56103891]]\n",
      "[0 1]\n",
      "[[ 0.43537587  0.56462413]]\n",
      "[0 1]\n",
      "[[ 0.4759607   0.52403927]]\n",
      "[0 1]\n",
      "[[ 0.4553026   0.54469746]]\n",
      "[1 0]\n",
      "[[ 0.41714111  0.58285892]]\n",
      "[0 1]\n",
      "[[ 0.44066313  0.5593369 ]]\n",
      "[0 1]\n",
      "[[ 0.49696636  0.50303364]]\n",
      "[0 1]\n",
      "[[ 0.42695856  0.57304144]]\n",
      "[0 1]\n",
      "[[ 0.45350614  0.54649389]]\n",
      "[0 1]\n",
      "[[ 0.44634798  0.55365205]]\n",
      "[0 1]\n",
      "[[ 0.47886738  0.52113265]]\n",
      "[1 0]\n",
      "[[ 0.43646225  0.56353772]]\n",
      "[0 1]\n",
      "[[ 0.47943375  0.52056628]]\n",
      "[0 1]\n",
      "[[ 0.47573704  0.52426296]]\n",
      "[0 1]\n",
      "[[ 0.49696636  0.50303364]]\n",
      "[0 1]\n",
      "[[ 0.45721361  0.54278642]]\n",
      "[0 1]\n",
      "[[ 0.44998667  0.5500133 ]]\n",
      "[0 1]\n",
      "[[ 0.48317906  0.51682097]]\n",
      "[0 1]\n",
      "[[ 0.47664785  0.52335209]]\n",
      "[0 1]\n",
      "[[ 0.41852501  0.58147508]]\n",
      "[0 1]\n",
      "[[ 0.46029475  0.53970528]]\n",
      "[0 1]\n",
      "[[ 0.47498146  0.52501851]]\n",
      "[0 1]\n",
      "[[ 0.48565847  0.51434153]]\n",
      "[0 1]\n",
      "[[ 0.4625707   0.53742927]]\n",
      "[1 0]\n",
      "[[ 0.43146861  0.56853139]]\n",
      "[1 0]\n",
      "[[ 0.47806242  0.52193761]]\n",
      "[0 1]\n",
      "[[ 0.43590912  0.56409079]]\n",
      "[0 1]\n",
      "[[ 0.44457754  0.55542243]]\n",
      "[0 1]\n",
      "[[ 0.46211922  0.53788078]]\n",
      "[0 1]\n",
      "[[ 0.4652158  0.5347842]]\n",
      "[1 0]\n",
      "[[ 0.49038857  0.50961137]]\n",
      "[0 1]\n",
      "[[ 0.47346094  0.52653909]]\n",
      "[0 1]\n",
      "[[ 0.49958682  0.50041318]]\n",
      "[0 1]\n",
      "[[ 0.48813424  0.51186579]]\n",
      "[0 1]\n",
      "[[ 0.44812837  0.55187166]]\n",
      "[0 1]\n",
      "[[ 0.4676879  0.5323121]]\n",
      "[0 1]\n",
      "[[ 0.51288563  0.48711437]]\n",
      "[0 1]\n",
      "[[ 0.41873583  0.58126414]]\n",
      "[0 1]\n",
      "[[ 0.48068467  0.5193153 ]]\n",
      "[0 1]\n",
      "[[ 0.40909579  0.59090424]]\n",
      "[0 1]\n",
      "[[ 0.4458648   0.55413526]]\n",
      "[0 1]\n",
      "[[ 0.46711642  0.53288358]]\n",
      "[0 1]\n",
      "[[ 0.48829207  0.5117079 ]]\n",
      "[0 1]\n",
      "[[ 0.49182135  0.50817859]]\n",
      "[0 1]\n",
      "[[ 0.40897518  0.59102482]]\n",
      "[0 1]\n",
      "[[ 0.43975922  0.56024075]]\n",
      "[1 0]\n",
      "[[ 0.47265539  0.52734464]]\n",
      "[0 1]\n",
      "[[ 0.48355865  0.51644135]]\n",
      "[0 1]\n",
      "[[ 0.4161019   0.58389807]]\n",
      "[0 1]\n",
      "[[ 0.49162716  0.5083729 ]]\n",
      "[0 1]\n",
      "[[ 0.47263542  0.52736467]]\n",
      "[0 1]\n",
      "[[ 0.49443078  0.50556916]]\n",
      "[0 1]\n",
      "[[ 0.48276493  0.51723504]]\n",
      "[0 1]\n",
      "[[ 0.4591803  0.5408197]]\n",
      "[1 0]\n",
      "[[ 0.4519721   0.54802793]]\n",
      "[0 1]\n",
      "[[ 0.44169879  0.55830115]]\n",
      "[0 1]\n",
      "[[ 0.42601064  0.57398933]]\n",
      "[0 1]\n",
      "[[ 0.44422656  0.5557735 ]]\n",
      "[0 1]\n",
      "[[ 0.4920615  0.5079385]]\n",
      "[0 1]\n",
      "[[ 0.42573473  0.57426524]]\n",
      "[0 1]\n",
      "[[ 0.46759588  0.53240412]]\n",
      "[0 1]\n",
      "[[ 0.451974    0.54802603]]\n",
      "[0 1]\n",
      "[[ 0.51171339  0.48828661]]\n",
      "[0 1]\n",
      "[[ 0.42903119  0.57096881]]\n",
      "[0 1]\n",
      "[[ 0.48718613  0.51281393]]\n",
      "[0 1]\n",
      "[[ 0.47246793  0.52753204]]\n",
      "[0 1]\n",
      "[[ 0.485021  0.514979]]\n",
      "[0 1]\n",
      "[[ 0.45836982  0.54163021]]\n",
      "[0 1]\n",
      "[[ 0.44801274  0.55198717]]\n",
      "[0 1]\n",
      "[[ 0.48071426  0.5192858 ]]\n",
      "[0 1]\n",
      "[[ 0.44038269  0.55961728]]\n",
      "[1 0]\n",
      "[[ 0.46729136  0.53270864]]\n",
      "[0 1]\n",
      "[[ 0.45114204  0.54885799]]\n",
      "[1 0]\n",
      "[[ 0.47335497  0.526645  ]]\n",
      "[0 1]\n",
      "[[ 0.4614931   0.53850693]]\n",
      "[0 1]\n",
      "[[ 0.42422143  0.5757786 ]]\n",
      "[0 1]\n",
      "[[ 0.47180033  0.52819973]]\n",
      "[0 1]\n",
      "[[ 0.48787627  0.5121237 ]]\n",
      "[0 1]\n",
      "[[ 0.47797748  0.52202255]]\n",
      "[0 1]\n",
      "[[ 0.48763692  0.51236308]]\n",
      "[0 1]\n",
      "[[ 0.42468622  0.57531375]]\n",
      "[0 1]\n",
      "[[ 0.49290577  0.50709426]]\n",
      "[0 1]\n",
      "[[ 0.42116553  0.57883447]]\n",
      "[0 1]\n",
      "[[ 0.46044576  0.53955424]]\n",
      "[0 1]\n",
      "[[ 0.44416979  0.55583018]]\n",
      "[0 1]\n",
      "[[ 0.44180903  0.55819088]]\n",
      "[0 1]\n",
      "[[ 0.46546301  0.53453702]]\n",
      "[0 1]\n",
      "[[ 0.48944274  0.51055717]]\n",
      "[1 0]\n",
      "[[ 0.48010823  0.51989174]]\n",
      "[0 1]\n",
      "[[ 0.45695633  0.54304373]]\n",
      "[0 1]\n",
      "[[ 0.43935934  0.56064069]]\n",
      "[0 1]\n",
      "[[ 0.4278726  0.5721274]]\n"
     ]
    },
    {
     "name": "stdout",
     "output_type": "stream",
     "text": [
      "[0 1]\n",
      "[[ 0.44072333  0.5592767 ]]\n",
      "[0 1]\n",
      "[[ 0.4882955  0.5117045]]\n",
      "[0 1]\n",
      "[[ 0.45699164  0.54300833]]\n",
      "[0 1]\n",
      "[[ 0.48953336  0.51046664]]\n",
      "[0 1]\n",
      "[[ 0.48571095  0.51428908]]\n",
      "[0 1]\n",
      "[[ 0.44676372  0.55323631]]\n",
      "[0 1]\n",
      "[[ 0.46289632  0.53710371]]\n",
      "[0 1]\n",
      "[[ 0.4418968  0.5581032]]\n",
      "[1 0]\n",
      "[[ 0.47830251  0.52169746]]\n",
      "[0 1]\n",
      "[[ 0.41850203  0.58149797]]\n",
      "[0 1]\n",
      "[[ 0.49415597  0.50584406]]\n",
      "[0 1]\n",
      "[[ 0.49355856  0.50644147]]\n",
      "[0 1]\n",
      "[[ 0.42519635  0.57480359]]\n",
      "[0 1]\n",
      "[[ 0.4284437   0.57155633]]\n",
      "[0 1]\n",
      "[[ 0.46717709  0.53282297]]\n",
      "[0 1]\n",
      "[[ 0.44764605  0.55235398]]\n",
      "[0 1]\n",
      "[[ 0.44676372  0.55323631]]\n",
      "[0 1]\n",
      "[[ 0.43975922  0.56024075]]\n",
      "[1 0]\n",
      "[[ 0.49456522  0.50543475]]\n",
      "[1 0]\n",
      "[[ 0.4634729   0.53652704]]\n",
      "[0 1]\n",
      "[[ 0.45656061  0.54343939]]\n",
      "[0 1]\n",
      "[[ 0.47240064  0.52759939]]\n",
      "[1 0]\n",
      "[[ 0.47590959  0.52409041]]\n",
      "[0 1]\n",
      "[[ 0.4458648   0.55413526]]\n",
      "[0 1]\n",
      "[[ 0.47170439  0.52829564]]\n",
      "[0 1]\n",
      "[[ 0.50159067  0.49840936]]\n",
      "[0 1]\n",
      "[[ 0.47223482  0.52776527]]\n",
      "[1 0]\n",
      "[[ 0.49223778  0.50776219]]\n",
      "[0 1]\n",
      "[[ 0.45999831  0.54000169]]\n",
      "[0 1]\n",
      "[[ 0.43026564  0.56973433]]\n",
      "[0 1]\n",
      "[[ 0.46118307  0.53881687]]\n",
      "[0 1]\n",
      "[[ 0.42949817  0.5705018 ]]\n",
      "[0 1]\n",
      "[[ 0.45952389  0.54047608]]\n",
      "[0 1]\n",
      "[[ 0.47889113  0.52110893]]\n",
      "[0 1]\n",
      "[[ 0.43972757  0.56027246]]\n",
      "[0 1]\n",
      "[[ 0.4528003   0.54719967]]\n",
      "[0 1]\n",
      "[[ 0.47502267  0.52497727]]\n",
      "[0 1]\n",
      "[[ 0.42431444  0.57568556]]\n",
      "[0 1]\n",
      "[[ 0.46047413  0.53952587]]\n",
      "[0 1]\n",
      "[[ 0.45594165  0.54405832]]\n",
      "[0 1]\n",
      "[[ 0.4632104   0.53678966]]\n",
      "[0 1]\n",
      "[[ 0.48089662  0.51910341]]\n",
      "[0 1]\n",
      "[[ 0.45119831  0.54880166]]\n",
      "[0 1]\n",
      "[[ 0.4544414   0.54555863]]\n",
      "[0 1]\n",
      "[[ 0.44614068  0.55385929]]\n",
      "[0 1]\n",
      "[[ 0.48068467  0.5193153 ]]\n",
      "[0 1]\n",
      "[[ 0.46787545  0.53212458]]\n",
      "[0 1]\n",
      "[[ 0.49095374  0.50904626]]\n",
      "[0 1]\n",
      "[[ 0.44852448  0.55147552]]\n",
      "[0 1]\n",
      "[[ 0.43842328  0.56157666]]\n",
      "[1 0]\n",
      "[[ 0.49615216  0.50384784]]\n",
      "[0 1]\n",
      "[[ 0.45114204  0.54885799]]\n",
      "[0 1]\n",
      "[[ 0.47109109  0.52890885]]\n",
      "[0 1]\n",
      "[[ 0.42250594  0.57749403]]\n",
      "[0 1]\n",
      "[[ 0.49118504  0.50881493]]\n",
      "[0 1]\n",
      "[[ 0.50279546  0.4972046 ]]\n",
      "[0 1]\n",
      "[[ 0.4765783  0.5234217]]\n",
      "[0 1]\n",
      "[[ 0.47738793  0.52261209]]\n",
      "[1 0]\n",
      "[[ 0.4357464   0.56425357]]\n",
      "[0 1]\n",
      "[[ 0.45353356  0.54646647]]\n",
      "[0 1]\n",
      "[[ 0.47943375  0.52056628]]\n",
      "[0 1]\n",
      "[[ 0.4664112   0.53358877]]\n",
      "[0 1]\n",
      "[[ 0.4544414   0.54555863]]\n",
      "[0 1]\n",
      "[[ 0.49443078  0.50556916]]\n",
      "[0 1]\n",
      "[[ 0.4575524   0.54244757]]\n",
      "[0 1]\n",
      "[[ 0.49603578  0.50396425]]\n",
      "[0 1]\n",
      "[[ 0.47418252  0.52581751]]\n",
      "[0 1]\n",
      "[[ 0.48047385  0.51952624]]\n",
      "[0 1]\n",
      "[[ 0.44150305  0.55849689]]\n",
      "[0 1]\n",
      "[[ 0.48039839  0.51960158]]\n",
      "[0 1]\n",
      "[[ 0.42468622  0.57531375]]\n",
      "[1 0]\n",
      "[[ 0.48067722  0.51932275]]\n",
      "[0 1]\n",
      "[[ 0.46808073  0.5319193 ]]\n",
      "[0 1]\n",
      "[[ 0.41560432  0.58439565]]\n",
      "[0 1]\n",
      "[[ 0.47964746  0.5203526 ]]\n",
      "[0 1]\n",
      "[[ 0.44776943  0.55223054]]\n",
      "[0 1]\n",
      "[[ 0.474208    0.52579194]]\n",
      "[0 1]\n",
      "[[ 0.48320872  0.51679128]]\n",
      "[0 1]\n",
      "[[ 0.48447394  0.51552606]]\n",
      "[0 1]\n",
      "[[ 0.45925733  0.54074264]]\n",
      "[0 1]\n",
      "[[ 0.48006809  0.51993197]]\n",
      "[0 1]\n",
      "[[ 0.50508624  0.49491376]]\n",
      "[0 1]\n",
      "[[ 0.45585704  0.54414296]]\n",
      "[0 1]\n",
      "[[ 0.45344239  0.54655755]]\n",
      "[1 0]\n",
      "[[ 0.4706988   0.52930123]]\n",
      "[0 1]\n",
      "[[ 0.48223546  0.51776451]]\n",
      "[0 1]\n",
      "[[ 0.4317759   0.56822413]]\n",
      "[0 1]\n",
      "[[ 0.45844585  0.54155415]]\n",
      "[0 1]\n",
      "[[ 0.44042841  0.55957156]]\n",
      "[1 0]\n",
      "[[ 0.41715872  0.58284128]]\n",
      "[0 1]\n",
      "[[ 0.42953795  0.57046199]]\n",
      "[0 1]\n",
      "[[ 0.46337318  0.53662682]]\n",
      "[0 1]\n",
      "[[ 0.45585704  0.54414296]]\n",
      "[0 1]\n",
      "[[ 0.44646549  0.55353451]]\n",
      "[0 1]\n",
      "[[ 0.48260713  0.51739287]]\n",
      "[0 1]\n",
      "[[ 0.50940979  0.49059024]]\n",
      "[0 1]\n",
      "[[ 0.44634357  0.5536564 ]]\n",
      "[1 0]\n",
      "[[ 0.47553322  0.52446687]]\n",
      "[0 1]\n",
      "[[ 0.45309338  0.54690665]]\n",
      "[0 1]\n",
      "[[ 0.43410259  0.56589741]]\n",
      "[0 1]\n",
      "[[ 0.49044454  0.5095554 ]]\n",
      "[0 1]\n",
      "[[ 0.4916999   0.50830013]]\n",
      "[0 1]\n",
      "[[ 0.45528474  0.54471523]]\n",
      "[0 1]\n",
      "[[ 0.4284437   0.57155633]]\n",
      "[0 1]\n",
      "[[ 0.46050695  0.53949308]]\n",
      "[0 1]\n",
      "[[ 0.45738697  0.54261303]]\n",
      "[0 1]\n",
      "[[ 0.43356106  0.56643891]]\n",
      "[0 1]\n",
      "[[ 0.47103357  0.52896643]]\n",
      "[0 1]\n",
      "[[ 0.43361151  0.56638849]]\n",
      "[0 1]\n",
      "[[ 0.4634729   0.53652704]]\n",
      "[0 1]\n",
      "[[ 0.48063138  0.51936865]]\n",
      "[0 1]\n",
      "[[ 0.45019928  0.54980069]]\n",
      "[0 1]\n",
      "[[ 0.47734156  0.52265841]]\n",
      "[0 1]\n",
      "[[ 0.47983038  0.52016962]]\n",
      "[0 1]\n",
      "[[ 0.4706988   0.52930123]]\n",
      "[0 1]\n",
      "[[ 0.47882715  0.52117282]]\n",
      "[0 1]\n",
      "[[ 0.46105793  0.53894204]]\n",
      "[0 1]\n",
      "[[ 0.476567    0.52343297]]\n",
      "[0 1]\n",
      "[[ 0.4553026   0.54469746]]\n",
      "[0 1]\n",
      "[[ 0.4658066   0.53419334]]\n",
      "[0 1]\n",
      "[[ 0.45346668  0.54653329]]\n",
      "[0 1]\n",
      "[[ 0.45562413  0.5443759 ]]\n",
      "[0 1]\n",
      "[[ 0.48276493  0.51723504]]\n",
      "[0 1]\n",
      "[[ 0.4871538   0.51284623]]\n",
      "[0 1]\n",
      "[[ 0.46575871  0.53424126]]\n",
      "[0 1]\n",
      "[[ 0.48903877  0.51096123]]\n",
      "[0 1]\n",
      "[[ 0.44676372  0.55323631]]\n",
      "[0 1]\n",
      "[[ 0.47768015  0.52231991]]\n",
      "[0 1]\n",
      "[[ 0.47969601  0.52030402]]\n",
      "[0 1]\n",
      "[[ 0.46346417  0.53653586]]\n",
      "[0 1]\n",
      "[[ 0.4455938   0.55440617]]\n",
      "[0 1]\n",
      "[[ 0.46574363  0.5342564 ]]\n",
      "[0 1]\n",
      "[[ 0.49264356  0.50735646]]\n",
      "[0 1]\n",
      "[[ 0.47878534  0.52121466]]\n",
      "[0 1]\n",
      "[[ 0.47845617  0.52154374]]\n",
      "[1 0]\n",
      "[[ 0.43117157  0.56882846]]\n",
      "[0 1]\n",
      "[[ 0.40626103  0.59373891]]\n",
      "[0 1]\n",
      "[[ 0.45563313  0.54436684]]\n",
      "[0 1]\n",
      "[[ 0.43830699  0.56169301]]\n",
      "[0 1]\n",
      "[[ 0.42565572  0.57434428]]\n",
      "[0 1]\n",
      "[[ 0.49603578  0.50396425]]\n",
      "[1 0]\n",
      "[[ 0.49172956  0.50827044]]\n",
      "[0 1]\n",
      "[[ 0.43327886  0.56672114]]\n",
      "[0 1]\n",
      "[[ 0.43456328  0.56543672]]\n",
      "[0 1]\n",
      "[[ 0.45190012  0.54809994]]\n",
      "[0 1]\n",
      "[[ 0.47590959  0.52409041]]\n",
      "[0 1]\n",
      "[[ 0.4760066   0.52399337]]\n",
      "[0 1]\n",
      "[[ 0.44831458  0.55168539]]\n",
      "[0 1]\n",
      "[[ 0.49336067  0.5066393 ]]\n",
      "[0 1]\n",
      "[[ 0.47573704  0.52426296]]\n",
      "[0 1]\n",
      "[[ 0.48829207  0.5117079 ]]\n",
      "[0 1]\n",
      "[[ 0.44006562  0.55993438]]\n",
      "[0 1]\n",
      "[[ 0.44449884  0.5555011 ]]\n",
      "[0 1]\n",
      "[[ 0.49022117  0.50977886]]\n",
      "[1 0]\n",
      "[[ 0.50428933  0.49571064]]\n",
      "[0 1]\n",
      "[[ 0.47923145  0.52076852]]\n",
      "[0 1]\n",
      "[[ 0.46545833  0.53454167]]\n",
      "[0 1]\n",
      "[[ 0.4349533   0.56504667]]\n",
      "[1 0]\n",
      "[[ 0.48983297  0.510167  ]]\n",
      "[0 1]\n",
      "[[ 0.48423746  0.51576251]]\n",
      "[1 0]\n",
      "[[ 0.48082602  0.51917398]]\n",
      "[1 0]\n",
      "[[ 0.45670697  0.54329306]]\n",
      "[0 1]\n",
      "[[ 0.44789895  0.55210096]]\n",
      "[0 1]\n",
      "[[ 0.4717195  0.5282805]]\n",
      "[0 1]\n",
      "[[ 0.49317649  0.50682348]]\n",
      "[0 1]\n",
      "[[ 0.44043255  0.55956745]]\n",
      "[0 1]\n",
      "[[ 0.45438904  0.54561096]]\n",
      "[0 1]\n",
      "[[ 0.47895947  0.5210405 ]]\n",
      "[1 0]\n",
      "[[ 0.4876292   0.51237077]]\n",
      "[0 1]\n",
      "[[ 0.47703311  0.52296692]]\n",
      "[0 1]\n",
      "[[ 0.4625124   0.53748763]]\n",
      "[1 0]\n",
      "[[ 0.47916761  0.52083242]]\n",
      "[0 1]\n",
      "[[ 0.45706591  0.54293412]]\n",
      "[1 0]\n",
      "[[ 0.46618563  0.53381437]]\n",
      "[0 1]\n",
      "[[ 0.43298072  0.56701928]]\n",
      "[0 1]\n",
      "[[ 0.43012872  0.56987119]]\n",
      "[0 1]\n",
      "[[ 0.5022046   0.49779537]]\n",
      "[1 0]\n",
      "[[ 0.42218897  0.577811  ]]\n",
      "[0 1]\n",
      "[[ 0.4976885   0.50231141]]\n",
      "[0 1]\n",
      "[[ 0.44839358  0.55160642]]\n",
      "[0 1]\n",
      "[[ 0.40660352  0.59339643]]\n",
      "[0 1]\n",
      "[[ 0.43560505  0.56439495]]\n",
      "[0 1]\n",
      "[[ 0.45240572  0.54759431]]\n",
      "[0 1]\n",
      "[[ 0.43690765  0.56309229]]\n",
      "[0 1]\n",
      "[[ 0.44443652  0.55556345]]\n",
      "[0 1]\n",
      "[[ 0.45215777  0.5478422 ]]\n",
      "[0 1]\n",
      "[[ 0.48463774  0.51536232]]\n",
      "[1 0]\n",
      "[[ 0.40785173  0.59214824]]\n",
      "[0 1]\n",
      "[[ 0.41979137  0.5802086 ]]\n",
      "[0 1]\n",
      "[[ 0.4576045   0.54239547]]\n",
      "[0 1]\n",
      "[[ 0.48367691  0.51632315]]\n",
      "[0 1]\n",
      "[[ 0.43738329  0.56261671]]\n",
      "[0 1]\n",
      "[[ 0.49393269  0.50606722]]\n",
      "[0 1]\n",
      "[[ 0.46221897  0.53778106]]\n",
      "[0 1]\n",
      "[[ 0.47879311  0.52120697]]\n",
      "[0 1]\n",
      "[[ 0.45237577  0.54762423]]\n",
      "[1 0]\n",
      "[[ 0.46208897  0.537911  ]]\n",
      "[0 1]\n",
      "[[ 0.45443374  0.54556632]]\n",
      "[0 1]\n",
      "[[ 0.43352503  0.56647497]]\n",
      "[1 0]\n",
      "[[ 0.44766071  0.55233932]]\n",
      "[0 1]\n",
      "[[ 0.4583151   0.54168499]]\n",
      "[0 1]\n",
      "[[ 0.42753395  0.57246602]]\n",
      "[0 1]\n",
      "[[ 0.48048517  0.51951474]]\n",
      "[0 1]\n",
      "[[ 0.42988431  0.57011575]]\n",
      "[0 1]\n",
      "[[ 0.45809054  0.5419094 ]]\n",
      "[0 1]\n",
      "[[ 0.46352127  0.5364787 ]]\n",
      "[0 1]\n",
      "[[ 0.43063328  0.56936675]]\n",
      "[1 0]\n",
      "[[ 0.4181155   0.58188444]]\n",
      "[0 1]\n",
      "[[ 0.47650403  0.52349597]]\n",
      "[0 1]\n",
      "[[ 0.45704436  0.54295564]]\n",
      "[0 1]\n",
      "[[ 0.43908525  0.56091481]]\n",
      "[1 0]\n",
      "[[ 0.48800316  0.51199681]]\n",
      "[0 1]\n",
      "[[ 0.47949278  0.52050722]]\n",
      "[0 1]\n",
      "[[ 0.43957883  0.56042117]]\n",
      "[0 1]\n",
      "[[ 0.43067262  0.56932735]]\n",
      "[0 1]\n",
      "[[ 0.47971416  0.5202859 ]]\n",
      "[0 1]\n",
      "[[ 0.48602509  0.51397491]]\n",
      "[0 1]\n",
      "[[ 0.44002876  0.55997127]]\n",
      "[0 1]\n",
      "[[ 0.49106675  0.50893325]]\n",
      "[0 1]\n",
      "[[ 0.50190216  0.49809787]]\n",
      "[0 1]\n",
      "[[ 0.47208112  0.52791882]]\n",
      "[0 1]\n",
      "[[ 0.48987615  0.51012385]]\n",
      "[0 1]\n",
      "[[ 0.47883725  0.52116269]]\n",
      "[0 1]\n",
      "[[ 0.47887233  0.52112764]]\n",
      "[0 1]\n",
      "[[ 0.49893323  0.50106674]]\n",
      "[0 1]\n",
      "[[ 0.41958714  0.58041286]]\n",
      "[0 1]\n",
      "[[ 0.48861679  0.51138318]]\n",
      "[0 1]\n",
      "[[ 0.42022088  0.57977915]]\n",
      "[0 1]\n",
      "[[ 0.45105758  0.54894239]]\n",
      "[1 0]\n",
      "[[ 0.47110903  0.52889097]]\n",
      "[0 1]\n",
      "[[ 0.48217317  0.5178268 ]]\n",
      "[0 1]\n",
      "[[ 0.48546985  0.51453012]]\n",
      "[0 1]\n",
      "[[ 0.44139668  0.55860329]]\n",
      "[0 1]\n",
      "[[ 0.45719749  0.54280251]]\n",
      "[0 1]\n",
      "[[ 0.42564243  0.57435757]]\n",
      "[0 1]\n",
      "[[ 0.4403224  0.5596776]]\n",
      "[0 1]\n",
      "[[ 0.41870371  0.58129632]]\n",
      "[0 1]\n",
      "[[ 0.44445041  0.55554962]]\n",
      "[0 1]\n",
      "[[ 0.4235982   0.57640189]]\n",
      "[0 1]\n",
      "[[ 0.42205888  0.57794118]]\n",
      "[0 1]\n",
      "[[ 0.43991387  0.56008613]]\n",
      "[0 1]\n",
      "[[ 0.42535886  0.57464117]]\n",
      "[0 1]\n",
      "[[ 0.44351217  0.55648786]]\n",
      "[0 1]\n"
     ]
    },
    {
     "name": "stdout",
     "output_type": "stream",
     "text": [
      "[[ 0.45898774  0.54101223]]\n",
      "[0 1]\n",
      "[[ 0.43498111  0.56501895]]\n",
      "[0 1]\n",
      "[[ 0.46783352  0.53216654]]\n",
      "[0 1]\n",
      "[[ 0.46935496  0.53064501]]\n",
      "[0 1]\n",
      "[[ 0.47076625  0.52923381]]\n",
      "[0 1]\n",
      "[[ 0.43756971  0.56243032]]\n",
      "[0 1]\n",
      "[[ 0.45619521  0.54380476]]\n",
      "[0 1]\n",
      "[[ 0.49004981  0.50995016]]\n",
      "[0 1]\n",
      "[[ 0.47301233  0.52698767]]\n",
      "[1 0]\n",
      "[[ 0.4550077   0.54499227]]\n",
      "[0 1]\n",
      "[[ 0.47195199  0.52804804]]\n",
      "[0 1]\n",
      "[[ 0.4187642   0.58123571]]\n",
      "[0 1]\n",
      "[[ 0.41130325  0.58869672]]\n",
      "[0 1]\n",
      "[[ 0.50030977  0.49969023]]\n",
      "[0 1]\n",
      "[[ 0.4167954   0.58320463]]\n",
      "[0 1]\n",
      "[[ 0.48965871  0.51034135]]\n",
      "[0 1]\n",
      "[[ 0.43381453  0.56618553]]\n",
      "[1 0]\n",
      "[[ 0.45770463  0.54229534]]\n",
      "[0 1]\n",
      "[[ 0.47058684  0.5294131 ]]\n",
      "[0 1]\n",
      "[[ 0.43881345  0.56118649]]\n",
      "[0 1]\n",
      "[[ 0.44644329  0.55355674]]\n",
      "[0 1]\n",
      "[[ 0.43626603  0.56373399]]\n",
      "[0 1]\n",
      "[[ 0.45604759  0.54395241]]\n",
      "[0 1]\n",
      "[[ 0.46246618  0.53753376]]\n",
      "[1 0]\n",
      "[[ 0.43489584  0.56510413]]\n",
      "[0 1]\n",
      "[[ 0.46011424  0.53988576]]\n",
      "[0 1]\n",
      "[[ 0.46550131  0.53449869]]\n",
      "[0 1]\n",
      "[[ 0.43043163  0.56956834]]\n",
      "[0 1]\n",
      "[[ 0.45426863  0.54573137]]\n",
      "[1 0]\n",
      "[[ 0.47644377  0.52355617]]\n",
      "[1 0]\n",
      "[[ 0.47247091  0.52752912]]\n",
      "[0 1]\n",
      "[[ 0.45742032  0.54257971]]\n",
      "[0 1]\n",
      "[[ 0.44664049  0.55335957]]\n",
      "[0 1]\n",
      "[[ 0.49166834  0.50833166]]\n",
      "[0 1]\n",
      "[[ 0.51774234  0.48225772]]\n",
      "[0 1]\n",
      "[[ 0.43431547  0.56568456]]\n",
      "[0 1]\n"
     ]
    }
   ],
   "source": [
    "def get_predictions(model, X_data, y_data, display=False):\n",
    "    preds = np.zeros((0,2))\n",
    "    labels = np.zeros((0,2))\n",
    "    for ii in range(len(X_data)):\n",
    "        prediction = model.predict(np.expand_dims(X_data[ii], axis=0))\n",
    "        label = y_data[ii]\n",
    "        preds = np.vstack((preds,prediction))\n",
    "        labels = np.vstack((labels,label))\n",
    "        if display is True:\n",
    "            print(prediction)\n",
    "            print(label)\n",
    "    return preds, labels\n",
    "\n",
    "preds, labels = get_predictions(model_bidirectional, X_data, y_data, display=True)\n",
    "#preds, labels = get_predictions(model_no_embedding, X_data_enc, y_data, display=True)"
   ]
  },
  {
   "cell_type": "code",
   "execution_count": 0,
   "metadata": {
    "colab": {},
    "colab_type": "code",
    "id": "XvU8x1XDx8_G"
   },
   "outputs": [],
   "source": [
    "import itertools\n",
    "import math\n",
    "from sklearn.metrics import confusion_matrix\n",
    "\n",
    "def print_statistics(cm):\n",
    "    tn, fp, fn, tp = cm.ravel()\n",
    "    # TP\n",
    "    print(\"TP: \" + str(tp))\n",
    "    # TN\n",
    "    print(\"TN: \" + str(tn))\n",
    "    # FP\n",
    "    print(\"FP: \" + str(fp))\n",
    "    # FN\n",
    "    print(\"FN: \" + str(fn))\n",
    "    # TPR\n",
    "    recall = tp/(tp+fn)\n",
    "    print(\"TPR/recall: \" + str(recall))\n",
    "    # TNR\n",
    "    specificity = tn/(tn+fp)\n",
    "    print(\"TNR/specificity: \" + str(specificity))\n",
    "    # PPV\n",
    "    precision = tp/(tp+fp)\n",
    "    print(\"PPV/precision: \" + str(precision))\n",
    "    # NPV\n",
    "    npv = tn/(tn+fn)\n",
    "    print(\"NPV/negative predictive value: \" + str(npv))\n",
    "    # FNR\n",
    "    miss_rate = 1-recall\n",
    "    print(\"FNR/false negative rate: \" + str(miss_rate))\n",
    "    # FPR\n",
    "    fall_out = 1-specificity\n",
    "    print(\"FPR/false positive rate: \" + str(fall_out))\n",
    "    # FDR\n",
    "    fdr = 1-precision\n",
    "    print(\"FDR/false discovery rate: \" + str(fdr))\n",
    "    # FOR\n",
    "    fomr = 1-npv\n",
    "    print(\"FOR/false ommission rate: \" + str(fomr))\n",
    "    # F1\n",
    "    f1 = 2*((precision*recall)/(precision+recall))\n",
    "    print(\"F1 score: \" + str(f1))\n",
    "    # accuracy\n",
    "    acc = (tp+tn)/(tp+tn+fp+fn)\n",
    "    print(\"Accuracy: \" + str(acc))\n",
    "    # Matthews correlation coefficient (MCC)\n",
    "    mcc = (tp*tn-fp*fn)/math.sqrt((tp+fp)*(tp+fn)*(tn+fp)*(tn+fn))\n",
    "    print(\"MCC/Matthews correlation coefficient: \" + str(mcc))\n",
    "    # Informedness or Bookmaker Informedness (BM)\n",
    "    bm = recall+specificity-1\n",
    "    print(\"BM/Bookmaker Informedness: \" + str(bm))\n",
    "    # Markedness (MK)\n",
    "    mk = precision+npv-1\n",
    "    print(\"MK/Markedness: \" + str(mk))\n",
    "    \n",
    "    return fall_out, recall\n",
    "\n",
    "# credit: https://github.com/scikit-learn/scikit-learn/blob/master/examples/model_selection/plot_confusion_matrix.py\n",
    "def plot_confusion_matrix(cm, classes,\n",
    "                          normalize=False,\n",
    "                          title='Confusion matrix',\n",
    "                          cmap=plt.cm.Blues):\n",
    "    plt.imshow(cm, interpolation='nearest', cmap=cmap)\n",
    "    plt.title(title)\n",
    "    #plt.colorbar()\n",
    "    tick_marks = np.arange(len(classes))\n",
    "    plt.xticks(tick_marks, classes, rotation=45)\n",
    "    plt.yticks(tick_marks, classes)\n",
    "    s = [['TN','FP'], ['FN', 'TP']]\n",
    "    #s = [['TP','FN'], ['FP', 'TN']]\n",
    "    fmt = '.2f' if normalize else 'd'\n",
    "    thresh = cm.max() / 2.\n",
    "    for i in range(2):\n",
    "        for j in range(2):\n",
    "            plt.text(j,i, (str(s[i][j])+\" = \"+str(format(cm[i][j],fmt))),horizontalalignment=\"center\",\n",
    "                 color=\"white\" if cm[i, j] > thresh else \"black\")\n",
    "    plt.tight_layout()\n",
    "    plt.ylabel('True label')\n",
    "    plt.xlabel('Predicted label')"
   ]
  },
  {
   "cell_type": "code",
   "execution_count": 0,
   "metadata": {
    "colab": {},
    "colab_type": "code",
    "id": "wMBuzR6lx8_J",
    "outputId": "0b482bc6-9056-4b1b-916c-910186e20593"
   },
   "outputs": [
    {
     "name": "stdout",
     "output_type": "stream",
     "text": [
      "TP: 50\n",
      "TN: 54\n",
      "FP: 4\n",
      "FN: 417\n",
      "TPR/recall: 0.107066381156\n",
      "TNR/specificity: 0.931034482759\n",
      "PPV/precision: 0.925925925926\n",
      "NPV/negative predictive value: 0.114649681529\n",
      "FNR/false negative rate: 0.892933618844\n",
      "FPR/false positive rate: 0.0689655172414\n",
      "FDR/false discovery rate: 0.0740740740741\n",
      "FOR/false ommission rate: 0.885350318471\n",
      "F1 score: 0.191938579655\n",
      "Accuracy: 0.198095238095\n",
      "MCC/Matthews correlation coefficient: 0.0393187702999\n",
      "BM/Bookmaker Informedness: 0.0381008639149\n",
      "MK/Markedness: 0.0405756074546\n"
     ]
    },
    {
     "data": {
      "image/png": "[encoded data removed]",
      "text/plain": [
       "<matplotlib.figure.Figure at 0x7f8bb7570eb8>"
      ]
     },
     "metadata": {
      "tags": []
     },
     "output_type": "display_data"
    }
   ],
   "source": [
    "preds, labels = get_predictions(model_from_scratch, X_data, y_data)\n",
    "\n",
    "y_trues = [np.argmax(ii) for ii in labels]\n",
    "y_preds = [np.argmax(ii) for ii in preds]\n",
    "\n",
    "cm = confusion_matrix(y_trues, y_preds)\n",
    "fpr, tpr = print_statistics(cm)\n",
    "\n",
    "plt.figure()\n",
    "plot_confusion_matrix(cm, classes=['Negative','Positive'], title='FROM SCRATCH EMBEDDINGS')\n",
    "plt.show()"
   ]
  },
  {
   "cell_type": "code",
   "execution_count": 0,
   "metadata": {
    "colab": {},
    "colab_type": "code",
    "id": "o0ONjQzkx8_Q",
    "outputId": "b2e348f3-cd75-4da9-fd2a-1ce6153444d4"
   },
   "outputs": [
    {
     "name": "stdout",
     "output_type": "stream",
     "text": [
      "TP: 1\n",
      "TN: 57\n",
      "FP: 1\n",
      "FN: 466\n",
      "TPR/recall: 0.00214132762313\n",
      "TNR/specificity: 0.98275862069\n",
      "PPV/precision: 0.5\n",
      "NPV/negative predictive value: 0.108986615679\n",
      "FNR/false negative rate: 0.997858672377\n",
      "FPR/false positive rate: 0.0172413793103\n",
      "FDR/false discovery rate: 0.5\n",
      "FOR/false ommission rate: 0.891013384321\n",
      "F1 score: 0.00426439232409\n",
      "Accuracy: 0.110476190476\n",
      "MCC/Matthews correlation coefficient: -0.0768395881928\n",
      "BM/Bookmaker Informedness: -0.0151000516872\n",
      "MK/Markedness: -0.391013384321\n"
     ]
    },
    {
     "data": {
      "image/png": "[encoded data removed]",
      "text/plain": [
       "<matplotlib.figure.Figure at 0x7f8bb7570b00>"
      ]
     },
     "metadata": {
      "tags": []
     },
     "output_type": "display_data"
    }
   ],
   "source": [
    "preds, labels = get_predictions(model_pt_frozen, X_data, y_data)\n",
    "\n",
    "y_trues = [np.argmax(ii) for ii in labels]\n",
    "y_preds = [np.argmax(ii) for ii in preds]\n",
    "\n",
    "cm = confusion_matrix(y_trues, y_preds)\n",
    "fpr, tpr = print_statistics(cm)\n",
    "\n",
    "plt.figure()\n",
    "plot_confusion_matrix(cm, classes=['Negative','Positive'], title='ARABIC EMBEDDINGS - FROZEN')\n",
    "plt.show()"
   ]
  },
  {
   "cell_type": "code",
   "execution_count": 0,
   "metadata": {
    "colab": {},
    "colab_type": "code",
    "id": "i0aCUWWbx8_W",
    "outputId": "b50fc33d-312d-4a74-9aa5-54b52490aed0"
   },
   "outputs": [
    {
     "name": "stdout",
     "output_type": "stream",
     "text": [
      "TP: 94\n",
      "TN: 47\n",
      "FP: 11\n",
      "FN: 373\n",
      "TPR/recall: 0.201284796574\n",
      "TNR/specificity: 0.810344827586\n",
      "PPV/precision: 0.895238095238\n",
      "NPV/negative predictive value: 0.111904761905\n",
      "FNR/false negative rate: 0.798715203426\n",
      "FPR/false positive rate: 0.189655172414\n",
      "FDR/false discovery rate: 0.104761904762\n",
      "FOR/false ommission rate: 0.888095238095\n",
      "F1 score: 0.328671328671\n",
      "Accuracy: 0.268571428571\n",
      "MCC/Matthews correlation coefficient: 0.00911420561544\n",
      "BM/Bookmaker Informedness: 0.0116296241601\n",
      "MK/Markedness: 0.00714285714286\n"
     ]
    },
    {
     "data": {
      "image/png": "[encoded data removed]",
      "text/plain": [
       "<matplotlib.figure.Figure at 0x7f8bb406f7f0>"
      ]
     },
     "metadata": {
      "tags": []
     },
     "output_type": "display_data"
    }
   ],
   "source": [
    "preds, labels = get_predictions(model_pt_trainable, X_data, y_data)\n",
    "\n",
    "y_trues = [np.argmax(ii) for ii in labels]\n",
    "y_preds = [np.argmax(ii) for ii in preds]\n",
    "\n",
    "cm = confusion_matrix(y_trues, y_preds)\n",
    "fpr, tpr = print_statistics(cm)\n",
    "\n",
    "plt.figure()\n",
    "plot_confusion_matrix(cm, classes=['Negative','Positive'], title='ARABIC EMBEDDINGS - TRAINABLE')\n",
    "plt.show()"
   ]
  },
  {
   "cell_type": "code",
   "execution_count": 0,
   "metadata": {
    "colab": {},
    "colab_type": "code",
    "id": "00rOvUpjx8_Z",
    "outputId": "4d8c4255-2bdf-4ac5-d36c-a25c37c0d325"
   },
   "outputs": [
    {
     "name": "stdout",
     "output_type": "stream",
     "text": [
      "TP: 304\n",
      "TN: 19\n",
      "FP: 39\n",
      "FN: 163\n",
      "TPR/recall: 0.65096359743\n",
      "TNR/specificity: 0.327586206897\n",
      "PPV/precision: 0.886297376093\n",
      "NPV/negative predictive value: 0.104395604396\n",
      "FNR/false negative rate: 0.34903640257\n",
      "FPR/false positive rate: 0.672413793103\n",
      "FDR/false discovery rate: 0.113702623907\n",
      "FOR/false ommission rate: 0.895604395604\n",
      "F1 score: 0.750617283951\n",
      "Accuracy: 0.615238095238\n",
      "MCC/Matthews correlation coefficient: -0.0141293095955\n",
      "BM/Bookmaker Informedness: -0.021450195673\n",
      "MK/Markedness: -0.0093070195111\n"
     ]
    },
    {
     "data": {
      "image/png": "[encoded data removed]",
      "text/plain": [
       "<matplotlib.figure.Figure at 0x7f8bb4036470>"
      ]
     },
     "metadata": {
      "tags": []
     },
     "output_type": "display_data"
    }
   ],
   "source": [
    "preds, labels = get_predictions(model_no_embedding, X_data_enc, y_data)\n",
    "\n",
    "y_trues = [np.argmax(ii) for ii in labels]\n",
    "y_preds = [np.argmax(ii) for ii in preds]\n",
    "\n",
    "cm = confusion_matrix(y_trues, y_preds)\n",
    "fpr, tpr = print_statistics(cm)\n",
    "\n",
    "plt.figure()\n",
    "plot_confusion_matrix(cm, classes=['Negative','Positive'], title='NO EMBEDDING')\n",
    "plt.show()"
   ]
  },
  {
   "cell_type": "code",
   "execution_count": 0,
   "metadata": {
    "colab": {},
    "colab_type": "code",
    "id": "3s3b41w1x8_g",
    "outputId": "a969e2c6-b182-42e9-d74c-c155106c8449"
   },
   "outputs": [
    {
     "name": "stdout",
     "output_type": "stream",
     "text": [
      "TP: 451\n",
      "TN: 3\n",
      "FP: 55\n",
      "FN: 16\n",
      "TPR/recall: 0.96573875803\n",
      "TNR/specificity: 0.051724137931\n",
      "PPV/precision: 0.891304347826\n",
      "NPV/negative predictive value: 0.157894736842\n",
      "FNR/false negative rate: 0.03426124197\n",
      "FPR/false positive rate: 0.948275862069\n",
      "FDR/false discovery rate: 0.108695652174\n",
      "FOR/false ommission rate: 0.842105263158\n",
      "F1 score: 0.927029804728\n",
      "Accuracy: 0.864761904762\n",
      "MCC/Matthews correlation coefficient: 0.0293114055777\n",
      "BM/Bookmaker Informedness: 0.017462895961\n",
      "MK/Markedness: 0.0491990846682\n"
     ]
    },
    {
     "data": {
      "image/png": "[encoded data removed]",
      "text/plain": [
       "<matplotlib.figure.Figure at 0x7f8bb405a9e8>"
      ]
     },
     "metadata": {
      "tags": []
     },
     "output_type": "display_data"
    }
   ],
   "source": [
    "preds, labels = get_predictions(model_bidirectional, X_data, y_data)\n",
    "\n",
    "y_trues = [np.argmax(ii) for ii in labels]\n",
    "y_preds = [np.argmax(ii) for ii in preds]\n",
    "\n",
    "cm = confusion_matrix(y_trues, y_preds)\n",
    "fpr, tpr = print_statistics(cm)\n",
    "\n",
    "plt.figure()\n",
    "plot_confusion_matrix(cm, classes=['Negative','Positive'], title='BIDIRECTIONAL - ARABIC EMBEDDINGS - TRAINABLE')\n",
    "plt.show()"
   ]
  },
  {
   "cell_type": "code",
   "execution_count": 0,
   "metadata": {
    "colab": {},
    "colab_type": "code",
    "id": "3nNGe697x8_q",
    "outputId": "9faf2f70-9496-42c7-b696-9c88c723f7ef"
   },
   "outputs": [
    {
     "name": "stdout",
     "output_type": "stream",
     "text": [
      "TP: 5\n",
      "TN: 89\n",
      "FP: 11\n",
      "FN: 95\n",
      "TPR/recall: 0.05\n",
      "TNR/specificity: 0.89\n",
      "PPV/precision: 0.3125\n",
      "NPV/negative predictive value: 0.483695652174\n",
      "FNR/false negative rate: 0.95\n",
      "FPR/false positive rate: 0.11\n",
      "FDR/false discovery rate: 0.6875\n",
      "FOR/false ommission rate: 0.516304347826\n",
      "F1 score: 0.0862068965517\n",
      "Accuracy: 0.47\n",
      "MCC/Matthews correlation coefficient: -0.110581467116\n",
      "BM/Bookmaker Informedness: -0.06\n",
      "MK/Markedness: -0.203804347826\n"
     ]
    },
    {
     "data": {
      "image/png": "[encoded data removed]",
      "text/plain": [
       "<matplotlib.figure.Figure at 0x7f8ad1fc4b38>"
      ]
     },
     "metadata": {
      "tags": []
     },
     "output_type": "display_data"
    },
    {
     "name": "stdout",
     "output_type": "stream",
     "text": [
      "TP: 26\n",
      "TN: 74\n",
      "FP: 26\n",
      "FN: 74\n",
      "TPR/recall: 0.26\n",
      "TNR/specificity: 0.74\n",
      "PPV/precision: 0.5\n",
      "NPV/negative predictive value: 0.5\n",
      "FNR/false negative rate: 0.74\n",
      "FPR/false positive rate: 0.26\n",
      "FDR/false discovery rate: 0.5\n",
      "FOR/false ommission rate: 0.5\n",
      "F1 score: 0.342105263158\n",
      "Accuracy: 0.5\n",
      "MCC/Matthews correlation coefficient: 0.0\n",
      "BM/Bookmaker Informedness: 0.0\n",
      "MK/Markedness: 0.0\n"
     ]
    },
    {
     "data": {
      "image/png": "[encoded data removed]",
      "text/plain": [
       "<matplotlib.figure.Figure at 0x7f8ad1f7b518>"
      ]
     },
     "metadata": {
      "tags": []
     },
     "output_type": "display_data"
    }
   ],
   "source": [
    "# requires label shape of (m,)\n",
    "y_train_p = [np.argmax(ii) for ii in y_train]\n",
    "y_train_p = np.array(y_train_p)\n",
    "y_valid_p = [np.argmax(ii) for ii in y_valid]\n",
    "y_valid_p = np.array(y_valid_p)\n",
    "from sklearn.naive_bayes import GaussianNB, MultinomialNB\n",
    "gnb = GaussianNB()\n",
    "y_preds = gnb.fit(X_train, y_train_p).predict(X_valid)\n",
    "y_trues = y_valid_p\n",
    "cm = confusion_matrix(y_trues, y_preds)\n",
    "fpr, tpr = print_statistics(cm)\n",
    "plt.figure()\n",
    "plot_confusion_matrix(cm, classes=['Negative','Positive'], title='GAUSSIAN-NB')\n",
    "plt.show()\n",
    "#print(\"GaussianNB: Number of mislabeled points out of a total %d points : %d\" % (X_valid.shape[0],(y_valid != y_pred).sum()))\n",
    "clf = MultinomialNB()\n",
    "y_preds = clf.fit(X_train, y_train_p).predict(X_valid)\n",
    "y_trues = y_valid_p\n",
    "cm = confusion_matrix(y_trues, y_preds)\n",
    "fpr, tpr = print_statistics(cm)\n",
    "plt.figure()\n",
    "plot_confusion_matrix(cm, classes=['Negative','Positive'], title='MULTINOMIAL-NB')\n",
    "plt.show()\n",
    "#print(\"MultinomialNB: Number of mislabeled points out of a total %d points : %d\" % (X_valid.shape[0],(y_valid != y_pred).sum()))"
   ]
  },
  {
   "cell_type": "markdown",
   "metadata": {
    "colab_type": "text",
    "id": "sEyxc3vZx86n"
   },
   "source": [
    "#### More Information ####\n",
    "\n",
    "__[fastText](https://fasttext.cc/)__:\n",
    " - 2016, Mikolov [1] (same person who created word2vec)\n",
    " - Learning is \"fast\"\n",
    " - Pre-trained word vectors via Facebook Research (https://github.com/facebookresearch/fastText/blob/master/pretrained-vectors.md)\n",
    "  - Pre-trained word vectors for 294 languages, trained on Wikipedia using fastText. These vectors in dimension 300 were obtained using the skip-gram model described in __[Bojanowski et al. (2016)](https://arxiv.org/abs/1607.04606)__ with default parameters.\n",
    " \n",
    " \n",
    " 1. P. Bojanowski*, E. Grave*, A. Joulin, T. Mikolov, __[Enriching Word Vectors with Subword Information](https://arxiv.org/abs/1607.04606)__\n",
    " \n",
    "__[GloVe](http://nlp.stanford.edu/projects/glove/)__:\n",
    " - 2014, Stanford NLP\n",
    " \n",
    "__[word2vec](https://code.google.com/archive/p/word2vec/)__:\n",
    " - 2013, Mikolov\n",
    "\n",
    "__[How is GloVe different from word2vec?](https://www.quora.com/How-is-GloVe-different-from-word2vec)__: TL;DR\n",
    " - Perform roughtly the same function, but are built differently (Word2Vec is a \"predictive\" Feed-Fwd NN w/ SGD)\n",
    " - GloVe is result of Stanford NLP wanting to build on the Word2Vec concept of \"semantic analogies\" and yet retain \"intrinsic statistical properties of the corpus\" (i.e., \"word occurrence statistics\")\n",
    "\n",
    "__[GloVe vs word2vec revisited.](http://dsnotes.com/post/glove-enwiki/)__: TL;DR\n",
    " - Results are similar enough (maybe GloVe is slightly more accurate)\n",
    " - Trade-off: GloVe uses A LOT of RAM/Memory (on order of 15x more!); Word2Vec is 2x slower"
   ]
  },
  {
   "cell_type": "code",
   "execution_count": 0,
   "metadata": {
    "colab": {},
    "colab_type": "code",
    "id": "lhcbg97T7PIt"
   },
   "outputs": [],
   "source": [
    ""
   ]
  }
 ],
 "metadata": {
  "accelerator": "GPU",
  "colab": {
   "collapsed_sections": [],
   "name": "NLP-Starter.ipynb",
   "provenance": [],
   "version": "0.3.2"
  },
  "kernelspec": {
   "display_name": "Python 3",
   "language": "python",
   "name": "python3"
  }
 },
 "nbformat": 4,
 "nbformat_minor": 0
}
