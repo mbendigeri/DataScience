{
 "cells": [
  {
   "cell_type": "markdown",
   "metadata": {},
   "source": [
    "### Deep Learning Tutorial for Beginners\n",
    "https://www.kaggle.com/kanncaa1/deep-learning-tutorial-for-beginners/notebook"
   ]
  },
  {
   "cell_type": "code",
   "execution_count": 2,
   "metadata": {},
   "outputs": [
    {
     "name": "stdout",
     "output_type": "stream",
     "text": [
      "5.6.0\n"
     ]
    }
   ],
   "source": [
    "import notebook\n",
    "print(notebook.__version__)"
   ]
  },
  {
   "cell_type": "code",
   "execution_count": 33,
   "metadata": {},
   "outputs": [],
   "source": [
    "import numpy as np\n",
    "import pandas as pd\n",
    "import matplotlib.pyplot as plt\n",
    "import warnings\n",
    "warnings.filterwarnings(\"ignore\")\n",
    "from subprocess import check_output #Any results you write to the current directory are saved as output.\n",
    "%matplotlib inline"
   ]
  },
  {
   "cell_type": "code",
   "execution_count": 23,
   "metadata": {},
   "outputs": [],
   "source": [
    "#print (check_output([\"ls\",\"../input\"]).decode(\"utf8\"))\n",
    "#print(check_output([\"ls\", \"../input\"]).decode(\"utf8\"))\n",
    "\n",
    "#check_output([\"echo\", \"Hello World!\"])"
   ]
  },
  {
   "cell_type": "code",
   "execution_count": 49,
   "metadata": {},
   "outputs": [
    {
     "data": {
      "text/plain": [
       "(2062, 64, 64)"
      ]
     },
     "execution_count": 49,
     "metadata": {},
     "output_type": "execute_result"
    }
   ],
   "source": [
    "x_1=np.load('./input/x.npy')\n",
    "x_1.shape"
   ]
  },
  {
   "cell_type": "markdown",
   "metadata": {},
   "source": [
    "#### The x_1 is 3D array of 2062  images\n",
    "#### Each image is represented by a an 2D array of size 64*64\n",
    "#### so each element in the array represents a pixel"
   ]
  },
  {
   "cell_type": "code",
   "execution_count": 115,
   "metadata": {},
   "outputs": [
    {
     "data": {
      "text/plain": [
       "array([[[0.46666667, 0.4745098 , 0.47843137, ..., 0.5176471 ,\n",
       "         0.5137255 , 0.5019608 ],\n",
       "        [0.49803922, 0.4862745 , 0.4862745 , ..., 0.5254902 ,\n",
       "         0.5176471 , 0.50980395],\n",
       "        [0.54509807, 0.49411765, 0.49019608, ..., 0.5294118 ,\n",
       "         0.5254902 , 0.5137255 ],\n",
       "        ...,\n",
       "        [0.5019608 , 0.5137255 , 0.5176471 , ..., 0.5529412 ,\n",
       "         0.54509807, 0.53333336],\n",
       "        [0.49803922, 0.5058824 , 0.5137255 , ..., 0.54509807,\n",
       "         0.53333336, 0.52156866],\n",
       "        [0.49019608, 0.49803922, 0.5019608 , ..., 0.5294118 ,\n",
       "         0.52156866, 0.50980395]],\n",
       "\n",
       "       [[0.59607846, 0.60784316, 0.61960787, ..., 0.4627451 ,\n",
       "         0.4509804 , 0.44313726],\n",
       "        [0.60784316, 0.61960787, 0.6313726 , ..., 0.4745098 ,\n",
       "         0.4627451 , 0.4509804 ],\n",
       "        [0.6156863 , 0.627451  , 0.6431373 , ..., 0.4862745 ,\n",
       "         0.4745098 , 0.4627451 ],\n",
       "        ...,\n",
       "        [0.50980395, 0.5176471 , 0.5254902 , ..., 0.40392157,\n",
       "         0.39607844, 0.3882353 ],\n",
       "        [0.5019608 , 0.50980395, 0.5176471 , ..., 0.4       ,\n",
       "         0.39215687, 0.38431373],\n",
       "        [0.49411765, 0.5058824 , 0.50980395, ..., 0.3882353 ,\n",
       "         0.38039216, 0.37254903]],\n",
       "\n",
       "       [[0.5882353 , 0.6039216 , 0.61960787, ..., 0.53333336,\n",
       "         0.5137255 , 0.5019608 ],\n",
       "        [0.5921569 , 0.6117647 , 0.6156863 , ..., 0.5411765 ,\n",
       "         0.52156866, 0.50980395],\n",
       "        [0.5882353 , 0.61960787, 0.627451  , ..., 0.54901963,\n",
       "         0.5294118 , 0.5137255 ],\n",
       "        ...,\n",
       "        [0.4745098 , 0.4862745 , 0.49411765, ..., 0.42745098,\n",
       "         0.41960785, 0.40784314],\n",
       "        [0.47058824, 0.47843137, 0.4862745 , ..., 0.41568628,\n",
       "         0.4117647 , 0.4       ],\n",
       "        [0.45882353, 0.47058824, 0.47843137, ..., 0.40392157,\n",
       "         0.4       , 0.3882353 ]],\n",
       "\n",
       "       ...,\n",
       "\n",
       "       [[0.5254902 , 0.54509807, 0.5568628 , ..., 0.49803922,\n",
       "         0.49019608, 0.4862745 ],\n",
       "        [0.5372549 , 0.5529412 , 0.5686275 , ..., 0.5019608 ,\n",
       "         0.49803922, 0.49019608],\n",
       "        [0.54509807, 0.5568628 , 0.57254905, ..., 0.5058824 ,\n",
       "         0.49803922, 0.49019608],\n",
       "        ...,\n",
       "        [0.5058824 , 0.50980395, 0.5137255 , ..., 0.4862745 ,\n",
       "         0.47843137, 0.47058824],\n",
       "        [0.49411765, 0.5058824 , 0.50980395, ..., 0.47843137,\n",
       "         0.47058824, 0.4627451 ],\n",
       "        [0.48235294, 0.49411765, 0.5058824 , ..., 0.47058824,\n",
       "         0.4627451 , 0.45490196]],\n",
       "\n",
       "       [[0.5137255 , 0.5254902 , 0.5372549 , ..., 0.45490196,\n",
       "         0.44705883, 0.43529412],\n",
       "        [0.5176471 , 0.53333336, 0.54901963, ..., 0.46666667,\n",
       "         0.45882353, 0.44705883],\n",
       "        [0.5254902 , 0.5411765 , 0.56078434, ..., 0.4745098 ,\n",
       "         0.4627451 , 0.4509804 ],\n",
       "        ...,\n",
       "        [0.53333336, 0.5411765 , 0.5529412 , ..., 0.54509807,\n",
       "         0.5372549 , 0.5294118 ],\n",
       "        [0.52156866, 0.53333336, 0.54509807, ..., 0.5372549 ,\n",
       "         0.5294118 , 0.52156866],\n",
       "        [0.5137255 , 0.5254902 , 0.5372549 , ..., 0.5294118 ,\n",
       "         0.5254902 , 0.5137255 ]],\n",
       "\n",
       "       [[0.92941177, 0.9372549 , 0.9372549 , ..., 0.9647059 ,\n",
       "         0.972549  , 0.972549  ],\n",
       "        [0.92941177, 0.93333334, 0.93333334, ..., 0.95686275,\n",
       "         0.9607843 , 0.9647059 ],\n",
       "        [0.93333334, 0.93333334, 0.93333334, ..., 0.9490196 ,\n",
       "         0.9490196 , 0.9529412 ],\n",
       "        ...,\n",
       "        [0.76862746, 0.76862746, 0.77254903, ..., 0.73333335,\n",
       "         0.74509805, 0.68235296],\n",
       "        [0.7647059 , 0.7647059 , 0.76862746, ..., 0.7254902 ,\n",
       "         0.7372549 , 0.6784314 ],\n",
       "        [0.75686276, 0.75686276, 0.7607843 , ..., 0.72156864,\n",
       "         0.73333335, 0.67058825]]], dtype=float32)"
      ]
     },
     "execution_count": 115,
     "metadata": {},
     "output_type": "execute_result"
    }
   ],
   "source": [
    "x_1"
   ]
  },
  {
   "cell_type": "markdown",
   "metadata": {},
   "source": [
    "#### Our objective is to label all the images correctly between 0-9. \n",
    "#### so we have 10 features.\n",
    "#### Y represents an outcome array of 2062 elements, each element having 10 features , 0-9. The feature that has a value of 1 will represent the  "
   ]
  },
  {
   "cell_type": "code",
   "execution_count": 48,
   "metadata": {},
   "outputs": [
    {
     "data": {
      "text/plain": [
       "(2062, 10)"
      ]
     },
     "execution_count": 48,
     "metadata": {},
     "output_type": "execute_result"
    }
   ],
   "source": [
    "Y_1=np.load('./input/Y.npy')\n",
    "Y_1.shape"
   ]
  },
  {
   "cell_type": "code",
   "execution_count": 108,
   "metadata": {},
   "outputs": [
    {
     "data": {
      "text/plain": [
       "array([0., 1., 0., 0., 0., 0., 0., 0., 0., 0.])"
      ]
     },
     "execution_count": 108,
     "metadata": {},
     "output_type": "execute_result"
    }
   ],
   "source": [
    "Y_1[204]"
   ]
  },
  {
   "cell_type": "code",
   "execution_count": 47,
   "metadata": {},
   "outputs": [
    {
     "data": {
      "text/plain": [
       "(-0.5, 63.5, 63.5, -0.5)"
      ]
     },
     "execution_count": 47,
     "metadata": {},
     "output_type": "execute_result"
    },
    {
     "data": {
      "image/png": "[encoded data removed]",
      "text/plain": [
       "<matplotlib.figure.Figure at 0x7062809dd8>"
      ]
     },
     "metadata": {},
     "output_type": "display_data"
    }
   ],
   "source": [
    "plt.subplot(1,2,1)\n",
    "plt.imshow(x_1[201].reshape(64,64))\n",
    "plt.subplot(1,2,2)\n",
    "plt.axis(\"off\")\n",
    "plt.imshow(x_1[202].reshape(64,64))\n",
    "plt.axis(\"off\")\n",
    "\n",
    "#plt.show"
   ]
  },
  {
   "cell_type": "code",
   "execution_count": 64,
   "metadata": {},
   "outputs": [
    {
     "data": {
      "text/plain": [
       "(205, 64, 64)"
      ]
     },
     "execution_count": 64,
     "metadata": {},
     "output_type": "execute_result"
    }
   ],
   "source": [
    "#The part of the array that has data for 0\n",
    "x_1[204:409].shape"
   ]
  },
  {
   "cell_type": "code",
   "execution_count": 66,
   "metadata": {},
   "outputs": [
    {
     "data": {
      "text/plain": [
       "(205, 64, 64)"
      ]
     },
     "execution_count": 66,
     "metadata": {},
     "output_type": "execute_result"
    }
   ],
   "source": [
    "#The part of the array that has data for 1\n",
    "x_1[822:1027].shape"
   ]
  },
  {
   "cell_type": "code",
   "execution_count": 67,
   "metadata": {},
   "outputs": [],
   "source": [
    "#from 0.204 is zero sign images and from 205 to 410 1 sign images\n",
    "X=np.concatenate((x_1[204:409],x_1[822:1027]),axis=0)"
   ]
  },
  {
   "cell_type": "code",
   "execution_count": 94,
   "metadata": {},
   "outputs": [
    {
     "data": {
      "text/plain": [
       "(410, 64, 64)"
      ]
     },
     "execution_count": 94,
     "metadata": {},
     "output_type": "execute_result"
    }
   ],
   "source": [
    "X.shape"
   ]
  },
  {
   "cell_type": "code",
   "execution_count": 69,
   "metadata": {},
   "outputs": [],
   "source": [
    "z=np.zeros(205)"
   ]
  },
  {
   "cell_type": "code",
   "execution_count": 70,
   "metadata": {},
   "outputs": [],
   "source": [
    "o=np.ones(205)"
   ]
  },
  {
   "cell_type": "code",
   "execution_count": 100,
   "metadata": {},
   "outputs": [],
   "source": [
    "Y=np.concatenate((z,o),axis=0).reshape(X.shape[0],1)"
   ]
  },
  {
   "cell_type": "code",
   "execution_count": 101,
   "metadata": {},
   "outputs": [
    {
     "data": {
      "text/plain": [
       "array([0.])"
      ]
     },
     "execution_count": 101,
     "metadata": {},
     "output_type": "execute_result"
    }
   ],
   "source": [
    "Y[0]"
   ]
  },
  {
   "cell_type": "code",
   "execution_count": 102,
   "metadata": {},
   "outputs": [
    {
     "data": {
      "text/plain": [
       "array([0.])"
      ]
     },
     "execution_count": 102,
     "metadata": {},
     "output_type": "execute_result"
    }
   ],
   "source": [
    "Y[0]"
   ]
  },
  {
   "cell_type": "code",
   "execution_count": 103,
   "metadata": {},
   "outputs": [
    {
     "data": {
      "text/plain": [
       "(410, 1)"
      ]
     },
     "execution_count": 103,
     "metadata": {},
     "output_type": "execute_result"
    }
   ],
   "source": [
    "Y.shape"
   ]
  },
  {
   "cell_type": "markdown",
   "metadata": {},
   "source": [
    "#### Now let us create a train and test data set"
   ]
  },
  {
   "cell_type": "code",
   "execution_count": 109,
   "metadata": {},
   "outputs": [
    {
     "data": {
      "text/plain": [
       "(64, 64)"
      ]
     },
     "execution_count": 109,
     "metadata": {},
     "output_type": "execute_result"
    }
   ],
   "source": [
    "x_1[0].shape"
   ]
  },
  {
   "cell_type": "code",
   "execution_count": 113,
   "metadata": {},
   "outputs": [],
   "source": [
    "ZZ=x_1.shape[1]*x_1.shape[1]"
   ]
  },
  {
   "cell_type": "code",
   "execution_count": 114,
   "metadata": {},
   "outputs": [
    {
     "data": {
      "text/plain": [
       "4096"
      ]
     },
     "execution_count": 114,
     "metadata": {},
     "output_type": "execute_result"
    }
   ],
   "source": [
    "ZZ"
   ]
  },
  {
   "cell_type": "code",
   "execution_count": null,
   "metadata": {},
   "outputs": [],
   "source": []
  }
 ],
 "metadata": {
  "kernelspec": {
   "display_name": "Python 3",
   "language": "python",
   "name": "python3"
  },
  "language_info": {
   "codemirror_mode": {
    "name": "ipython",
    "version": 3
   },
   "file_extension": ".py",
   "mimetype": "text/x-python",
   "name": "python",
   "nbconvert_exporter": "python",
   "pygments_lexer": "ipython3",
   "version": "3.6.0"
  }
 },
 "nbformat": 4,
 "nbformat_minor": 2
}
