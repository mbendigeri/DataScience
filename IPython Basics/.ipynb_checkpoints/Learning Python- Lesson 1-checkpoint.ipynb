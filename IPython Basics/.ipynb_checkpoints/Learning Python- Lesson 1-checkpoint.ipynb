{
 "cells": [
  {
   "cell_type": "code",
   "execution_count": 1,
   "metadata": {
    "collapsed": true
   },
   "outputs": [],
   "source": [
    "#setting the working folder for this\n",
    "your_local_path=\"C:/Mallikarjun/UPXAcademy/DataScience/PythonBasics/Working\""
   ]
  },
  {
   "cell_type": "markdown",
   "metadata": {},
   "source": [
    "I am now learning Python. This is my first example"
   ]
  },
  {
   "cell_type": "markdown",
   "metadata": {},
   "source": [
    "Now trying to print without import. It works without using import sys"
   ]
  },
  {
   "cell_type": "code",
   "execution_count": 5,
   "metadata": {},
   "outputs": [
    {
     "name": "stdout",
     "output_type": "stream",
     "text": [
      "Mallikarjun\n"
     ]
    }
   ],
   "source": [
    "print (\"Mallikarjun\")"
   ]
  },
  {
   "cell_type": "markdown",
   "metadata": {
    "collapsed": true
   },
   "source": [
    "Now trying indentation using For Loop"
   ]
  },
  {
   "cell_type": "code",
   "execution_count": 4,
   "metadata": {},
   "outputs": [
    {
     "ename": "NameError",
     "evalue": "name 'alist' is not defined",
     "output_type": "error",
     "traceback": [
      "\u001b[0;31m---------------------------------------------------------------------------\u001b[0m",
      "\u001b[0;31mNameError\u001b[0m                                 Traceback (most recent call last)",
      "\u001b[0;32m<ipython-input-4-f1a94c3c5c18>\u001b[0m in \u001b[0;36m<module>\u001b[0;34m()\u001b[0m\n\u001b[0;32m----> 1\u001b[0;31m \u001b[0malist\u001b[0m\u001b[1;33m[\u001b[0m\u001b[1;36m10\u001b[0m\u001b[1;33m]\u001b[0m\u001b[1;33m\u001b[0m\u001b[0m\n\u001b[0m\u001b[1;32m      2\u001b[0m \u001b[1;32mfor\u001b[0m \u001b[0mx\u001b[0m \u001b[1;32min\u001b[0m \u001b[0malist\u001b[0m\u001b[1;33m:\u001b[0m\u001b[1;33m\u001b[0m\u001b[0m\n\u001b[1;32m      3\u001b[0m     \u001b[1;32mif\u001b[0m \u001b[0mx\u001b[0m\u001b[1;33m>\u001b[0m \u001b[0manumber\u001b[0m\u001b[1;33m:\u001b[0m\u001b[1;33m\u001b[0m\u001b[0m\n\u001b[1;32m      4\u001b[0m         \u001b[0mprint\u001b[0m \u001b[1;33m(\u001b[0m\u001b[0mx\u001b[0m\u001b[1;33m)\u001b[0m\u001b[1;33m\u001b[0m\u001b[0m\n\u001b[1;32m      5\u001b[0m     \u001b[1;32melse\u001b[0m\u001b[1;33m:\u001b[0m\u001b[1;33m\u001b[0m\u001b[0m\n",
      "\u001b[0;31mNameError\u001b[0m: name 'alist' is not defined"
     ]
    }
   ],
   "source": [
    "alist[10]\n",
    "for x in alist:\n",
    "    if x> anumber:\n",
    "        print (x)\n",
    "    else:\n",
    "        print (-x)"
   ]
  },
  {
   "cell_type": "markdown",
   "metadata": {},
   "source": [
    "Assign values to variables and also adding two numbers,  concatenate strings using + operators\n",
    "Trying concatenate a number with string, error our"
   ]
  },
  {
   "cell_type": "code",
   "execution_count": 12,
   "metadata": {},
   "outputs": [
    {
     "name": "stdout",
     "output_type": "stream",
     "text": [
      "100\n",
      "2.111\n",
      "0MallikArjun\n"
     ]
    },
    {
     "ename": "TypeError",
     "evalue": "unsupported operand type(s) for +: 'float' and 'str'",
     "output_type": "error",
     "traceback": [
      "\u001b[0;31m---------------------------------------------------------------------------\u001b[0m",
      "\u001b[0;31mTypeError\u001b[0m                                 Traceback (most recent call last)",
      "\u001b[0;32m<ipython-input-12-d4ef73b42712>\u001b[0m in \u001b[0;36m<module>\u001b[0;34m()\u001b[0m\n\u001b[1;32m      8\u001b[0m \u001b[0me\u001b[0m\u001b[1;33m=\u001b[0m\u001b[1;34m\"0\"\u001b[0m\u001b[1;33m\u001b[0m\u001b[0m\n\u001b[1;32m      9\u001b[0m \u001b[0mprint\u001b[0m \u001b[1;33m(\u001b[0m\u001b[0mcounter\u001b[0m\u001b[1;33m)\u001b[0m\u001b[1;33m;\u001b[0m\u001b[0mprint\u001b[0m \u001b[1;33m(\u001b[0m\u001b[0ma\u001b[0m\u001b[1;33m+\u001b[0m\u001b[0mb\u001b[0m\u001b[1;33m)\u001b[0m\u001b[1;33m;\u001b[0m\u001b[0mprint\u001b[0m\u001b[1;33m(\u001b[0m\u001b[0me\u001b[0m\u001b[1;33m+\u001b[0m\u001b[0mc\u001b[0m\u001b[1;33m+\u001b[0m\u001b[0md\u001b[0m\u001b[1;33m)\u001b[0m\u001b[1;33m\u001b[0m\u001b[0m\n\u001b[0;32m---> 10\u001b[0;31m \u001b[0mprint\u001b[0m\u001b[1;33m(\u001b[0m\u001b[0mb\u001b[0m\u001b[1;33m+\u001b[0m\u001b[0mc\u001b[0m\u001b[1;33m)\u001b[0m\u001b[1;33m;\u001b[0m\u001b[1;33m\u001b[0m\u001b[0m\n\u001b[0m",
      "\u001b[0;31mTypeError\u001b[0m: unsupported operand type(s) for +: 'float' and 'str'"
     ]
    }
   ],
   "source": [
    "counter=100\n",
    "miles=1000\n",
    "name=\"mallikarjun\"\n",
    "a=0.111\n",
    "b=2.0\n",
    "c=\"Mallik\"\n",
    "d=\"Arjun\"\n",
    "e=\"0\"\n",
    "print (counter);print (a+b);print(e+c+d)\n",
    "print(b+c);"
   ]
  },
  {
   "cell_type": "markdown",
   "metadata": {},
   "source": [
    "Working with strings now\n",
    "yeah ..join expression is when you are trying join more than 1 string with a given word / character i..e the syntax is as follows:\n",
    "<<Conjuection word / Character>>.join([<<list of words comma spearated>>])"
   ]
  },
  {
   "cell_type": "code",
   "execution_count": 62,
   "metadata": {},
   "outputs": [
    {
     "name": "stdout",
     "output_type": "stream",
     "text": [
      "Hello world \n",
      "Hello world #Mallikarjun\n",
      "Hello world  Mallikarjun\n"
     ]
    }
   ],
   "source": [
    "str=\"Hello world \"\n",
    "print(\"Mallikarjun\".join([str]))\n",
    "print ('#'.join([str,\"Mallikarjun\"]))\n",
    "print (\"%s Mallikarjun\"%(str))"
   ]
  },
  {
   "cell_type": "code",
   "execution_count": 63,
   "metadata": {},
   "outputs": [
    {
     "name": "stdout",
     "output_type": "stream",
     "text": [
      "Hello world \n",
      "H\n",
      "He\n",
      "llo w\n",
      "llo world \n",
      "Hello \n",
      "Hello world Hello world \n"
     ]
    }
   ],
   "source": [
    "anotherword=\"Mallikarjun\"\n",
    "\n",
    "print(str)\n",
    "print (str[0])\n",
    "print (str[:2])\n",
    "print(str[2:7])\n",
    "print(str[2:])\n",
    "print(str[0:-6])\n",
    "print(str*2)"
   ]
  },
  {
   "cell_type": "markdown",
   "metadata": {},
   "source": [
    "String replacement"
   ]
  },
  {
   "cell_type": "code",
   "execution_count": 69,
   "metadata": {},
   "outputs": [
    {
     "name": "stdout",
     "output_type": "stream",
     "text": [
      "Mallikarjun Hello World\n"
     ]
    }
   ],
   "source": [
    "str=\"[] Hello World\"\n",
    "print(str.replace('[]','Mallikarjun'))"
   ]
  },
  {
   "cell_type": "markdown",
   "metadata": {},
   "source": [
    "adding number with automatic type casting"
   ]
  },
  {
   "cell_type": "code",
   "execution_count": 79,
   "metadata": {},
   "outputs": [
    {
     "name": "stdout",
     "output_type": "stream",
     "text": [
      "2040\n",
      "60\n",
      "34\n"
     ]
    },
    {
     "ename": "ValueError",
     "evalue": "invalid literal for int() with base 10: '34.9'",
     "output_type": "error",
     "traceback": [
      "\u001b[0;31m---------------------------------------------------------------------------\u001b[0m",
      "\u001b[0;31mValueError\u001b[0m                                Traceback (most recent call last)",
      "\u001b[0;32m<ipython-input-79-257f12d43ffe>\u001b[0m in \u001b[0;36m<module>\u001b[0;34m()\u001b[0m\n\u001b[1;32m      9\u001b[0m \u001b[1;33m\u001b[0m\u001b[0m\n\u001b[1;32m     10\u001b[0m \u001b[0ma\u001b[0m\u001b[1;33m=\u001b[0m\u001b[1;34m'34.9'\u001b[0m\u001b[1;33m\u001b[0m\u001b[0m\n\u001b[0;32m---> 11\u001b[0;31m \u001b[0ma\u001b[0m\u001b[1;33m=\u001b[0m\u001b[0mint\u001b[0m\u001b[1;33m(\u001b[0m\u001b[0ma\u001b[0m\u001b[1;33m)\u001b[0m\u001b[1;31m# return error as it cannot convert a float value to a int value\u001b[0m\u001b[1;33m\u001b[0m\u001b[0m\n\u001b[0m",
      "\u001b[0;31mValueError\u001b[0m: invalid literal for int() with base 10: '34.9'"
     ]
    }
   ],
   "source": [
    "a='20'\n",
    "b='40'\n",
    "print(a+b)\n",
    "print(int(a)+int(b))\n",
    "\n",
    "a=34.9\n",
    "a=int(a)\n",
    "print (a)\n",
    "\n",
    "a='34.9'\n",
    "a=int(a)# return error as it cannot convert a float value to a int value"
   ]
  },
  {
   "cell_type": "code",
   "execution_count": 4,
   "metadata": {},
   "outputs": [
    {
     "name": "stdout",
     "output_type": "stream",
     "text": [
      "Mallikarjun\n",
      "Mallikarju\n"
     ]
    }
   ],
   "source": [
    "a=\"Mallikarjun\"\n",
    "print(a)\n",
    "print(a[:len(a)-1])"
   ]
  },
  {
   "cell_type": "code",
   "execution_count": 22,
   "metadata": {},
   "outputs": [
    {
     "name": "stdout",
     "output_type": "stream",
     "text": [
      "Unable to find any space\n"
     ]
    }
   ],
   "source": [
    "a=\"Mallikarjun Bendigeri\"\n",
    "index=a.find(\"\")\n",
    "if index>0:\n",
    "    #print(index)\n",
    "    print(a[:index])\n",
    "else:\n",
    "    print (\"Unable to find any space\")\n"
   ]
  },
  {
   "cell_type": "code",
   "execution_count": 50,
   "metadata": {},
   "outputs": [
    {
     "name": "stdout",
     "output_type": "stream",
     "text": [
      "time in milliseconds 'Tue Apr 17 23:08:46 2018'\n"
     ]
    }
   ],
   "source": [
    "#import time\n",
    "import time\n",
    "localtime = time.localtime(time.time())\n",
    "print(\"time in milliseconds %a\" %time.asctime(localtime))"
   ]
  },
  {
   "cell_type": "code",
   "execution_count": null,
   "metadata": {
    "collapsed": true
   },
   "outputs": [],
   "source": [
    "#import dateime"
   ]
  },
  {
   "cell_type": "code",
   "execution_count": 72,
   "metadata": {},
   "outputs": [
    {
     "name": "stdout",
     "output_type": "stream",
     "text": [
      "2018\n",
      "   February 2018\n",
      "Mo Tu We Th Fr Sa Su\n",
      "          1  2  3  4\n",
      " 5  6  7  8  9 10 11\n",
      "12 13 14 15 16 17 18\n",
      "19 20 21 22 23 24 25\n",
      "26 27 28\n",
      "\n"
     ]
    }
   ],
   "source": [
    "import calendar\n",
    "import datetime\n",
    "print (datetime.datetime.now().strftime(\"%Y\"))\n",
    "cal=calendar.month(int(datetime.datetime.now().strftime(\"%Y\")),2)\n",
    "print (cal)"
   ]
  },
  {
   "cell_type": "markdown",
   "metadata": {},
   "source": [
    "# Checking files using glob"
   ]
  },
  {
   "cell_type": "markdown",
   "metadata": {},
   "source": [
    "### glob helps find files using a pattern match . Patten match is as per unix standard and not regular experession"
   ]
  },
  {
   "cell_type": "markdown",
   "metadata": {},
   "source": [
    "### use glob when you need to find a files that have certain prefix, extension or any common string"
   ]
  },
  {
   "cell_type": "markdown",
   "metadata": {},
   "source": [
    "#### characters ranges are supported, two wild cards are supported, few special chanracters\n",
    "#### pattern matching is applied at the segments of the files (stopping at \"/\")"
   ]
  },
  {
   "cell_type": "markdown",
   "metadata": {},
   "source": [
    "##### import glob"
   ]
  },
  {
   "cell_type": "code",
   "execution_count": null,
   "metadata": {
    "collapsed": true
   },
   "outputs": [],
   "source": [
    "import glob\n",
    "import os"
   ]
  },
  {
   "cell_type": "markdown",
   "metadata": {},
   "source": [
    "##### print the current working directory"
   ]
  },
  {
   "cell_type": "code",
   "execution_count": null,
   "metadata": {
    "collapsed": true
   },
   "outputs": [],
   "source": [
    "cwd=os.getcwd()\n",
    "print (cwd)"
   ]
  },
  {
   "cell_type": "markdown",
   "metadata": {},
   "source": [
    "##### print each of the python files"
   ]
  },
  {
   "cell_type": "code",
   "execution_count": 12,
   "metadata": {},
   "outputs": [
    {
     "name": "stdout",
     "output_type": "stream",
     "text": [
      "C:\\Users\\mbendi400\n",
      "1-Redcard-Dataset.ipynb\n",
      "2-Redcard-Players.ipynb\n",
      "3-Redcard-Dyads.ipynb\n",
      "4-Redcard-final-joins.ipynb\n",
      "attachment_PythonBasics-Session1-Recording-Along-With-Assignment-Questions.ipynb\n",
      "Jupyter Keyboard Shortcuts Practice.ipynb\n",
      "Learning Python- Lesson 1.ipynb\n",
      "Learning_EDA_Via_2-Redcard-Players.ipynb\n"
     ]
    }
   ],
   "source": [
    "for name in glob.glob('*.ipynb'):\n",
    "    print (name)"
   ]
  },
  {
   "cell_type": "code",
   "execution_count": null,
   "metadata": {
    "collapsed": true
   },
   "outputs": [],
   "source": []
  },
  {
   "cell_type": "markdown",
   "metadata": {},
   "source": [
    "##### print all the file in a particular directory"
   ]
  },
  {
   "cell_type": "code",
   "execution_count": 14,
   "metadata": {},
   "outputs": [
    {
     "name": "stdout",
     "output_type": "stream",
     "text": [
      "downloads\\,upxacademy,85361998159680013,-383253072,TC,0-0,SDJTSwAAAAQ2lAhoL49is3rlBzkzGNKwwdDiWv6OvzBda_-zxkOWNQ2_webex.exe\n",
      "downloads\\,upxacademy,87896731425968878,-403981867,TC,0-0,SDJTSwAAAATiJDY5RLxe1tI9m_50JtIMYUftq5NWjd4uqx6srZdLHg2_webex.exe\n",
      "downloads\\1. Crowdsourcing Dataset July 01, 2014 Incl.Ref Country.zip\n",
      "downloads\\1099-MALLI 2017.pdf\n",
      "downloads\\1st list of BJP candidate for Legislative Assembly of Karnataka as on 08.04.2018.pdf\n",
      "downloads\\2017-Nissan-Altima-25-SV-4dr-Sedan.pdf\n",
      "downloads\\2018_brunch.pdf\n",
      "downloads\\2018_menu_2.pdf\n",
      "downloads\\22th_Jan_28thJan_2018.PNG\n",
      "downloads\\31_Drawing_Prompts_.pdf\n",
      "downloads\\334PASE_ELA_G3_SE_samplepgs.pdf\n",
      "downloads\\34b_Strata One Source How To Search for Programming Guide.pptx\n",
      "downloads\\42312470_onlineec.pdf\n",
      "downloads\\4443917929_1.pdf\n",
      "downloads\\7z1801.exe\n",
      "downloads\\9783834823953-c1.pdf\n",
      "downloads\\Add New Programs- UI restructured (1).msg\n",
      "downloads\\Add New Programs- UI restructured (2).msg\n",
      "downloads\\Add New Programs- UI restructured.msg\n",
      "downloads\\Additional_Rental_0482169794.pdf\n",
      "downloads\\Agreement_Tenant_2017-18.docx\n",
      "downloads\\AI  Menu Item to Role Mapping (1).xlsx\n",
      "downloads\\AI  Menu Item to Role Mapping (2).xlsx\n",
      "downloads\\AI  Menu Item to Role Mapping.xlsx\n",
      "downloads\\AIT-438 Screen Mockup (1).docx\n",
      "downloads\\AIT-438 Screen Mockup.docx\n",
      "downloads\\AIT-446 Screen Mockup.docx\n",
      "downloads\\AIT-589 Screen Mockup.docx\n",
      "downloads\\AIT-595 Rating Calcuation.docx\n",
      "downloads\\AIT-595 Screen Mockup (1).docx\n",
      "downloads\\AIT-595 Screen Mockup.docx\n",
      "downloads\\AIT-605 Screen Mockup.docx\n",
      "downloads\\AIT-609 Screen Mockup (1).docx\n",
      "downloads\\AIT-609 Screen Mockup.docx\n",
      "downloads\\AIT-627 Screen Mockup.docx\n",
      "downloads\\AIT-712 Acceptance Criteria.docx\n",
      "downloads\\AIT-809 Acceptance Criteria.docx\n",
      "downloads\\AIT-856.xlsx\n",
      "downloads\\angular-tree-widget-master.zip\n",
      "downloads\\Application.pdf\n",
      "downloads\\AQT User Guide.docx\n",
      "downloads\\AQT_Notification_Template.oft\n",
      "downloads\\attachment_attachment_Linear_Regression (1).zip\n",
      "downloads\\attachment_attachment_Linear_Regression.zip\n",
      "downloads\\attachment_bikeshare.csv\n",
      "downloads\\attachment_linearreg_Assignment.zip\n",
      "downloads\\attachment_Post_Read-Difference_between_correlation_and_regression.pdf\n",
      "downloads\\attachment_PythonBasics-Session2 (1).ipynb\n",
      "downloads\\attachment_Python_notebook_week1 (1).zip\n",
      "downloads\\Audience Insights Research Tool UI Work Flow.docx\n",
      "downloads\\Audience_Insights.zip\n",
      "downloads\\Bank Transfer Details - SBI.doc\n",
      "downloads\\Benefit Overview_2017_Updated.pdf\n",
      "downloads\\bootstrap-daterangepicker-master\n",
      "downloads\\bootstrap-daterangepicker-master.zip\n",
      "downloads\\bootstrap-master (1).zip\n",
      "downloads\\bootstrap-master (2).zip\n",
      "downloads\\Brackets.Release.1.11.msi\n",
      "downloads\\Building-Continuous-Applications-with-Apache-Spark.pdf\n",
      "downloads\\CadreFaviIcon.ico\n",
      "downloads\\CadreFaviIcon_1.ico\n",
      "downloads\\CadreFaviIcon_2.ico\n",
      "downloads\\CADRE_Features_Usage.xlsx\n",
      "downloads\\ChromeSetup.exe\n",
      "downloads\\Cisco_WebEx_Add-On.exe\n",
      "downloads\\CodeCogsEqn.gif\n",
      "downloads\\CoE Announcement.msg\n",
      "downloads\\Comcast Spotlight Open Positions 031218.pdf\n",
      "downloads\\ComprehensivePortfolioChart.pdf\n",
      "downloads\\ConfigurationTransform.vsix\n",
      "downloads\\Core Competencies - Manager.PDF\n",
      "downloads\\Core Competencies - Supervisor.pdf\n",
      "downloads\\Data Analytics Resume format.doc\n",
      "downloads\\Definition of High Value Programming Final (1).docx\n",
      "downloads\\Definition of High Value Programming Final (2).docx\n",
      "downloads\\Definition of High Value Programming Final (3).docx\n",
      "downloads\\Definition of High Value Programming Final.docx\n",
      "downloads\\Definition of High Value Programming Finalv6_sn.docx\n",
      "downloads\\Deploying-SharePoint-2016-1.pdf\n",
      "downloads\\desktop.ini\n",
      "downloads\\download\n",
      "downloads\\download (1)\n",
      "downloads\\EQTO - MicroStrategy.xlsx\n",
      "downloads\\favicon.ico\n",
      "downloads\\FavouriteSeason.jpg\n",
      "downloads\\Final IDP Deck.pptx\n",
      "downloads\\florencegrille.pdf\n",
      "downloads\\Free-Download-Doc-Format-Release-Note-Template.doc\n",
      "downloads\\FutureProgramming_03-05-2018 (1).csv\n",
      "downloads\\FutureProgramming_03-05-2018.csv\n",
      "downloads\\Getting Ready 2017-2018.pptx\n",
      "downloads\\helpndoc-setup-5.4.1.404.exe\n",
      "downloads\\HVP Override Scenarios.xlsx\n",
      "downloads\\HVP Python Script Calling-DRAFT-110217.docx\n",
      "downloads\\I123250 _sumry_NEW_3_12_2018 12_00_00 AM.xlsx\n",
      "downloads\\image.png\n",
      "downloads\\IMG_20171115_081224.jpg\n",
      "downloads\\IMG_9338.JPG\n",
      "downloads\\Lambda_Missing_Values.pdf\n",
      "downloads\\letterCignaL20-SheelaMallikarjun Bendigeri-1512520578833.pdf\n",
      "downloads\\Linear TV Audience Current Process Flow\n",
      "downloads\\Linear TV Audience Data On Boarding Use Case Copy\n",
      "downloads\\Linear TV Audience Forecast Ratings Current Process Flow\n",
      "downloads\\Mallikarjun S Bendigeri_15+yrs Net_Detailed_New.docx\n",
      "downloads\\Microstrategy_Database_Reboot_Notification_Template.oft\n",
      "downloads\\Microstrategy_Reboot_Notification_Template (1).oft\n",
      "downloads\\Microstrategy_Reboot_Notification_Template.oft\n",
      "downloads\\ML March 25 by Sai.pptx\n",
      "downloads\\ML Session 2.zip\n",
      "downloads\\MULTISCREEN_1080_MASTER.mp4\n",
      "downloads\\New Program linked to a non HVP Donor program (1).msg\n",
      "downloads\\New Program linked to a non HVP Donor program.msg\n",
      "downloads\\nuget.exe\n",
      "downloads\\Office Depot Weekly Ad – low prices on office supplies, office furniture, office products.pdf\n",
      "downloads\\OneDrive-2018-03-11\n",
      "downloads\\pandas_cheatsheet(1).ipynb\n",
      "downloads\\payrollcalculationtool2017.xls\n",
      "downloads\\PCA__1.pdf\n",
      "downloads\\PCA__1_ (1).epdf\n",
      "downloads\\PCA__1_ (2).epdf\n",
      "downloads\\PCA__1_ (3).epdf\n",
      "downloads\\PCA__1_ (4).epdf\n",
      "downloads\\PCA__1_ (5).epdf\n",
      "downloads\\PGUIDE STRATA View Basic.pptx\n",
      "downloads\\Program Actuals in CADRE.docx\n",
      "downloads\\ProgramSearch-Procedures.xlsx\n",
      "downloads\\repuzzles.zip\n",
      "downloads\\Request for MerlinEpisodeTitle .msg\n",
      "downloads\\results-1526178795386-047ec9fc-aa1f-4a7f-8b14-73d95595c483.xlsx\n",
      "downloads\\RTGS DETAILS- Kusuma advocates.docx\n",
      "downloads\\screen shots.docx\n",
      "downloads\\Server_details.xlsx\n",
      "downloads\\ServiceHistoryReport.pdf\n",
      "downloads\\Shwetha_B_MCom (1).pdf\n",
      "downloads\\Shwetha_B_MCom.pdf\n",
      "downloads\\SolarWinds-LEM-v6.3.1-Evaluation-HyperV.exe\n",
      "downloads\\SOS Network Program Guide.pdf\n",
      "downloads\\Sourcing Guidelines 2017.pptx\n",
      "downloads\\Spark The Definitive Guide Big Data Processing Made Simple.pdf\n",
      "downloads\\SPOTLIGHT CONTACT LIST.xlsx\n",
      "downloads\\sql-server-internals-oltp.zip\n",
      "downloads\\SSDT-Setup-ENU.exe\n",
      "downloads\\Strata Classic TIM Basic - SLS1173 vILT.pptx\n",
      "downloads\\STRATA OneCONNECT Message to Buyers with training link.docx\n",
      "downloads\\Strata VIEW Basic - SLS1172 vILT.pptx\n",
      "downloads\\Swetha_M_B.jpg\n",
      "downloads\\transaction_activity (1).csv\n",
      "downloads\\transaction_activity.csv\n",
      "downloads\\UAT Rd 3 Testing Criteria Checklist.xlsx\n",
      "downloads\\Unconfirmed 644931.crdownload\n",
      "downloads\\unnamed (1).jpg\n",
      "downloads\\Usecases_Seasonsdetails.xlsx\n",
      "downloads\\User Story AIT-438 Acceptance Criteria (1).docx\n",
      "downloads\\User Story AIT-438 Acceptance Criteria.docx\n",
      "downloads\\User Story AIT-595 Acceptance Criteria.docx\n",
      "downloads\\UX Changes for Sidebar (1).docx\n",
      "downloads\\UX Changes for Sidebar (2).docx\n",
      "downloads\\UX Changes for Sidebar.docx\n",
      "downloads\\Web Api Definition (1).docx\n",
      "downloads\\WhatsApp Image 2018-04-04 at 7.46.56 PM.jpeg\n",
      "downloads\\WhatsAppSetup.exe\n",
      "downloads\\winterwalk by Patti Oeste.ppt\n",
      "downloads\\Wireless13.5yrs_RajshekharP_CV_US.docx\n",
      "downloads\\Wunderlist-Setup.exe\n",
      "downloads\\~$P Python Script Calling-DRAFT-110217.docx\n"
     ]
    }
   ],
   "source": [
    "for name in glob.glob('downloads/*'):\n",
    "    print (name)"
   ]
  },
  {
   "cell_type": "markdown",
   "metadata": {},
   "source": [
    "# Chris Albon"
   ]
  },
  {
   "cell_type": "markdown",
   "metadata": {},
   "source": [
    "## While loop"
   ]
  },
  {
   "cell_type": "code",
   "execution_count": 13,
   "metadata": {
    "collapsed": true
   },
   "outputs": [],
   "source": [
    "# An examples of while loop"
   ]
  },
  {
   "cell_type": "markdown",
   "metadata": {},
   "source": [
    "### import random"
   ]
  },
  {
   "cell_type": "code",
   "execution_count": 22,
   "metadata": {
    "collapsed": true
   },
   "outputs": [],
   "source": [
    "import random"
   ]
  },
  {
   "cell_type": "markdown",
   "metadata": {},
   "source": [
    "### Create a variable for death count"
   ]
  },
  {
   "cell_type": "code",
   "execution_count": 23,
   "metadata": {
    "collapsed": true
   },
   "outputs": [],
   "source": [
    "deaths=10"
   ]
  },
  {
   "cell_type": "markdown",
   "metadata": {},
   "source": [
    "### Create a variable that denotes if the while loop should continue"
   ]
  },
  {
   "cell_type": "code",
   "execution_count": 54,
   "metadata": {
    "collapsed": true
   },
   "outputs": [],
   "source": [
    "running=True"
   ]
  },
  {
   "cell_type": "markdown",
   "metadata": {},
   "source": [
    "### Create a while loop now"
   ]
  },
  {
   "cell_type": "code",
   "execution_count": 55,
   "metadata": {},
   "outputs": [
    {
     "name": "stdout",
     "output_type": "stream",
     "text": [
      "Running value is  True\n"
     ]
    }
   ],
   "source": [
    "print(\"Running value is \",running)"
   ]
  },
  {
   "cell_type": "code",
   "execution_count": 56,
   "metadata": {},
   "outputs": [
    {
     "name": "stdout",
     "output_type": "stream",
     "text": [
      "They are more than you thought\n",
      "They are more than you thought\n",
      "They are more than you thought\n",
      "They are more than you thought\n",
      "They are more than you thought\n",
      "They are more than you thought\n",
      "They are more than you thought\n",
      "They are more than you thought\n",
      "They are more than you thought\n",
      "They are more than you thought\n",
      "They are more than you thought\n",
      "They are more than you thought\n",
      "They are more than you thought\n",
      "They are more than you thought\n",
      "They are more than you thought\n",
      "They are more than you thought\n",
      "They are more than you thought\n",
      "They are more than you thought\n",
      "They are more than you thought\n",
      "They are more than you thought\n",
      "They are more than you thought\n",
      "They are more than you thought\n",
      "They are more than you thought\n",
      "They are more than you thought\n",
      "They are more than you thought\n",
      "They are more than you thought\n",
      "They are more than you thought\n",
      "They are more than you thought\n",
      "They are more than you thought\n",
      "They are more than you thought\n",
      "They are more than you thought\n",
      "You are a winner\n"
     ]
    }
   ],
   "source": [
    "while running:\n",
    "    #Create a variable that randomly creates an integer\n",
    "    guessAnumber=random.randint(0,10)\n",
    "    # if the guess is correct, Print you are a winner\n",
    "    if guessAnumber == deaths:\n",
    "        print('You are a winner')\n",
    "        running=False\n",
    "    elif (guessAnumber < deaths):\n",
    "        print('They are more than you thought')\n",
    "    else:\n",
    "        print('Try another luck')\n",
    "\n",
    "    "
   ]
  },
  {
   "cell_type": "markdown",
   "metadata": {},
   "source": [
    "## representation vs string"
   ]
  },
  {
   "cell_type": "code",
   "execution_count": 60,
   "metadata": {
    "collapsed": true
   },
   "outputs": [],
   "source": [
    "import datetime\n",
    "class Regiment(object):\n",
    "    def __init__(self, date=datetime.datetime.now()):\n",
    "        self.date=date\n",
    "    def _repr_(self):\n",
    "        return date\n",
    "    def _str_(self):\n",
    "        return str(date)"
   ]
  },
  {
   "cell_type": "markdown",
   "metadata": {},
   "source": [
    "## any() max() min() all() sum()"
   ]
  },
  {
   "cell_type": "code",
   "execution_count": 61,
   "metadata": {},
   "outputs": [
    {
     "data": {
      "text/plain": [
       "219"
      ]
     },
     "execution_count": 61,
     "metadata": {},
     "output_type": "execute_result"
    }
   ],
   "source": [
    "data=[45,56,43,23,52]\n",
    "\n",
    "min(data)\n",
    "sum(data)"
   ]
  },
  {
   "cell_type": "code",
   "execution_count": 62,
   "metadata": {},
   "outputs": [
    {
     "data": {
      "text/plain": [
       "True"
      ]
     },
     "execution_count": 62,
     "metadata": {},
     "output_type": "execute_result"
    }
   ],
   "source": [
    "#Return true   if any of the element is true\n",
    "any(data)"
   ]
  },
  {
   "cell_type": "markdown",
   "metadata": {
    "collapsed": true
   },
   "source": [
    "## Adding Padding around string\n",
    "    "
   ]
  },
  {
   "cell_type": "code",
   "execution_count": null,
   "metadata": {
    "collapsed": true
   },
   "outputs": [],
   "source": []
  },
  {
   "cell_type": "code",
   "execution_count": null,
   "metadata": {
    "collapsed": true
   },
   "outputs": [],
   "source": []
  },
  {
   "cell_type": "code",
   "execution_count": 6,
   "metadata": {},
   "outputs": [
    {
     "data": {
      "text/plain": [
       "'         Mallikarjun'"
      ]
     },
     "execution_count": 6,
     "metadata": {},
     "output_type": "execute_result"
    }
   ],
   "source": [
    "    #from https://chrisalbon.com/python/basics/add_padding_around_string/\n",
    "    #Adding spaces to left\n",
    "text=\"Mallikarjun\"\n",
    "format(text,'>20')"
   ]
  },
  {
   "cell_type": "code",
   "execution_count": 7,
   "metadata": {},
   "outputs": [
    {
     "data": {
      "text/plain": [
       "'Mallikarjun         '"
      ]
     },
     "execution_count": 7,
     "metadata": {},
     "output_type": "execute_result"
    }
   ],
   "source": [
    " #Adding spaces to Right\n",
    "text=\"Mallikarjun\"\n",
    "format(text,'<20')"
   ]
  },
  {
   "cell_type": "code",
   "execution_count": 9,
   "metadata": {},
   "outputs": [
    {
     "data": {
      "text/plain": [
       "'Mallikarjun*********'"
      ]
     },
     "execution_count": 9,
     "metadata": {},
     "output_type": "execute_result"
    }
   ],
   "source": [
    "format(text,\"*>20\") # to the left\n",
    "format(text,\"*<20\")"
   ]
  },
  {
   "cell_type": "code",
   "execution_count": 11,
   "metadata": {},
   "outputs": [
    {
     "data": {
      "text/plain": [
       "'1111Mallikarjun11111'"
      ]
     },
     "execution_count": 11,
     "metadata": {},
     "output_type": "execute_result"
    }
   ],
   "source": [
    "format(text,\"1^20\") #Ading * on each side"
   ]
  },
  {
   "cell_type": "code",
   "execution_count": 14,
   "metadata": {},
   "outputs": [
    {
     "data": {
      "text/plain": [
       "'1111Mallikarjun11111'"
      ]
     },
     "execution_count": 14,
     "metadata": {},
     "output_type": "execute_result"
    }
   ],
   "source": [
    "format(text,\"1^20\") #Ading * on each side"
   ]
  },
  {
   "cell_type": "code",
   "execution_count": 22,
   "metadata": {},
   "outputs": [
    {
     "data": {
      "text/plain": [
       "'Mallikarjun_Bendigeri'"
      ]
     },
     "execution_count": 22,
     "metadata": {},
     "output_type": "execute_result"
    }
   ],
   "source": [
    "\"_\".join([\"Mallikarjun\",\"Bendigeri\"])\n",
    "#\"*\".join(\"Mallikarjun\")"
   ]
  },
  {
   "cell_type": "markdown",
   "metadata": {
    "collapsed": true
   },
   "source": [
    "## Apply Operations Over Items In A List"
   ]
  },
  {
   "cell_type": "code",
   "execution_count": 1,
   "metadata": {
    "collapsed": true
   },
   "outputs": [],
   "source": [
    "#create a list of items\n",
    "battleDeaths=[200,423,453,456,212]"
   ]
  },
  {
   "cell_type": "markdown",
   "metadata": {},
   "source": [
    "### Method 1 using for X in Y"
   ]
  },
  {
   "cell_type": "code",
   "execution_count": 8,
   "metadata": {},
   "outputs": [
    {
     "data": {
      "text/plain": [
       "[400, 623, 653, 656, 412]"
      ]
     },
     "execution_count": 8,
     "metadata": {},
     "output_type": "execute_result"
    }
   ],
   "source": [
    "### Method 1 using for X in Y\n",
    "battlebatUpdated=[]\n",
    "for x in battleDeaths:\n",
    "    battlebatUpdated.append(x+200)\n",
    "battlebatUpdated"
   ]
  },
  {
   "cell_type": "markdown",
   "metadata": {},
   "source": [
    "### Method 2 use map()"
   ]
  },
  {
   "cell_type": "code",
   "execution_count": 2,
   "metadata": {
    "collapsed": true
   },
   "outputs": [],
   "source": [
    "#create a function that take a parameter and increments it by 100 before returning it back \n",
    "def updated(x):\n",
    "    return x+100"
   ]
  },
  {
   "cell_type": "code",
   "execution_count": 3,
   "metadata": {},
   "outputs": [
    {
     "data": {
      "text/plain": [
       "[300, 523, 553, 556, 312]"
      ]
     },
     "execution_count": 3,
     "metadata": {},
     "output_type": "execute_result"
    }
   ],
   "source": [
    "#Create a list and apply the function created in the last step\n",
    "list(map(updated,battleDeaths))"
   ]
  },
  {
   "cell_type": "markdown",
   "metadata": {
    "collapsed": true
   },
   "source": [
    "### Method 3 using Lambda functions"
   ]
  },
  {
   "cell_type": "code",
   "execution_count": 9,
   "metadata": {
    "collapsed": true
   },
   "outputs": [],
   "source": [
    "# use lambda functions instead of explicit functions"
   ]
  },
  {
   "cell_type": "code",
   "execution_count": 12,
   "metadata": {},
   "outputs": [
    {
     "data": {
      "text/plain": [
       "[300, 523, 553, 556, 312]"
      ]
     },
     "execution_count": 12,
     "metadata": {},
     "output_type": "execute_result"
    }
   ],
   "source": [
    "list(map((lambda x:x+100),battleDeaths))"
   ]
  },
  {
   "cell_type": "markdown",
   "metadata": {},
   "source": [
    "# iteration"
   ]
  },
  {
   "cell_type": "code",
   "execution_count": 33,
   "metadata": {},
   "outputs": [
    {
     "name": "stdout",
     "output_type": "stream",
     "text": [
      "             A     B         C       D           E\n",
      "A0  2018-01-01   0.0  0.437900  Medium   83.589797\n",
      "A1  2018-01-02   1.0  0.523588    High  117.938233\n",
      "A2  2018-01-03   2.0  0.216237  Medium   91.409287\n",
      "A3  2018-01-04   3.0  0.816137    High  111.539100\n",
      "A4  2018-01-05   4.0  0.088587  Medium   93.891004\n",
      "A5  2018-01-06   5.0  0.542428    High  110.470590\n",
      "A6  2018-01-07   6.0  0.937017  Medium   94.457527\n",
      "A7  2018-01-08   7.0  0.172924     Low  104.522279\n",
      "A8  2018-01-09   8.0  0.268632    High   97.534608\n",
      "A9  2018-01-10   9.0  0.665321    High  105.918721\n",
      "A10 2018-01-11  10.0  0.015545  Medium   75.295264\n",
      "A11 2018-01-12  11.0  0.019678  Medium  102.798725\n",
      "A12 2018-01-13  12.0  0.148006    High  114.591548\n",
      "A13 2018-01-14  13.0  0.154070     Low   91.235631\n",
      "A14 2018-01-15  14.0  0.816781     Low  101.184670\n",
      "A15 2018-01-16  15.0  0.145947  Medium  102.105147\n",
      "A16 2018-01-17  16.0  0.103234    High  103.317142\n",
      "A17 2018-01-18  17.0  0.579152     Low   97.943360\n",
      "A18 2018-01-19  18.0  0.220328     Low  102.603837\n",
      "A19 2018-01-20  19.0  0.914462    High   96.769157\n"
     ]
    }
   ],
   "source": [
    "import numpy as np\n",
    "N=20\n",
    "df=pd.DataFrame({\n",
    "\"A\":pd.date_range(start=\"2018-01-01\",periods=N,freq=\"D\"),\n",
    "\"B\":np.linspace(0,stop=N-1,num=N),\n",
    "\"C\":np.random.rand(N),\n",
    "\"D\":np.random.choice(['Low','High','Medium'],N).tolist(),\n",
    "\"E\":np.random.normal(100,10,size=(N)).tolist()\n",
    "},index=['A0','A1','A2','A3','A4','A5','A6','A7','A8','A9','A10','A11','A12','A13','A14','A15',\n",
    "         'A16','A17','A18','A19'])\n",
    "print (df)"
   ]
  },
  {
   "cell_type": "markdown",
   "metadata": {},
   "source": [
    "### iterations"
   ]
  },
  {
   "cell_type": "markdown",
   "metadata": {},
   "source": [
    "### using iteritems"
   ]
  },
  {
   "cell_type": "markdown",
   "metadata": {},
   "source": [
    "#### iterates over each column as a key-value pair. each column is iterated seperately as we do in series (key-value pair) . The key is made the label and column values become a series object\n"
   ]
  },
  {
   "cell_type": "code",
   "execution_count": 34,
   "metadata": {},
   "outputs": [
    {
     "name": "stdout",
     "output_type": "stream",
     "text": [
      "A A0    2018-01-01\n",
      "A1    2018-01-02\n",
      "A2    2018-01-03\n",
      "A3    2018-01-04\n",
      "A4    2018-01-05\n",
      "A5    2018-01-06\n",
      "A6    2018-01-07\n",
      "A7    2018-01-08\n",
      "A8    2018-01-09\n",
      "A9    2018-01-10\n",
      "A10   2018-01-11\n",
      "A11   2018-01-12\n",
      "A12   2018-01-13\n",
      "A13   2018-01-14\n",
      "A14   2018-01-15\n",
      "A15   2018-01-16\n",
      "A16   2018-01-17\n",
      "A17   2018-01-18\n",
      "A18   2018-01-19\n",
      "A19   2018-01-20\n",
      "Name: A, dtype: datetime64[ns]\n",
      "B A0      0.0\n",
      "A1      1.0\n",
      "A2      2.0\n",
      "A3      3.0\n",
      "A4      4.0\n",
      "A5      5.0\n",
      "A6      6.0\n",
      "A7      7.0\n",
      "A8      8.0\n",
      "A9      9.0\n",
      "A10    10.0\n",
      "A11    11.0\n",
      "A12    12.0\n",
      "A13    13.0\n",
      "A14    14.0\n",
      "A15    15.0\n",
      "A16    16.0\n",
      "A17    17.0\n",
      "A18    18.0\n",
      "A19    19.0\n",
      "Name: B, dtype: float64\n",
      "C A0     0.437900\n",
      "A1     0.523588\n",
      "A2     0.216237\n",
      "A3     0.816137\n",
      "A4     0.088587\n",
      "A5     0.542428\n",
      "A6     0.937017\n",
      "A7     0.172924\n",
      "A8     0.268632\n",
      "A9     0.665321\n",
      "A10    0.015545\n",
      "A11    0.019678\n",
      "A12    0.148006\n",
      "A13    0.154070\n",
      "A14    0.816781\n",
      "A15    0.145947\n",
      "A16    0.103234\n",
      "A17    0.579152\n",
      "A18    0.220328\n",
      "A19    0.914462\n",
      "Name: C, dtype: float64\n",
      "D A0     Medium\n",
      "A1       High\n",
      "A2     Medium\n",
      "A3       High\n",
      "A4     Medium\n",
      "A5       High\n",
      "A6     Medium\n",
      "A7        Low\n",
      "A8       High\n",
      "A9       High\n",
      "A10    Medium\n",
      "A11    Medium\n",
      "A12      High\n",
      "A13       Low\n",
      "A14       Low\n",
      "A15    Medium\n",
      "A16      High\n",
      "A17       Low\n",
      "A18       Low\n",
      "A19      High\n",
      "Name: D, dtype: object\n",
      "E A0      83.589797\n",
      "A1     117.938233\n",
      "A2      91.409287\n",
      "A3     111.539100\n",
      "A4      93.891004\n",
      "A5     110.470590\n",
      "A6      94.457527\n",
      "A7     104.522279\n",
      "A8      97.534608\n",
      "A9     105.918721\n",
      "A10     75.295264\n",
      "A11    102.798725\n",
      "A12    114.591548\n",
      "A13     91.235631\n",
      "A14    101.184670\n",
      "A15    102.105147\n",
      "A16    103.317142\n",
      "A17     97.943360\n",
      "A18    102.603837\n",
      "A19     96.769157\n",
      "Name: E, dtype: float64\n"
     ]
    }
   ],
   "source": [
    "for key,value in df.iteritems():\n",
    "    print (key,value)"
   ]
  },
  {
   "cell_type": "markdown",
   "metadata": {},
   "source": [
    "### iterrows, iterates over earch row."
   ]
  },
  {
   "cell_type": "code",
   "execution_count": 38,
   "metadata": {},
   "outputs": [
    {
     "name": "stdout",
     "output_type": "stream",
     "text": [
      "A0 A    2018-01-01 00:00:00\n",
      "B                      0\n",
      "C                 0.4379\n",
      "D                 Medium\n",
      "E                83.5898\n",
      "Name: A0, dtype: object\n",
      "A1 A    2018-01-02 00:00:00\n",
      "B                      1\n",
      "C               0.523588\n",
      "D                   High\n",
      "E                117.938\n",
      "Name: A1, dtype: object\n",
      "A2 A    2018-01-03 00:00:00\n",
      "B                      2\n",
      "C               0.216237\n",
      "D                 Medium\n",
      "E                91.4093\n",
      "Name: A2, dtype: object\n",
      "A3 A    2018-01-04 00:00:00\n",
      "B                      3\n",
      "C               0.816137\n",
      "D                   High\n",
      "E                111.539\n",
      "Name: A3, dtype: object\n",
      "A4 A    2018-01-05 00:00:00\n",
      "B                      4\n",
      "C               0.088587\n",
      "D                 Medium\n",
      "E                 93.891\n",
      "Name: A4, dtype: object\n",
      "A5 A    2018-01-06 00:00:00\n",
      "B                      5\n",
      "C               0.542428\n",
      "D                   High\n",
      "E                110.471\n",
      "Name: A5, dtype: object\n",
      "A6 A    2018-01-07 00:00:00\n",
      "B                      6\n",
      "C               0.937017\n",
      "D                 Medium\n",
      "E                94.4575\n",
      "Name: A6, dtype: object\n",
      "A7 A    2018-01-08 00:00:00\n",
      "B                      7\n",
      "C               0.172924\n",
      "D                    Low\n",
      "E                104.522\n",
      "Name: A7, dtype: object\n",
      "A8 A    2018-01-09 00:00:00\n",
      "B                      8\n",
      "C               0.268632\n",
      "D                   High\n",
      "E                97.5346\n",
      "Name: A8, dtype: object\n",
      "A9 A    2018-01-10 00:00:00\n",
      "B                      9\n",
      "C               0.665321\n",
      "D                   High\n",
      "E                105.919\n",
      "Name: A9, dtype: object\n",
      "A10 A    2018-01-11 00:00:00\n",
      "B                     10\n",
      "C              0.0155452\n",
      "D                 Medium\n",
      "E                75.2953\n",
      "Name: A10, dtype: object\n",
      "A11 A    2018-01-12 00:00:00\n",
      "B                     11\n",
      "C              0.0196776\n",
      "D                 Medium\n",
      "E                102.799\n",
      "Name: A11, dtype: object\n",
      "A12 A    2018-01-13 00:00:00\n",
      "B                     12\n",
      "C               0.148006\n",
      "D                   High\n",
      "E                114.592\n",
      "Name: A12, dtype: object\n",
      "A13 A    2018-01-14 00:00:00\n",
      "B                     13\n",
      "C                0.15407\n",
      "D                    Low\n",
      "E                91.2356\n",
      "Name: A13, dtype: object\n",
      "A14 A    2018-01-15 00:00:00\n",
      "B                     14\n",
      "C               0.816781\n",
      "D                    Low\n",
      "E                101.185\n",
      "Name: A14, dtype: object\n",
      "A15 A    2018-01-16 00:00:00\n",
      "B                     15\n",
      "C               0.145947\n",
      "D                 Medium\n",
      "E                102.105\n",
      "Name: A15, dtype: object\n",
      "A16 A    2018-01-17 00:00:00\n",
      "B                     16\n",
      "C               0.103234\n",
      "D                   High\n",
      "E                103.317\n",
      "Name: A16, dtype: object\n",
      "A17 A    2018-01-18 00:00:00\n",
      "B                     17\n",
      "C               0.579152\n",
      "D                    Low\n",
      "E                97.9434\n",
      "Name: A17, dtype: object\n",
      "A18 A    2018-01-19 00:00:00\n",
      "B                     18\n",
      "C               0.220328\n",
      "D                    Low\n",
      "E                102.604\n",
      "Name: A18, dtype: object\n",
      "A19 A    2018-01-20 00:00:00\n",
      "B                     19\n",
      "C               0.914462\n",
      "D                   High\n",
      "E                96.7692\n",
      "Name: A19, dtype: object\n"
     ]
    }
   ],
   "source": [
    "for row_index,row in df.iterrows():\n",
    "    print (row_index,row)"
   ]
  },
  {
   "cell_type": "markdown",
   "metadata": {},
   "source": [
    "### itertuples, iterates over earch row and returns a tuple"
   ]
  },
  {
   "cell_type": "code",
   "execution_count": 39,
   "metadata": {},
   "outputs": [
    {
     "name": "stdout",
     "output_type": "stream",
     "text": [
      "Pandas(Index='A0', A=Timestamp('2018-01-01 00:00:00'), B=0.0, C=0.43790048279267313, D='Medium', E=83.58979731745454)\n",
      "Pandas(Index='A1', A=Timestamp('2018-01-02 00:00:00'), B=1.0, C=0.52358797902011489, D='High', E=117.93823327255718)\n",
      "Pandas(Index='A2', A=Timestamp('2018-01-03 00:00:00'), B=2.0, C=0.21623734672533101, D='Medium', E=91.409286725602641)\n",
      "Pandas(Index='A3', A=Timestamp('2018-01-04 00:00:00'), B=3.0, C=0.81613714063857745, D='High', E=111.5390997941782)\n",
      "Pandas(Index='A4', A=Timestamp('2018-01-05 00:00:00'), B=4.0, C=0.088586989344303091, D='Medium', E=93.891004495490762)\n",
      "Pandas(Index='A5', A=Timestamp('2018-01-06 00:00:00'), B=5.0, C=0.54242823877093482, D='High', E=110.4705900784725)\n",
      "Pandas(Index='A6', A=Timestamp('2018-01-07 00:00:00'), B=6.0, C=0.93701746728724178, D='Medium', E=94.457526892768641)\n",
      "Pandas(Index='A7', A=Timestamp('2018-01-08 00:00:00'), B=7.0, C=0.17292364275520578, D='Low', E=104.52227901544443)\n",
      "Pandas(Index='A8', A=Timestamp('2018-01-09 00:00:00'), B=8.0, C=0.2686320278631632, D='High', E=97.534607659057357)\n",
      "Pandas(Index='A9', A=Timestamp('2018-01-10 00:00:00'), B=9.0, C=0.66532072392716557, D='High', E=105.91872117690184)\n",
      "Pandas(Index='A10', A=Timestamp('2018-01-11 00:00:00'), B=10.0, C=0.015545204024415504, D='Medium', E=75.295263677738049)\n",
      "Pandas(Index='A11', A=Timestamp('2018-01-12 00:00:00'), B=11.0, C=0.019677594327140224, D='Medium', E=102.79872467705985)\n",
      "Pandas(Index='A12', A=Timestamp('2018-01-13 00:00:00'), B=12.0, C=0.14800573855931065, D='High', E=114.59154826675703)\n",
      "Pandas(Index='A13', A=Timestamp('2018-01-14 00:00:00'), B=13.0, C=0.15406985058837819, D='Low', E=91.235631298284048)\n",
      "Pandas(Index='A14', A=Timestamp('2018-01-15 00:00:00'), B=14.0, C=0.81678078859407721, D='Low', E=101.18466999236097)\n",
      "Pandas(Index='A15', A=Timestamp('2018-01-16 00:00:00'), B=15.0, C=0.14594685050936118, D='Medium', E=102.10514684377026)\n",
      "Pandas(Index='A16', A=Timestamp('2018-01-17 00:00:00'), B=16.0, C=0.10323444089999223, D='High', E=103.31714244342554)\n",
      "Pandas(Index='A17', A=Timestamp('2018-01-18 00:00:00'), B=17.0, C=0.57915208228552872, D='Low', E=97.943359757408857)\n",
      "Pandas(Index='A18', A=Timestamp('2018-01-19 00:00:00'), B=18.0, C=0.22032794561302782, D='Low', E=102.6038370827399)\n",
      "Pandas(Index='A19', A=Timestamp('2018-01-20 00:00:00'), B=19.0, C=0.91446181555271266, D='High', E=96.769156904565619)\n"
     ]
    }
   ],
   "source": [
    "for row in df.itertuples():\n",
    "    print (row)"
   ]
  },
  {
   "cell_type": "markdown",
   "metadata": {},
   "source": [
    "### learning any\n",
    "#### Return whether any element is True over requested axis."
   ]
  },
  {
   "cell_type": "code",
   "execution_count": 41,
   "metadata": {},
   "outputs": [
    {
     "data": {
      "text/plain": [
       "True"
      ]
     },
     "execution_count": 41,
     "metadata": {},
     "output_type": "execute_result"
    }
   ],
   "source": [
    " pd.Series([True, False]).any()"
   ]
  },
  {
   "cell_type": "code",
   "execution_count": 42,
   "metadata": {},
   "outputs": [
    {
     "data": {
      "text/plain": [
       "False"
      ]
     },
     "execution_count": 42,
     "metadata": {},
     "output_type": "execute_result"
    }
   ],
   "source": [
    " pd.Series([False, False]).any()\n"
   ]
  },
  {
   "cell_type": "code",
   "execution_count": 43,
   "metadata": {},
   "outputs": [
    {
     "data": {
      "text/plain": [
       "False"
      ]
     },
     "execution_count": 43,
     "metadata": {},
     "output_type": "execute_result"
    }
   ],
   "source": [
    " pd.Series([True, False]).all()\n"
   ]
  },
  {
   "cell_type": "code",
   "execution_count": 44,
   "metadata": {},
   "outputs": [
    {
     "data": {
      "text/plain": [
       "True"
      ]
     },
     "execution_count": 44,
     "metadata": {},
     "output_type": "execute_result"
    }
   ],
   "source": [
    " pd.Series([True, False]).any()"
   ]
  },
  {
   "cell_type": "code",
   "execution_count": 51,
   "metadata": {
    "collapsed": true
   },
   "outputs": [],
   "source": [
    "df = pd.DataFrame({\"A\": [0, 2], \"B\": [0, 2], \"C\": [0, 0]})"
   ]
  },
  {
   "cell_type": "code",
   "execution_count": 52,
   "metadata": {},
   "outputs": [
    {
     "data": {
      "text/html": [
       "<div>\n",
       "<table border=\"1\" class=\"dataframe\">\n",
       "  <thead>\n",
       "    <tr style=\"text-align: right;\">\n",
       "      <th></th>\n",
       "      <th>A</th>\n",
       "      <th>B</th>\n",
       "      <th>C</th>\n",
       "    </tr>\n",
       "  </thead>\n",
       "  <tbody>\n",
       "    <tr>\n",
       "      <th>0</th>\n",
       "      <td>0</td>\n",
       "      <td>0</td>\n",
       "      <td>0</td>\n",
       "    </tr>\n",
       "    <tr>\n",
       "      <th>1</th>\n",
       "      <td>2</td>\n",
       "      <td>2</td>\n",
       "      <td>0</td>\n",
       "    </tr>\n",
       "  </tbody>\n",
       "</table>\n",
       "</div>"
      ],
      "text/plain": [
       "   A  B  C\n",
       "0  0  0  0\n",
       "1  2  2  0"
      ]
     },
     "execution_count": 52,
     "metadata": {},
     "output_type": "execute_result"
    }
   ],
   "source": [
    "df"
   ]
  },
  {
   "cell_type": "code",
   "execution_count": 53,
   "metadata": {},
   "outputs": [
    {
     "data": {
      "text/plain": [
       "A     True\n",
       "B     True\n",
       "C    False\n",
       "dtype: bool"
      ]
     },
     "execution_count": 53,
     "metadata": {},
     "output_type": "execute_result"
    }
   ],
   "source": [
    "df.any(axis=\"rows\")"
   ]
  },
  {
   "cell_type": "code",
   "execution_count": 54,
   "metadata": {},
   "outputs": [
    {
     "data": {
      "text/plain": [
       "0    False\n",
       "1     True\n",
       "dtype: bool"
      ]
     },
     "execution_count": 54,
     "metadata": {},
     "output_type": "execute_result"
    }
   ],
   "source": [
    "df.any(axis=\"columns\")"
   ]
  },
  {
   "cell_type": "markdown",
   "metadata": {
    "collapsed": true
   },
   "source": [
    "### Iterations"
   ]
  },
  {
   "cell_type": "code",
   "execution_count": 1,
   "metadata": {
    "collapsed": true
   },
   "outputs": [],
   "source": [
    "a = ['a1', 'a2', 'a3']\n",
    "b = ['b1', 'b2']"
   ]
  },
  {
   "cell_type": "markdown",
   "metadata": {},
   "source": [
    "#### loop through every item of multiple lists. "
   ]
  },
  {
   "cell_type": "markdown",
   "metadata": {},
   "source": [
    "Using the built-in function zip also lets you iterate in parallel: "
   ]
  },
  {
   "cell_type": "code",
   "execution_count": 6,
   "metadata": {},
   "outputs": [
    {
     "name": "stdout",
     "output_type": "stream",
     "text": [
      "a1 b1\n",
      "a2 b2\n"
     ]
    }
   ],
   "source": [
    "## zip stops when the shorter of foo or bar stops.\n",
    "## This is fine when foo and bar are not massive. If they are both massive then forming zip(foo,bar) is an unnecessarily massive temporary variable, \n",
    "## and should be replaced by itertools.izip or itertools.izip_longest, which returns an iterator instead of a list.\n",
    "\n",
    "for x, y in zip( a, b):\n",
    "    print (x, y)"
   ]
  },
  {
   "cell_type": "code",
   "execution_count": 9,
   "metadata": {},
   "outputs": [
    {
     "ename": "AttributeError",
     "evalue": "module 'itertools' has no attribute 'izip'",
     "output_type": "error",
     "traceback": [
      "\u001b[0;31m---------------------------------------------------------------------------\u001b[0m",
      "\u001b[0;31mAttributeError\u001b[0m                            Traceback (most recent call last)",
      "\u001b[0;32m<ipython-input-9-e1ed3aa97cc5>\u001b[0m in \u001b[0;36m<module>\u001b[0;34m()\u001b[0m\n\u001b[1;32m      1\u001b[0m \u001b[1;32mimport\u001b[0m \u001b[0mitertools\u001b[0m\u001b[1;33m\u001b[0m\u001b[0m\n\u001b[0;32m----> 2\u001b[0;31m \u001b[1;32mfor\u001b[0m \u001b[0mf\u001b[0m\u001b[1;33m,\u001b[0m\u001b[0mb\u001b[0m \u001b[1;32min\u001b[0m \u001b[0mitertools\u001b[0m\u001b[1;33m.\u001b[0m\u001b[0mizip\u001b[0m\u001b[1;33m(\u001b[0m\u001b[0ma\u001b[0m\u001b[1;33m,\u001b[0m\u001b[0mb\u001b[0m\u001b[1;33m)\u001b[0m\u001b[1;33m:\u001b[0m\u001b[1;33m\u001b[0m\u001b[0m\n\u001b[0m\u001b[1;32m      3\u001b[0m     \u001b[0mprint\u001b[0m\u001b[1;33m(\u001b[0m\u001b[0mf\u001b[0m\u001b[1;33m,\u001b[0m\u001b[0mb\u001b[0m\u001b[1;33m)\u001b[0m\u001b[1;33m\u001b[0m\u001b[0m\n\u001b[1;32m      4\u001b[0m \u001b[1;32mfor\u001b[0m \u001b[0mf\u001b[0m\u001b[1;33m,\u001b[0m\u001b[0mb\u001b[0m \u001b[1;32min\u001b[0m \u001b[0mitertools\u001b[0m\u001b[1;33m.\u001b[0m\u001b[0mizip_longest\u001b[0m\u001b[1;33m(\u001b[0m\u001b[0ma\u001b[0m\u001b[1;33m,\u001b[0m\u001b[0mb\u001b[0m\u001b[1;33m)\u001b[0m\u001b[1;33m:\u001b[0m\u001b[1;33m\u001b[0m\u001b[0m\n\u001b[1;32m      5\u001b[0m     \u001b[0mprint\u001b[0m\u001b[1;33m(\u001b[0m\u001b[0mf\u001b[0m\u001b[1;33m,\u001b[0m\u001b[0mb\u001b[0m\u001b[1;33m)\u001b[0m\u001b[1;33m\u001b[0m\u001b[0m\n",
      "\u001b[0;31mAttributeError\u001b[0m: module 'itertools' has no attribute 'izip'"
     ]
    }
   ],
   "source": [
    "import itertools\n",
    "for f,b in itertools.izip(a,b):\n",
    "    print(f,b)\n",
    "for f,b in itertools.izip_longest(a,b):\n",
    "    print(f,b)"
   ]
  },
  {
   "cell_type": "code",
   "execution_count": null,
   "metadata": {
    "collapsed": true
   },
   "outputs": [],
   "source": []
  },
  {
   "cell_type": "code",
   "execution_count": null,
   "metadata": {
    "collapsed": true
   },
   "outputs": [],
   "source": []
  }
 ],
 "metadata": {
  "kernelspec": {
   "display_name": "Python 3",
   "language": "python",
   "name": "python3"
  },
  "language_info": {
   "codemirror_mode": {
    "name": "ipython",
    "version": 3
   },
   "file_extension": ".py",
   "mimetype": "text/x-python",
   "name": "python",
   "nbconvert_exporter": "python",
   "pygments_lexer": "ipython3",
   "version": "3.6.1"
  }
 },
 "nbformat": 4,
 "nbformat_minor": 2
}
