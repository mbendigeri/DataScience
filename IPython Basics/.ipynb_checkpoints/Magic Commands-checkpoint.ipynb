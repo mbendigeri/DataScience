{
 "cells": [
  {
   "cell_type": "markdown",
   "metadata": {},
   "source": [
    "### Magic commands solve some of the common problems that cannot be addressed using Python\n",
    "#### control the behavior of IPython itself, plus a lot of system-type features\n",
    "#### How to take input from the user\n",
    "#### How to know the execution time of a command or multiple lines of commands\n",
    "#### How to address copy paste it issues"
   ]
  },
  {
   "cell_type": "markdown",
   "metadata": {},
   "source": [
    "##### There are two kinds of magics, line-oriented and cell-oriented. \n",
    "##### Line magics are prefixed with the % character and work much like OS command-line calls: they get as an argument the rest of the line, where arguments are passed without parentheses or quotes. \n",
    "##### Lines magics can return results and can be used in the right hand side of an assignment. \n",
    "##### Cell magics are prefixed with a double %%, and they are functions that get as an argument not only the rest of the line, but also the lines below it in a separate argument."
   ]
  },
  {
   "cell_type": "markdown",
   "metadata": {},
   "source": [
    "### Link to more detail article on Magic commands\n",
    "https://blog.dominodatalab.com/lesser-known-ways-of-using-notebooks/"
   ]
  },
  {
   "cell_type": "markdown",
   "metadata": {},
   "source": [
    "### To know the exectution time"
   ]
  },
  {
   "cell_type": "markdown",
   "metadata": {},
   "source": [
    "##### use % to run a single line expression or statment or command"
   ]
  },
  {
   "cell_type": "code",
   "execution_count": 6,
   "metadata": {
    "collapsed": false
   },
   "outputs": [
    {
     "name": "stdout",
     "output_type": "stream",
     "text": [
      "1000 loops, best of 3: 367 µs per loop\n"
     ]
    }
   ],
   "source": [
    " %timeit L = [n ** 2 for n in range(1000)]"
   ]
  },
  {
   "cell_type": "markdown",
   "metadata": {},
   "source": [
    "##### use %% for multi line statements (%% sign will turn this into a cell magic that can handle multiple lines of input)"
   ]
  },
  {
   "cell_type": "code",
   "execution_count": 29,
   "metadata": {
    "collapsed": false
   },
   "outputs": [
    {
     "name": "stdout",
     "output_type": "stream",
     "text": [
      "1000 loops, best of 3: 451 µs per loop\n"
     ]
    }
   ],
   "source": [
    "%%timeit\n",
    "    L = []\n",
    "    for n in range(1000):\n",
    "        L.append(n ** 2)"
   ]
  },
  {
   "cell_type": "markdown",
   "metadata": {},
   "source": [
    "### line-by-line breakdown of time and memory usage in a function or script. \n",
    " <ul><li><code>%prun</code>, <code>%lprun</code>, <code>%mprun</code> <b> See a good tutorial</b> <a href=\"http://pynash.org/2013/03/06/timing-and-profiling/\">here</a>.</li></ul>"
   ]
  },
  {
   "cell_type": "markdown",
   "metadata": {},
   "source": [
    "### Run function of other languages"
   ]
  },
  {
   "cell_type": "markdown",
   "metadata": {},
   "source": [
    "##### % bash to run cell with bash in a subprocess."
   ]
  },
  {
   "cell_type": "markdown",
   "metadata": {},
   "source": [
    "### use ! to run a shell command"
   ]
  },
  {
   "cell_type": "code",
   "execution_count": 36,
   "metadata": {
    "collapsed": false
   },
   "outputs": [
    {
     "name": "stderr",
     "output_type": "stream",
     "text": [
      "'grep' is not recognized as an internal or external command,\n",
      "operable program or batch file.\n",
      "You are using pip version 9.0.1, however version 10.0.1 is available.\n",
      "You should consider upgrading via the 'python -m pip install --upgrade pip' command.\n",
      "Exception ignored in: <_io.TextIOWrapper name='<stdout>' mode='w' encoding='cp1252'>\n",
      "OSError: [Errno 22] Invalid argument\n"
     ]
    }
   ],
   "source": [
    "# use what version of pandas is used\n",
    "! pip freeze | grep pandas"
   ]
  },
  {
   "cell_type": "markdown",
   "metadata": {},
   "source": [
    "### user %%latex to  render cells contents as Latex. This is required for displaying formulas\n",
    "##### It is uses MathJax is used to render the formula"
   ]
  },
  {
   "cell_type": "markdown",
   "metadata": {},
   "source": [
    "%%latex\n",
    "\\begin(align) \n",
    "a=\\frac(10)(20)\n",
    "\\end(align)"
   ]
  },
  {
   "cell_type": "markdown",
   "metadata": {},
   "source": [
    "### %% HTML: to render the cell as HTML. So you can even embed an image or other media in your notebook:"
   ]
  },
  {
   "cell_type": "code",
   "execution_count": 50,
   "metadata": {
    "collapsed": false
   },
   "outputs": [
    {
     "data": {
      "text/html": [
       "<b>Mallikarjun</b><img src='./Mallikarjun_Small_Photo.jpg' height=\"102\" width=\"102\"/>"
      ],
      "text/plain": [
       "<IPython.core.display.HTML object>"
      ]
     },
     "metadata": {},
     "output_type": "display_data"
    }
   ],
   "source": [
    "%%HTML\n",
    "<b>Mallikarjun</b><img src='./Mallikarjun_Small_Photo.jpg' height=\"102\" width=\"102\"/>"
   ]
  },
  {
   "cell_type": "markdown",
   "metadata": {},
   "source": [
    "#### %prun, %lprun, %mprun can give you line-by-line breakdown of time and memory usage in a function or script. "
   ]
  },
  {
   "cell_type": "markdown",
   "metadata": {},
   "source": [
    "### For a quick and simple list of all available magic functions, type this:"
   ]
  },
  {
   "cell_type": "code",
   "execution_count": 11,
   "metadata": {
    "collapsed": false
   },
   "outputs": [
    {
     "data": {
      "application/json": {
       "cell": {
        "!": "OSMagics",
        "HTML": "Other",
        "SVG": "Other",
        "bash": "Other",
        "capture": "ExecutionMagics",
        "cmd": "Other",
        "debug": "ExecutionMagics",
        "file": "Other",
        "html": "DisplayMagics",
        "javascript": "DisplayMagics",
        "js": "DisplayMagics",
        "latex": "DisplayMagics",
        "perl": "Other",
        "prun": "ExecutionMagics",
        "pypy": "Other",
        "python": "Other",
        "python2": "Other",
        "python3": "Other",
        "ruby": "Other",
        "script": "ScriptMagics",
        "sh": "Other",
        "svg": "DisplayMagics",
        "sx": "OSMagics",
        "system": "OSMagics",
        "time": "ExecutionMagics",
        "timeit": "ExecutionMagics",
        "writefile": "OSMagics"
       },
       "line": {
        "alias": "OSMagics",
        "alias_magic": "BasicMagics",
        "autocall": "AutoMagics",
        "automagic": "AutoMagics",
        "autosave": "KernelMagics",
        "bookmark": "OSMagics",
        "cd": "OSMagics",
        "clear": "KernelMagics",
        "cls": "KernelMagics",
        "colors": "BasicMagics",
        "config": "ConfigMagics",
        "connect_info": "KernelMagics",
        "copy": "Other",
        "ddir": "Other",
        "debug": "ExecutionMagics",
        "dhist": "OSMagics",
        "dirs": "OSMagics",
        "doctest_mode": "BasicMagics",
        "echo": "Other",
        "ed": "Other",
        "edit": "KernelMagics",
        "env": "OSMagics",
        "gui": "BasicMagics",
        "hist": "Other",
        "history": "HistoryMagics",
        "killbgscripts": "ScriptMagics",
        "ldir": "Other",
        "less": "KernelMagics",
        "load": "CodeMagics",
        "load_ext": "ExtensionMagics",
        "loadpy": "CodeMagics",
        "logoff": "LoggingMagics",
        "logon": "LoggingMagics",
        "logstart": "LoggingMagics",
        "logstate": "LoggingMagics",
        "logstop": "LoggingMagics",
        "ls": "Other",
        "lsmagic": "BasicMagics",
        "macro": "ExecutionMagics",
        "magic": "BasicMagics",
        "matplotlib": "PylabMagics",
        "mkdir": "Other",
        "more": "KernelMagics",
        "notebook": "BasicMagics",
        "page": "BasicMagics",
        "pastebin": "CodeMagics",
        "pdb": "ExecutionMagics",
        "pdef": "NamespaceMagics",
        "pdoc": "NamespaceMagics",
        "pfile": "NamespaceMagics",
        "pinfo": "NamespaceMagics",
        "pinfo2": "NamespaceMagics",
        "popd": "OSMagics",
        "pprint": "BasicMagics",
        "precision": "BasicMagics",
        "profile": "BasicMagics",
        "prun": "ExecutionMagics",
        "psearch": "NamespaceMagics",
        "psource": "NamespaceMagics",
        "pushd": "OSMagics",
        "pwd": "OSMagics",
        "pycat": "OSMagics",
        "pylab": "PylabMagics",
        "qtconsole": "KernelMagics",
        "quickref": "BasicMagics",
        "recall": "HistoryMagics",
        "rehashx": "OSMagics",
        "reload_ext": "ExtensionMagics",
        "ren": "Other",
        "rep": "Other",
        "rerun": "HistoryMagics",
        "reset": "NamespaceMagics",
        "reset_selective": "NamespaceMagics",
        "rmdir": "Other",
        "run": "ExecutionMagics",
        "save": "CodeMagics",
        "sc": "OSMagics",
        "set_env": "OSMagics",
        "store": "StoreMagics",
        "sx": "OSMagics",
        "system": "OSMagics",
        "tb": "ExecutionMagics",
        "time": "ExecutionMagics",
        "timeit": "ExecutionMagics",
        "unalias": "OSMagics",
        "unload_ext": "ExtensionMagics",
        "who": "NamespaceMagics",
        "who_ls": "NamespaceMagics",
        "whos": "NamespaceMagics",
        "xdel": "NamespaceMagics",
        "xmode": "BasicMagics"
       }
      },
      "text/plain": [
       "Available line magics:\n",
       "%alias  %alias_magic  %autocall  %automagic  %autosave  %bookmark  %cd  %clear  %cls  %colors  %config  %connect_info  %copy  %ddir  %debug  %dhist  %dirs  %doctest_mode  %echo  %ed  %edit  %env  %gui  %hist  %history  %killbgscripts  %ldir  %less  %load  %load_ext  %loadpy  %logoff  %logon  %logstart  %logstate  %logstop  %ls  %lsmagic  %macro  %magic  %matplotlib  %mkdir  %more  %notebook  %page  %pastebin  %pdb  %pdef  %pdoc  %pfile  %pinfo  %pinfo2  %popd  %pprint  %precision  %profile  %prun  %psearch  %psource  %pushd  %pwd  %pycat  %pylab  %qtconsole  %quickref  %recall  %rehashx  %reload_ext  %ren  %rep  %rerun  %reset  %reset_selective  %rmdir  %run  %save  %sc  %set_env  %store  %sx  %system  %tb  %time  %timeit  %unalias  %unload_ext  %who  %who_ls  %whos  %xdel  %xmode\n",
       "\n",
       "Available cell magics:\n",
       "%%!  %%HTML  %%SVG  %%bash  %%capture  %%cmd  %%debug  %%file  %%html  %%javascript  %%js  %%latex  %%perl  %%prun  %%pypy  %%python  %%python2  %%python3  %%ruby  %%script  %%sh  %%svg  %%sx  %%system  %%time  %%timeit  %%writefile\n",
       "\n",
       "Automagic is ON, % prefix IS NOT needed for line magics."
      ]
     },
     "execution_count": 11,
     "metadata": {},
     "output_type": "execute_result"
    }
   ],
   "source": [
    "%lsmagic"
   ]
  },
  {
   "cell_type": "markdown",
   "metadata": {},
   "source": [
    "### Help on Magic Functions: ?, %magic, and t"
   ]
  },
  {
   "cell_type": "code",
   "execution_count": 33,
   "metadata": {
    "collapsed": false
   },
   "outputs": [],
   "source": [
    "%timeit?"
   ]
  },
  {
   "cell_type": "code",
   "execution_count": 35,
   "metadata": {
    "collapsed": true
   },
   "outputs": [],
   "source": [
    "%magic"
   ]
  },
  {
   "cell_type": "code",
   "execution_count": 12,
   "metadata": {
    "collapsed": false
   },
   "outputs": [
    {
     "data": {
      "text/plain": [
       "{'%ANACONDA%': 'D:\\\\Mallikarjun\\\\UPXAcademylearning\\\\Anaconda',\n",
       " 'ALLUSERSPROFILE': 'C:\\\\ProgramData',\n",
       " 'ANACONDA': 'D:\\\\Mallikarjun\\\\UPXAcademylearning\\\\Anaconda',\n",
       " 'APPDATA': 'C:\\\\Users\\\\ee206984\\\\AppData\\\\Roaming',\n",
       " 'CLICOLOR': '1',\n",
       " 'COMMONPROGRAMFILES': 'C:\\\\Program Files\\\\Common Files',\n",
       " 'COMMONPROGRAMFILES(X86)': 'C:\\\\Program Files (x86)\\\\Common Files',\n",
       " 'COMMONPROGRAMW6432': 'C:\\\\Program Files\\\\Common Files',\n",
       " 'COMPUTERNAME': 'LPZ-EE206984',\n",
       " 'COMSPEC': 'C:\\\\windows\\\\system32\\\\cmd.exe',\n",
       " 'CONDA_PREFIX': 'D:\\\\Mallikarjun\\\\UPXAcademylearning\\\\Anaconda',\n",
       " 'DNX_HOME': '%USERPROFILE%\\\\.dnx',\n",
       " 'FP_NO_HOST_CHECK': 'NO',\n",
       " 'GIT_PAGER': 'cat',\n",
       " 'HOMEDRIVE': 'C:',\n",
       " 'HOMEPATH': '\\\\Users\\\\ee206984',\n",
       " 'IPY_INTERRUPT_EVENT': '1748',\n",
       " 'JPY_INTERRUPT_EVENT': '1748',\n",
       " 'JPY_PARENT_PID': '1736',\n",
       " 'LOCALAPPDATA': 'C:\\\\Users\\\\ee206984\\\\AppData\\\\Local',\n",
       " 'LOGONSERVER': '\\\\\\\\CHUBDC01',\n",
       " 'MPLBACKEND': 'module://ipykernel.pylab.backend_inline',\n",
       " 'NUMBER_OF_PROCESSORS': '4',\n",
       " 'OS': 'Windows_NT',\n",
       " 'PAGER': 'cat',\n",
       " 'PATH': 'D:\\\\Mallikarjun\\\\UPXAcademylearning\\\\Anaconda\\\\Library\\\\bin;D:\\\\Mallikarjun\\\\UPXAcademylearning\\\\Anaconda\\\\Library\\\\bin;D:\\\\Mallikarjun\\\\UPXAcademylearning\\\\Anaconda;D:\\\\Mallikarjun\\\\UPXAcademylearning\\\\Anaconda\\\\Library\\\\mingw-w64\\\\bin;D:\\\\Mallikarjun\\\\UPXAcademylearning\\\\Anaconda\\\\Library\\\\usr\\\\bin;D:\\\\Mallikarjun\\\\UPXAcademylearning\\\\Anaconda\\\\Library\\\\bin;D:\\\\Mallikarjun\\\\UPXAcademylearning\\\\Anaconda\\\\Scripts;D:\\\\Mallikarjun\\\\UPXAcademylearning\\\\Anaconda\\\\Library\\\\bin;C:\\\\ProgramData\\\\Oracle\\\\Java\\\\javapath;C:\\\\Program Files (x86)\\\\Intel\\\\iCLS Client\\\\;C:\\\\Program Files\\\\Intel\\\\iCLS Client\\\\;C:\\\\windows\\\\system32;C:\\\\windows;C:\\\\windows\\\\System32\\\\Wbem;C:\\\\windows\\\\System32\\\\WindowsPowerShell\\\\v1.0\\\\;C:\\\\Program Files (x86)\\\\Lenovo\\\\Password Manager\\\\;C:\\\\Program Files\\\\Microsoft SQL Server\\\\130\\\\Tools\\\\Binn\\\\;C:\\\\Program Files (x86)\\\\nodejs\\\\;C:\\\\Program Files (x86)\\\\Microsoft SQL Server\\\\130\\\\DTS\\\\Binn\\\\;C:\\\\Program Files\\\\Microsoft SQL Server\\\\130\\\\DTS\\\\Binn\\\\;C:\\\\Program Files (x86)\\\\Microsoft SQL Server\\\\Client SDK\\\\ODBC\\\\130\\\\Tools\\\\Binn\\\\;C:\\\\Program Files (x86)\\\\Microsoft SQL Server\\\\140\\\\Tools\\\\Binn\\\\;C:\\\\Program Files (x86)\\\\Microsoft SQL Server\\\\140\\\\DTS\\\\Binn\\\\;C:\\\\Program Files (x86)\\\\Microsoft SQL Server\\\\140\\\\Tools\\\\Binn\\\\ManagementStudio\\\\;C:\\\\Program Files\\\\Microsoft SQL Server\\\\Client SDK\\\\ODBC\\\\130\\\\Tools\\\\Binn\\\\;C:\\\\Program Files (x86)\\\\Microsoft SQL Server\\\\130\\\\Tools\\\\Binn\\\\;C:\\\\Program Files (x86)\\\\Microsoft SQL Server\\\\110\\\\DTS\\\\Binn\\\\;C:\\\\Program Files (x86)\\\\Microsoft SQL Server\\\\120\\\\DTS\\\\Binn\\\\;C:\\\\Program Files\\\\Intel\\\\WiFi\\\\bin\\\\;C:\\\\Program Files\\\\Common Files\\\\Intel\\\\WirelessCommon\\\\;C:\\\\Program Files\\\\dotnet\\\\;C:\\\\Program Files\\\\Git\\\\cmd;D:\\\\Mallikarjun\\\\UPXAcademylearning\\\\Anaconda;D:\\\\Mallikarjun\\\\UPXAcademylearning\\\\Anaconda\\\\Scripts;D:\\\\Mallikarjun\\\\UPXAcademylearning\\\\Anaconda\\\\Library\\\\bin;C:\\\\Users\\\\ee206984\\\\.dnx\\\\bin;C:\\\\Users\\\\ee206984\\\\AppData\\\\Roaming\\\\npm;C:\\\\Program Files (x86)\\\\Microsoft VS Code\\\\bin;D:\\\\Mallikarjun\\\\Bitnami\\\\magento-2.1.2-0\\\\php;C:\\\\Users\\\\ee206984\\\\AppData\\\\Local\\\\Programs\\\\Fiddler',\n",
       " 'PATHEXT': '.COM;.EXE;.BAT;.CMD;.VBS;.VBE;.JS;.JSE;.WSF;.WSH;.MSC',\n",
       " 'PLMVIS_82_LIBPATH': 'C:\\\\Program Files (x86)\\\\SAP\\\\FrontEnd\\\\SAPgui\\\\Program',\n",
       " 'PROCESSOR_ARCHITECTURE': 'AMD64',\n",
       " 'PROCESSOR_IDENTIFIER': 'Intel64 Family 6 Model 61 Stepping 4, GenuineIntel',\n",
       " 'PROCESSOR_LEVEL': '6',\n",
       " 'PROCESSOR_REVISION': '3d04',\n",
       " 'PROGRAMDATA': 'C:\\\\ProgramData',\n",
       " 'PROGRAMFILES': 'C:\\\\Program Files',\n",
       " 'PROGRAMFILES(X86)': 'C:\\\\Program Files (x86)',\n",
       " 'PROGRAMW6432': 'C:\\\\Program Files',\n",
       " 'PSMODULEPATH': 'C:\\\\windows\\\\system32\\\\WindowsPowerShell\\\\v1.0\\\\Modules\\\\;C:\\\\Program Files (x86)\\\\Microsoft SQL Server\\\\140\\\\Tools\\\\PowerShell\\\\Modules\\\\;C:\\\\Program Files (x86)\\\\Microsoft SQL Server\\\\130\\\\Tools\\\\PowerShell\\\\Modules\\\\;C:\\\\Program Files\\\\WindowsPowerShell\\\\Modules\\\\;C:\\\\Program Files (x86)\\\\Microsoft SDKs\\\\Azure\\\\PowerShell\\\\ResourceManager\\\\AzureResourceManager\\\\;C:\\\\Program Files (x86)\\\\Microsoft SDKs\\\\Azure\\\\PowerShell\\\\ServiceManagement\\\\;C:\\\\Program Files (x86)\\\\Microsoft SDKs\\\\Azure\\\\PowerShell\\\\Storage\\\\',\n",
       " 'PUBLIC': 'C:\\\\Users\\\\Public',\n",
       " 'SECSPECIALMODE': '710916',\n",
       " 'SESSIONNAME': 'Console',\n",
       " 'SNC_LIB': 'C:\\\\Program Files (x86)\\\\SAP\\\\Frontend\\\\SapGui\\\\Encryption\\\\secgss.dll',\n",
       " 'SYSTEMDRIVE': 'C:',\n",
       " 'SYSTEMROOT': 'C:\\\\windows',\n",
       " 'TEMP': 'C:\\\\Users\\\\ee206984\\\\AppData\\\\Local\\\\Temp',\n",
       " 'TERM': 'xterm-color',\n",
       " 'TMP': 'C:\\\\Users\\\\ee206984\\\\AppData\\\\Local\\\\Temp',\n",
       " 'TVT': 'C:\\\\Program Files (x86)\\\\Lenovo',\n",
       " 'UOIPME_REG_PATH': 'C:\\\\Program Files\\\\Intel Corporation\\\\USB over IP',\n",
       " 'USERDNSDOMAIN': 'SASKEN.COM',\n",
       " 'USERDOMAIN': 'SASKEN',\n",
       " 'USERDOMAIN_ROAMINGPROFILE': 'SASKEN',\n",
       " 'USERNAME': 'EE206984',\n",
       " 'USERPROFILE': 'C:\\\\Users\\\\ee206984',\n",
       " 'VBOX_MSI_INSTALL_PATH': 'C:\\\\Program Files\\\\Oracle\\\\VirtualBox\\\\',\n",
       " 'VS140COMNTOOLS': 'C:\\\\Program Files (x86)\\\\Microsoft Visual Studio 14.0\\\\Common7\\\\Tools\\\\',\n",
       " 'VS90COMNTOOLS': 'D:\\\\VisualStudio2008\\\\Common7\\\\Tools\\\\',\n",
       " 'WINDIR': 'C:\\\\windows'}"
      ]
     },
     "execution_count": 12,
     "metadata": {},
     "output_type": "execute_result"
    }
   ],
   "source": [
    "%env"
   ]
  },
  {
   "cell_type": "markdown",
   "metadata": {},
   "source": [
    "##### Setting the background for Matplotlib\n",
    "###### %matplotlib inline sets the backend of matplotlib to the 'inline' backend:"
   ]
  },
  {
   "cell_type": "code",
   "execution_count": 13,
   "metadata": {
    "collapsed": true
   },
   "outputs": [],
   "source": [
    "%matplotlib inline"
   ]
  },
  {
   "cell_type": "code",
   "execution_count": null,
   "metadata": {
    "collapsed": true
   },
   "outputs": [],
   "source": [
    "### "
   ]
  }
 ],
 "metadata": {
  "kernelspec": {
   "display_name": "Python 3",
   "language": "python",
   "name": "python3"
  },
  "language_info": {
   "codemirror_mode": {
    "name": "ipython",
    "version": 3
   },
   "file_extension": ".py",
   "mimetype": "text/x-python",
   "name": "python",
   "nbconvert_exporter": "python",
   "pygments_lexer": "ipython3",
   "version": "3.6.0"
  }
 },
 "nbformat": 4,
 "nbformat_minor": 2
}
