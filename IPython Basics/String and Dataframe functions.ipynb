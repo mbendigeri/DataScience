{
 "cells": [
  {
   "cell_type": "markdown",
   "metadata": {},
   "source": [
    "### Q1) What is the output of the following statements...\n",
    "##### Statement 1:  print('Hello \\n World') what is the output?\n",
    "##### Statement 2:  print(r'\\nHello \\n World') what is the output?"
   ]
  },
  {
   "cell_type": "code",
   "execution_count": 2,
   "metadata": {
    "collapsed": false
   },
   "outputs": [
    {
     "name": "stdout",
     "output_type": "stream",
     "text": [
      "Hello \n",
      " World\n",
      "\\nHello \\n World\n"
     ]
    }
   ],
   "source": [
    "strr=\"Hello World\"\n",
    "print('Hello \\n World') \n",
    "print(r'\\nHello \\n World') ## takes the \\n as literalss. output is a raw string, so it won’t convert escape characters"
   ]
  },
  {
   "cell_type": "markdown",
   "metadata": {},
   "source": [
    "### Q2) Assuming that we have string variable named strr assigned with value Hello World try answering these questions.\n",
    "##### strr=\"Hello World\"\n",
    "##### I am trying to change the word Hello to Hi and I am writing the following statement...\n",
    "###### strr[1:5]=\"i\"\n",
    "###### print(strr)\n",
    "##### What is the output?"
   ]
  },
  {
   "cell_type": "code",
   "execution_count": 4,
   "metadata": {
    "collapsed": false
   },
   "outputs": [
    {
     "ename": "TypeError",
     "evalue": "'str' object does not support item assignment",
     "output_type": "error",
     "traceback": [
      "\u001b[0;31m---------------------------------------------------------------------------\u001b[0m",
      "\u001b[0;31mTypeError\u001b[0m                                 Traceback (most recent call last)",
      "\u001b[0;32m<ipython-input-4-642db180a3d2>\u001b[0m in \u001b[0;36m<module>\u001b[0;34m()\u001b[0m\n\u001b[1;32m      1\u001b[0m \u001b[0mstrr\u001b[0m\u001b[1;33m=\u001b[0m\u001b[1;34m\"Hello World\"\u001b[0m\u001b[1;33m\u001b[0m\u001b[0m\n\u001b[0;32m----> 2\u001b[0;31m \u001b[0mstrr\u001b[0m\u001b[1;33m[\u001b[0m\u001b[1;36m1\u001b[0m\u001b[1;33m:\u001b[0m\u001b[1;36m5\u001b[0m\u001b[1;33m]\u001b[0m\u001b[1;33m=\u001b[0m\u001b[1;34m\"i\"\u001b[0m\u001b[1;33m\u001b[0m\u001b[0m\n\u001b[0m\u001b[1;32m      3\u001b[0m \u001b[0mprint\u001b[0m\u001b[1;33m(\u001b[0m\u001b[0mstrr\u001b[0m\u001b[1;33m)\u001b[0m\u001b[1;33m\u001b[0m\u001b[0m\n\u001b[1;32m      4\u001b[0m \u001b[0mstrr\u001b[0m\u001b[1;33m.\u001b[0m\u001b[0mreplace\u001b[0m\u001b[1;33m(\u001b[0m\u001b[1;34m'Hello'\u001b[0m\u001b[1;33m,\u001b[0m\u001b[1;34m'Hi'\u001b[0m\u001b[1;33m)\u001b[0m\u001b[1;33m\u001b[0m\u001b[0m\n\u001b[1;32m      5\u001b[0m \u001b[0mprint\u001b[0m\u001b[1;33m(\u001b[0m\u001b[0mstrr\u001b[0m\u001b[1;33m)\u001b[0m\u001b[1;33m\u001b[0m\u001b[0m\n",
      "\u001b[0;31mTypeError\u001b[0m: 'str' object does not support item assignment"
     ]
    }
   ],
   "source": [
    "strr=\"Hello World\"\n",
    "strr[1:5]=\"i\"\n",
    "print(strr)\n"
   ]
  },
  {
   "cell_type": "code",
   "execution_count": 6,
   "metadata": {
    "collapsed": false
   },
   "outputs": [
    {
     "name": "stdout",
     "output_type": "stream",
     "text": [
      "Hi World\n",
      "Hello World\n"
     ]
    }
   ],
   "source": [
    "strr.replace('Hello','Hi') ## It is createing a new string with replaced values and not changing the same string\n",
    "# yoou need to store the string in another variable\n",
    "print(strr)# print the same old string"
   ]
  },
  {
   "cell_type": "code",
   "execution_count": 7,
   "metadata": {
    "collapsed": false
   },
   "outputs": [
    {
     "name": "stdout",
     "output_type": "stream",
     "text": [
      "Hi World\n"
     ]
    }
   ],
   "source": [
    "newstrr=strr.replace('Hello','Hi') \n",
    "print(newstrr)"
   ]
  },
  {
   "cell_type": "code",
   "execution_count": 8,
   "metadata": {
    "collapsed": false
   },
   "outputs": [
    {
     "name": "stdout",
     "output_type": "stream",
     "text": [
      "Hi World\n",
      "Hi World\n"
     ]
    }
   ],
   "source": [
    "#alternate way\n",
    "print(strr.replace('Hello','Hi') )\n",
    "print(newstrr)"
   ]
  },
  {
   "cell_type": "markdown",
   "metadata": {},
   "source": [
    "### Q3) what is the output of the following statement?\n",
    "###### strr1=strr.replace('l','i')\n",
    "###### print(strr1)\n",
    "###### strr2=strr.replace('l','i',2)\n",
    "###### print(strr2)"
   ]
  },
  {
   "cell_type": "code",
   "execution_count": 17,
   "metadata": {
    "collapsed": false
   },
   "outputs": [
    {
     "name": "stdout",
     "output_type": "stream",
     "text": [
      "Hmmmmmllo\n",
      "Hmeeeello\n"
     ]
    }
   ],
   "source": [
    "strr=\"Heeeeello \"\n",
    "strr1=strr.replace('e','m')\n",
    "print(strr1)\n",
    "\n",
    "#Third argument.. represent how many we need to replace.....if not specified all are replaced..am I right???\n",
    "strr2=strr.replace('e','m',1) \n",
    "print(strr2)"
   ]
  },
  {
   "cell_type": "markdown",
   "metadata": {},
   "source": [
    "### Q4)What is the output of the following statements..\n",
    "\n",
    "#### strr=\"This is a string. This is really good\"\n",
    "#### strr.replace(\"is\",\"was\")\n",
    "#### strr.replace(\"is\",\"was\",2)"
   ]
  },
  {
   "cell_type": "code",
   "execution_count": 22,
   "metadata": {
    "collapsed": false
   },
   "outputs": [
    {
     "name": "stdout",
     "output_type": "stream",
     "text": [
      "Thwas was a string. Thwas was really good\n",
      "Thwas was a string. This is really good\n"
     ]
    }
   ],
   "source": [
    "strr=\"This is a string. This is really good\"\n",
    "print(strr.replace(\"is\",\"was\"))\n",
    "print(strr.replace(\"is\",\"was\",2))"
   ]
  },
  {
   "cell_type": "markdown",
   "metadata": {},
   "source": [
    "### Q5)What is the simplest way to calculate the factorial of a given number"
   ]
  },
  {
   "cell_type": "code",
   "execution_count": 24,
   "metadata": {
    "collapsed": false
   },
   "outputs": [
    {
     "data": {
      "text/plain": [
       "120"
      ]
     },
     "execution_count": 24,
     "metadata": {},
     "output_type": "execute_result"
    }
   ],
   "source": [
    "import math as m\n",
    "m.factorial(5)"
   ]
  },
  {
   "cell_type": "markdown",
   "metadata": {},
   "source": [
    "### Q5 question on pandas is, how can I generate a series of date values starting from beginning of the current month until today"
   ]
  },
  {
   "cell_type": "code",
   "execution_count": 25,
   "metadata": {
    "collapsed": false
   },
   "outputs": [
    {
     "name": "stdout",
     "output_type": "stream",
     "text": [
      "2018-07-28 01:43:57.807711\n"
     ]
    }
   ],
   "source": [
    "import datetime\n",
    "print(datetime.datetime.today())"
   ]
  },
  {
   "cell_type": "code",
   "execution_count": 26,
   "metadata": {
    "collapsed": false
   },
   "outputs": [
    {
     "name": "stdout",
     "output_type": "stream",
     "text": [
      "2018-07-28\n"
     ]
    }
   ],
   "source": [
    "print(datetime.datetime.today().date())"
   ]
  },
  {
   "cell_type": "code",
   "execution_count": 27,
   "metadata": {
    "collapsed": false
   },
   "outputs": [
    {
     "name": "stdout",
     "output_type": "stream",
     "text": [
      "28\n"
     ]
    }
   ],
   "source": [
    "print(datetime.datetime.today().date().day)"
   ]
  },
  {
   "cell_type": "code",
   "execution_count": 28,
   "metadata": {
    "collapsed": true
   },
   "outputs": [],
   "source": [
    "#date_range method in pandas to generate a series of date values with a numeric value and frequency.. \n",
    "#the generic syntax of date_range is as follows..\n",
    "\n",
    "#pandas.date_range(start=None, end=None, periods=None, freq=None, tz=None, normalize=False, name=None, closed=None, **kwargs)"
   ]
  },
  {
   "cell_type": "code",
   "execution_count": 32,
   "metadata": {
    "collapsed": false
   },
   "outputs": [
    {
     "data": {
      "text/plain": [
       "DatetimeIndex(['2018-07-01', '2018-07-02', '2018-07-03', '2018-07-04',\n",
       "               '2018-07-05', '2018-07-06', '2018-07-07', '2018-07-08',\n",
       "               '2018-07-09', '2018-07-10', '2018-07-11', '2018-07-12',\n",
       "               '2018-07-13', '2018-07-14', '2018-07-15', '2018-07-16',\n",
       "               '2018-07-17', '2018-07-18', '2018-07-19', '2018-07-20',\n",
       "               '2018-07-21', '2018-07-22', '2018-07-23', '2018-07-24',\n",
       "               '2018-07-25', '2018-07-26', '2018-07-27', '2018-07-28'],\n",
       "              dtype='datetime64[ns]', freq='D')"
      ]
     },
     "execution_count": 32,
     "metadata": {},
     "output_type": "execute_result"
    }
   ],
   "source": [
    "#There are 2 ways to achieve this.. one is use periods argument or use end argument of date_range method\n",
    "# 1. Using periods argument...\n",
    "import pandas as pd\n",
    "pd.date_range('7/1/2018',periods=datetime.datetime.today().date().day)"
   ]
  },
  {
   "cell_type": "code",
   "execution_count": 31,
   "metadata": {
    "collapsed": false
   },
   "outputs": [
    {
     "data": {
      "text/plain": [
       "DatetimeIndex(['2018-07-01', '2018-07-02', '2018-07-03', '2018-07-04',\n",
       "               '2018-07-05', '2018-07-06', '2018-07-07', '2018-07-08',\n",
       "               '2018-07-09', '2018-07-10', '2018-07-11', '2018-07-12',\n",
       "               '2018-07-13', '2018-07-14', '2018-07-15', '2018-07-16',\n",
       "               '2018-07-17', '2018-07-18', '2018-07-19', '2018-07-20',\n",
       "               '2018-07-21', '2018-07-22', '2018-07-23', '2018-07-24',\n",
       "               '2018-07-25', '2018-07-26', '2018-07-27', '2018-07-28'],\n",
       "              dtype='datetime64[ns]', freq='D')"
      ]
     },
     "execution_count": 31,
     "metadata": {},
     "output_type": "execute_result"
    }
   ],
   "source": [
    "#Using end argument..\n",
    "#When u r specifying the end date..to differentiate we must specify start to help us understand the start and end dates\n",
    "pd.date_range(start='7/1/2018',end=datetime.datetime.today().date())"
   ]
  },
  {
   "cell_type": "markdown",
   "metadata": {},
   "source": [
    "### Q6)What is the output of the following statement...\n",
    "\n",
    "##### np.array([3] * 4)"
   ]
  },
  {
   "cell_type": "code",
   "execution_count": 45,
   "metadata": {
    "collapsed": false
   },
   "outputs": [],
   "source": [
    "import numpy as np\n",
    "# it generates an array with 4 lists containing the value [3]\n",
    "listarray=np.array([3] * 4)\n",
    "list11=listarray[0]\n"
   ]
  },
  {
   "cell_type": "code",
   "execution_count": 37,
   "metadata": {
    "collapsed": false
   },
   "outputs": [
    {
     "data": {
      "text/plain": [
       "array([12])"
      ]
     },
     "execution_count": 37,
     "metadata": {},
     "output_type": "execute_result"
    }
   ],
   "source": [
    "np.array([3]) * 4"
   ]
  },
  {
   "cell_type": "markdown",
   "metadata": {},
   "source": [
    "### Q7) \n",
    "#### my next question is..let's say, I have a data frame as shown in the screenshot..\n",
    "#### as you notice, these columns are not arranged in proper order.. can any of tell me as to how can I re-arrange these column to be shown as A5,A4,A3,A3 and A1\n",
    "<img src='./Matrix.jpeg' />"
   ]
  },
  {
   "cell_type": "code",
   "execution_count": 71,
   "metadata": {
    "collapsed": false
   },
   "outputs": [
    {
     "data": {
      "text/html": [
       "<div>\n",
       "<table border=\"1\" class=\"dataframe\">\n",
       "  <thead>\n",
       "    <tr style=\"text-align: right;\">\n",
       "      <th></th>\n",
       "      <th>A1</th>\n",
       "      <th>A2</th>\n",
       "      <th>A3</th>\n",
       "      <th>A4</th>\n",
       "    </tr>\n",
       "  </thead>\n",
       "  <tbody>\n",
       "    <tr>\n",
       "      <th>0</th>\n",
       "      <td>87</td>\n",
       "      <td>88</td>\n",
       "      <td>94</td>\n",
       "      <td>98</td>\n",
       "    </tr>\n",
       "    <tr>\n",
       "      <th>1</th>\n",
       "      <td>89</td>\n",
       "      <td>96</td>\n",
       "      <td>40</td>\n",
       "      <td>47</td>\n",
       "    </tr>\n",
       "    <tr>\n",
       "      <th>2</th>\n",
       "      <td>47</td>\n",
       "      <td>92</td>\n",
       "      <td>60</td>\n",
       "      <td>94</td>\n",
       "    </tr>\n",
       "    <tr>\n",
       "      <th>3</th>\n",
       "      <td>95</td>\n",
       "      <td>43</td>\n",
       "      <td>68</td>\n",
       "      <td>77</td>\n",
       "    </tr>\n",
       "    <tr>\n",
       "      <th>4</th>\n",
       "      <td>50</td>\n",
       "      <td>69</td>\n",
       "      <td>58</td>\n",
       "      <td>49</td>\n",
       "    </tr>\n",
       "  </tbody>\n",
       "</table>\n",
       "</div>"
      ],
      "text/plain": [
       "   A1  A2  A3  A4\n",
       "0  87  88  94  98\n",
       "1  89  96  40  47\n",
       "2  47  92  60  94\n",
       "3  95  43  68  77\n",
       "4  50  69  58  49"
      ]
     },
     "execution_count": 71,
     "metadata": {},
     "output_type": "execute_result"
    }
   ],
   "source": [
    "import pandas as pd\n",
    "df=pd.DataFrame({'A1':np.random.randint(low=40,high=100,size=5),\n",
    "                 'A2':np.random.randint(low=40,high=100,size=5),\n",
    "                'A3':np.random.randint(low=40,high=100,size=5),\n",
    "                'A4':np.random.randint(low=40,high=100,size=5)\n",
    "                })\n",
    "df"
   ]
  },
  {
   "cell_type": "code",
   "execution_count": 73,
   "metadata": {
    "collapsed": false
   },
   "outputs": [
    {
     "data": {
      "text/html": [
       "<div>\n",
       "<table border=\"1\" class=\"dataframe\">\n",
       "  <thead>\n",
       "    <tr style=\"text-align: right;\">\n",
       "      <th></th>\n",
       "      <th>A4</th>\n",
       "      <th>A3</th>\n",
       "      <th>A2</th>\n",
       "      <th>A1</th>\n",
       "    </tr>\n",
       "  </thead>\n",
       "  <tbody>\n",
       "    <tr>\n",
       "      <th>0</th>\n",
       "      <td>98</td>\n",
       "      <td>94</td>\n",
       "      <td>88</td>\n",
       "      <td>87</td>\n",
       "    </tr>\n",
       "    <tr>\n",
       "      <th>1</th>\n",
       "      <td>47</td>\n",
       "      <td>40</td>\n",
       "      <td>96</td>\n",
       "      <td>89</td>\n",
       "    </tr>\n",
       "    <tr>\n",
       "      <th>2</th>\n",
       "      <td>94</td>\n",
       "      <td>60</td>\n",
       "      <td>92</td>\n",
       "      <td>47</td>\n",
       "    </tr>\n",
       "    <tr>\n",
       "      <th>3</th>\n",
       "      <td>77</td>\n",
       "      <td>68</td>\n",
       "      <td>43</td>\n",
       "      <td>95</td>\n",
       "    </tr>\n",
       "    <tr>\n",
       "      <th>4</th>\n",
       "      <td>49</td>\n",
       "      <td>58</td>\n",
       "      <td>69</td>\n",
       "      <td>50</td>\n",
       "    </tr>\n",
       "  </tbody>\n",
       "</table>\n",
       "</div>"
      ],
      "text/plain": [
       "   A4  A3  A2  A1\n",
       "0  98  94  88  87\n",
       "1  47  40  96  89\n",
       "2  94  60  92  47\n",
       "3  77  68  43  95\n",
       "4  49  58  69  50"
      ]
     },
     "execution_count": 73,
     "metadata": {},
     "output_type": "execute_result"
    }
   ],
   "source": [
    "df[['A4','A3','A2','A1']]"
   ]
  },
  {
   "cell_type": "code",
   "execution_count": 59,
   "metadata": {
    "collapsed": false
   },
   "outputs": [
    {
     "data": {
      "text/plain": [
       "array([77, 41, 73, 70, 45])"
      ]
     },
     "execution_count": 59,
     "metadata": {},
     "output_type": "execute_result"
    }
   ],
   "source": [
    "np.random.randint(low=40,high=100,size=5)"
   ]
  },
  {
   "cell_type": "code",
   "execution_count": 74,
   "metadata": {
    "collapsed": false
   },
   "outputs": [
    {
     "data": {
      "text/html": [
       "<div>\n",
       "<table border=\"1\" class=\"dataframe\">\n",
       "  <thead>\n",
       "    <tr style=\"text-align: right;\">\n",
       "      <th></th>\n",
       "      <th>A4</th>\n",
       "      <th>A3</th>\n",
       "      <th>A2</th>\n",
       "      <th>A1</th>\n",
       "    </tr>\n",
       "  </thead>\n",
       "  <tbody>\n",
       "    <tr>\n",
       "      <th>0</th>\n",
       "      <td>98</td>\n",
       "      <td>94</td>\n",
       "      <td>88</td>\n",
       "      <td>87</td>\n",
       "    </tr>\n",
       "    <tr>\n",
       "      <th>1</th>\n",
       "      <td>47</td>\n",
       "      <td>40</td>\n",
       "      <td>96</td>\n",
       "      <td>89</td>\n",
       "    </tr>\n",
       "    <tr>\n",
       "      <th>2</th>\n",
       "      <td>94</td>\n",
       "      <td>60</td>\n",
       "      <td>92</td>\n",
       "      <td>47</td>\n",
       "    </tr>\n",
       "    <tr>\n",
       "      <th>3</th>\n",
       "      <td>77</td>\n",
       "      <td>68</td>\n",
       "      <td>43</td>\n",
       "      <td>95</td>\n",
       "    </tr>\n",
       "    <tr>\n",
       "      <th>4</th>\n",
       "      <td>49</td>\n",
       "      <td>58</td>\n",
       "      <td>69</td>\n",
       "      <td>50</td>\n",
       "    </tr>\n",
       "  </tbody>\n",
       "</table>\n",
       "</div>"
      ],
      "text/plain": [
       "   A4  A3  A2  A1\n",
       "0  98  94  88  87\n",
       "1  47  40  96  89\n",
       "2  94  60  92  47\n",
       "3  77  68  43  95\n",
       "4  49  58  69  50"
      ]
     },
     "execution_count": 74,
     "metadata": {},
     "output_type": "execute_result"
    }
   ],
   "source": [
    "#in the sort_index method we can supply the parameter axis as 1 which indicates that you are sorting the data frame by column index's\n",
    "df.sort_index(axis=1,ascending=False)"
   ]
  },
  {
   "cell_type": "code",
   "execution_count": null,
   "metadata": {
    "collapsed": true
   },
   "outputs": [],
   "source": []
  }
 ],
 "metadata": {
  "kernelspec": {
   "display_name": "Python 3",
   "language": "python",
   "name": "python3"
  },
  "language_info": {
   "codemirror_mode": {
    "name": "ipython",
    "version": 3
   },
   "file_extension": ".py",
   "mimetype": "text/x-python",
   "name": "python",
   "nbconvert_exporter": "python",
   "pygments_lexer": "ipython3",
   "version": "3.6.0"
  }
 },
 "nbformat": 4,
 "nbformat_minor": 2
}
