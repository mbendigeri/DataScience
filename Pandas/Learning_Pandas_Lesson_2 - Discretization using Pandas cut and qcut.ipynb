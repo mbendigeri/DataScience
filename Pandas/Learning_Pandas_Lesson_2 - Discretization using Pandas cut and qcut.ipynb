{
 "cells": [
  {
   "cell_type": "code",
   "execution_count": 1,
   "metadata": {
    "collapsed": true
   },
   "outputs": [],
   "source": [
    "# Discretization also called as binning or bucketing\n",
    "# Discretization is a means of slicing up continuous data into a set of \"bins\", \n",
    "#where each bin represents a range of the continuous sample and the items are then placed into the appropriate bin\n",
    "# hence the term \"binning\".\n",
    "\n",
    "# discretization basically helps reducing data from from a large domain of numeric values to a subset of categorical values\n",
    "# So it a process of  putting values into buckets so that there are a limited number of possible states\n",
    "\n",
    "# This is a nececessay because many data mining systems or alogriths (Microsoft Naive Bayes algorithm) cannot handle continoous attributes. \n",
    "# Furthermore, even if a data mining task can handle a continuous attribute its performance can be significantly\n",
    "# improved by replacing a continuous attribute with its discretized values. Learning menthods show remarkable imporvements with discrete data\n",
    "# Also some decision tree-based algorithms produce shorter, more compact, and accurate results when using discrete values\n",
    "# However any discretization process generally leads to a loss of information, \n",
    "# making the minimization of such information loss is the main goal of a discretizer.\n",
    "# Related articles\n",
    "# https://www.slideshare.net/hadooring/data-discretization"
   ]
  },
  {
   "cell_type": "markdown",
   "metadata": {},
   "source": [
    "#### References\n",
    "###### https://www.safaribooksonline.com/library/view/learning-pandas/9781783985128/ch09s05.html\n",
    "###### https://www.slideshare.net/hadooring/data-discretization\n",
    "###### https://stackoverflow.com/questions/30211923/what-is-the-difference-between-pandas-qcut-and-pandas-cut"
   ]
  },
  {
   "cell_type": "code",
   "execution_count": 3,
   "metadata": {
    "collapsed": false
   },
   "outputs": [],
   "source": [
    "import pandas as pd\n",
    "import numpy as np\n",
    "numbers=np.random.seed(30)\n"
   ]
  },
  {
   "cell_type": "code",
   "execution_count": 6,
   "metadata": {
    "collapsed": false
   },
   "outputs": [
    {
     "data": {
      "text/plain": [
       "array([-1.10014381, -1.31564409,  0.81050091, -1.04477837, -0.68922937,\n",
       "       -0.85275686,  1.11347211, -1.92116972, -0.70140242,  0.84908785,\n",
       "        1.05069979, -0.53687446, -0.02919272,  1.39405598, -0.39786744,\n",
       "        1.01912738,  1.8988813 , -0.35484964, -0.38701647, -1.92730539,\n",
       "        0.55075659,  0.95435581,  0.7827765 , -1.7932379 ,  1.2418555 ,\n",
       "        1.70774688,  0.3231534 , -0.99183439, -1.16328237, -0.0213351 ])"
      ]
     },
     "execution_count": 6,
     "metadata": {},
     "output_type": "execute_result"
    }
   ],
   "source": [
    "factors=np.random.randn(30)\n",
    "factors"
   ]
  },
  {
   "cell_type": "markdown",
   "metadata": {},
   "source": [
    "## Pandas.cut"
   ]
  },
  {
   "cell_type": "code",
   "execution_count": 12,
   "metadata": {
    "collapsed": false
   },
   "outputs": [
    {
     "data": {
      "text/plain": [
       "[(-1.162, -0.397], (-1.931, -1.162], (0.368, 1.134], (-1.162, -0.397], (-1.162, -0.397], ..., (1.134, 1.899], (-0.397, 0.368], (-1.162, -0.397], (-1.931, -1.162], (-0.397, 0.368]]\n",
       "Length: 30\n",
       "Categories (5, object): [(-1.931, -1.162] < (-1.162, -0.397] < (-0.397, 0.368] < (0.368, 1.134] < (1.134, 1.899]]"
      ]
     },
     "execution_count": 12,
     "metadata": {},
     "output_type": "execute_result"
    }
   ],
   "source": [
    "#cuts the data into five bins evenly spread across the values in the sample\n",
    "bins=pd.cut(factors,5) \n",
    "bins"
   ]
  },
  {
   "cell_type": "code",
   "execution_count": null,
   "metadata": {
    "collapsed": true
   },
   "outputs": [],
   "source": [
    "#The resulting bins object is a type of pandas variable known as Categorical. \n",
    "#A categorical variable that is a result of pd.cut() consists of a set of labels and \n",
    "#an index that describes how the data has been split"
   ]
  },
  {
   "cell_type": "code",
   "execution_count": 14,
   "metadata": {
    "collapsed": false
   },
   "outputs": [
    {
     "data": {
      "text/plain": [
       "Index(['(-1.931, -1.162]', '(-1.162, -0.397]', '(-0.397, 0.368]',\n",
       "       '(0.368, 1.134]', '(1.134, 1.899]'],\n",
       "      dtype='object')"
      ]
     },
     "execution_count": 14,
     "metadata": {},
     "output_type": "execute_result"
    }
   ],
   "source": [
    "#The .categories property will return the index and describe the intervals that pandas decided upon:\n",
    "bins.categories()"
   ]
  },
  {
   "cell_type": "code",
   "execution_count": 15,
   "metadata": {
    "collapsed": true
   },
   "outputs": [],
   "source": [
    "#Each item in the index represents the range of values that the data has been mapped into. \n",
    "#As previously stated, the width of the bins is determined by evenly dividing the data into five equal intervals,\n",
    "#with the caveat that pandas automatically increases the overall range by 0.1 percent to ensure\n",
    "# that all points are included."
   ]
  },
  {
   "cell_type": "code",
   "execution_count": 16,
   "metadata": {
    "collapsed": false
   },
   "outputs": [
    {
     "data": {
      "text/plain": [
       "array([1, 0, 3, 1, 1, 1, 3, 0, 1, 3, 3, 1, 2, 4, 1, 3, 4, 2, 2, 0, 3, 3, 3,\n",
       "       0, 4, 4, 2, 1, 0, 2], dtype=int8)"
      ]
     },
     "execution_count": 16,
     "metadata": {},
     "output_type": "execute_result"
    }
   ],
   "source": [
    "#The .codes property is an array that specifies which of the bins (intervals) each item has been assigned:\n",
    "bins.codes"
   ]
  },
  {
   "cell_type": "code",
   "execution_count": 11,
   "metadata": {
    "collapsed": false
   },
   "outputs": [
    {
     "data": {
      "text/plain": [
       "(-1.931, -1.162]    5\n",
       "(-1.162, -0.397]    8\n",
       "(-0.397, 0.368]     5\n",
       "(0.368, 1.134]      8\n",
       "(1.134, 1.899]      4\n",
       "dtype: int64"
      ]
     },
     "execution_count": 11,
     "metadata": {},
     "output_type": "execute_result"
    }
   ],
   "source": [
    "#cut will choose the bins to be evenly spaced according to the values themselves and not the frequency of those values.\n",
    "pd.cut(factors,5).value_counts()"
   ]
  },
  {
   "cell_type": "code",
   "execution_count": 17,
   "metadata": {
    "collapsed": true
   },
   "outputs": [],
   "source": [
    "#nstead of passing an integer number of bins to cut data into, you can pass an array of values that represent the bins. \n",
    "#A common example of this scenario is mapping ages into age range buckets. \n",
    "#The following generates 50 ages between 6 and 45:"
   ]
  },
  {
   "cell_type": "code",
   "execution_count": 48,
   "metadata": {
    "collapsed": false
   },
   "outputs": [
    {
     "data": {
      "text/plain": [
       "array([41, 32, 21, 37, 34, 32, 15, 26, 17, 28, 13, 40, 38, 27, 32, 32, 25,\n",
       "       22, 44, 44, 22, 43, 13, 43, 40, 12, 32, 19, 17, 31,  9, 16, 17, 19,\n",
       "       25, 36, 38, 16, 12, 17, 24,  9, 19, 23, 22, 24, 21, 32, 13, 17])"
      ]
     },
     "execution_count": 48,
     "metadata": {},
     "output_type": "execute_result"
    }
   ],
   "source": [
    "np.random.seed(20)\n",
    "#generates 50 ages between 6 and 45:\n",
    "ages = np.random.randint(6, 45, 50)\n",
    "ages"
   ]
  },
  {
   "cell_type": "code",
   "execution_count": 49,
   "metadata": {
    "collapsed": true
   },
   "outputs": [],
   "source": [
    "#specify specific ranges for the bins by passing them in an array \n",
    "#where the extent of each bin is specified by each set of adjacent integers"
   ]
  },
  {
   "cell_type": "code",
   "execution_count": 50,
   "metadata": {
    "collapsed": false
   },
   "outputs": [
    {
     "data": {
      "text/html": [
       "<div>\n",
       "<table border=\"1\" class=\"dataframe\">\n",
       "  <thead>\n",
       "    <tr style=\"text-align: right;\">\n",
       "      <th></th>\n",
       "      <th>counts</th>\n",
       "      <th>freqs</th>\n",
       "    </tr>\n",
       "    <tr>\n",
       "      <th>categories</th>\n",
       "      <th></th>\n",
       "      <th></th>\n",
       "    </tr>\n",
       "  </thead>\n",
       "  <tbody>\n",
       "    <tr>\n",
       "      <th>(6, 12]</th>\n",
       "      <td>4</td>\n",
       "      <td>0.08</td>\n",
       "    </tr>\n",
       "    <tr>\n",
       "      <th>(12, 18]</th>\n",
       "      <td>11</td>\n",
       "      <td>0.22</td>\n",
       "    </tr>\n",
       "    <tr>\n",
       "      <th>(18, 35]</th>\n",
       "      <td>24</td>\n",
       "      <td>0.48</td>\n",
       "    </tr>\n",
       "    <tr>\n",
       "      <th>(35, 50]</th>\n",
       "      <td>11</td>\n",
       "      <td>0.22</td>\n",
       "    </tr>\n",
       "  </tbody>\n",
       "</table>\n",
       "</div>"
      ],
      "text/plain": [
       "            counts  freqs\n",
       "categories               \n",
       "(6, 12]          4   0.08\n",
       "(12, 18]        11   0.22\n",
       "(18, 35]        24   0.48\n",
       "(35, 50]        11   0.22"
      ]
     },
     "execution_count": 50,
     "metadata": {},
     "output_type": "execute_result"
    }
   ],
   "source": [
    "#The following cuts the data into the specified bins and reports the distribution of the ages \n",
    "#to each bin using the .describe() method of the pd.cut() result:\n",
    "\n",
    "# cut into ranges and then get descriptive stats\n",
    "ranges = [6, 12, 18, 35, 50]\n",
    "agebins = pd.cut(ages, ranges)\n",
    "agebins.describe()"
   ]
  },
  {
   "cell_type": "code",
   "execution_count": 55,
   "metadata": {
    "collapsed": false
   },
   "outputs": [
    {
     "data": {
      "text/html": [
       "<div>\n",
       "<table border=\"1\" class=\"dataframe\">\n",
       "  <thead>\n",
       "    <tr style=\"text-align: right;\">\n",
       "      <th></th>\n",
       "      <th>counts</th>\n",
       "      <th>freqs</th>\n",
       "    </tr>\n",
       "    <tr>\n",
       "      <th>categories</th>\n",
       "      <th></th>\n",
       "      <th></th>\n",
       "    </tr>\n",
       "  </thead>\n",
       "  <tbody>\n",
       "    <tr>\n",
       "      <th>Youth</th>\n",
       "      <td>4</td>\n",
       "      <td>0.08</td>\n",
       "    </tr>\n",
       "    <tr>\n",
       "      <th>Young Adult</th>\n",
       "      <td>11</td>\n",
       "      <td>0.22</td>\n",
       "    </tr>\n",
       "    <tr>\n",
       "      <th>Adult</th>\n",
       "      <td>24</td>\n",
       "      <td>0.48</td>\n",
       "    </tr>\n",
       "    <tr>\n",
       "      <th>Middle Aged</th>\n",
       "      <td>11</td>\n",
       "      <td>0.22</td>\n",
       "    </tr>\n",
       "  </tbody>\n",
       "</table>\n",
       "</div>"
      ],
      "text/plain": [
       "             counts  freqs\n",
       "categories                \n",
       "Youth             4   0.08\n",
       "Young Adult      11   0.22\n",
       "Adult            24   0.48\n",
       "Middle Aged      11   0.22"
      ]
     },
     "execution_count": 55,
     "metadata": {},
     "output_type": "execute_result"
    }
   ],
   "source": [
    "#To specify a name for each bin that is different than the standard mathematical notation, use the labels property:\n",
    "#when plotting the bins,  pandas will pass the bin names to be plotted on a chart.\n",
    "ranges = [6, 12, 18, 35, 50]\n",
    "labels = ['Youth', 'Young Adult', 'Adult', 'Middle Aged']\n",
    "agebins = pd.cut(ages, ranges, labels=labels)\n",
    "agebins.describe()\n"
   ]
  },
  {
   "cell_type": "markdown",
   "metadata": {},
   "source": [
    "## Pandas.qcut"
   ]
  },
  {
   "cell_type": "code",
   "execution_count": 26,
   "metadata": {
    "collapsed": true
   },
   "outputs": [],
   "source": [
    "#Data can also be sliced according to specified quantiles using pd.qcut().\n",
    "#This is the process of placing values into bins such that each bin has the same number of items. \n",
    "# To do this, the ranges of the quantiles must be determined during the process, so that the distribution is even."
   ]
  },
  {
   "cell_type": "code",
   "execution_count": null,
   "metadata": {
    "collapsed": true
   },
   "outputs": [],
   "source": []
  },
  {
   "cell_type": "code",
   "execution_count": 32,
   "metadata": {
    "collapsed": false
   },
   "outputs": [
    {
     "data": {
      "text/plain": [
       "[[-1.927, -1.0559], [-1.927, -1.0559], (0.414, 1.0254], (-1.0559, -0.453], (-1.0559, -0.453], ..., (1.0254, 1.899], (-0.453, 0.414], (-1.0559, -0.453], [-1.927, -1.0559], (-0.453, 0.414]]\n",
       "Length: 30\n",
       "Categories (5, object): [[-1.927, -1.0559] < (-1.0559, -0.453] < (-0.453, 0.414] < (0.414, 1.0254] < (1.0254, 1.899]]"
      ]
     },
     "execution_count": 32,
     "metadata": {},
     "output_type": "execute_result"
    }
   ],
   "source": [
    "# cut into quantiles\n",
    "# 5 bins with an equal quantity of items\n",
    "bins=pd.qcut(factors,5)\n",
    "bins"
   ]
  },
  {
   "cell_type": "code",
   "execution_count": 33,
   "metadata": {
    "collapsed": false
   },
   "outputs": [
    {
     "data": {
      "text/html": [
       "<div>\n",
       "<table border=\"1\" class=\"dataframe\">\n",
       "  <thead>\n",
       "    <tr style=\"text-align: right;\">\n",
       "      <th></th>\n",
       "      <th>counts</th>\n",
       "      <th>freqs</th>\n",
       "    </tr>\n",
       "    <tr>\n",
       "      <th>categories</th>\n",
       "      <th></th>\n",
       "      <th></th>\n",
       "    </tr>\n",
       "  </thead>\n",
       "  <tbody>\n",
       "    <tr>\n",
       "      <th>[-1.927, -1.0559]</th>\n",
       "      <td>6</td>\n",
       "      <td>0.2</td>\n",
       "    </tr>\n",
       "    <tr>\n",
       "      <th>(-1.0559, -0.453]</th>\n",
       "      <td>6</td>\n",
       "      <td>0.2</td>\n",
       "    </tr>\n",
       "    <tr>\n",
       "      <th>(-0.453, 0.414]</th>\n",
       "      <td>6</td>\n",
       "      <td>0.2</td>\n",
       "    </tr>\n",
       "    <tr>\n",
       "      <th>(0.414, 1.0254]</th>\n",
       "      <td>6</td>\n",
       "      <td>0.2</td>\n",
       "    </tr>\n",
       "    <tr>\n",
       "      <th>(1.0254, 1.899]</th>\n",
       "      <td>6</td>\n",
       "      <td>0.2</td>\n",
       "    </tr>\n",
       "  </tbody>\n",
       "</table>\n",
       "</div>"
      ],
      "text/plain": [
       "                   counts  freqs\n",
       "categories                      \n",
       "[-1.927, -1.0559]       6    0.2\n",
       "(-1.0559, -0.453]       6    0.2\n",
       "(-0.453, 0.414]         6    0.2\n",
       "(0.414, 1.0254]         6    0.2\n",
       "(1.0254, 1.899]         6    0.2"
      ]
     },
     "execution_count": 33,
     "metadata": {},
     "output_type": "execute_result"
    }
   ],
   "source": [
    "bins.describe()"
   ]
  },
  {
   "cell_type": "code",
   "execution_count": 28,
   "metadata": {
    "collapsed": false
   },
   "outputs": [
    {
     "data": {
      "text/plain": [
       "[-1.927, -1.0559]    6\n",
       "(-1.0559, -0.453]    6\n",
       "(-0.453, 0.414]      6\n",
       "(0.414, 1.0254]      6\n",
       "(1.0254, 1.899]      6\n",
       "dtype: int64"
      ]
     },
     "execution_count": 28,
     "metadata": {},
     "output_type": "execute_result"
    }
   ],
   "source": [
    "#qcut always has the same number of items in each bin\n",
    "#in qcut the bins will be chosen so that you have the same number of records in each bin. \n",
    "#You have 30 records, so should have 6 in each bin (your output should look like this, although the breakpoints \n",
    "#will differ due to the random draw):\n",
    "bins=pd.qcut(factors,5).value_counts()\n",
    "bins"
   ]
  },
  {
   "cell_type": "code",
   "execution_count": 35,
   "metadata": {
    "collapsed": false
   },
   "outputs": [
    {
     "data": {
      "text/plain": [
       "array([41, 32, 21, 37, 34, 32, 15, 26, 17, 28, 13, 40, 38, 27, 32, 32, 25,\n",
       "       22, 44, 44, 22, 43, 13, 43, 40, 12, 32, 19, 17, 31,  9, 16, 17, 19,\n",
       "       25, 36, 38, 16, 12, 17, 24,  9, 19, 23, 22, 24, 21, 32, 13, 17])"
      ]
     },
     "execution_count": 35,
     "metadata": {},
     "output_type": "execute_result"
    }
   ],
   "source": [
    "np.random.seed(20)\n",
    "#generates 50 ages between 6 and 45:\n",
    "ages = np.random.randint(6, 45, 50)\n",
    "ages"
   ]
  },
  {
   "cell_type": "code",
   "execution_count": 60,
   "metadata": {
    "collapsed": false
   },
   "outputs": [
    {
     "data": {
      "text/html": [
       "<div>\n",
       "<table border=\"1\" class=\"dataframe\">\n",
       "  <thead>\n",
       "    <tr style=\"text-align: right;\">\n",
       "      <th></th>\n",
       "      <th>counts</th>\n",
       "      <th>freqs</th>\n",
       "    </tr>\n",
       "    <tr>\n",
       "      <th>categories</th>\n",
       "      <th></th>\n",
       "      <th></th>\n",
       "    </tr>\n",
       "  </thead>\n",
       "  <tbody>\n",
       "    <tr>\n",
       "      <th>[9, 16.8]</th>\n",
       "      <td>10</td>\n",
       "      <td>0.2</td>\n",
       "    </tr>\n",
       "    <tr>\n",
       "      <th>(16.8, 21.6]</th>\n",
       "      <td>10</td>\n",
       "      <td>0.2</td>\n",
       "    </tr>\n",
       "    <tr>\n",
       "      <th>(21.6, 27.4]</th>\n",
       "      <td>10</td>\n",
       "      <td>0.2</td>\n",
       "    </tr>\n",
       "    <tr>\n",
       "      <th>(27.4, 36.2]</th>\n",
       "      <td>10</td>\n",
       "      <td>0.2</td>\n",
       "    </tr>\n",
       "    <tr>\n",
       "      <th>(36.2, 44]</th>\n",
       "      <td>10</td>\n",
       "      <td>0.2</td>\n",
       "    </tr>\n",
       "  </tbody>\n",
       "</table>\n",
       "</div>"
      ],
      "text/plain": [
       "              counts  freqs\n",
       "categories                 \n",
       "[9, 16.8]         10    0.2\n",
       "(16.8, 21.6]      10    0.2\n",
       "(21.6, 27.4]      10    0.2\n",
       "(27.4, 36.2]      10    0.2\n",
       "(36.2, 44]        10    0.2"
      ]
     },
     "execution_count": 60,
     "metadata": {},
     "output_type": "execute_result"
    }
   ],
   "source": [
    "ranges = [6, 12, 18, 35,50]\n",
    "labels = ['Youth', 'Young Adult', 'Adult', 'Middle Aged','Aged']\n",
    "agebins = pd.qcut(ages, 5)\n",
    "agebins.describe()\n"
   ]
  },
  {
   "cell_type": "code",
   "execution_count": 41,
   "metadata": {
    "collapsed": false
   },
   "outputs": [
    {
     "data": {
      "text/html": [
       "<div>\n",
       "<table border=\"1\" class=\"dataframe\">\n",
       "  <thead>\n",
       "    <tr style=\"text-align: right;\">\n",
       "      <th></th>\n",
       "      <th>counts</th>\n",
       "      <th>freqs</th>\n",
       "    </tr>\n",
       "    <tr>\n",
       "      <th>categories</th>\n",
       "      <th></th>\n",
       "      <th></th>\n",
       "    </tr>\n",
       "  </thead>\n",
       "  <tbody>\n",
       "    <tr>\n",
       "      <th>[9, 16.8]</th>\n",
       "      <td>10</td>\n",
       "      <td>0.2</td>\n",
       "    </tr>\n",
       "    <tr>\n",
       "      <th>(16.8, 21.6]</th>\n",
       "      <td>10</td>\n",
       "      <td>0.2</td>\n",
       "    </tr>\n",
       "    <tr>\n",
       "      <th>(21.6, 27.4]</th>\n",
       "      <td>10</td>\n",
       "      <td>0.2</td>\n",
       "    </tr>\n",
       "    <tr>\n",
       "      <th>(27.4, 36.2]</th>\n",
       "      <td>10</td>\n",
       "      <td>0.2</td>\n",
       "    </tr>\n",
       "    <tr>\n",
       "      <th>(36.2, 44]</th>\n",
       "      <td>10</td>\n",
       "      <td>0.2</td>\n",
       "    </tr>\n",
       "  </tbody>\n",
       "</table>\n",
       "</div>"
      ],
      "text/plain": [
       "              counts  freqs\n",
       "categories                 \n",
       "[9, 16.8]         10    0.2\n",
       "(16.8, 21.6]      10    0.2\n",
       "(21.6, 27.4]      10    0.2\n",
       "(27.4, 36.2]      10    0.2\n",
       "(36.2, 44]        10    0.2"
      ]
     },
     "execution_count": 41,
     "metadata": {},
     "output_type": "execute_result"
    }
   ],
   "source": [
    "# here is the slicing has happened in a such a way that it has same number of counts in each bin\n",
    "agebins.describe()"
   ]
  },
  {
   "cell_type": "code",
   "execution_count": null,
   "metadata": {
    "collapsed": true
   },
   "outputs": [],
   "source": []
  }
 ],
 "metadata": {
  "kernelspec": {
   "display_name": "Python 3",
   "language": "python",
   "name": "python3"
  },
  "language_info": {
   "codemirror_mode": {
    "name": "ipython",
    "version": 3
   },
   "file_extension": ".py",
   "mimetype": "text/x-python",
   "name": "python",
   "nbconvert_exporter": "python",
   "pygments_lexer": "ipython3",
   "version": "3.6.0"
  }
 },
 "nbformat": 4,
 "nbformat_minor": 2
}
