{
 "cells": [
  {
   "cell_type": "code",
   "execution_count": 1,
   "metadata": {},
   "outputs": [],
   "source": [
    "import pandas as pd\n",
    "import matplotlib\n",
    "import numpy as no"
   ]
  },
  {
   "cell_type": "code",
   "execution_count": 2,
   "metadata": {},
   "outputs": [],
   "source": [
    "# Pandas needs numpy as pandas is built on numpy, it is used to represent the data storage\n",
    "# Tripe quotes string can used to span multiple lines"
   ]
  },
  {
   "cell_type": "code",
   "execution_count": 17,
   "metadata": {},
   "outputs": [],
   "source": [
    "df=pd.read_csv(\"central_park.txt\",parse_dates=[0])"
   ]
  },
  {
   "cell_type": "code",
   "execution_count": 18,
   "metadata": {},
   "outputs": [
    {
     "name": "stdout",
     "output_type": "stream",
     "text": [
      "<class 'pandas.core.frame.DataFrame'>\n",
      "RangeIndex: 3287 entries, 0 to 3286\n",
      "Data columns (total 23 columns):\n",
      "EST                           3287 non-null datetime64[ns]\n",
      "Max TemperatureF              3285 non-null float64\n",
      "Mean TemperatureF             3285 non-null float64\n",
      "Min TemperatureF              3285 non-null float64\n",
      "Max Dew PointF                3285 non-null float64\n",
      "MeanDew PointF                3285 non-null float64\n",
      "Min DewpointF                 3285 non-null float64\n",
      "Max Humidity                  3285 non-null float64\n",
      " Mean Humidity                3285 non-null float64\n",
      " Min Humidity                 3285 non-null float64\n",
      " Max Sea Level PressureIn     3275 non-null float64\n",
      " Mean Sea Level PressureIn    3275 non-null float64\n",
      " Min Sea Level PressureIn     3275 non-null float64\n",
      " Max VisibilityMiles          3277 non-null float64\n",
      " Mean VisibilityMiles         3277 non-null float64\n",
      " Min VisibilityMiles          3277 non-null float64\n",
      " Max Wind SpeedMPH            3245 non-null float64\n",
      " Mean Wind SpeedMPH           3244 non-null float64\n",
      " Max Gust SpeedMPH            3177 non-null float64\n",
      "PrecipitationIn               3286 non-null object\n",
      " CloudCover                   3277 non-null float64\n",
      " Events                       1174 non-null object\n",
      " WindDirDegrees               3285 non-null float64\n",
      "dtypes: datetime64[ns](1), float64(20), object(2)\n",
      "memory usage: 590.7+ KB\n"
     ]
    }
   ],
   "source": [
    "df.info()"
   ]
  },
  {
   "cell_type": "code",
   "execution_count": 19,
   "metadata": {},
   "outputs": [],
   "source": [
    "df.columns=[x.strip().replace(' ','_') for x in df.columns]\n",
    "df['PrecipitationIn']=pd.to_numeric(df['PrecipitationIn'].replace('T','0.001'))"
   ]
  },
  {
   "cell_type": "code",
   "execution_count": 24,
   "metadata": {},
   "outputs": [],
   "source": [
    "df['Events']=df['Events'].fillna('')"
   ]
  },
  {
   "cell_type": "code",
   "execution_count": 26,
   "metadata": {},
   "outputs": [
    {
     "data": {
      "text/plain": [
       "                 2113\n",
       "Rain              803\n",
       "Fog-Rain          189\n",
       "Snow               74\n",
       "Fog-Snow           39\n",
       "Rain-Snow          31\n",
       "Fog-Rain-Snow      22\n",
       "Fog                15\n",
       "Thunderstorm        1\n",
       "Name: Events, dtype: int64"
      ]
     },
     "execution_count": 26,
     "metadata": {},
     "output_type": "execute_result"
    }
   ],
   "source": [
    "df.Events.value_counts()"
   ]
  },
  {
   "cell_type": "code",
   "execution_count": null,
   "metadata": {},
   "outputs": [],
   "source": []
  }
 ],
 "metadata": {
  "kernelspec": {
   "display_name": "Python 3",
   "language": "python",
   "name": "python3"
  },
  "language_info": {
   "codemirror_mode": {
    "name": "ipython",
    "version": 3
   },
   "file_extension": ".py",
   "mimetype": "text/x-python",
   "name": "python",
   "nbconvert_exporter": "python",
   "pygments_lexer": "ipython3",
   "version": "3.6.0"
  }
 },
 "nbformat": 4,
 "nbformat_minor": 2
}
