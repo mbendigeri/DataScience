{
 "cells": [
  {
   "cell_type": "code",
   "execution_count": null,
   "metadata": {},
   "outputs": [],
   "source": [
    "!pip uninstall dask"
   ]
  },
  {
   "cell_type": "code",
   "execution_count": 17,
   "metadata": {},
   "outputs": [],
   "source": [
    "from pandas.api.types import is_datetime64tz_dtype\n",
    "#from pandas.core.common import is_datetime64tz_dtype"
   ]
  },
  {
   "cell_type": "code",
   "execution_count": 5,
   "metadata": {},
   "outputs": [
    {
     "name": "stdout",
     "output_type": "stream",
     "text": [
      "Requirement already satisfied: dask[complete] in d:\\mallikarjun\\upxacademylearning\\anaconda\\lib\\site-packages\n",
      "Requirement already satisfied: cloudpickle>=0.2.1 in d:\\mallikarjun\\upxacademylearning\\anaconda\\lib\\site-packages (from dask[complete])\n",
      "Requirement already satisfied: distributed>=1.15 in d:\\mallikarjun\\upxacademylearning\\anaconda\\lib\\site-packages (from dask[complete])\n",
      "Requirement already satisfied: numpy in d:\\mallikarjun\\upxacademylearning\\anaconda\\lib\\site-packages (from dask[complete])\n",
      "Requirement already satisfied: pandas>=0.18.0 in d:\\mallikarjun\\upxacademylearning\\anaconda\\lib\\site-packages (from dask[complete])\n",
      "Requirement already satisfied: partd>=0.3.7 in d:\\mallikarjun\\upxacademylearning\\anaconda\\lib\\site-packages (from dask[complete])\n",
      "Requirement already satisfied: s3fs>=0.0.8 in d:\\mallikarjun\\upxacademylearning\\anaconda\\lib\\site-packages (from dask[complete])\n",
      "Requirement already satisfied: toolz>=0.7.2 in d:\\mallikarjun\\upxacademylearning\\anaconda\\lib\\site-packages (from dask[complete])\n",
      "Requirement already satisfied: msgpack in d:\\mallikarjun\\upxacademylearning\\anaconda\\lib\\site-packages (from distributed>=1.15->dask[complete])\n",
      "Requirement already satisfied: sortedcontainers!=2.0.0,!=2.0.1 in d:\\mallikarjun\\upxacademylearning\\anaconda\\lib\\site-packages (from distributed>=1.15->dask[complete])\n",
      "Requirement already satisfied: psutil in d:\\mallikarjun\\upxacademylearning\\anaconda\\lib\\site-packages (from distributed>=1.15->dask[complete])\n",
      "Requirement already satisfied: click>=6.6 in d:\\mallikarjun\\upxacademylearning\\anaconda\\lib\\site-packages (from distributed>=1.15->dask[complete])\n",
      "Requirement already satisfied: tblib in d:\\mallikarjun\\upxacademylearning\\anaconda\\lib\\site-packages (from distributed>=1.15->dask[complete])\n",
      "Requirement already satisfied: six in d:\\mallikarjun\\upxacademylearning\\anaconda\\lib\\site-packages (from distributed>=1.15->dask[complete])\n",
      "Requirement already satisfied: pyyaml in d:\\mallikarjun\\upxacademylearning\\anaconda\\lib\\site-packages (from distributed>=1.15->dask[complete])\n",
      "Requirement already satisfied: tornado>=4.5.1 in d:\\mallikarjun\\upxacademylearning\\anaconda\\lib\\site-packages (from distributed>=1.15->dask[complete])\n",
      "Requirement already satisfied: zict>=0.1.3 in d:\\mallikarjun\\upxacademylearning\\anaconda\\lib\\site-packages (from distributed>=1.15->dask[complete])\n",
      "Requirement already satisfied: pytz>=2011k in d:\\mallikarjun\\upxacademylearning\\anaconda\\lib\\site-packages (from pandas>=0.18.0->dask[complete])\n",
      "Requirement already satisfied: python-dateutil>=2.5.0 in d:\\mallikarjun\\upxacademylearning\\anaconda\\lib\\site-packages (from pandas>=0.18.0->dask[complete])\n",
      "Requirement already satisfied: locket in d:\\mallikarjun\\upxacademylearning\\anaconda\\lib\\site-packages (from partd>=0.3.7->dask[complete])\n",
      "Requirement already satisfied: botocore in d:\\mallikarjun\\upxacademylearning\\anaconda\\lib\\site-packages (from s3fs>=0.0.8->dask[complete])\n",
      "Requirement already satisfied: boto3 in d:\\mallikarjun\\upxacademylearning\\anaconda\\lib\\site-packages (from s3fs>=0.0.8->dask[complete])\n",
      "Requirement already satisfied: heapdict in d:\\mallikarjun\\upxacademylearning\\anaconda\\lib\\site-packages (from zict>=0.1.3->distributed>=1.15->dask[complete])\n",
      "Requirement already satisfied: urllib3<1.24,>=1.20 in d:\\mallikarjun\\upxacademylearning\\anaconda\\lib\\site-packages (from botocore->s3fs>=0.0.8->dask[complete])\n",
      "Requirement already satisfied: docutils>=0.10 in d:\\mallikarjun\\upxacademylearning\\anaconda\\lib\\site-packages (from botocore->s3fs>=0.0.8->dask[complete])\n",
      "Requirement already satisfied: jmespath<1.0.0,>=0.7.1 in d:\\mallikarjun\\upxacademylearning\\anaconda\\lib\\site-packages (from botocore->s3fs>=0.0.8->dask[complete])\n",
      "Requirement already satisfied: s3transfer<0.2.0,>=0.1.10 in d:\\mallikarjun\\upxacademylearning\\anaconda\\lib\\site-packages (from boto3->s3fs>=0.0.8->dask[complete])\n"
     ]
    },
    {
     "name": "stderr",
     "output_type": "stream",
     "text": [
      "You are using pip version 9.0.1, however version 18.0 is available.\n",
      "You should consider upgrading via the 'python -m pip install --upgrade pip' command.\n"
     ]
    }
   ],
   "source": [
    "!pip install \"dask[complete]\" "
   ]
  },
  {
   "cell_type": "code",
   "execution_count": 3,
   "metadata": {},
   "outputs": [
    {
     "name": "stderr",
     "output_type": "stream",
     "text": [
      "“.[complete]” should either be a path to a local project or a VCS url beginning with svn+, git+, hg+, or bzr+\n",
      "You are using pip version 9.0.1, however version 18.0 is available.\n",
      "You should consider upgrading via the 'python -m pip install --upgrade pip' command.\n"
     ]
    }
   ],
   "source": [
    "!pip install -e “.[complete]”"
   ]
  },
  {
   "cell_type": "code",
   "execution_count": 13,
   "metadata": {},
   "outputs": [
    {
     "ename": "ImportError",
     "evalue": "cannot import name 'is_datetime64tz_dtype'",
     "output_type": "error",
     "traceback": [
      "\u001b[1;31m---------------------------------------------------------------------------\u001b[0m",
      "\u001b[1;31mImportError\u001b[0m                               Traceback (most recent call last)",
      "\u001b[1;32m<ipython-input-13-99db13701da1>\u001b[0m in \u001b[0;36m<module>\u001b[1;34m()\u001b[0m\n\u001b[0;32m      2\u001b[0m \u001b[1;32mimport\u001b[0m \u001b[0mpandas\u001b[0m \u001b[1;32mas\u001b[0m \u001b[0mpd\u001b[0m\u001b[1;33m\u001b[0m\u001b[0m\n\u001b[0;32m      3\u001b[0m \u001b[1;32mimport\u001b[0m \u001b[0mdask\u001b[0m\u001b[1;33m.\u001b[0m\u001b[0marray\u001b[0m \u001b[1;32mas\u001b[0m \u001b[0mda\u001b[0m\u001b[1;33m\u001b[0m\u001b[0m\n\u001b[1;32m----> 4\u001b[1;33m \u001b[1;32mimport\u001b[0m \u001b[0mdask\u001b[0m\u001b[1;33m.\u001b[0m\u001b[0mdataframe\u001b[0m \u001b[1;32mas\u001b[0m \u001b[0mdd\u001b[0m\u001b[1;33m\u001b[0m\u001b[0m\n\u001b[0m",
      "\u001b[1;32mD:\\Mallikarjun\\UPXAcademylearning\\Anaconda\\lib\\site-packages\\dask\\dataframe\\__init__.py\u001b[0m in \u001b[0;36m<module>\u001b[1;34m()\u001b[0m\n\u001b[0;32m      1\u001b[0m \u001b[1;32mfrom\u001b[0m \u001b[0m__future__\u001b[0m \u001b[1;32mimport\u001b[0m \u001b[0mprint_function\u001b[0m\u001b[1;33m,\u001b[0m \u001b[0mdivision\u001b[0m\u001b[1;33m,\u001b[0m \u001b[0mabsolute_import\u001b[0m\u001b[1;33m\u001b[0m\u001b[0m\n\u001b[0;32m      2\u001b[0m \u001b[1;33m\u001b[0m\u001b[0m\n\u001b[1;32m----> 3\u001b[1;33m from .core import (DataFrame, Series, Index, _Frame, map_partitions,\n\u001b[0m\u001b[0;32m      4\u001b[0m                    repartition, to_delayed)\n\u001b[0;32m      5\u001b[0m from .io import (from_array, from_pandas, from_bcolz,\n",
      "\u001b[1;32mD:\\Mallikarjun\\UPXAcademylearning\\Anaconda\\lib\\site-packages\\dask\\dataframe\\core.py\u001b[0m in \u001b[0;36m<module>\u001b[1;34m()\u001b[0m\n\u001b[0;32m     29\u001b[0m \u001b[1;32mfrom\u001b[0m \u001b[1;33m.\u001b[0m\u001b[1;33m.\u001b[0m\u001b[0mbase\u001b[0m \u001b[1;32mimport\u001b[0m \u001b[0mBase\u001b[0m\u001b[1;33m,\u001b[0m \u001b[0mcompute\u001b[0m\u001b[1;33m,\u001b[0m \u001b[0mtokenize\u001b[0m\u001b[1;33m,\u001b[0m \u001b[0mnormalize_token\u001b[0m\u001b[1;33m\u001b[0m\u001b[0m\n\u001b[0;32m     30\u001b[0m \u001b[1;32mfrom\u001b[0m \u001b[1;33m.\u001b[0m\u001b[1;33m.\u001b[0m\u001b[0masync\u001b[0m \u001b[1;32mimport\u001b[0m \u001b[0mget_sync\u001b[0m\u001b[1;33m\u001b[0m\u001b[0m\n\u001b[1;32m---> 31\u001b[1;33m \u001b[1;32mfrom\u001b[0m \u001b[1;33m.\u001b[0m \u001b[1;32mimport\u001b[0m \u001b[0mmethods\u001b[0m\u001b[1;33m\u001b[0m\u001b[0m\n\u001b[0m\u001b[0;32m     32\u001b[0m from .utils import (meta_nonempty, make_meta, insert_meta_param_description,\n\u001b[0;32m     33\u001b[0m                     raise_on_meta_error)\n",
      "\u001b[1;32mD:\\Mallikarjun\\UPXAcademylearning\\Anaconda\\lib\\site-packages\\dask\\dataframe\\methods.py\u001b[0m in \u001b[0;36m<module>\u001b[1;34m()\u001b[0m\n\u001b[0;32m      5\u001b[0m \u001b[1;32mfrom\u001b[0m \u001b[0mtoolz\u001b[0m \u001b[1;32mimport\u001b[0m \u001b[0mpartition\u001b[0m\u001b[1;33m\u001b[0m\u001b[0m\n\u001b[0;32m      6\u001b[0m \u001b[1;33m\u001b[0m\u001b[0m\n\u001b[1;32m----> 7\u001b[1;33m \u001b[1;32mfrom\u001b[0m \u001b[1;33m.\u001b[0m\u001b[0mutils\u001b[0m \u001b[1;32mimport\u001b[0m \u001b[0mPANDAS_VERSION\u001b[0m\u001b[1;33m\u001b[0m\u001b[0m\n\u001b[0m\u001b[0;32m      8\u001b[0m \u001b[1;33m\u001b[0m\u001b[0m\n\u001b[0;32m      9\u001b[0m \u001b[1;33m\u001b[0m\u001b[0m\n",
      "\u001b[1;32mD:\\Mallikarjun\\UPXAcademylearning\\Anaconda\\lib\\site-packages\\dask\\dataframe\\utils.py\u001b[0m in \u001b[0;36m<module>\u001b[1;34m()\u001b[0m\n\u001b[0;32m     13\u001b[0m \u001b[1;32mimport\u001b[0m \u001b[0mpandas\u001b[0m \u001b[1;32mas\u001b[0m \u001b[0mpd\u001b[0m\u001b[1;33m\u001b[0m\u001b[0m\n\u001b[0;32m     14\u001b[0m \u001b[1;32mimport\u001b[0m \u001b[0mpandas\u001b[0m\u001b[1;33m.\u001b[0m\u001b[0mutil\u001b[0m\u001b[1;33m.\u001b[0m\u001b[0mtesting\u001b[0m \u001b[1;32mas\u001b[0m \u001b[0mtm\u001b[0m\u001b[1;33m\u001b[0m\u001b[0m\n\u001b[1;32m---> 15\u001b[1;33m \u001b[1;32mfrom\u001b[0m \u001b[0mpandas\u001b[0m\u001b[1;33m.\u001b[0m\u001b[0mcore\u001b[0m\u001b[1;33m.\u001b[0m\u001b[0mcommon\u001b[0m \u001b[1;32mimport\u001b[0m \u001b[0mis_datetime64tz_dtype\u001b[0m\u001b[1;33m\u001b[0m\u001b[0m\n\u001b[0m\u001b[0;32m     16\u001b[0m \u001b[1;32mimport\u001b[0m \u001b[0mtoolz\u001b[0m\u001b[1;33m\u001b[0m\u001b[0m\n\u001b[0;32m     17\u001b[0m \u001b[1;33m\u001b[0m\u001b[0m\n",
      "\u001b[1;31mImportError\u001b[0m: cannot import name 'is_datetime64tz_dtype'"
     ]
    }
   ],
   "source": [
    "import numpy as np\n",
    "import pandas as pd\n",
    "import dask.array as da  \n",
    "import dask.dataframe as dd"
   ]
  },
  {
   "cell_type": "code",
   "execution_count": 16,
   "metadata": {},
   "outputs": [
    {
     "name": "stdout",
     "output_type": "stream",
     "text": [
      "pandas 0.23.4\n"
     ]
    }
   ],
   "source": [
    "print (pd.__name__, pd.__version__)"
   ]
  },
  {
   "cell_type": "code",
   "execution_count": 8,
   "metadata": {},
   "outputs": [],
   "source": [
    "dd=pd.DataFrame()"
   ]
  },
  {
   "cell_type": "code",
   "execution_count": 9,
   "metadata": {},
   "outputs": [
    {
     "data": {
      "text/plain": [
       "(0, 0)"
      ]
     },
     "execution_count": 9,
     "metadata": {},
     "output_type": "execute_result"
    }
   ],
   "source": [
    "dd.shape"
   ]
  },
  {
   "cell_type": "code",
   "execution_count": 8,
   "metadata": {},
   "outputs": [
    {
     "name": "stderr",
     "output_type": "stream",
     "text": [
      "Cloning into 'dask'...\n",
      "Checking out files:  52% (196/372)   \n",
      "Checking out files:  53% (198/372)   \n",
      "Checking out files:  54% (201/372)   \n",
      "Checking out files:  55% (205/372)   \n",
      "Checking out files:  56% (209/372)   \n",
      "Checking out files:  57% (213/372)   \n",
      "Checking out files:  58% (216/372)   \n",
      "Checking out files:  59% (220/372)   \n",
      "Checking out files:  60% (224/372)   \n",
      "Checking out files:  61% (227/372)   \n",
      "Checking out files:  62% (231/372)   \n",
      "Checking out files:  63% (235/372)   \n",
      "Checking out files:  64% (239/372)   \n",
      "Checking out files:  65% (242/372)   \n",
      "Checking out files:  66% (246/372)   \n",
      "Checking out files:  67% (250/372)   \n",
      "Checking out files:  68% (253/372)   \n",
      "Checking out files:  69% (257/372)   \n",
      "Checking out files:  70% (261/372)   \n",
      "Checking out files:  71% (265/372)   \n",
      "Checking out files:  72% (268/372)   \n",
      "Checking out files:  73% (272/372)   \n",
      "Checking out files:  74% (276/372)   \n",
      "Checking out files:  75% (279/372)   \n",
      "Checking out files:  76% (283/372)   \n",
      "Checking out files:  76% (284/372)   \n",
      "Checking out files:  77% (287/372)   \n",
      "Checking out files:  78% (291/372)   \n",
      "Checking out files:  79% (294/372)   \n",
      "Checking out files:  80% (298/372)   \n",
      "Checking out files:  81% (302/372)   \n",
      "Checking out files:  82% (306/372)   \n",
      "Checking out files:  83% (309/372)   \n",
      "Checking out files:  84% (313/372)   \n",
      "Checking out files:  85% (317/372)   \n",
      "Checking out files:  86% (320/372)   \n",
      "Checking out files:  87% (324/372)   \n",
      "Checking out files:  88% (328/372)   \n",
      "Checking out files:  89% (332/372)   \n",
      "Checking out files:  90% (335/372)   \n",
      "Checking out files:  91% (339/372)   \n",
      "Checking out files:  92% (343/372)   \n",
      "Checking out files:  93% (346/372)   \n",
      "Checking out files:  94% (350/372)   \n",
      "Checking out files:  95% (354/372)   \n",
      "Checking out files:  96% (358/372)   \n",
      "Checking out files:  97% (361/372)   \n",
      "Checking out files:  98% (365/372)   \n",
      "Checking out files:  99% (369/372)   \n",
      "Checking out files: 100% (372/372)   \n",
      "Checking out files: 100% (372/372), done.\n",
      "python: can't open file 'setup.py': [Errno 2] No such file or directory\n"
     ]
    }
   ],
   "source": [
    "!git clone https://github.com/dask/dask.git\n",
    "!cd dask\n",
    "!python setup.py install"
   ]
  },
  {
   "cell_type": "code",
   "execution_count": 20,
   "metadata": {},
   "outputs": [],
   "source": [
    "from pandas.api.types import is_datetime64tz_dtype\n",
    "#from pandas.core.common import is_datetime64tz_dtype"
   ]
  },
  {
   "cell_type": "code",
   "execution_count": 22,
   "metadata": {},
   "outputs": [],
   "source": [
    "from pandas.api.types import is_datetime64tz_dtype"
   ]
  },
  {
   "cell_type": "code",
   "execution_count": 9,
   "metadata": {},
   "outputs": [
    {
     "ename": "ImportError",
     "evalue": "cannot import name 'is_datetime64tz_dtype'",
     "output_type": "error",
     "traceback": [
      "\u001b[1;31m---------------------------------------------------------------------------\u001b[0m",
      "\u001b[1;31mImportError\u001b[0m                               Traceback (most recent call last)",
      "\u001b[1;32m<ipython-input-9-420aeb5f905d>\u001b[0m in \u001b[0;36m<module>\u001b[1;34m()\u001b[0m\n\u001b[1;32m----> 1\u001b[1;33m \u001b[1;32mimport\u001b[0m \u001b[0mdask\u001b[0m\u001b[1;33m.\u001b[0m\u001b[0mdataframe\u001b[0m \u001b[1;32mas\u001b[0m \u001b[0mdd\u001b[0m\u001b[1;33m\u001b[0m\u001b[0m\n\u001b[0m",
      "\u001b[1;32mD:\\Mallikarjun\\UPXAcademylearning\\Anaconda\\lib\\site-packages\\dask\\dataframe\\__init__.py\u001b[0m in \u001b[0;36m<module>\u001b[1;34m()\u001b[0m\n\u001b[0;32m      1\u001b[0m \u001b[1;32mfrom\u001b[0m \u001b[0m__future__\u001b[0m \u001b[1;32mimport\u001b[0m \u001b[0mprint_function\u001b[0m\u001b[1;33m,\u001b[0m \u001b[0mdivision\u001b[0m\u001b[1;33m,\u001b[0m \u001b[0mabsolute_import\u001b[0m\u001b[1;33m\u001b[0m\u001b[0m\n\u001b[0;32m      2\u001b[0m \u001b[1;33m\u001b[0m\u001b[0m\n\u001b[1;32m----> 3\u001b[1;33m from .core import (DataFrame, Series, Index, _Frame, map_partitions,\n\u001b[0m\u001b[0;32m      4\u001b[0m                    repartition, to_delayed)\n\u001b[0;32m      5\u001b[0m from .io import (from_array, from_pandas, from_bcolz,\n",
      "\u001b[1;32mD:\\Mallikarjun\\UPXAcademylearning\\Anaconda\\lib\\site-packages\\dask\\dataframe\\core.py\u001b[0m in \u001b[0;36m<module>\u001b[1;34m()\u001b[0m\n\u001b[0;32m     29\u001b[0m \u001b[1;32mfrom\u001b[0m \u001b[1;33m.\u001b[0m\u001b[1;33m.\u001b[0m\u001b[0mbase\u001b[0m \u001b[1;32mimport\u001b[0m \u001b[0mBase\u001b[0m\u001b[1;33m,\u001b[0m \u001b[0mcompute\u001b[0m\u001b[1;33m,\u001b[0m \u001b[0mtokenize\u001b[0m\u001b[1;33m,\u001b[0m \u001b[0mnormalize_token\u001b[0m\u001b[1;33m\u001b[0m\u001b[0m\n\u001b[0;32m     30\u001b[0m \u001b[1;32mfrom\u001b[0m \u001b[1;33m.\u001b[0m\u001b[1;33m.\u001b[0m\u001b[0masync\u001b[0m \u001b[1;32mimport\u001b[0m \u001b[0mget_sync\u001b[0m\u001b[1;33m\u001b[0m\u001b[0m\n\u001b[1;32m---> 31\u001b[1;33m \u001b[1;32mfrom\u001b[0m \u001b[1;33m.\u001b[0m \u001b[1;32mimport\u001b[0m \u001b[0mmethods\u001b[0m\u001b[1;33m\u001b[0m\u001b[0m\n\u001b[0m\u001b[0;32m     32\u001b[0m from .utils import (meta_nonempty, make_meta, insert_meta_param_description,\n\u001b[0;32m     33\u001b[0m                     raise_on_meta_error)\n",
      "\u001b[1;32mD:\\Mallikarjun\\UPXAcademylearning\\Anaconda\\lib\\site-packages\\dask\\dataframe\\methods.py\u001b[0m in \u001b[0;36m<module>\u001b[1;34m()\u001b[0m\n\u001b[0;32m      5\u001b[0m \u001b[1;32mfrom\u001b[0m \u001b[0mtoolz\u001b[0m \u001b[1;32mimport\u001b[0m \u001b[0mpartition\u001b[0m\u001b[1;33m\u001b[0m\u001b[0m\n\u001b[0;32m      6\u001b[0m \u001b[1;33m\u001b[0m\u001b[0m\n\u001b[1;32m----> 7\u001b[1;33m \u001b[1;32mfrom\u001b[0m \u001b[1;33m.\u001b[0m\u001b[0mutils\u001b[0m \u001b[1;32mimport\u001b[0m \u001b[0mPANDAS_VERSION\u001b[0m\u001b[1;33m\u001b[0m\u001b[0m\n\u001b[0m\u001b[0;32m      8\u001b[0m \u001b[1;33m\u001b[0m\u001b[0m\n\u001b[0;32m      9\u001b[0m \u001b[1;33m\u001b[0m\u001b[0m\n",
      "\u001b[1;32mD:\\Mallikarjun\\UPXAcademylearning\\Anaconda\\lib\\site-packages\\dask\\dataframe\\utils.py\u001b[0m in \u001b[0;36m<module>\u001b[1;34m()\u001b[0m\n\u001b[0;32m     13\u001b[0m \u001b[1;32mimport\u001b[0m \u001b[0mpandas\u001b[0m \u001b[1;32mas\u001b[0m \u001b[0mpd\u001b[0m\u001b[1;33m\u001b[0m\u001b[0m\n\u001b[0;32m     14\u001b[0m \u001b[1;32mimport\u001b[0m \u001b[0mpandas\u001b[0m\u001b[1;33m.\u001b[0m\u001b[0mutil\u001b[0m\u001b[1;33m.\u001b[0m\u001b[0mtesting\u001b[0m \u001b[1;32mas\u001b[0m \u001b[0mtm\u001b[0m\u001b[1;33m\u001b[0m\u001b[0m\n\u001b[1;32m---> 15\u001b[1;33m \u001b[1;32mfrom\u001b[0m \u001b[0mpandas\u001b[0m\u001b[1;33m.\u001b[0m\u001b[0mcore\u001b[0m\u001b[1;33m.\u001b[0m\u001b[0mcommon\u001b[0m \u001b[1;32mimport\u001b[0m \u001b[0mis_datetime64tz_dtype\u001b[0m\u001b[1;33m\u001b[0m\u001b[0m\n\u001b[0m\u001b[0;32m     16\u001b[0m \u001b[1;32mimport\u001b[0m \u001b[0mtoolz\u001b[0m\u001b[1;33m\u001b[0m\u001b[0m\n\u001b[0;32m     17\u001b[0m \u001b[1;33m\u001b[0m\u001b[0m\n",
      "\u001b[1;31mImportError\u001b[0m: cannot import name 'is_datetime64tz_dtype'"
     ]
    }
   ],
   "source": [
    "import dask.dataframe as dd"
   ]
  },
  {
   "cell_type": "code",
   "execution_count": 26,
   "metadata": {},
   "outputs": [
    {
     "name": "stdout",
     "output_type": "stream",
     "text": [
      "numpy 1.15.0\n"
     ]
    }
   ],
   "source": [
    "print (np.__name__, np.__version__)"
   ]
  },
  {
   "cell_type": "code",
   "execution_count": 28,
   "metadata": {},
   "outputs": [
    {
     "name": "stdout",
     "output_type": "stream",
     "text": [
      "matplotlib 2.0.0\n"
     ]
    }
   ],
   "source": [
    "import matplotlib as mat\n",
    "print (mat.__name__, mat.__version__)\n",
    "\n",
    "#import warnings\n",
    "#warnings.filterwarnings(\"ignore\")\n",
    "#from subprocess import check_output #Any results you write to the current directory are saved as output.\n",
    "#%matplotlib inline"
   ]
  },
  {
   "cell_type": "code",
   "execution_count": 33,
   "metadata": {},
   "outputs": [
    {
     "ename": "AttributeError",
     "evalue": "module 'warnings' has no attribute 'attributes'",
     "output_type": "error",
     "traceback": [
      "\u001b[1;31m---------------------------------------------------------------------------\u001b[0m",
      "\u001b[1;31mAttributeError\u001b[0m                            Traceback (most recent call last)",
      "\u001b[1;32m<ipython-input-33-2db7423c3ae9>\u001b[0m in \u001b[0;36m<module>\u001b[1;34m()\u001b[0m\n\u001b[0;32m      1\u001b[0m \u001b[1;32mimport\u001b[0m \u001b[0mwarnings\u001b[0m \u001b[1;32mas\u001b[0m \u001b[0mwar\u001b[0m\u001b[1;33m\u001b[0m\u001b[0m\n\u001b[1;32m----> 2\u001b[1;33m \u001b[0mprint\u001b[0m \u001b[1;33m(\u001b[0m\u001b[0mwar\u001b[0m\u001b[1;33m.\u001b[0m\u001b[0mattributes\u001b[0m\u001b[1;33m)\u001b[0m\u001b[1;33m\u001b[0m\u001b[0m\n\u001b[0m",
      "\u001b[1;31mAttributeError\u001b[0m: module 'warnings' has no attribute 'attributes'"
     ]
    }
   ],
   "source": [
    "import warnings as war\n",
    "print (war.attributes)"
   ]
  },
  {
   "cell_type": "code",
   "execution_count": null,
   "metadata": {},
   "outputs": [],
   "source": []
  }
 ],
 "metadata": {
  "kernelspec": {
   "display_name": "Python 3",
   "language": "python",
   "name": "python3"
  },
  "language_info": {
   "codemirror_mode": {
    "name": "ipython",
    "version": 3
   },
   "file_extension": ".py",
   "mimetype": "text/x-python",
   "name": "python",
   "nbconvert_exporter": "python",
   "pygments_lexer": "ipython3",
   "version": "3.6.0"
  }
 },
 "nbformat": 4,
 "nbformat_minor": 2
}
