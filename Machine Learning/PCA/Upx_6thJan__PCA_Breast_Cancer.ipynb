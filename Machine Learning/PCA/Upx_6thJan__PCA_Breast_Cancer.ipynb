{
 "cells": [
  {
   "cell_type": "code",
   "execution_count": 1,
   "metadata": {
    "collapsed": true
   },
   "outputs": [],
   "source": [
    "from sklearn.datasets import load_breast_cancer\n",
    "from sklearn.preprocessing import StandardScaler\n",
    "from sklearn.decomposition import PCA\n",
    "import matplotlib.pyplot as plt\n",
    "%matplotlib inline"
   ]
  },
  {
   "cell_type": "code",
   "execution_count": 2,
   "metadata": {},
   "outputs": [
    {
     "data": {
      "text/plain": [
       "array([[  1.79900000e+01,   1.03800000e+01,   1.22800000e+02, ...,\n",
       "          2.65400000e-01,   4.60100000e-01,   1.18900000e-01],\n",
       "       [  2.05700000e+01,   1.77700000e+01,   1.32900000e+02, ...,\n",
       "          1.86000000e-01,   2.75000000e-01,   8.90200000e-02],\n",
       "       [  1.96900000e+01,   2.12500000e+01,   1.30000000e+02, ...,\n",
       "          2.43000000e-01,   3.61300000e-01,   8.75800000e-02],\n",
       "       ..., \n",
       "       [  1.66000000e+01,   2.80800000e+01,   1.08300000e+02, ...,\n",
       "          1.41800000e-01,   2.21800000e-01,   7.82000000e-02],\n",
       "       [  2.06000000e+01,   2.93300000e+01,   1.40100000e+02, ...,\n",
       "          2.65000000e-01,   4.08700000e-01,   1.24000000e-01],\n",
       "       [  7.76000000e+00,   2.45400000e+01,   4.79200000e+01, ...,\n",
       "          0.00000000e+00,   2.87100000e-01,   7.03900000e-02]])"
      ]
     },
     "execution_count": 2,
     "metadata": {},
     "output_type": "execute_result"
    }
   ],
   "source": [
    "cancer=load_breast_cancer()\n",
    "cancer.data\n"
   ]
  },
  {
   "cell_type": "code",
   "execution_count": 3,
   "metadata": {},
   "outputs": [
    {
     "data": {
      "text/plain": [
       "StandardScaler(copy=True, with_mean=True, with_std=True)"
      ]
     },
     "execution_count": 3,
     "metadata": {},
     "output_type": "execute_result"
    }
   ],
   "source": [
    "scaler=StandardScaler()\n",
    "scaler.fit(cancer.data)"
   ]
  },
  {
   "cell_type": "code",
   "execution_count": 4,
   "metadata": {
    "collapsed": true
   },
   "outputs": [],
   "source": [
    "X_scaled=scaler.transform(cancer.data)"
   ]
  },
  {
   "cell_type": "code",
   "execution_count": 66,
   "metadata": {},
   "outputs": [
    {
     "data": {
      "text/plain": [
       "PCA(copy=True, n_components=20, whiten=False)"
      ]
     },
     "execution_count": 66,
     "metadata": {},
     "output_type": "execute_result"
    }
   ],
   "source": [
    "#keep first four principal components of data\n",
    "pca=PCA(n_components=20)\n",
    "#fit PCA model to cancer data\n",
    "pca.fit(X_scaled)"
   ]
  },
  {
   "cell_type": "code",
   "execution_count": 67,
   "metadata": {},
   "outputs": [
    {
     "name": "stdout",
     "output_type": "stream",
     "text": [
      " Original shape:(569, 30)\n",
      " Reduced shape:(569, 20)\n"
     ]
    }
   ],
   "source": [
    "#transform data onto first two principal components\n",
    "X_pca=pca.transform(X_scaled)\n",
    "print(\" Original shape:{}\".format(str(X_scaled.shape)))\n",
    "print(\" Reduced shape:{}\".format(str(X_pca.shape)))"
   ]
  },
  {
   "cell_type": "code",
   "execution_count": 68,
   "metadata": {},
   "outputs": [
    {
     "name": "stdout",
     "output_type": "stream",
     "text": [
      " PCA component shape:(20, 30)\n"
     ]
    }
   ],
   "source": [
    "print(\" PCA component shape:{}\".format(str(pca.components_.shape)))"
   ]
  },
  {
   "cell_type": "code",
   "execution_count": 69,
   "metadata": {},
   "outputs": [
    {
     "name": "stdout",
     "output_type": "stream",
     "text": [
      " PCA components:[[ -2.18902444e-01  -1.03724578e-01  -2.27537293e-01  -2.20994985e-01\n",
      "   -1.42589694e-01  -2.39285354e-01  -2.58400481e-01  -2.60853758e-01\n",
      "   -1.38166959e-01  -6.43633464e-02  -2.05978776e-01  -1.74280281e-02\n",
      "   -2.11325916e-01  -2.02869635e-01  -1.45314521e-02  -1.70393451e-01\n",
      "   -1.53589790e-01  -1.83417397e-01  -4.24984216e-02  -1.02568322e-01\n",
      "   -2.27996634e-01  -1.04469325e-01  -2.36639681e-01  -2.24870533e-01\n",
      "   -1.27952561e-01  -2.10095880e-01  -2.28767533e-01  -2.50885971e-01\n",
      "   -1.22904556e-01  -1.31783943e-01]\n",
      " [  2.33857132e-01   5.97060883e-02   2.15181361e-01   2.31076711e-01\n",
      "   -1.86113023e-01  -1.51891610e-01  -6.01653628e-02   3.47675005e-02\n",
      "   -1.90348770e-01  -3.66575471e-01   1.05552152e-01  -8.99796818e-02\n",
      "    8.94572342e-02   1.52292628e-01  -2.04430453e-01  -2.32715896e-01\n",
      "   -1.97207283e-01  -1.30321560e-01  -1.83848000e-01  -2.80092027e-01\n",
      "    2.19866379e-01   4.54672983e-02   1.99878428e-01   2.19351858e-01\n",
      "   -1.72304352e-01  -1.43593173e-01  -9.79641143e-02   8.25723507e-03\n",
      "   -1.41883349e-01  -2.75339469e-01]\n",
      " [ -8.53124284e-03   6.45499033e-02  -9.31421972e-03   2.86995259e-02\n",
      "   -1.04291904e-01  -7.40915709e-02   2.73383798e-03  -2.55635406e-02\n",
      "   -4.02399363e-02  -2.25740897e-02   2.68481387e-01   3.74633665e-01\n",
      "    2.66645367e-01   2.16006528e-01   3.08838979e-01   1.54779718e-01\n",
      "    1.76463743e-01   2.24657567e-01   2.88584292e-01   2.11503764e-01\n",
      "   -4.75069900e-02  -4.22978228e-02  -4.85465083e-02  -1.19023182e-02\n",
      "   -2.59797613e-01  -2.36075625e-01  -1.73057335e-01  -1.70344076e-01\n",
      "   -2.71312642e-01  -2.32791313e-01]\n",
      " [  4.14089623e-02  -6.03050001e-01   4.19830991e-02   5.34337955e-02\n",
      "    1.59382765e-01   3.17945811e-02   1.91227535e-02   6.53359443e-02\n",
      "    6.71249840e-02   4.85867649e-02   9.79412418e-02  -3.59855528e-01\n",
      "    8.89924146e-02   1.08205039e-01   4.46641797e-02  -2.74693632e-02\n",
      "    1.31687997e-03   7.40673350e-02   4.40733510e-02   1.53047496e-02\n",
      "    1.54172396e-02  -6.32807885e-01   1.38027944e-02   2.58947492e-02\n",
      "    1.76522161e-02  -9.13284153e-02  -7.39511797e-02   6.00699571e-03\n",
      "   -3.62506947e-02  -7.70534703e-02]\n",
      " [ -3.77863538e-02   4.94688505e-02  -3.73746632e-02  -1.03312514e-02\n",
      "    3.65088528e-01  -1.17039713e-02  -8.63754118e-02   4.38610252e-02\n",
      "    3.05941428e-01   4.44243602e-02   1.54456496e-01   1.91650506e-01\n",
      "    1.20990220e-01   1.27574432e-01   2.32065676e-01  -2.79968156e-01\n",
      "   -3.53982091e-01  -1.95548089e-01   2.52868765e-01  -2.63297438e-01\n",
      "    4.40659209e-03   9.28834001e-02  -7.45415100e-03   2.73909030e-02\n",
      "    3.24435445e-01  -1.21804107e-01  -1.88518727e-01  -4.33320687e-02\n",
      "    2.44558663e-01  -9.44233510e-02]\n",
      " [  1.87407904e-02  -3.21788366e-02   1.73084449e-02  -1.88774796e-03\n",
      "   -2.86374497e-01  -1.41309489e-02  -9.34418089e-03  -5.20499505e-02\n",
      "    3.56458461e-01  -1.19430668e-01  -2.56032561e-02  -2.87473145e-02\n",
      "    1.81071500e-03  -4.28639079e-02  -3.42917393e-01   6.91975186e-02\n",
      "    5.63432386e-02  -3.12244482e-02   4.90245643e-01  -5.31952674e-02\n",
      "   -2.90684919e-04  -5.00080613e-02   8.50098715e-03  -2.51643821e-02\n",
      "   -3.69255370e-01   4.77057929e-02   2.83792555e-02  -3.08734498e-02\n",
      "    4.98926784e-01  -8.02235245e-02]\n",
      " [ -1.24088340e-01   1.13995382e-02  -1.14477057e-01  -5.16534275e-02\n",
      "   -1.40668993e-01   3.09184960e-02  -1.07520443e-01  -1.50482214e-01\n",
      "   -9.38911345e-02   2.95760024e-01   3.12490037e-01  -9.07553556e-02\n",
      "    3.14640390e-01   3.46679003e-01  -2.44024056e-01   2.34635340e-02\n",
      "   -2.08823790e-01  -3.69645937e-01  -8.03822539e-02   1.91394973e-01\n",
      "   -9.70993602e-03   9.87074388e-03  -4.45726717e-04   6.78316595e-02\n",
      "   -1.08830886e-01   1.40472938e-01  -6.04880561e-02  -1.67966619e-01\n",
      "   -1.84906298e-02   3.74657626e-01]\n",
      " [  7.45229622e-03  -1.30674825e-01   1.86872582e-02  -3.46736038e-02\n",
      "    2.88974575e-01   1.51396350e-01   7.28272853e-02   1.52322414e-01\n",
      "    2.31530989e-01   1.77121441e-01  -2.25399674e-02   4.75413139e-01\n",
      "    1.18966905e-02  -8.58051345e-02  -5.73410232e-01  -1.17460157e-01\n",
      "   -6.05665008e-02   1.08319309e-01  -2.20149279e-01  -1.11681884e-02\n",
      "   -4.26194163e-02  -3.62516360e-02  -3.05585340e-02  -7.93942456e-02\n",
      "   -2.05852191e-01  -8.40196588e-02  -7.24678714e-02   3.61707954e-02\n",
      "   -2.28225053e-01  -4.83606666e-02]\n",
      " [ -2.23109764e-01   1.12699390e-01  -2.23739213e-01  -1.95586014e-01\n",
      "    6.42472194e-03  -1.67841425e-01   4.05910064e-02  -1.11971106e-01\n",
      "    2.56040084e-01  -1.23740789e-01   2.49985002e-01  -2.46645397e-01\n",
      "    2.27154024e-01   2.29160015e-01  -1.41924890e-01  -1.45322810e-01\n",
      "    3.58107079e-01   2.72519886e-01  -3.04077200e-01  -2.13722716e-01\n",
      "   -1.12141463e-01   1.03341204e-01  -1.09614364e-01  -8.07324609e-02\n",
      "    1.12315904e-01  -1.00677822e-01   1.61908621e-01   6.04884615e-02\n",
      "    6.46378061e-02  -1.34174175e-01]\n",
      " [  9.54864432e-02   2.40934066e-01   8.63856150e-02   7.49564886e-02\n",
      "   -6.92926813e-02   1.29362000e-02  -1.35602298e-01   8.05452775e-03\n",
      "    5.72069479e-01   8.11032072e-02  -4.95475941e-02  -2.89142742e-01\n",
      "   -1.14508236e-01  -9.19278886e-02   1.60884609e-01   4.35048658e-02\n",
      "   -1.41276243e-01   8.62408470e-02  -3.16529830e-01   3.67541918e-01\n",
      "    7.73616428e-02   2.95509413e-02   5.05083335e-02   6.99211523e-02\n",
      "   -1.28304659e-01  -1.72133632e-01  -3.11638520e-01  -7.66482910e-02\n",
      "   -2.95630751e-02   1.26095791e-02]\n",
      " [ -4.14714866e-02   3.02243402e-01  -1.67826374e-02  -1.10169643e-01\n",
      "    1.37021842e-01   3.08009633e-01  -1.24190245e-01   7.24460264e-02\n",
      "   -1.63054081e-01   3.80482687e-02   2.53570194e-02  -3.44944458e-01\n",
      "    1.67318771e-01  -5.16194632e-02  -8.42062106e-02   2.06885680e-01\n",
      "   -3.49517943e-01   3.42375908e-01   1.87844043e-01  -2.50624789e-01\n",
      "   -1.05067333e-01  -1.31572736e-02  -5.10762807e-02  -1.84598937e-01\n",
      "   -1.43890349e-01   1.97420469e-01  -1.85016760e-01   1.17772055e-01\n",
      "   -1.57560248e-01  -1.18283551e-01]\n",
      " [  5.10674568e-02   2.54896423e-01   3.89261058e-02   6.54375082e-02\n",
      "    3.16727211e-01  -1.04017044e-01   6.56534798e-02   4.25892667e-02\n",
      "   -2.88865504e-01   2.36358988e-01  -1.66879153e-02  -3.06160423e-01\n",
      "   -1.01446828e-01  -1.76792177e-02  -2.94710053e-01  -2.63456509e-01\n",
      "    2.51146975e-01  -6.45875122e-03   3.20571348e-01   2.76165974e-01\n",
      "    3.96796652e-02   7.97974499e-02  -8.98773800e-03   4.80886567e-02\n",
      "    5.65148662e-02  -3.71662503e-01  -8.70345324e-02  -6.81253543e-02\n",
      "    4.40335026e-02  -3.47316933e-02]\n",
      " [  1.19672116e-02   2.03461333e-01   4.41095034e-02   6.73757374e-02\n",
      "    4.55736020e-02   2.29281304e-01   3.87090806e-01   1.32138097e-01\n",
      "    1.89933673e-01   1.06239082e-01  -6.81952298e-02  -1.68222383e-01\n",
      "   -3.78439858e-02   5.60649318e-02   1.50441434e-01   1.00401699e-02\n",
      "    1.58783192e-01  -4.94026741e-01   1.03327412e-02  -2.40458323e-01\n",
      "   -1.37890527e-01  -8.01454315e-02  -9.69657077e-02  -1.01160611e-01\n",
      "   -2.05130344e-01   1.22793095e-02   2.17984329e-01  -2.54387490e-01\n",
      "   -2.56534905e-01  -1.72814238e-01]\n",
      " [  5.95061348e-02  -2.15600995e-02   4.85138123e-02   1.08308292e-02\n",
      "    4.45064860e-01   8.10105720e-03  -1.89358699e-01  -2.44794768e-01\n",
      "    3.07388563e-02  -3.77078865e-01   1.03474126e-02  -1.08493473e-02\n",
      "   -4.55237175e-02   8.35707181e-02  -2.01152530e-01   4.91755932e-01\n",
      "    1.34586924e-01  -1.99666719e-01  -4.68643826e-02   1.45652466e-01\n",
      "    2.31012813e-02   5.34307917e-02   1.22193824e-02  -6.68546458e-03\n",
      "    1.62235443e-01   1.66470250e-01  -6.67989309e-02  -2.76418891e-01\n",
      "    5.35557351e-03  -2.12104110e-01]\n",
      " [ -5.11187749e-02  -1.07922421e-01  -3.99029358e-02   1.39669069e-02\n",
      "   -1.18143364e-01   2.30899962e-01  -1.28283732e-01  -2.17099194e-01\n",
      "   -7.39617071e-02   5.17975705e-01  -1.10050711e-01   3.27527212e-02\n",
      "   -8.26808881e-03  -4.60243656e-02   1.85594647e-02   1.68209315e-01\n",
      "    2.50471408e-01   6.20793442e-02  -1.13383199e-01  -3.53232211e-01\n",
      "    1.66567074e-01   1.01115399e-01   1.82755198e-01   3.14993600e-01\n",
      "    4.61258656e-02  -4.99560142e-02  -2.04835886e-01  -1.69499607e-01\n",
      "    1.39888394e-01  -2.56173195e-01]\n",
      " [ -1.50583883e-01  -1.57841960e-01  -1.14453955e-01  -1.32448032e-01\n",
      "   -2.04613247e-01   1.70178367e-01   2.69470206e-01   3.80464095e-01\n",
      "   -1.64661588e-01  -4.07927860e-02   5.89057190e-02  -3.45004006e-02\n",
      "    2.65166513e-02   4.11532265e-02  -5.80390613e-02   1.89830896e-01\n",
      "   -1.25420649e-01  -1.98810346e-01  -1.57711497e-01   2.68553878e-01\n",
      "   -8.15605686e-02   1.85557852e-01  -5.48570473e-02  -9.06533944e-02\n",
      "    1.45551659e-01  -1.53734861e-01  -2.15021948e-01   1.78141741e-01\n",
      "    2.57894009e-01  -4.05556492e-01]\n",
      " [  2.02924255e-01  -3.87061187e-02   1.94821310e-01   2.55705763e-01\n",
      "    1.67929914e-01  -2.03077075e-02  -1.59835337e-03   3.45095087e-02\n",
      "   -1.91737848e-01   5.02252456e-02  -1.39396866e-01   4.39630156e-02\n",
      "   -2.46356391e-02   3.34418173e-01   1.39595006e-01  -8.24647717e-03\n",
      "    8.46167156e-02   1.08132263e-01  -2.74059129e-01  -1.22733398e-01\n",
      "   -2.40049982e-01   6.93651855e-02  -2.34164147e-01  -2.73399584e-01\n",
      "   -2.78030197e-01  -4.03712272e-03  -1.91313419e-01  -7.54853164e-02\n",
      "    4.30658116e-01   1.59394300e-01]\n",
      " [  1.46712338e-01  -4.11029851e-02   1.58317455e-01   2.66168105e-01\n",
      "   -3.52226802e-01   7.79413843e-03  -2.69681105e-02  -8.28277367e-02\n",
      "    1.73397790e-01   8.78673570e-02  -2.36216532e-01  -9.85866201e-03\n",
      "   -2.59288003e-02   3.04906903e-01  -2.31259943e-01   1.00474235e-01\n",
      "   -1.95485228e-04   4.60549116e-02   1.87014764e-01  -5.98230982e-02\n",
      "   -2.16101353e-01   5.83984505e-02  -1.88543592e-01  -1.42064856e-01\n",
      "    5.01551675e-01  -7.35745143e-02  -1.03907980e-01   7.58138963e-02\n",
      "   -2.78713843e-01   2.35647497e-02]\n",
      " [  2.25384659e-01   2.97886446e-02   2.39595276e-01  -2.73221894e-02\n",
      "   -1.64565843e-01   2.84222358e-01   2.26636013e-03  -1.54972363e-01\n",
      "   -5.88111647e-02  -5.81570509e-02   1.75883308e-01   3.60098518e-02\n",
      "    3.65701538e-01  -4.16572314e-01  -1.32600886e-02  -2.42448176e-01\n",
      "    1.26381025e-01  -1.21642969e-02  -8.90392949e-02   8.66008430e-02\n",
      "    1.36613039e-02  -7.58669276e-02   9.08132490e-02  -4.10047202e-01\n",
      "    2.34513845e-01   2.02007041e-02  -4.57861197e-02  -2.60229625e-01\n",
      "    1.17250532e-01  -1.14944811e-02]\n",
      " [ -4.96986642e-02  -2.44134993e-01  -1.76650122e-02  -9.01437617e-02\n",
      "    1.71009601e-02   4.88686329e-01  -3.33870858e-02  -2.35407606e-01\n",
      "    2.60691555e-02  -1.75637222e-01  -9.08005031e-02  -7.16599878e-02\n",
      "   -1.77250625e-01   2.74201148e-01   9.00614773e-02  -4.61098220e-01\n",
      "    6.69461742e-02   6.88682942e-02   1.07385289e-01   2.22345297e-01\n",
      "   -5.62690874e-03   3.00599798e-01   1.10038577e-02   6.00473870e-02\n",
      "   -1.29723903e-01   2.29280589e-01  -4.64827918e-02   3.30223397e-02\n",
      "   -1.16759236e-01  -1.04991974e-01]]\n"
     ]
    }
   ],
   "source": [
    "print(\" PCA components:{}\".format(str(pca.components_)))"
   ]
  },
  {
   "cell_type": "code",
   "execution_count": 70,
   "metadata": {},
   "outputs": [
    {
     "ename": "ValueError",
     "evalue": "Shape of passed values is (30, 20), indices imply (30, 4)",
     "output_type": "error",
     "traceback": [
      "\u001b[1;31m---------------------------------------------------------------------------\u001b[0m",
      "\u001b[1;31mValueError\u001b[0m                                Traceback (most recent call last)",
      "\u001b[1;32mC:\\Users\\tejks\\AppData\\Local\\Continuum\\Anaconda3\\lib\\site-packages\\pandas\\core\\internals.py\u001b[0m in \u001b[0;36mcreate_block_manager_from_blocks\u001b[1;34m(blocks, axes)\u001b[0m\n\u001b[0;32m   4623\u001b[0m \u001b[1;33m\u001b[0m\u001b[0m\n\u001b[1;32m-> 4624\u001b[1;33m         \u001b[0mmgr\u001b[0m \u001b[1;33m=\u001b[0m \u001b[0mBlockManager\u001b[0m\u001b[1;33m(\u001b[0m\u001b[0mblocks\u001b[0m\u001b[1;33m,\u001b[0m \u001b[0maxes\u001b[0m\u001b[1;33m)\u001b[0m\u001b[1;33m\u001b[0m\u001b[0m\n\u001b[0m\u001b[0;32m   4625\u001b[0m         \u001b[0mmgr\u001b[0m\u001b[1;33m.\u001b[0m\u001b[0m_consolidate_inplace\u001b[0m\u001b[1;33m(\u001b[0m\u001b[1;33m)\u001b[0m\u001b[1;33m\u001b[0m\u001b[0m\n",
      "\u001b[1;32mC:\\Users\\tejks\\AppData\\Local\\Continuum\\Anaconda3\\lib\\site-packages\\pandas\\core\\internals.py\u001b[0m in \u001b[0;36m__init__\u001b[1;34m(self, blocks, axes, do_integrity_check, fastpath)\u001b[0m\n\u001b[0;32m   3032\u001b[0m         \u001b[1;32mif\u001b[0m \u001b[0mdo_integrity_check\u001b[0m\u001b[1;33m:\u001b[0m\u001b[1;33m\u001b[0m\u001b[0m\n\u001b[1;32m-> 3033\u001b[1;33m             \u001b[0mself\u001b[0m\u001b[1;33m.\u001b[0m\u001b[0m_verify_integrity\u001b[0m\u001b[1;33m(\u001b[0m\u001b[1;33m)\u001b[0m\u001b[1;33m\u001b[0m\u001b[0m\n\u001b[0m\u001b[0;32m   3034\u001b[0m \u001b[1;33m\u001b[0m\u001b[0m\n",
      "\u001b[1;32mC:\\Users\\tejks\\AppData\\Local\\Continuum\\Anaconda3\\lib\\site-packages\\pandas\\core\\internals.py\u001b[0m in \u001b[0;36m_verify_integrity\u001b[1;34m(self)\u001b[0m\n\u001b[0;32m   3243\u001b[0m             \u001b[1;32mif\u001b[0m \u001b[0mblock\u001b[0m\u001b[1;33m.\u001b[0m\u001b[0m_verify_integrity\u001b[0m \u001b[1;32mand\u001b[0m \u001b[0mblock\u001b[0m\u001b[1;33m.\u001b[0m\u001b[0mshape\u001b[0m\u001b[1;33m[\u001b[0m\u001b[1;36m1\u001b[0m\u001b[1;33m:\u001b[0m\u001b[1;33m]\u001b[0m \u001b[1;33m!=\u001b[0m \u001b[0mmgr_shape\u001b[0m\u001b[1;33m[\u001b[0m\u001b[1;36m1\u001b[0m\u001b[1;33m:\u001b[0m\u001b[1;33m]\u001b[0m\u001b[1;33m:\u001b[0m\u001b[1;33m\u001b[0m\u001b[0m\n\u001b[1;32m-> 3244\u001b[1;33m                 \u001b[0mconstruction_error\u001b[0m\u001b[1;33m(\u001b[0m\u001b[0mtot_items\u001b[0m\u001b[1;33m,\u001b[0m \u001b[0mblock\u001b[0m\u001b[1;33m.\u001b[0m\u001b[0mshape\u001b[0m\u001b[1;33m[\u001b[0m\u001b[1;36m1\u001b[0m\u001b[1;33m:\u001b[0m\u001b[1;33m]\u001b[0m\u001b[1;33m,\u001b[0m \u001b[0mself\u001b[0m\u001b[1;33m.\u001b[0m\u001b[0maxes\u001b[0m\u001b[1;33m)\u001b[0m\u001b[1;33m\u001b[0m\u001b[0m\n\u001b[0m\u001b[0;32m   3245\u001b[0m         \u001b[1;32mif\u001b[0m \u001b[0mlen\u001b[0m\u001b[1;33m(\u001b[0m\u001b[0mself\u001b[0m\u001b[1;33m.\u001b[0m\u001b[0mitems\u001b[0m\u001b[1;33m)\u001b[0m \u001b[1;33m!=\u001b[0m \u001b[0mtot_items\u001b[0m\u001b[1;33m:\u001b[0m\u001b[1;33m\u001b[0m\u001b[0m\n",
      "\u001b[1;32mC:\\Users\\tejks\\AppData\\Local\\Continuum\\Anaconda3\\lib\\site-packages\\pandas\\core\\internals.py\u001b[0m in \u001b[0;36mconstruction_error\u001b[1;34m(tot_items, block_shape, axes, e)\u001b[0m\n\u001b[0;32m   4607\u001b[0m     raise ValueError(\"Shape of passed values is {0}, indices imply {1}\".format(\n\u001b[1;32m-> 4608\u001b[1;33m         passed, implied))\n\u001b[0m\u001b[0;32m   4609\u001b[0m \u001b[1;33m\u001b[0m\u001b[0m\n",
      "\u001b[1;31mValueError\u001b[0m: Shape of passed values is (30, 20), indices imply (30, 4)",
      "\nDuring handling of the above exception, another exception occurred:\n",
      "\u001b[1;31mValueError\u001b[0m                                Traceback (most recent call last)",
      "\u001b[1;32m<ipython-input-70-6d1ac8badb14>\u001b[0m in \u001b[0;36m<module>\u001b[1;34m()\u001b[0m\n\u001b[0;32m      1\u001b[0m \u001b[1;32mimport\u001b[0m \u001b[0mpandas\u001b[0m \u001b[1;32mas\u001b[0m \u001b[0mpd\u001b[0m\u001b[1;33m\u001b[0m\u001b[0m\n\u001b[1;32m----> 2\u001b[1;33m \u001b[0mprint\u001b[0m \u001b[1;33m(\u001b[0m\u001b[0mpd\u001b[0m\u001b[1;33m.\u001b[0m\u001b[0mDataFrame\u001b[0m\u001b[1;33m(\u001b[0m\u001b[0mpca\u001b[0m\u001b[1;33m.\u001b[0m\u001b[0mcomponents_\u001b[0m\u001b[1;33m,\u001b[0m\u001b[0mcolumns\u001b[0m\u001b[1;33m=\u001b[0m\u001b[0mcancer\u001b[0m\u001b[1;33m.\u001b[0m\u001b[0mfeature_names\u001b[0m\u001b[1;33m,\u001b[0m\u001b[0mindex\u001b[0m \u001b[1;33m=\u001b[0m \u001b[1;33m[\u001b[0m\u001b[1;34m'PC-1'\u001b[0m\u001b[1;33m,\u001b[0m\u001b[1;34m'PC-2'\u001b[0m\u001b[1;33m,\u001b[0m\u001b[1;34m'PC-3'\u001b[0m\u001b[1;33m,\u001b[0m\u001b[1;34m'PC-4'\u001b[0m\u001b[1;33m]\u001b[0m\u001b[1;33m)\u001b[0m\u001b[1;33m)\u001b[0m\u001b[1;33m\u001b[0m\u001b[0m\n\u001b[0m",
      "\u001b[1;32mC:\\Users\\tejks\\AppData\\Local\\Continuum\\Anaconda3\\lib\\site-packages\\pandas\\core\\frame.py\u001b[0m in \u001b[0;36m__init__\u001b[1;34m(self, data, index, columns, dtype, copy)\u001b[0m\n\u001b[0;32m    359\u001b[0m             \u001b[1;32melse\u001b[0m\u001b[1;33m:\u001b[0m\u001b[1;33m\u001b[0m\u001b[0m\n\u001b[0;32m    360\u001b[0m                 mgr = self._init_ndarray(data, index, columns, dtype=dtype,\n\u001b[1;32m--> 361\u001b[1;33m                                          copy=copy)\n\u001b[0m\u001b[0;32m    362\u001b[0m         \u001b[1;32melif\u001b[0m \u001b[0misinstance\u001b[0m\u001b[1;33m(\u001b[0m\u001b[0mdata\u001b[0m\u001b[1;33m,\u001b[0m \u001b[1;33m(\u001b[0m\u001b[0mlist\u001b[0m\u001b[1;33m,\u001b[0m \u001b[0mtypes\u001b[0m\u001b[1;33m.\u001b[0m\u001b[0mGeneratorType\u001b[0m\u001b[1;33m)\u001b[0m\u001b[1;33m)\u001b[0m\u001b[1;33m:\u001b[0m\u001b[1;33m\u001b[0m\u001b[0m\n\u001b[0;32m    363\u001b[0m             \u001b[1;32mif\u001b[0m \u001b[0misinstance\u001b[0m\u001b[1;33m(\u001b[0m\u001b[0mdata\u001b[0m\u001b[1;33m,\u001b[0m \u001b[0mtypes\u001b[0m\u001b[1;33m.\u001b[0m\u001b[0mGeneratorType\u001b[0m\u001b[1;33m)\u001b[0m\u001b[1;33m:\u001b[0m\u001b[1;33m\u001b[0m\u001b[0m\n",
      "\u001b[1;32mC:\\Users\\tejks\\AppData\\Local\\Continuum\\Anaconda3\\lib\\site-packages\\pandas\\core\\frame.py\u001b[0m in \u001b[0;36m_init_ndarray\u001b[1;34m(self, values, index, columns, dtype, copy)\u001b[0m\n\u001b[0;32m    531\u001b[0m             \u001b[0mvalues\u001b[0m \u001b[1;33m=\u001b[0m \u001b[0mmaybe_infer_to_datetimelike\u001b[0m\u001b[1;33m(\u001b[0m\u001b[0mvalues\u001b[0m\u001b[1;33m)\u001b[0m\u001b[1;33m\u001b[0m\u001b[0m\n\u001b[0;32m    532\u001b[0m \u001b[1;33m\u001b[0m\u001b[0m\n\u001b[1;32m--> 533\u001b[1;33m         \u001b[1;32mreturn\u001b[0m \u001b[0mcreate_block_manager_from_blocks\u001b[0m\u001b[1;33m(\u001b[0m\u001b[1;33m[\u001b[0m\u001b[0mvalues\u001b[0m\u001b[1;33m]\u001b[0m\u001b[1;33m,\u001b[0m \u001b[1;33m[\u001b[0m\u001b[0mcolumns\u001b[0m\u001b[1;33m,\u001b[0m \u001b[0mindex\u001b[0m\u001b[1;33m]\u001b[0m\u001b[1;33m)\u001b[0m\u001b[1;33m\u001b[0m\u001b[0m\n\u001b[0m\u001b[0;32m    534\u001b[0m \u001b[1;33m\u001b[0m\u001b[0m\n\u001b[0;32m    535\u001b[0m     \u001b[1;33m@\u001b[0m\u001b[0mproperty\u001b[0m\u001b[1;33m\u001b[0m\u001b[0m\n",
      "\u001b[1;32mC:\\Users\\tejks\\AppData\\Local\\Continuum\\Anaconda3\\lib\\site-packages\\pandas\\core\\internals.py\u001b[0m in \u001b[0;36mcreate_block_manager_from_blocks\u001b[1;34m(blocks, axes)\u001b[0m\n\u001b[0;32m   4629\u001b[0m         \u001b[0mblocks\u001b[0m \u001b[1;33m=\u001b[0m \u001b[1;33m[\u001b[0m\u001b[0mgetattr\u001b[0m\u001b[1;33m(\u001b[0m\u001b[0mb\u001b[0m\u001b[1;33m,\u001b[0m \u001b[1;34m'values'\u001b[0m\u001b[1;33m,\u001b[0m \u001b[0mb\u001b[0m\u001b[1;33m)\u001b[0m \u001b[1;32mfor\u001b[0m \u001b[0mb\u001b[0m \u001b[1;32min\u001b[0m \u001b[0mblocks\u001b[0m\u001b[1;33m]\u001b[0m\u001b[1;33m\u001b[0m\u001b[0m\n\u001b[0;32m   4630\u001b[0m         \u001b[0mtot_items\u001b[0m \u001b[1;33m=\u001b[0m \u001b[0msum\u001b[0m\u001b[1;33m(\u001b[0m\u001b[0mb\u001b[0m\u001b[1;33m.\u001b[0m\u001b[0mshape\u001b[0m\u001b[1;33m[\u001b[0m\u001b[1;36m0\u001b[0m\u001b[1;33m]\u001b[0m \u001b[1;32mfor\u001b[0m \u001b[0mb\u001b[0m \u001b[1;32min\u001b[0m \u001b[0mblocks\u001b[0m\u001b[1;33m)\u001b[0m\u001b[1;33m\u001b[0m\u001b[0m\n\u001b[1;32m-> 4631\u001b[1;33m         \u001b[0mconstruction_error\u001b[0m\u001b[1;33m(\u001b[0m\u001b[0mtot_items\u001b[0m\u001b[1;33m,\u001b[0m \u001b[0mblocks\u001b[0m\u001b[1;33m[\u001b[0m\u001b[1;36m0\u001b[0m\u001b[1;33m]\u001b[0m\u001b[1;33m.\u001b[0m\u001b[0mshape\u001b[0m\u001b[1;33m[\u001b[0m\u001b[1;36m1\u001b[0m\u001b[1;33m:\u001b[0m\u001b[1;33m]\u001b[0m\u001b[1;33m,\u001b[0m \u001b[0maxes\u001b[0m\u001b[1;33m,\u001b[0m \u001b[0me\u001b[0m\u001b[1;33m)\u001b[0m\u001b[1;33m\u001b[0m\u001b[0m\n\u001b[0m\u001b[0;32m   4632\u001b[0m \u001b[1;33m\u001b[0m\u001b[0m\n\u001b[0;32m   4633\u001b[0m \u001b[1;33m\u001b[0m\u001b[0m\n",
      "\u001b[1;32mC:\\Users\\tejks\\AppData\\Local\\Continuum\\Anaconda3\\lib\\site-packages\\pandas\\core\\internals.py\u001b[0m in \u001b[0;36mconstruction_error\u001b[1;34m(tot_items, block_shape, axes, e)\u001b[0m\n\u001b[0;32m   4606\u001b[0m         \u001b[1;32mraise\u001b[0m \u001b[0mValueError\u001b[0m\u001b[1;33m(\u001b[0m\u001b[1;34m\"Empty data passed with indices specified.\"\u001b[0m\u001b[1;33m)\u001b[0m\u001b[1;33m\u001b[0m\u001b[0m\n\u001b[0;32m   4607\u001b[0m     raise ValueError(\"Shape of passed values is {0}, indices imply {1}\".format(\n\u001b[1;32m-> 4608\u001b[1;33m         passed, implied))\n\u001b[0m\u001b[0;32m   4609\u001b[0m \u001b[1;33m\u001b[0m\u001b[0m\n\u001b[0;32m   4610\u001b[0m \u001b[1;33m\u001b[0m\u001b[0m\n",
      "\u001b[1;31mValueError\u001b[0m: Shape of passed values is (30, 20), indices imply (30, 4)"
     ]
    }
   ],
   "source": [
    "import pandas as pd\n",
    "print (pd.DataFrame(pca.components_,columns=cancer.feature_names,index = ['PC-1','PC-2','PC-3','PC-4']))"
   ]
  },
  {
   "cell_type": "code",
   "execution_count": null,
   "metadata": {},
   "outputs": [],
   "source": [
    "#Visualize coefficients using heat map\n",
    "plt.matshow(pca.components_,cmap='viridis')\n",
    "plt.yticks([0,1,2,3],[\"First component\",\"Second component\",\"Third component\",\"Fourth component\"])\n",
    "plt.colorbar()\n",
    "plt.xticks(range(len(cancer.feature_names)),cancer.feature_names,rotation=60,ha=\"left\")\n",
    "plt.xlabel(\"Feature\")\n",
    "plt.ylabel(\"Principal components\")"
   ]
  },
  {
   "cell_type": "code",
   "execution_count": null,
   "metadata": {},
   "outputs": [],
   "source": [
    "# choosing number of components using explained variance\n",
    "plt.plot(pca.explained_variance_, linewidth=2)\n",
    "plt.axis('tight')\n",
    "plt.xlabel('n_components')\n",
    "plt.ylabel('explained_variance_')"
   ]
  },
  {
   "cell_type": "code",
   "execution_count": 71,
   "metadata": {},
   "outputs": [
    {
     "name": "stdout",
     "output_type": "stream",
     "text": [
      "[ 44.27  63.24  72.63  79.23  84.73  88.75  91.    92.59  93.98  95.15\n",
      "  96.13  97.    97.8   98.32  98.63  98.9   99.1   99.28  99.44  99.54]\n"
     ]
    },
    {
     "data": {
      "text/plain": [
       "[<matplotlib.lines.Line2D at 0xe7ac128>]"
      ]
     },
     "execution_count": 71,
     "metadata": {},
     "output_type": "execute_result"
    },
    {
     "data": {
      "image/png": "[encoded data removed]",
      "text/plain": [
       "<matplotlib.figure.Figure at 0xe6e45f8>"
      ]
     },
     "metadata": {},
     "output_type": "display_data"
    }
   ],
   "source": [
    "import numpy as np\n",
    "variance_ratio_cum_sum=np.cumsum(np.round(pca.explained_variance_ratio_, decimals=4)*100)\n",
    "print(variance_ratio_cum_sum)\n",
    "plt.plot(variance_ratio_cum_sum)"
   ]
  },
  {
   "cell_type": "code",
   "execution_count": null,
   "metadata": {
    "collapsed": true
   },
   "outputs": [],
   "source": []
  },
  {
   "cell_type": "code",
   "execution_count": null,
   "metadata": {
    "collapsed": true
   },
   "outputs": [],
   "source": []
  },
  {
   "cell_type": "code",
   "execution_count": null,
   "metadata": {
    "collapsed": true
   },
   "outputs": [],
   "source": []
  },
  {
   "cell_type": "code",
   "execution_count": null,
   "metadata": {
    "collapsed": true
   },
   "outputs": [],
   "source": []
  },
  {
   "cell_type": "code",
   "execution_count": null,
   "metadata": {
    "collapsed": true
   },
   "outputs": [],
   "source": []
  }
 ],
 "metadata": {
  "anaconda-cloud": {},
  "kernelspec": {
   "display_name": "Python 3",
   "language": "python",
   "name": "python3"
  },
  "language_info": {
   "codemirror_mode": {
    "name": "ipython",
    "version": 3
   },
   "file_extension": ".py",
   "mimetype": "text/x-python",
   "name": "python",
   "nbconvert_exporter": "python",
   "pygments_lexer": "ipython3",
   "version": "3.6.0"
  }
 },
 "nbformat": 4,
 "nbformat_minor": 2
}
