{
 "cells": [
  {
   "cell_type": "code",
   "execution_count": 212,
   "metadata": {
    "collapsed": true
   },
   "outputs": [],
   "source": [
    "your_local_path=\"C:/Users/tejks/Desktop/ML/practice/\""
   ]
  },
  {
   "cell_type": "code",
   "execution_count": 213,
   "metadata": {
    "collapsed": false
   },
   "outputs": [],
   "source": [
    "import pandas as pd\n",
    "#from sklearn.model_selection import train_test_split,GridSearchCV\n",
    "from sklearn.cross_validation import train_test_split\n",
    "from sklearn.tree import DecisionTreeClassifier\n",
    "from sklearn.ensemble import RandomForestClassifier\n",
    "from sklearn import metrics\n",
    "from sklearn.metrics import confusion_matrix,accuracy_score\n",
    "from sklearn.grid_search import GridSearchCV"
   ]
  },
  {
   "cell_type": "code",
   "execution_count": 214,
   "metadata": {
    "collapsed": true
   },
   "outputs": [],
   "source": [
    "iris=pd.read_csv(your_local_path+\"iris.csv\")"
   ]
  },
  {
   "cell_type": "code",
   "execution_count": 215,
   "metadata": {
    "collapsed": false
   },
   "outputs": [
    {
     "name": "stdout",
     "output_type": "stream",
     "text": [
      "   Sepal.Length  Sepal.Width  Petal.Length  Petal.Width Species\n",
      "0           5.1          3.5           1.4          0.2  setosa\n",
      "1           4.9          3.0           1.4          0.2  setosa\n",
      "2           4.7          3.2           1.3          0.2  setosa\n",
      "3           4.6          3.1           1.5          0.2  setosa\n",
      "4           5.0          3.6           1.4          0.2  setosa\n",
      "     Sepal.Length  Sepal.Width  Petal.Length  Petal.Width    Species\n",
      "145           6.7          3.0           5.2          2.3  virginica\n",
      "146           6.3          2.5           5.0          1.9  virginica\n",
      "147           6.5          3.0           5.2          2.0  virginica\n",
      "148           6.2          3.4           5.4          2.3  virginica\n",
      "149           5.9          3.0           5.1          1.8  virginica\n"
     ]
    }
   ],
   "source": [
    "print(iris.head())\n",
    "print(iris.tail())"
   ]
  },
  {
   "cell_type": "code",
   "execution_count": 268,
   "metadata": {
    "collapsed": false
   },
   "outputs": [
    {
     "data": {
      "text/plain": [
       "array([[ 0.2,  5.1,  1.4],\n",
       "       [ 0.2,  4.9,  1.4],\n",
       "       [ 0.2,  4.7,  1.3],\n",
       "       [ 0.2,  4.6,  1.5],\n",
       "       [ 0.2,  5. ,  1.4],\n",
       "       [ 0.4,  5.4,  1.7],\n",
       "       [ 0.3,  4.6,  1.4],\n",
       "       [ 0.2,  5. ,  1.5],\n",
       "       [ 0.2,  4.4,  1.4],\n",
       "       [ 0.1,  4.9,  1.5],\n",
       "       [ 0.2,  5.4,  1.5],\n",
       "       [ 0.2,  4.8,  1.6],\n",
       "       [ 0.1,  4.8,  1.4],\n",
       "       [ 0.1,  4.3,  1.1],\n",
       "       [ 0.2,  5.8,  1.2],\n",
       "       [ 0.4,  5.7,  1.5],\n",
       "       [ 0.4,  5.4,  1.3],\n",
       "       [ 0.3,  5.1,  1.4],\n",
       "       [ 0.3,  5.7,  1.7],\n",
       "       [ 0.3,  5.1,  1.5],\n",
       "       [ 0.2,  5.4,  1.7],\n",
       "       [ 0.4,  5.1,  1.5],\n",
       "       [ 0.2,  4.6,  1. ],\n",
       "       [ 0.5,  5.1,  1.7],\n",
       "       [ 0.2,  4.8,  1.9],\n",
       "       [ 0.2,  5. ,  1.6],\n",
       "       [ 0.4,  5. ,  1.6],\n",
       "       [ 0.2,  5.2,  1.5],\n",
       "       [ 0.2,  5.2,  1.4],\n",
       "       [ 0.2,  4.7,  1.6],\n",
       "       [ 0.2,  4.8,  1.6],\n",
       "       [ 0.4,  5.4,  1.5],\n",
       "       [ 0.1,  5.2,  1.5],\n",
       "       [ 0.2,  5.5,  1.4],\n",
       "       [ 0.2,  4.9,  1.5],\n",
       "       [ 0.2,  5. ,  1.2],\n",
       "       [ 0.2,  5.5,  1.3],\n",
       "       [ 0.1,  4.9,  1.4],\n",
       "       [ 0.2,  4.4,  1.3],\n",
       "       [ 0.2,  5.1,  1.5],\n",
       "       [ 0.3,  5. ,  1.3],\n",
       "       [ 0.3,  4.5,  1.3],\n",
       "       [ 0.2,  4.4,  1.3],\n",
       "       [ 0.6,  5. ,  1.6],\n",
       "       [ 0.4,  5.1,  1.9],\n",
       "       [ 0.3,  4.8,  1.4],\n",
       "       [ 0.2,  5.1,  1.6],\n",
       "       [ 0.2,  4.6,  1.4],\n",
       "       [ 0.2,  5.3,  1.5],\n",
       "       [ 0.2,  5. ,  1.4],\n",
       "       [ 1.4,  7. ,  4.7],\n",
       "       [ 1.5,  6.4,  4.5],\n",
       "       [ 1.5,  6.9,  4.9],\n",
       "       [ 1.3,  5.5,  4. ],\n",
       "       [ 1.5,  6.5,  4.6],\n",
       "       [ 1.3,  5.7,  4.5],\n",
       "       [ 1.6,  6.3,  4.7],\n",
       "       [ 1. ,  4.9,  3.3],\n",
       "       [ 1.3,  6.6,  4.6],\n",
       "       [ 1.4,  5.2,  3.9],\n",
       "       [ 1. ,  5. ,  3.5],\n",
       "       [ 1.5,  5.9,  4.2],\n",
       "       [ 1. ,  6. ,  4. ],\n",
       "       [ 1.4,  6.1,  4.7],\n",
       "       [ 1.3,  5.6,  3.6],\n",
       "       [ 1.4,  6.7,  4.4],\n",
       "       [ 1.5,  5.6,  4.5],\n",
       "       [ 1. ,  5.8,  4.1],\n",
       "       [ 1.5,  6.2,  4.5],\n",
       "       [ 1.1,  5.6,  3.9],\n",
       "       [ 1.8,  5.9,  4.8],\n",
       "       [ 1.3,  6.1,  4. ],\n",
       "       [ 1.5,  6.3,  4.9],\n",
       "       [ 1.2,  6.1,  4.7],\n",
       "       [ 1.3,  6.4,  4.3],\n",
       "       [ 1.4,  6.6,  4.4],\n",
       "       [ 1.4,  6.8,  4.8],\n",
       "       [ 1.7,  6.7,  5. ],\n",
       "       [ 1.5,  6. ,  4.5],\n",
       "       [ 1. ,  5.7,  3.5],\n",
       "       [ 1.1,  5.5,  3.8],\n",
       "       [ 1. ,  5.5,  3.7],\n",
       "       [ 1.2,  5.8,  3.9],\n",
       "       [ 1.6,  6. ,  5.1],\n",
       "       [ 1.5,  5.4,  4.5],\n",
       "       [ 1.6,  6. ,  4.5],\n",
       "       [ 1.5,  6.7,  4.7],\n",
       "       [ 1.3,  6.3,  4.4],\n",
       "       [ 1.3,  5.6,  4.1],\n",
       "       [ 1.3,  5.5,  4. ],\n",
       "       [ 1.2,  5.5,  4.4],\n",
       "       [ 1.4,  6.1,  4.6],\n",
       "       [ 1.2,  5.8,  4. ],\n",
       "       [ 1. ,  5. ,  3.3],\n",
       "       [ 1.3,  5.6,  4.2],\n",
       "       [ 1.2,  5.7,  4.2],\n",
       "       [ 1.3,  5.7,  4.2],\n",
       "       [ 1.3,  6.2,  4.3],\n",
       "       [ 1.1,  5.1,  3. ],\n",
       "       [ 1.3,  5.7,  4.1],\n",
       "       [ 2.5,  6.3,  6. ],\n",
       "       [ 1.9,  5.8,  5.1],\n",
       "       [ 2.1,  7.1,  5.9],\n",
       "       [ 1.8,  6.3,  5.6],\n",
       "       [ 2.2,  6.5,  5.8],\n",
       "       [ 2.1,  7.6,  6.6],\n",
       "       [ 1.7,  4.9,  4.5],\n",
       "       [ 1.8,  7.3,  6.3],\n",
       "       [ 1.8,  6.7,  5.8],\n",
       "       [ 2.5,  7.2,  6.1],\n",
       "       [ 2. ,  6.5,  5.1],\n",
       "       [ 1.9,  6.4,  5.3],\n",
       "       [ 2.1,  6.8,  5.5],\n",
       "       [ 2. ,  5.7,  5. ],\n",
       "       [ 2.4,  5.8,  5.1],\n",
       "       [ 2.3,  6.4,  5.3],\n",
       "       [ 1.8,  6.5,  5.5],\n",
       "       [ 2.2,  7.7,  6.7],\n",
       "       [ 2.3,  7.7,  6.9],\n",
       "       [ 1.5,  6. ,  5. ],\n",
       "       [ 2.3,  6.9,  5.7],\n",
       "       [ 2. ,  5.6,  4.9],\n",
       "       [ 2. ,  7.7,  6.7],\n",
       "       [ 1.8,  6.3,  4.9],\n",
       "       [ 2.1,  6.7,  5.7],\n",
       "       [ 1.8,  7.2,  6. ],\n",
       "       [ 1.8,  6.2,  4.8],\n",
       "       [ 1.8,  6.1,  4.9],\n",
       "       [ 2.1,  6.4,  5.6],\n",
       "       [ 1.6,  7.2,  5.8],\n",
       "       [ 1.9,  7.4,  6.1],\n",
       "       [ 2. ,  7.9,  6.4],\n",
       "       [ 2.2,  6.4,  5.6],\n",
       "       [ 1.5,  6.3,  5.1],\n",
       "       [ 1.4,  6.1,  5.6],\n",
       "       [ 2.3,  7.7,  6.1],\n",
       "       [ 2.4,  6.3,  5.6],\n",
       "       [ 1.8,  6.4,  5.5],\n",
       "       [ 1.8,  6. ,  4.8],\n",
       "       [ 2.1,  6.9,  5.4],\n",
       "       [ 2.4,  6.7,  5.6],\n",
       "       [ 2.3,  6.9,  5.1],\n",
       "       [ 1.9,  5.8,  5.1],\n",
       "       [ 2.3,  6.8,  5.9],\n",
       "       [ 2.5,  6.7,  5.7],\n",
       "       [ 2.3,  6.7,  5.2],\n",
       "       [ 1.9,  6.3,  5. ],\n",
       "       [ 2. ,  6.5,  5.2],\n",
       "       [ 2.3,  6.2,  5.4],\n",
       "       [ 1.8,  5.9,  5.1]])"
      ]
     },
     "execution_count": 268,
     "metadata": {},
     "output_type": "execute_result"
    }
   ],
   "source": [
    "y=iris['Species']\n",
    "#del iris['Species']\n",
    "x=iris\n",
    "columns = [\"Petal.Width\", \"Sepal.Length\",\"Petal.Length\"]\n",
    "features = x[list(columns)].values\n",
    "features\n",
    "x=features\n",
    "x"
   ]
  },
  {
   "cell_type": "code",
   "execution_count": 269,
   "metadata": {
    "collapsed": true
   },
   "outputs": [],
   "source": [
    "x_train,x_test,y_train,y_test=train_test_split(x,y,test_size=0.30,random_state=1)"
   ]
  },
  {
   "cell_type": "code",
   "execution_count": 270,
   "metadata": {
    "collapsed": false
   },
   "outputs": [
    {
     "name": "stdout",
     "output_type": "stream",
     "text": [
      "(105, 3)\n",
      "(105,)\n",
      "(45, 3)\n",
      "(45,)\n"
     ]
    }
   ],
   "source": [
    "print(x_train.shape)\n",
    "print(y_train.shape)\n",
    "print(x_test.shape)\n",
    "print(y_test.shape)"
   ]
  },
  {
   "cell_type": "code",
   "execution_count": 271,
   "metadata": {
    "collapsed": true
   },
   "outputs": [],
   "source": [
    "dt=DecisionTreeClassifier(criterion=\"entropy\")\n",
    "dt_model=dt.fit(x_train,y_train)"
   ]
  },
  {
   "cell_type": "code",
   "execution_count": 272,
   "metadata": {
    "collapsed": false
   },
   "outputs": [
    {
     "data": {
      "text/plain": [
       "[('Petal.Width', 0.88448755743363805),\n",
       " ('Sepal.Length', 0.027028592089255701),\n",
       " ('Petal.Length', 0.088483850477106191)]"
      ]
     },
     "execution_count": 272,
     "metadata": {},
     "output_type": "execute_result"
    }
   ],
   "source": [
    "dt_model.feature_importances_\n",
    "list(zip(columns,dt_model.feature_importances_))"
   ]
  },
  {
   "cell_type": "code",
   "execution_count": 273,
   "metadata": {
    "collapsed": false
   },
   "outputs": [],
   "source": [
    "from sklearn import tree\n",
    "with open(\"iris.dot\", 'w') as f:\n",
    "    f = tree.export_graphviz(dt_model, out_file=f, feature_names=columns)"
   ]
  },
  {
   "cell_type": "code",
   "execution_count": 274,
   "metadata": {
    "collapsed": false
   },
   "outputs": [
    {
     "name": "stdout",
     "output_type": "stream",
     "text": [
      "0.955555555556\n"
     ]
    },
    {
     "data": {
      "text/plain": [
       "array([[14,  0,  0],\n",
       "       [ 0, 17,  1],\n",
       "       [ 0,  1, 12]])"
      ]
     },
     "execution_count": 274,
     "metadata": {},
     "output_type": "execute_result"
    }
   ],
   "source": [
    "dt_prd=dt_model.predict(x_test)\n",
    "print(accuracy_score(y_test,dt_prd))\n",
    "df_confusion = confusion_matrix(y_test,dt_prd)\n",
    "df_confusion"
   ]
  },
  {
   "cell_type": "code",
   "execution_count": 275,
   "metadata": {
    "collapsed": false
   },
   "outputs": [
    {
     "data": {
      "image/png": "[encoded data removed]",
      "text/plain": [
       "<matplotlib.figure.Figure at 0xab19c50>"
      ]
     },
     "metadata": {},
     "output_type": "display_data"
    }
   ],
   "source": [
    "import matplotlib.pyplot as plt\n",
    "% matplotlib inline\n",
    "def plot_confusion_matrix(df_confusion, title='Confusion matrix', cmap=plt.cm.gray_r):\n",
    "    plt.matshow(df_confusion, cmap=cmap) # imshow\n",
    "    plt.title('Confusion Matrix')\n",
    "    plt.colorbar()\n",
    "    plt.ylabel('Actual')\n",
    "    plt.xlabel('Predicted')\n",
    "\n",
    "plot_confusion_matrix(df_confusion)"
   ]
  },
  {
   "cell_type": "code",
   "execution_count": 276,
   "metadata": {
    "collapsed": false
   },
   "outputs": [
    {
     "name": "stdout",
     "output_type": "stream",
     "text": [
      "             precision    recall  f1-score   support\n",
      "\n",
      "     setosa       1.00      1.00      1.00        14\n",
      " versicolor       0.94      0.94      0.94        18\n",
      "  virginica       0.92      0.92      0.92        13\n",
      "\n",
      "avg / total       0.96      0.96      0.96        45\n",
      "\n"
     ]
    }
   ],
   "source": [
    "print(metrics.classification_report(y_test,dt_prd))"
   ]
  },
  {
   "cell_type": "code",
   "execution_count": null,
   "metadata": {
    "collapsed": true
   },
   "outputs": [],
   "source": []
  },
  {
   "cell_type": "code",
   "execution_count": 251,
   "metadata": {
    "collapsed": true
   },
   "outputs": [],
   "source": [
    "x_train,x_test,y_train,y_test=train_test_split(x,y,test_size=0.30,random_state=1)"
   ]
  },
  {
   "cell_type": "code",
   "execution_count": 252,
   "metadata": {
    "collapsed": true
   },
   "outputs": [],
   "source": [
    "rf_clf=RandomForestClassifier(max_depth = 10, min_samples_split=2, n_estimators = 10, random_state = 123)\n",
    "rf_model=rf_clf.fit(x_train,y_train)\n",
    "rf_prediction=rf_model.predict(x_test)"
   ]
  },
  {
   "cell_type": "code",
   "execution_count": 253,
   "metadata": {
    "collapsed": false
   },
   "outputs": [
    {
     "name": "stdout",
     "output_type": "stream",
     "text": [
      "0.866666666667\n"
     ]
    }
   ],
   "source": [
    "print(accuracy_score(y_test,rf_prediction))"
   ]
  },
  {
   "cell_type": "code",
   "execution_count": 254,
   "metadata": {
    "collapsed": false
   },
   "outputs": [
    {
     "name": "stdout",
     "output_type": "stream",
     "text": [
      "[[14  0  0]\n",
      " [ 0 13  5]\n",
      " [ 0  1 12]]\n"
     ]
    }
   ],
   "source": [
    "print(confusion_matrix(y_test,rf_prediction))"
   ]
  },
  {
   "cell_type": "markdown",
   "metadata": {},
   "source": [
    "## GridSearchCV is used in model building to pass the hyperparameters as arguments to the models or estimators as the \n",
    "## Hyperparameters can't be learnt by estimators directly.Thus GridSearchCV facilitates us to optimize our model with the best parameters."
   ]
  },
  {
   "cell_type": "code",
   "execution_count": 255,
   "metadata": {
    "collapsed": true
   },
   "outputs": [],
   "source": [
    "dt_parameters={\"criterion\":['gini','entropy'],\"max_depth\":[3,7],\"max_leaf_nodes\": [20,30]}"
   ]
  },
  {
   "cell_type": "code",
   "execution_count": 256,
   "metadata": {
    "collapsed": true
   },
   "outputs": [],
   "source": [
    "grid_dt_clf=GridSearchCV(DecisionTreeClassifier(),dt_parameters)"
   ]
  },
  {
   "cell_type": "code",
   "execution_count": 277,
   "metadata": {
    "collapsed": true
   },
   "outputs": [],
   "source": [
    "grid_dt_model=grid_dt_clf.fit(x_train,y_train)"
   ]
  },
  {
   "cell_type": "code",
   "execution_count": 278,
   "metadata": {
    "collapsed": false
   },
   "outputs": [
    {
     "data": {
      "text/plain": [
       "{'criterion': 'gini', 'max_depth': 7, 'max_leaf_nodes': 30}"
      ]
     },
     "execution_count": 278,
     "metadata": {},
     "output_type": "execute_result"
    }
   ],
   "source": [
    "grid_dt_model.best_params_"
   ]
  },
  {
   "cell_type": "code",
   "execution_count": 259,
   "metadata": {
    "collapsed": true
   },
   "outputs": [],
   "source": [
    "grid_dt_prediction=grid_dt_model.predict(x_test)"
   ]
  },
  {
   "cell_type": "code",
   "execution_count": 260,
   "metadata": {
    "collapsed": false
   },
   "outputs": [
    {
     "name": "stdout",
     "output_type": "stream",
     "text": [
      "[[14  0  0]\n",
      " [ 0 17  1]\n",
      " [ 0  1 12]]\n"
     ]
    }
   ],
   "source": [
    "print(confusion_matrix(y_test,grid_dt_prediction))"
   ]
  },
  {
   "cell_type": "code",
   "execution_count": 261,
   "metadata": {
    "collapsed": false
   },
   "outputs": [
    {
     "name": "stdout",
     "output_type": "stream",
     "text": [
      "0.955555555556\n"
     ]
    }
   ],
   "source": [
    "print(accuracy_score(y_test,grid_dt_prediction))"
   ]
  },
  {
   "cell_type": "code",
   "execution_count": 262,
   "metadata": {
    "collapsed": true
   },
   "outputs": [],
   "source": [
    "rf_params={\"criterion\":['gini','entropy'],\"n_estimators\":[10,20,30,40,50,60,100],\"max_depth\":[3,5,7,9],\"max_leaf_nodes\": [20,40,50]}"
   ]
  },
  {
   "cell_type": "code",
   "execution_count": 263,
   "metadata": {
    "collapsed": true
   },
   "outputs": [],
   "source": [
    "grid_rf_clf=GridSearchCV(RandomForestClassifier(),rf_params)"
   ]
  },
  {
   "cell_type": "code",
   "execution_count": 264,
   "metadata": {
    "collapsed": true
   },
   "outputs": [],
   "source": [
    "grid_rf_model=grid_rf_clf.fit(x_train,y_train)"
   ]
  },
  {
   "cell_type": "code",
   "execution_count": 265,
   "metadata": {
    "collapsed": false
   },
   "outputs": [
    {
     "data": {
      "text/plain": [
       "{'criterion': 'gini', 'max_depth': 3, 'max_leaf_nodes': 50, 'n_estimators': 20}"
      ]
     },
     "execution_count": 265,
     "metadata": {},
     "output_type": "execute_result"
    }
   ],
   "source": [
    "grid_rf_model.best_params_"
   ]
  },
  {
   "cell_type": "code",
   "execution_count": 266,
   "metadata": {
    "collapsed": true
   },
   "outputs": [],
   "source": [
    "grid_rf_prediction=grid_rf_model.predict(x_test)"
   ]
  },
  {
   "cell_type": "code",
   "execution_count": 267,
   "metadata": {
    "collapsed": false
   },
   "outputs": [
    {
     "name": "stdout",
     "output_type": "stream",
     "text": [
      "0.955555555556\n"
     ]
    }
   ],
   "source": [
    "print(accuracy_score(y_test,grid_rf_prediction))"
   ]
  },
  {
   "cell_type": "code",
   "execution_count": null,
   "metadata": {
    "collapsed": true
   },
   "outputs": [],
   "source": [
    "## N.B: Since the sample & data is also very simple not complex that's why we got the same accuracy from each model we have built."
   ]
  },
  {
   "cell_type": "code",
   "execution_count": null,
   "metadata": {
    "collapsed": true
   },
   "outputs": [],
   "source": []
  }
 ],
 "metadata": {
  "kernelspec": {
   "display_name": "Python [Root]",
   "language": "python",
   "name": "Python [Root]"
  },
  "language_info": {
   "codemirror_mode": {
    "name": "ipython",
    "version": 3
   },
   "file_extension": ".py",
   "mimetype": "text/x-python",
   "name": "python",
   "nbconvert_exporter": "python",
   "pygments_lexer": "ipython3",
   "version": "3.5.2"
  }
 },
 "nbformat": 4,
 "nbformat_minor": 2
}
