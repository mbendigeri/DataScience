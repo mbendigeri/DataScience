{
 "cells": [
  {
   "cell_type": "code",
   "execution_count": 179,
   "metadata": {},
   "outputs": [],
   "source": [
    "import  numpy as np\n",
    "import pandas as pd\n",
    "import csv\n",
    "import urllib3 # if you want to read data from a url\n",
    "from collections import namedtuple\n",
    "%matplotlib inline\n",
    "from matplotlib import pyplot as plt"
   ]
  },
  {
   "cell_type": "markdown",
   "metadata": {},
   "source": [
    "### Census Income data"
   ]
  },
  {
   "cell_type": "markdown",
   "metadata": {},
   "source": [
    "* age: continuous.\n",
    "* workclass: Private, Self-emp-not-inc, Self-emp-inc, Federal-gov, Local-gov, State-gov, Without-pay, Never-worked.\n",
    "* fnlwgt: continuous.\n",
    "* education: Bachelors, Some-college, 11th, HS-grad, Prof-school, Assoc-acdm, Assoc-voc, 9th, 7th-8th, 12th, Masters, 1st-4th, 10th, Doctorate, 5th-6th, Preschool.\n",
    "* education-num: continuous.\n",
    "* marital-status: Married-civ-spouse, Divorced, Never-married, Separated, Widowed, Married-spouse-absent, Married-AF-spouse.\n",
    "* occupation: Tech-support, Craft-repair, Other-service, Sales, Exec-managerial, Prof-specialty, Handlers-cleaners, Machine-op-inspct, Adm-clerical, Farming-fishing, Transport-moving, Priv-house-serv, Protective-serv, Armed-Forces.\n",
    "* relationship: Wife, Own-child, Husband, Not-in-family, Other-relative, Unmarried.\n",
    "* race: White, Asian-Pac-Islander, Amer-Indian-Eskimo, Other, Black.\n",
    "* sex: Female, Male.\n",
    "* capital-gain: continuous.\n",
    "* capital-loss: continuous.\n",
    "* hours-per-week: continuous.\n",
    "* native-country: United-States, Cambodia, England, Puerto-Rico, Canada, Germany, Outlying-US(Guam-USVI-etc), India, Japan, Greece, South, China, Cuba, Iran, Honduras, Philippines, Italy, Poland, Jamaica, Vietnam, Mexico, Portugal, Ireland, France, Dominican-Republic, Laos, Ecuador, Taiwan, Haiti, Columbia, Hungary, Guatemala, Nicaragua, Scotland, Thailand, Yugoslavia, El-Salvador, Trinadad&Tobago, Peru, Hong, Holand-Netherlands."
   ]
  },
  {
   "cell_type": "code",
   "execution_count": 44,
   "metadata": {},
   "outputs": [],
   "source": [
    "#create a tuple of column names\n",
    "\n",
    "fields=('age','workclass','fnlwgt','education','education-num','marital-status','occupation','relationship','race','sex',\n",
    "        'capital-gain','capital-loss','hours-per-week','native-country','target'\n",
    "       )"
   ]
  },
  {
   "cell_type": "code",
   "execution_count": 45,
   "metadata": {},
   "outputs": [],
   "source": [
    "#censusrecord=namedtuple('cenusrecord',fields)\n",
    "# this gives an error as the names have -. So run a comphrension to replace the - with _ in the field names"
   ]
  },
  {
   "cell_type": "code",
   "execution_count": 46,
   "metadata": {},
   "outputs": [],
   "source": [
    "fields=(x.replace('-','_') for x in fields )"
   ]
  },
  {
   "cell_type": "code",
   "execution_count": 47,
   "metadata": {
    "scrolled": true
   },
   "outputs": [],
   "source": [
    "#for x in fields:\n",
    "  #  print(x)"
   ]
  },
  {
   "cell_type": "code",
   "execution_count": 49,
   "metadata": {},
   "outputs": [],
   "source": [
    "censusrecord=namedtuple('cenusrecord',fields)"
   ]
  },
  {
   "cell_type": "code",
   "execution_count": 154,
   "metadata": {},
   "outputs": [],
   "source": [
    "data=[]\n",
    "\n",
    "with open('data/adult_train.data') as csv_file:\n",
    "    csv_reader=csv.reader(csv_file,delimiter=',')\n",
    "    for row in csv_reader:\n",
    "        if len(row)>0:\n",
    "            data.append(\n",
    "            censusrecord(\n",
    "               age=int(row[0]),\n",
    "               workclass=row[1].strip(),\n",
    "               fnlwgt=row[2].strip(),\n",
    "               education=row[3].strip(),\n",
    "               education_num=int(row[4]),\n",
    "               marital_status=row[5].strip(),\n",
    "               occupation=row[6].strip(),\n",
    "               relationship=row[7].strip(),\n",
    "               race=row[8].strip(),\n",
    "               sex=row[9].strip(),\n",
    "               capital_gain=int(row[10].strip()),\n",
    "               capital_loss=int(row[11].strip()),\n",
    "               hours_per_week=int(row[12].strip()),\n",
    "               native_country=row[13].strip(),\n",
    "               target=row[14].strip()\n",
    "                ) \n",
    "            )\n",
    "\n",
    "    "
   ]
  },
  {
   "cell_type": "markdown",
   "metadata": {},
   "source": [
    "#### Load using Pandas"
   ]
  },
  {
   "cell_type": "code",
   "execution_count": 100,
   "metadata": {},
   "outputs": [],
   "source": [
    "names=['age','workclass','fnlwgt','education','education-num','marital-status','occupation','relationship','race','sex',\n",
    "        'capital-gain','capital-loss','hours-per-week','native-country','target'\n",
    "      ]\n",
    "dataset=pd.read_csv('data/adult_train.data',names=names)"
   ]
  },
  {
   "cell_type": "code",
   "execution_count": 101,
   "metadata": {},
   "outputs": [
    {
     "data": {
      "text/html": [
       "<div>\n",
       "<style scoped>\n",
       "    .dataframe tbody tr th:only-of-type {\n",
       "        vertical-align: middle;\n",
       "    }\n",
       "\n",
       "    .dataframe tbody tr th {\n",
       "        vertical-align: top;\n",
       "    }\n",
       "\n",
       "    .dataframe thead th {\n",
       "        text-align: right;\n",
       "    }\n",
       "</style>\n",
       "<table border=\"1\" class=\"dataframe\">\n",
       "  <thead>\n",
       "    <tr style=\"text-align: right;\">\n",
       "      <th></th>\n",
       "      <th>age</th>\n",
       "      <th>workclass</th>\n",
       "      <th>fnlwgt</th>\n",
       "      <th>education</th>\n",
       "      <th>education-num</th>\n",
       "      <th>marital-status</th>\n",
       "      <th>occupation</th>\n",
       "      <th>relationship</th>\n",
       "      <th>race</th>\n",
       "      <th>sex</th>\n",
       "      <th>capital-gain</th>\n",
       "      <th>capital-loss</th>\n",
       "      <th>hours-per-week</th>\n",
       "      <th>native-country</th>\n",
       "      <th>target</th>\n",
       "    </tr>\n",
       "  </thead>\n",
       "  <tbody>\n",
       "    <tr>\n",
       "      <th>0</th>\n",
       "      <td>39</td>\n",
       "      <td>State-gov</td>\n",
       "      <td>77516</td>\n",
       "      <td>Bachelors</td>\n",
       "      <td>13</td>\n",
       "      <td>Never-married</td>\n",
       "      <td>Adm-clerical</td>\n",
       "      <td>Not-in-family</td>\n",
       "      <td>White</td>\n",
       "      <td>Male</td>\n",
       "      <td>2174</td>\n",
       "      <td>0</td>\n",
       "      <td>40</td>\n",
       "      <td>United-States</td>\n",
       "      <td>&lt;=50K</td>\n",
       "    </tr>\n",
       "    <tr>\n",
       "      <th>1</th>\n",
       "      <td>50</td>\n",
       "      <td>Self-emp-not-inc</td>\n",
       "      <td>83311</td>\n",
       "      <td>Bachelors</td>\n",
       "      <td>13</td>\n",
       "      <td>Married-civ-spouse</td>\n",
       "      <td>Exec-managerial</td>\n",
       "      <td>Husband</td>\n",
       "      <td>White</td>\n",
       "      <td>Male</td>\n",
       "      <td>0</td>\n",
       "      <td>0</td>\n",
       "      <td>13</td>\n",
       "      <td>United-States</td>\n",
       "      <td>&lt;=50K</td>\n",
       "    </tr>\n",
       "    <tr>\n",
       "      <th>2</th>\n",
       "      <td>38</td>\n",
       "      <td>Private</td>\n",
       "      <td>215646</td>\n",
       "      <td>HS-grad</td>\n",
       "      <td>9</td>\n",
       "      <td>Divorced</td>\n",
       "      <td>Handlers-cleaners</td>\n",
       "      <td>Not-in-family</td>\n",
       "      <td>White</td>\n",
       "      <td>Male</td>\n",
       "      <td>0</td>\n",
       "      <td>0</td>\n",
       "      <td>40</td>\n",
       "      <td>United-States</td>\n",
       "      <td>&lt;=50K</td>\n",
       "    </tr>\n",
       "    <tr>\n",
       "      <th>3</th>\n",
       "      <td>53</td>\n",
       "      <td>Private</td>\n",
       "      <td>234721</td>\n",
       "      <td>11th</td>\n",
       "      <td>7</td>\n",
       "      <td>Married-civ-spouse</td>\n",
       "      <td>Handlers-cleaners</td>\n",
       "      <td>Husband</td>\n",
       "      <td>Black</td>\n",
       "      <td>Male</td>\n",
       "      <td>0</td>\n",
       "      <td>0</td>\n",
       "      <td>40</td>\n",
       "      <td>United-States</td>\n",
       "      <td>&lt;=50K</td>\n",
       "    </tr>\n",
       "    <tr>\n",
       "      <th>4</th>\n",
       "      <td>28</td>\n",
       "      <td>Private</td>\n",
       "      <td>338409</td>\n",
       "      <td>Bachelors</td>\n",
       "      <td>13</td>\n",
       "      <td>Married-civ-spouse</td>\n",
       "      <td>Prof-specialty</td>\n",
       "      <td>Wife</td>\n",
       "      <td>Black</td>\n",
       "      <td>Female</td>\n",
       "      <td>0</td>\n",
       "      <td>0</td>\n",
       "      <td>40</td>\n",
       "      <td>Cuba</td>\n",
       "      <td>&lt;=50K</td>\n",
       "    </tr>\n",
       "  </tbody>\n",
       "</table>\n",
       "</div>"
      ],
      "text/plain": [
       "   age          workclass  fnlwgt   education  education-num  \\\n",
       "0   39          State-gov   77516   Bachelors             13   \n",
       "1   50   Self-emp-not-inc   83311   Bachelors             13   \n",
       "2   38            Private  215646     HS-grad              9   \n",
       "3   53            Private  234721        11th              7   \n",
       "4   28            Private  338409   Bachelors             13   \n",
       "\n",
       "        marital-status          occupation    relationship    race      sex  \\\n",
       "0        Never-married        Adm-clerical   Not-in-family   White     Male   \n",
       "1   Married-civ-spouse     Exec-managerial         Husband   White     Male   \n",
       "2             Divorced   Handlers-cleaners   Not-in-family   White     Male   \n",
       "3   Married-civ-spouse   Handlers-cleaners         Husband   Black     Male   \n",
       "4   Married-civ-spouse      Prof-specialty            Wife   Black   Female   \n",
       "\n",
       "   capital-gain  capital-loss  hours-per-week  native-country  target  \n",
       "0          2174             0              40   United-States   <=50K  \n",
       "1             0             0              13   United-States   <=50K  \n",
       "2             0             0              40   United-States   <=50K  \n",
       "3             0             0              40   United-States   <=50K  \n",
       "4             0             0              40            Cuba   <=50K  "
      ]
     },
     "execution_count": 101,
     "metadata": {},
     "output_type": "execute_result"
    }
   ],
   "source": [
    "dataset.head()"
   ]
  },
  {
   "cell_type": "markdown",
   "metadata": {},
   "source": [
    "### Exploring the dataset"
   ]
  },
  {
   "cell_type": "markdown",
   "metadata": {},
   "source": [
    "#### Histogram and Bar charts\n",
    "* getting a feel for the distribution of your data set ( continuous data).\n",
    "* A histogram shows the frequency on the vertical axis and the horizontal axis is another dimension. \n",
    "* gives distribution of data by forming bins along the range of the data and then drawing bars to show the number of observations that fall in each bin.\n",
    "* pyplot.hist function and pass in a list of values\n",
    "* matplotlib will take care of calculating the frequency distribution and plotting the data\n"
   ]
  },
  {
   "cell_type": "code",
   "execution_count": null,
   "metadata": {
    "collapsed": true
   },
   "outputs": [],
   "source": [
    "# A histogram represents the distribution of data by forming bins along the range of the data and \n",
    "# then drawing bars to show the number of observations that fall in each bin."
   ]
  },
  {
   "cell_type": "code",
   "execution_count": 116,
   "metadata": {},
   "outputs": [
    {
     "data": {
      "text/plain": [
       "(array([  736.,  2192.,  2317., 17735.,  3119.,  3877.,  1796.,   448.,\n",
       "          202.,   139.]),\n",
       " array([ 1. , 10.8, 20.6, 30.4, 40.2, 50. , 59.8, 69.6, 79.4, 89.2, 99. ]),\n",
       " <a list of 10 Patch objects>)"
      ]
     },
     "execution_count": 116,
     "metadata": {},
     "output_type": "execute_result"
    },
    {
     "data": {
      "image/png": "[encoded data removed]",
      "text/plain": [
       "<matplotlib.figure.Figure at 0x8bd1fa3358>"
      ]
     },
     "metadata": {},
     "output_type": "display_data"
    }
   ],
   "source": [
    "bins=10\n",
    "dataHoursPerWeek=[x.hours_per_week for x in data]\n",
    "plt.hist(dataHoursPerWeek,bins)"
   ]
  },
  {
   "cell_type": "markdown",
   "metadata": {},
   "source": [
    "#### In Pandas"
   ]
  },
  {
   "cell_type": "code",
   "execution_count": 111,
   "metadata": {},
   "outputs": [
    {
     "data": {
      "text/plain": [
       "<matplotlib.axes._subplots.AxesSubplot at 0x8bd1eecf28>"
      ]
     },
     "execution_count": 111,
     "metadata": {},
     "output_type": "execute_result"
    },
    {
     "data": {
      "image/png": "[encoded data removed]",
      "text/plain": [
       "<matplotlib.figure.Figure at 0x8bd1ec0828>"
      ]
     },
     "metadata": {},
     "output_type": "display_data"
    }
   ],
   "source": [
    "%matplotlib inline\n",
    "dataset[\"hours-per-week\"].hist()"
   ]
  },
  {
   "cell_type": "markdown",
   "metadata": {},
   "source": [
    "#### Using bar plot\n",
    "* First dd the frequency count ourselves\n",
    "* We will use the function collections.Counter class to create a dictionary-like object \n",
    "* The keys will be the education level from our data set, and values the number of times we see each of those levels occurring in the data. \n",
    "* Then, we simply plot the keys and values in our Counter object using the pyplot.bar function to get a simple \"histogram\"."
   ]
  },
  {
   "cell_type": "code",
   "execution_count": 155,
   "metadata": {},
   "outputs": [],
   "source": [
    "from collections import Counter"
   ]
  },
  {
   "cell_type": "code",
   "execution_count": 156,
   "metadata": {},
   "outputs": [],
   "source": [
    "# count the frequency for each education level.\n",
    "freqs = Counter(x.education_num for x in data)"
   ]
  },
  {
   "cell_type": "code",
   "execution_count": 159,
   "metadata": {},
   "outputs": [
    {
     "data": {
      "image/png": "[encoded data removed]",
      "text/plain": [
       "<matplotlib.figure.Figure at 0x8bcb061e10>"
      ]
     },
     "metadata": {},
     "output_type": "display_data"
    }
   ],
   "source": [
    "# Draw the bar chart/histogram\n",
    "plt.figure(figsize=(10, 4))\n",
    "#plt.bar(list(freqs.keys()), list(freqs.values()), width=1);\n",
    "\n",
    "#using *unpacking generalizations\n",
    "#Unpacking with * works with any object that is iterable and, \n",
    "#since dictionaries return their keys when iterated through, you can easily create a list by using it within a list literal.\n",
    "plt.bar([*freqs.keys()], [*freqs.values()], width=1); \n"
   ]
  },
  {
   "cell_type": "markdown",
   "metadata": {},
   "source": [
    "* See  interesting spikes in the number of people with a particular level of education, around levels 9, 10, and 13\n",
    "* We need to make more human readble. We have education column with names of the education.\n",
    "* We need to replace X axis this with names in education field"
   ]
  },
  {
   "cell_type": "code",
   "execution_count": null,
   "metadata": {},
   "outputs": [],
   "source": [
    "# To make it more read able"
   ]
  },
  {
   "cell_type": "markdown",
   "metadata": {},
   "source": [
    "* Match each name in education field up to its corresponding education level, \n",
    "* sorting the names based on the level\n",
    "* With list of ordered names,Create the histogram  and replace the tick marks along the x-axis with those names using the pyplot.xticks function."
   ]
  },
  {
   "cell_type": "code",
   "execution_count": 163,
   "metadata": {},
   "outputs": [
    {
     "data": {
      "text/plain": [
       "Counter({(13, 'Bachelors'): 5355,\n",
       "         (9, 'HS-grad'): 10501,\n",
       "         (7, '11th'): 1175,\n",
       "         (14, 'Masters'): 1723,\n",
       "         (5, '9th'): 514,\n",
       "         (10, 'Some-college'): 7291,\n",
       "         (12, 'Assoc-acdm'): 1067,\n",
       "         (11, 'Assoc-voc'): 1382,\n",
       "         (4, '7th-8th'): 646,\n",
       "         (16, 'Doctorate'): 413,\n",
       "         (15, 'Prof-school'): 576,\n",
       "         (3, '5th-6th'): 333,\n",
       "         (6, '10th'): 933,\n",
       "         (2, '1st-4th'): 168,\n",
       "         (1, 'Preschool'): 51,\n",
       "         (8, '12th'): 433})"
      ]
     },
     "execution_count": 163,
     "metadata": {},
     "output_type": "execute_result"
    }
   ],
   "source": [
    "# Calculate the frequency count for each education level. Our # keys in the Counter object will be a tuple of the form \n",
    "# (number, name) so it will be possible to sort the keys.\n",
    "freqs = Counter((r.education_num, r.education) for r in data)\n",
    "freqs"
   ]
  },
  {
   "cell_type": "code",
   "execution_count": 164,
   "metadata": {},
   "outputs": [
    {
     "data": {
      "text/plain": [
       "['Preschool',\n",
       " '1st-4th',\n",
       " '5th-6th',\n",
       " '7th-8th',\n",
       " '9th',\n",
       " '10th',\n",
       " '11th',\n",
       " '12th',\n",
       " 'HS-grad',\n",
       " 'Some-college',\n",
       " 'Assoc-voc',\n",
       " 'Assoc-acdm',\n",
       " 'Bachelors',\n",
       " 'Masters',\n",
       " 'Prof-school',\n",
       " 'Doctorate']"
      ]
     },
     "execution_count": 164,
     "metadata": {},
     "output_type": "execute_result"
    }
   ],
   "source": [
    "# Create a list of names sorted by the education level number\n",
    "# This is for our x-axis\n",
    "names = [y for x,y in sorted(freqs.keys())]\n",
    "names"
   ]
  },
  {
   "cell_type": "code",
   "execution_count": 165,
   "metadata": {},
   "outputs": [
    {
     "data": {
      "text/plain": [
       "[51,\n",
       " 168,\n",
       " 333,\n",
       " 646,\n",
       " 514,\n",
       " 933,\n",
       " 1175,\n",
       " 433,\n",
       " 10501,\n",
       " 7291,\n",
       " 1382,\n",
       " 1067,\n",
       " 5355,\n",
       " 1723,\n",
       " 576,\n",
       " 413]"
      ]
     },
     "execution_count": 165,
     "metadata": {},
     "output_type": "execute_result"
    }
   ],
   "source": [
    "# Create a list of counts in the same order as the names\n",
    "#This forms the y axis\n",
    "counts = [freqs[key] for key in sorted(freqs.keys())]\n",
    "counts"
   ]
  },
  {
   "cell_type": "code",
   "execution_count": 167,
   "metadata": {},
   "outputs": [
    {
     "data": {
      "text/plain": [
       "range(0, 16)"
      ]
     },
     "execution_count": 167,
     "metadata": {},
     "output_type": "execute_result"
    }
   ],
   "source": [
    "# create the x - cordinates. \n",
    "# we need to check the number of education levels and then prepare an axis\n",
    " \n",
    "x_axis=range(len(names))\n",
    "x_axis"
   ]
  },
  {
   "cell_type": "code",
   "execution_count": null,
   "metadata": {},
   "outputs": [],
   "source": [
    "#plot the graph"
   ]
  },
  {
   "cell_type": "code",
   "execution_count": 173,
   "metadata": {},
   "outputs": [
    {
     "data": {
      "image/png": "[encoded data removed]",
      "text/plain": [
       "<matplotlib.figure.Figure at 0x8bcafee5f8>"
      ]
     },
     "metadata": {},
     "output_type": "display_data"
    }
   ],
   "source": [
    "plt.figure(figsize=(10, 4))\n",
    "# Plot the counts at the given x\n",
    "plt.bar(x_axis, counts, width=1)\n",
    "plt.xticks(x_axis, names);\n",
    "# Change the x-axis ticks to the education level name. "
   ]
  },
  {
   "cell_type": "code",
   "execution_count": 194,
   "metadata": {},
   "outputs": [
    {
     "data": {
      "image/png": "[encoded data removed]",
      "text/plain": [
       "<matplotlib.figure.Figure at 0x8bcb0e2278>"
      ]
     },
     "metadata": {},
     "output_type": "display_data"
    }
   ],
   "source": [
    "\n",
    "#To make it  easier to read, we rotate the labels 90 degrees\n",
    "x_axis=range(len(names))\n",
    "plt.figure(figsize=(10, 4))\n",
    "# Plot the counts at the given x\n",
    "plt.bar(x_axis, counts, width=1)\n",
    "plt.xticks(x_axis, names, rotation=90);"
   ]
  },
  {
   "cell_type": "code",
   "execution_count": 202,
   "metadata": {},
   "outputs": [
    {
     "data": {
      "image/png": "[encoded data removed]",
      "text/plain": [
       "<matplotlib.figure.Figure at 0x8bd389a160>"
      ]
     },
     "metadata": {},
     "output_type": "display_data"
    }
   ],
   "source": [
    "#To make the label to come on left side, add -0.5 to each value in the left \n",
    "# array (we chose -0.5 because we set the width of each bar to 1 earlier).\n",
    "x_axis=np.arange(len(names))\n",
    "plt.figure(figsize=(12, 6))\n",
    "# Plot the counts at the given x\n",
    "plt.bar(x_axis, counts, width=1)\n",
    "plt.xticks(x_axis-0.5, names, rotation=90);\n",
    "# Add a title and labels to each of the axes\n",
    "plt.ylabel('Number of students');\n",
    "plt.xlabel('Education Level')\n",
    "plt.title('Count of students by Education Level', y=1.05);\n"
   ]
  },
  {
   "cell_type": "markdown",
   "metadata": {},
   "source": [
    "#### Scatter Plot\n",
    "* we can plot two different variables in our data set against one another. Doing so allows us to visually see the relationship, should one exist, between the two variables. \n",
    "* check the number of hours per week\n",
    "* See how they are related to education level"
   ]
  },
  {
   "cell_type": "code",
   "execution_count": 212,
   "metadata": {},
   "outputs": [],
   "source": [
    "# Create a list of the average hours/week worked for each by education level\n",
    "avgs = []\n",
    "for name in names:\n",
    "    # Get the total number of hours/week for the current education level\n",
    "    hours_per_week = [r.hours_per_week for r in data if r.education == name]\n",
    "   # print (hours_per_week)\n",
    "    avgs.append(np.average(hours_per_week))"
   ]
  },
  {
   "cell_type": "code",
   "execution_count": 215,
   "metadata": {},
   "outputs": [
    {
     "data": {
      "text/plain": [
       "[36.64705882352941,\n",
       " 38.25595238095238,\n",
       " 38.8978978978979,\n",
       " 39.36687306501548,\n",
       " 38.04474708171206,\n",
       " 37.052518756698824,\n",
       " 33.92595744680851,\n",
       " 35.78060046189376,\n",
       " 40.575373773926295,\n",
       " 38.85228363736113,\n",
       " 41.61070911722142,\n",
       " 40.504217432052485,\n",
       " 42.614005602240894,\n",
       " 43.83633197910621,\n",
       " 47.42534722222222,\n",
       " 46.973365617433416]"
      ]
     },
     "execution_count": 215,
     "metadata": {},
     "output_type": "execute_result"
    }
   ],
   "source": [
    "avgs"
   ]
  },
  {
   "cell_type": "code",
   "execution_count": 214,
   "metadata": {},
   "outputs": [],
   "source": [
    "#Try using list comprehension\n",
    "#avgHoursPerWeek=[]\n",
    "#avgHoursPerWeek=[[r.hours_per_week for r in data if r.education==name] for name in names ]"
   ]
  },
  {
   "cell_type": "code",
   "execution_count": 213,
   "metadata": {},
   "outputs": [],
   "source": [
    "#avgHoursPerWeek"
   ]
  },
  {
   "cell_type": "code",
   "execution_count": 217,
   "metadata": {},
   "outputs": [
    {
     "data": {
      "text/plain": [
       "array([ 1,  2,  3,  4,  5,  6,  7,  8,  9, 10, 11, 12, 13, 14, 15, 16])"
      ]
     },
     "execution_count": 217,
     "metadata": {},
     "output_type": "execute_result"
    }
   ],
   "source": [
    "# Create a list of x values\n",
    "# range starts from 1 here\n",
    "xs = np.arange(1, len(names) + 1)\n",
    "xs"
   ]
  },
  {
   "cell_type": "code",
   "execution_count": 223,
   "metadata": {},
   "outputs": [
    {
     "data": {
      "text/plain": [
       "<matplotlib.collections.PathCollection at 0x8bcb2bb940>"
      ]
     },
     "execution_count": 223,
     "metadata": {},
     "output_type": "execute_result"
    },
    {
     "data": {
      "image/png": "[encoded data removed]",
      "text/plain": [
       "<matplotlib.figure.Figure at 0x8bd386cf60>"
      ]
     },
     "metadata": {},
     "output_type": "display_data"
    }
   ],
   "source": [
    "# Create a scatter plot of the data\n",
    "plt.figure(figsize=(10,6))\n",
    "plt.scatter(xs,avgs)\n"
   ]
  },
  {
   "cell_type": "code",
   "execution_count": 245,
   "metadata": {},
   "outputs": [
    {
     "data": {
      "text/plain": [
       "<matplotlib.text.Text at 0x8bcb1ffd68>"
      ]
     },
     "execution_count": 245,
     "metadata": {},
     "output_type": "execute_result"
    },
    {
     "data": {
      "image/png": "[encoded data removed]",
      "text/plain": [
       "<matplotlib.figure.Figure at 0x8bd37fc6d8>"
      ]
     },
     "metadata": {},
     "output_type": "display_data"
    }
   ],
   "source": [
    "# Create a scatter plot of the data\n",
    "plt.figure(figsize=(10,6))\n",
    "plt.scatter(xs,avgs)\n",
    "# Tighten the graph up by reducing the margins on the x-axis\n",
    "plt.margins(x=0.05)\n",
    "plt.ylabel('Avg. Hours of Work per Week')\n",
    "plt.xlabel('Education Level')\n",
    "plt.title('Avg. Hours of Work per Week by Education Level', y=1.05)"
   ]
  },
  {
   "cell_type": "markdown",
   "metadata": {},
   "source": [
    "#### Draw some linear Regression\n",
    "* Linear Regression means you're trying to find a line that fits the data in the best possible way. \n",
    "* So, imagine you had the scatter plot above on a piece of graph paper, and you took a ruler and drew a line through that scatter plot in such a way that the sum of the distances between your line and every point in the data set was as small as possible. \n",
    "* Reasons\n",
    "    * The line we produce gives us a fairly intuitive view into the relationship of the variables in our data, \n",
    "    * It gives us an equation that we can use to roughly predict the value of the dependent variable, the variable on the y-axis, given a value for the independent variable\n",
    "\n",
    "* We use numpy.polyfit for this\n",
    "* Note Pandas and Matplot are both dependent on Numpy\n",
    "* numpy.polyfit\n",
    "    * The polyfit function takes two arrays---x values in the first, and y values in the second---and the degree of the equation that we're trying to fit, and returns the slope and y-intercept for the best fit line.\n",
    "    * The degree of an equation is simply the largest exponent in that equation. For linear regression it is 1\n",
    "* We have x values, we need create a list of y values by multiplying each x value in our list by the slope of our line and adding the y-intercept to get the corresponding y value."
   ]
  },
  {
   "cell_type": "code",
   "execution_count": 248,
   "metadata": {},
   "outputs": [
    {
     "name": "stdout",
     "output_type": "stream",
     "text": [
      "0.6135657334001113\n",
      "34.80739378460358\n"
     ]
    },
    {
     "data": {
      "image/png": "[encoded data removed]",
      "text/plain": [
       "<matplotlib.figure.Figure at 0x8bcafdb3c8>"
      ]
     },
     "metadata": {},
     "output_type": "display_data"
    }
   ],
   "source": [
    "# Create a scatter plot of the data\n",
    "plt.figure(figsize=(10,6))\n",
    "plt.scatter(xs,avgs)\n",
    "# Tighten the graph up by reducing the margins on the x-axis\n",
    "plt.margins(x=0.05)\n",
    "plt.ylabel('Avg. Hours of Work per Week')\n",
    "plt.xlabel('Education Level')\n",
    "plt.title('Avg. Hours of Work per Week by Education Level', y=1.05)\n",
    "m, b = np.polyfit(xs, avgs, 1)\n",
    "print (m)\n",
    "print (b)\n",
    "plt.plot(xs, m*xs+b, 'r--');"
   ]
  },
  {
   "cell_type": "markdown",
   "metadata": {},
   "source": [
    "* With the best fit line drawn on our scatter plot, we can definitely see a positive trend in the data. more education you have, the more you work, on average\n",
    "* Analyze why is this, is it that the more education you have , the more job opp or the more educated you are , the more work holic you are \n",
    "* The visualization help asking new questions and form a hypothesis"
   ]
  },
  {
   "cell_type": "code",
   "execution_count": null,
   "metadata": {},
   "outputs": [],
   "source": []
  }
 ],
 "metadata": {
  "kernelspec": {
   "display_name": "Python 3",
   "language": "python",
   "name": "python3"
  },
  "language_info": {
   "codemirror_mode": {
    "name": "ipython",
    "version": 3
   },
   "file_extension": ".py",
   "mimetype": "text/x-python",
   "name": "python",
   "nbconvert_exporter": "python",
   "pygments_lexer": "ipython3",
   "version": "3.6.0"
  }
 },
 "nbformat": 4,
 "nbformat_minor": 2
}
