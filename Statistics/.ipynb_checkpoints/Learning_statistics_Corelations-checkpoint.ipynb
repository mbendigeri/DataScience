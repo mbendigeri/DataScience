{
 "cells": [
  {
   "cell_type": "markdown",
   "metadata": {},
   "source": [
    "#### http://www.sthda.com/english/wiki/correlation-test-between-two-variables-in-r"
   ]
  },
  {
   "cell_type": "markdown",
   "metadata": {},
   "source": [
    "### What is correlation test?"
   ]
  },
  {
   "cell_type": "code",
   "execution_count": 1,
   "metadata": {
    "collapsed": true
   },
   "outputs": [],
   "source": [
    "# Correlation test is used to evaluate the association between two or more variables.\n",
    "# A correlation expresses the strength of linkage or co-occurrence between to variables in a single value between -1 and +1.  \n",
    "# This value that measures the strength of linkage is called correlation coefficient, \n",
    "# This  is represented typically as the letter r."
   ]
  },
  {
   "cell_type": "code",
   "execution_count": 3,
   "metadata": {
    "collapsed": true
   },
   "outputs": [],
   "source": [
    "#Example\n",
    "# For instance, if we are interested to know whether there is a relationship between the heights of fathers and sons, \n",
    "#a correlation coefficient can be calculated to answer this question.\n",
    "\n",
    "#If there is no relationship between the two variables (father and son heights), \n",
    "#the average height of son should be the same regardless of the height of the fathers and vice versa."
   ]
  },
  {
   "cell_type": "markdown",
   "metadata": {},
   "source": [
    "### Methods of Correlation"
   ]
  },
  {
   "cell_type": "code",
   "execution_count": 4,
   "metadata": {
    "collapsed": true
   },
   "outputs": [],
   "source": [
    "#There are different methods to perform correlation analysis:\n",
    "\n",
    "#Pearson correlation (r), \n",
    "# Kendall tau \n",
    "# Spearman rho,\n",
    "\n",
    "# \n",
    "\n",
    "#Kendall tau and Spearman rho, which are rank-based correlation coefficients (non-parametric)"
   ]
  },
  {
   "cell_type": "markdown",
   "metadata": {},
   "source": [
    "### Pearson correlation\n"
   ]
  },
  {
   "cell_type": "markdown",
   "metadata": {},
   "source": [
    "#### https://machinelearningmastery.com/visualize-machine-learning-data-python-pandas/"
   ]
  },
  {
   "cell_type": "code",
   "execution_count": 5,
   "metadata": {
    "collapsed": true
   },
   "outputs": [],
   "source": [
    "# measures a linear dependence between two variables (x and y). \n",
    "# It’s also known as a parametric correlation test because it depends to the distribution of the data. \n",
    "# It can be used only when x and y are from normal distribution. \n",
    "# The plot of y = f(x) is named the linear regression curve.\n",
    "# It works when there is linear relation ship between two variables\n",
    "# correlation coefficient between two continuous-level variables\n",
    "# correlation coefficient is expressed as r "
   ]
  },
  {
   "cell_type": "code",
   "execution_count": 6,
   "metadata": {
    "collapsed": true
   },
   "outputs": [],
   "source": [
    "# The first step in studying the relationship between two continuous variables is to draw a scatter plot of the variables to check for linearity. \n",
    "# The correlation coefficient should not be calculated if the relationship is not linear."
   ]
  },
  {
   "cell_type": "code",
   "execution_count": 7,
   "metadata": {
    "collapsed": true
   },
   "outputs": [],
   "source": [
    "# A positive r value expresses a positive relationship between the two variables (the larger A, the larger B)\n",
    "# Positive correlation indicates that both variables increase or decrease together\n",
    "# while a negative r value indicates a negative relationship (the larger A, the smaller B). \n",
    "# i.e negative correlation indicates that as one variable increases the other decreases, and vice versa.\n",
    "# A correlation coefficient of zero indicates no relationship between the variables at all. "
   ]
  },
  {
   "cell_type": "markdown",
   "metadata": {},
   "source": [
    "### Kendall rank correlation coefficient"
   ]
  },
  {
   "cell_type": "code",
   "execution_count": null,
   "metadata": {
    "collapsed": true
   },
   "outputs": [],
   "source": [
    "# The Kendall rank correlation coefficient or Kendall’s tau statistic is used to estimate a rank-based measure of association. "
   ]
  },
  {
   "cell_type": "code",
   "execution_count": null,
   "metadata": {
    "collapsed": true
   },
   "outputs": [],
   "source": []
  },
  {
   "cell_type": "code",
   "execution_count": null,
   "metadata": {
    "collapsed": true
   },
   "outputs": [],
   "source": []
  },
  {
   "cell_type": "markdown",
   "metadata": {},
   "source": [
    "### Spearman rank correlation coefficient"
   ]
  },
  {
   "cell_type": "code",
   "execution_count": 13,
   "metadata": {
    "collapsed": true
   },
   "outputs": [],
   "source": [
    "# Spearman’s rho statistic is also used to estimate a rank-based measure of association. \n",
    "# This test may be used if the data do not come from a bivariate normal distribution."
   ]
  },
  {
   "cell_type": "markdown",
   "metadata": {},
   "source": [
    "### Preleminary test to check the test assumptions"
   ]
  },
  {
   "cell_type": "code",
   "execution_count": 9,
   "metadata": {
    "collapsed": true
   },
   "outputs": [],
   "source": [
    "#Is the covariation linear? \n",
    "    # Scatter plot should show a linear relationship \n",
    "    # In the situation where the scatter plots show curved patterns,\n",
    "    # we are dealing with nonlinear association between the two variables."
   ]
  },
  {
   "cell_type": "code",
   "execution_count": 10,
   "metadata": {
    "collapsed": true
   },
   "outputs": [],
   "source": [
    "# Are the data from each of the 2 variables (x, y) follow a normal distribution?\n",
    "# use Null hypothesis: the data are normally distributed\n",
    "# Alternative hypothesis: the data are not normally distributed"
   ]
  },
  {
   "cell_type": "code",
   "execution_count": 11,
   "metadata": {
    "collapsed": true
   },
   "outputs": [],
   "source": [
    "# Visual inspection of the data normality using Q-Q plots (quantile-quantile plots)."
   ]
  },
  {
   "cell_type": "markdown",
   "metadata": {},
   "source": [
    "### important"
   ]
  },
  {
   "cell_type": "code",
   "execution_count": 15,
   "metadata": {
    "collapsed": true
   },
   "outputs": [],
   "source": [
    "# Another alternative to correlation matrix using a heatmap\n",
    "# to heatmps alternative is to use the heatmap function in seaborn to plot the covariance."
   ]
  },
  {
   "cell_type": "code",
   "execution_count": 17,
   "metadata": {
    "collapsed": false
   },
   "outputs": [
    {
     "ename": "ModuleNotFoundError",
     "evalue": "No module named 'nsepy'",
     "output_type": "error",
     "traceback": [
      "\u001b[0;31m---------------------------------------------------------------------------\u001b[0m",
      "\u001b[0;31mModuleNotFoundError\u001b[0m                       Traceback (most recent call last)",
      "\u001b[0;32m<ipython-input-17-317c56991a93>\u001b[0m in \u001b[0;36m<module>\u001b[0;34m()\u001b[0m\n\u001b[1;32m      1\u001b[0m \u001b[1;31m#Import Python Packages\u001b[0m\u001b[1;33m\u001b[0m\u001b[1;33m\u001b[0m\u001b[0m\n\u001b[0;32m----> 2\u001b[0;31m \u001b[1;32mimport\u001b[0m \u001b[0mnsepy\u001b[0m\u001b[1;33m\u001b[0m\u001b[0m\n\u001b[0m\u001b[1;32m      3\u001b[0m \u001b[1;32mfrom\u001b[0m \u001b[0mnsepy\u001b[0m\u001b[1;33m.\u001b[0m\u001b[0marchives\u001b[0m \u001b[1;32mimport\u001b[0m \u001b[0mget_price_history\u001b[0m\u001b[1;33m\u001b[0m\u001b[0m\n\u001b[1;32m      4\u001b[0m \u001b[1;32mfrom\u001b[0m \u001b[0mdatetime\u001b[0m \u001b[1;32mimport\u001b[0m \u001b[0mdate\u001b[0m\u001b[1;33m\u001b[0m\u001b[0m\n\u001b[1;32m      5\u001b[0m \u001b[1;32mimport\u001b[0m \u001b[0mpandas\u001b[0m \u001b[1;32mas\u001b[0m \u001b[0mpd\u001b[0m\u001b[1;33m\u001b[0m\u001b[0m\n",
      "\u001b[0;31mModuleNotFoundError\u001b[0m: No module named 'nsepy'"
     ]
    }
   ],
   "source": []
  },
  {
   "cell_type": "code",
   "execution_count": null,
   "metadata": {
    "collapsed": true
   },
   "outputs": [],
   "source": []
  }
 ],
 "metadata": {
  "kernelspec": {
   "display_name": "Python 3",
   "language": "python",
   "name": "python3"
  },
  "language_info": {
   "codemirror_mode": {
    "name": "ipython",
    "version": 3
   },
   "file_extension": ".py",
   "mimetype": "text/x-python",
   "name": "python",
   "nbconvert_exporter": "python",
   "pygments_lexer": "ipython3",
   "version": "3.6.0"
  }
 },
 "nbformat": 4,
 "nbformat_minor": 2
}
