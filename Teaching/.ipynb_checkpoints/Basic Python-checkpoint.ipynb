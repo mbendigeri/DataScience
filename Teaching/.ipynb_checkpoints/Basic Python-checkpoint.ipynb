{
 "cells": [
  {
   "cell_type": "markdown",
   "metadata": {},
   "source": [
    "## Intro\n",
    "\n",
    "Hello Word"
   ]
  },
  {
   "cell_type": "code",
   "execution_count": 2,
   "metadata": {},
   "outputs": [
    {
     "name": "stdout",
     "output_type": "stream",
     "text": [
      "Hello Basavaraj, Arvind\n"
     ]
    }
   ],
   "source": [
    "print ('Hello Basavaraj, Arvind') "
   ]
  },
  {
   "cell_type": "markdown",
   "metadata": {},
   "source": [
    "* Shift+ Enter run\n",
    "* Esc Go out of cell\n",
    "* a , creates a cell above, \n",
    "* b, create a cell below\n",
    "* Enter , enters the cell\n",
    "* shift tab , code completion\n",
    "* c - Copy cell\n",
    "* v - Paste cell below\n",
    "* y - Change cell type to code\n",
    "* dd - Delete a cell"
   ]
  },
  {
   "cell_type": "markdown",
   "metadata": {},
   "source": [
    "## Cell Types\n",
    "\n",
    "* Code\n",
    "* Markdown"
   ]
  },
  {
   "cell_type": "markdown",
   "metadata": {},
   "source": [
    "### Markdown\n",
    "*Italic*\n",
    "\n",
    "**bold**\n",
    "\n",
    "``monospaced text``"
   ]
  },
  {
   "cell_type": "markdown",
   "metadata": {},
   "source": [
    "Header"
   ]
  },
  {
   "cell_type": "code",
   "execution_count": 65,
   "metadata": {},
   "outputs": [],
   "source": [
    "# H1\n",
    "## H2\n",
    "### H3"
   ]
  },
  {
   "cell_type": "markdown",
   "metadata": {},
   "source": [
    "List"
   ]
  },
  {
   "cell_type": "code",
   "execution_count": 66,
   "metadata": {},
   "outputs": [],
   "source": [
    "# First item\n",
    "#Second item"
   ]
  },
  {
   "cell_type": "markdown",
   "metadata": {},
   "source": [
    "## Magic Commands\n",
    "\n",
    "control the behavior of IPython itself, plus a lot of system-type features\n",
    "* How to take input from the user\n",
    "* How to know the execution time of a command or multiple lines of commands\n",
    "* How to address copy paste it issues\n",
    "\n",
    "There are two kinds of magics, \n",
    "* Line-oriented and cell-oriented."
   ]
  },
  {
   "cell_type": "markdown",
   "metadata": {},
   "source": [
    "### Line Magic\n",
    "Line magics are prefixed with the % character and work much like OS command-line calls: they get as an argument the rest of the line, where arguments are passed without parentheses or quotes.\n"
   ]
  },
  {
   "cell_type": "code",
   "execution_count": 3,
   "metadata": {},
   "outputs": [
    {
     "name": "stdout",
     "output_type": "stream",
     "text": [
      "Hello World\n",
      "Wall time: 0 ns\n"
     ]
    }
   ],
   "source": [
    "%time print('Hello World')"
   ]
  },
  {
   "cell_type": "code",
   "execution_count": 1,
   "metadata": {},
   "outputs": [
    {
     "name": "stdout",
     "output_type": "stream",
     "text": [
      "412 µs ± 11 µs per loop (mean ± std. dev. of 7 runs, 1000 loops each)\n"
     ]
    }
   ],
   "source": [
    " %timeit L = [n ** 2 for n in range(1000)]"
   ]
  },
  {
   "cell_type": "markdown",
   "metadata": {},
   "source": [
    "### Cell Magic\n",
    "\n",
    "* Cell magics are prefixed with a double %%, \n",
    "* The rest of cell will be taken as argument\n",
    "\n",
    "* %% time- how long it takes to run the cell\n",
    "\n",
    "* %%!- run the shell command\n",
    "\n",
    "* %matplotlib inline - Show the plot in the browser\n",
    "\n"
   ]
  },
  {
   "cell_type": "code",
   "execution_count": 2,
   "metadata": {},
   "outputs": [
    {
     "name": "stdout",
     "output_type": "stream",
     "text": [
      "Hello World\n",
      "Wall time: 1 ms\n"
     ]
    }
   ],
   "source": [
    "%%time \n",
    "print('Hello World')\n"
   ]
  },
  {
   "cell_type": "code",
   "execution_count": 1,
   "metadata": {},
   "outputs": [
    {
     "name": "stdout",
     "output_type": "stream",
     "text": [
      "469 µs ± 11.3 µs per loop (mean ± std. dev. of 7 runs, 1000 loops each)\n"
     ]
    }
   ],
   "source": [
    "%%timeit\n",
    "    L = []\n",
    "    for n in range(1000):\n",
    "        L.append(n ** 2)"
   ]
  },
  {
   "cell_type": "markdown",
   "metadata": {},
   "source": [
    "**List of all magic commands**"
   ]
  },
  {
   "cell_type": "code",
   "execution_count": 14,
   "metadata": {},
   "outputs": [
    {
     "data": {
      "application/json": {
       "cell": {
        "!": "OSMagics",
        "HTML": "Other",
        "SVG": "Other",
        "bash": "Other",
        "capture": "ExecutionMagics",
        "cmd": "Other",
        "debug": "ExecutionMagics",
        "file": "Other",
        "html": "DisplayMagics",
        "javascript": "DisplayMagics",
        "js": "DisplayMagics",
        "latex": "DisplayMagics",
        "markdown": "DisplayMagics",
        "perl": "Other",
        "prun": "ExecutionMagics",
        "pypy": "Other",
        "python": "Other",
        "python2": "Other",
        "python3": "Other",
        "ruby": "Other",
        "script": "ScriptMagics",
        "sh": "Other",
        "svg": "DisplayMagics",
        "sx": "OSMagics",
        "system": "OSMagics",
        "time": "ExecutionMagics",
        "timeit": "ExecutionMagics",
        "writefile": "OSMagics"
       },
       "line": {
        "alias": "OSMagics",
        "alias_magic": "BasicMagics",
        "autocall": "AutoMagics",
        "automagic": "AutoMagics",
        "autosave": "KernelMagics",
        "bookmark": "OSMagics",
        "cd": "OSMagics",
        "clear": "KernelMagics",
        "cls": "KernelMagics",
        "colors": "BasicMagics",
        "config": "ConfigMagics",
        "connect_info": "KernelMagics",
        "copy": "Other",
        "ddir": "Other",
        "debug": "ExecutionMagics",
        "dhist": "OSMagics",
        "dirs": "OSMagics",
        "doctest_mode": "BasicMagics",
        "echo": "Other",
        "ed": "Other",
        "edit": "KernelMagics",
        "env": "OSMagics",
        "gui": "BasicMagics",
        "hist": "Other",
        "history": "HistoryMagics",
        "killbgscripts": "ScriptMagics",
        "ldir": "Other",
        "less": "KernelMagics",
        "load": "CodeMagics",
        "load_ext": "ExtensionMagics",
        "loadpy": "CodeMagics",
        "logoff": "LoggingMagics",
        "logon": "LoggingMagics",
        "logstart": "LoggingMagics",
        "logstate": "LoggingMagics",
        "logstop": "LoggingMagics",
        "ls": "Other",
        "lsmagic": "BasicMagics",
        "macro": "ExecutionMagics",
        "magic": "BasicMagics",
        "matplotlib": "PylabMagics",
        "mkdir": "Other",
        "more": "KernelMagics",
        "notebook": "BasicMagics",
        "page": "BasicMagics",
        "pastebin": "CodeMagics",
        "pdb": "ExecutionMagics",
        "pdef": "NamespaceMagics",
        "pdoc": "NamespaceMagics",
        "pfile": "NamespaceMagics",
        "pinfo": "NamespaceMagics",
        "pinfo2": "NamespaceMagics",
        "pip": "BasicMagics",
        "popd": "OSMagics",
        "pprint": "BasicMagics",
        "precision": "BasicMagics",
        "profile": "BasicMagics",
        "prun": "ExecutionMagics",
        "psearch": "NamespaceMagics",
        "psource": "NamespaceMagics",
        "pushd": "OSMagics",
        "pwd": "OSMagics",
        "pycat": "OSMagics",
        "pylab": "PylabMagics",
        "qtconsole": "KernelMagics",
        "quickref": "BasicMagics",
        "recall": "HistoryMagics",
        "rehashx": "OSMagics",
        "reload_ext": "ExtensionMagics",
        "ren": "Other",
        "rep": "Other",
        "rerun": "HistoryMagics",
        "reset": "NamespaceMagics",
        "reset_selective": "NamespaceMagics",
        "rmdir": "Other",
        "run": "ExecutionMagics",
        "save": "CodeMagics",
        "sc": "OSMagics",
        "set_env": "OSMagics",
        "store": "StoreMagics",
        "sx": "OSMagics",
        "system": "OSMagics",
        "tb": "ExecutionMagics",
        "time": "ExecutionMagics",
        "timeit": "ExecutionMagics",
        "unalias": "OSMagics",
        "unload_ext": "ExtensionMagics",
        "who": "NamespaceMagics",
        "who_ls": "NamespaceMagics",
        "whos": "NamespaceMagics",
        "xdel": "NamespaceMagics",
        "xmode": "BasicMagics"
       }
      },
      "text/plain": [
       "Available line magics:\n",
       "%alias  %alias_magic  %autocall  %automagic  %autosave  %bookmark  %cd  %clear  %cls  %colors  %config  %connect_info  %copy  %ddir  %debug  %dhist  %dirs  %doctest_mode  %echo  %ed  %edit  %env  %gui  %hist  %history  %killbgscripts  %ldir  %less  %load  %load_ext  %loadpy  %logoff  %logon  %logstart  %logstate  %logstop  %ls  %lsmagic  %macro  %magic  %matplotlib  %mkdir  %more  %notebook  %page  %pastebin  %pdb  %pdef  %pdoc  %pfile  %pinfo  %pinfo2  %popd  %pprint  %precision  %profile  %prun  %psearch  %psource  %pushd  %pwd  %pycat  %pylab  %qtconsole  %quickref  %recall  %rehashx  %reload_ext  %ren  %rep  %rerun  %reset  %reset_selective  %rmdir  %run  %save  %sc  %set_env  %store  %sx  %system  %tb  %time  %timeit  %unalias  %unload_ext  %who  %who_ls  %whos  %xdel  %xmode\n",
       "\n",
       "Available cell magics:\n",
       "%%!  %%HTML  %%SVG  %%bash  %%capture  %%cmd  %%debug  %%file  %%html  %%javascript  %%js  %%latex  %%markdown  %%perl  %%prun  %%pypy  %%python  %%python2  %%python3  %%ruby  %%script  %%sh  %%svg  %%sx  %%system  %%time  %%timeit  %%writefile\n",
       "\n",
       "Automagic is ON, % prefix IS NOT needed for line magics."
      ]
     },
     "execution_count": 14,
     "metadata": {},
     "output_type": "execute_result"
    }
   ],
   "source": [
    "%lsmagic"
   ]
  },
  {
   "cell_type": "markdown",
   "metadata": {},
   "source": [
    "### Timing and Profiling in IPython\n",
    "* %time & %timeit: See how long a script takes to run (one time, or averaged over a bunch of runs).\n",
    "* %prun: See how long it took each function in a script to run.\n",
    "* %lprun: See how long it took each line in a function to run.\n",
    "* %mprun & %memit: See how much memory a script uses (line-by-line, or averaged over a bunch of runs)."
   ]
  },
  {
   "cell_type": "markdown",
   "metadata": {},
   "source": [
    "**%prun**- See how long it took each function in a script to run.\n",
    "prun magic command is available by default"
   ]
  },
  {
   "cell_type": "code",
   "execution_count": 3,
   "metadata": {},
   "outputs": [],
   "source": [
    "from time import sleep\n",
    "def foo(): sleep(1)\n",
    "def bar(): sleep(2)\n",
    "def baz(): foo(), bar()"
   ]
  },
  {
   "cell_type": "code",
   "execution_count": 4,
   "metadata": {},
   "outputs": [
    {
     "name": "stdout",
     "output_type": "stream",
     "text": [
      " "
     ]
    }
   ],
   "source": [
    "%prun baz()"
   ]
  },
  {
   "cell_type": "markdown",
   "metadata": {},
   "source": [
    "**%lprun- code performance with a line-by-line report**\n",
    "\n",
    "For more fine-grained analysis of code performance with a line-by-line report. We would need a external module called line_profiler.\n",
    "\n",
    "line_profile is C extension for Python(Cython)\n",
    "\n",
    "Cython- \n",
    "\n",
    "To make Python run code faster\n",
    "\n",
    "Interface with C and C++ libraries\n",
    "\n",
    "Some tasks in python are very slow than compared than the natively compiled code\n",
    "\n",
    "write a C extension for python or use a existing C extension\n",
    "\n",
    "Numpy is an high performance C extension for python\n",
    "\n",
    "\n",
    "See how long it took each line in a function to run.\n",
    "\n",
    "Install Microsoft Build Tools for Visual Studio 2017.(https://visualstudio.microsoft.com/thank-you-downloading-visual-studio/?sku=BuildTools&rel=15)"
   ]
  },
  {
   "cell_type": "code",
   "execution_count": 50,
   "metadata": {},
   "outputs": [
    {
     "name": "stdout",
     "output_type": "stream",
     "text": [
      "Collecting line_profiler\n",
      "  Downloading https://files.pythonhosted.org/packages/14/fc/ecf4e238bb601ff829068e5a72cd1bd67b0ee0ae379db172eb6a0779c6b6/line_profiler-2.1.2.tar.gz (83kB)\n",
      "Requirement already satisfied: IPython>=0.13 in d:\\mallikarjun\\upxacademylearning\\anaconda\\lib\\site-packages (from line_profiler)\n",
      "Requirement already satisfied: simplegeneric>0.8 in d:\\mallikarjun\\upxacademylearning\\anaconda\\lib\\site-packages (from IPython>=0.13->line_profiler)\n",
      "Requirement already satisfied: prompt-toolkit<2.0.0,>=1.0.15 in d:\\mallikarjun\\upxacademylearning\\anaconda\\lib\\site-packages (from IPython>=0.13->line_profiler)\n",
      "Requirement already satisfied: traitlets>=4.2 in d:\\mallikarjun\\upxacademylearning\\anaconda\\lib\\site-packages (from IPython>=0.13->line_profiler)\n",
      "Requirement already satisfied: pickleshare in d:\\mallikarjun\\upxacademylearning\\anaconda\\lib\\site-packages (from IPython>=0.13->line_profiler)\n",
      "Requirement already satisfied: jedi>=0.10 in d:\\mallikarjun\\upxacademylearning\\anaconda\\lib\\site-packages (from IPython>=0.13->line_profiler)\n",
      "Requirement already satisfied: pygments in d:\\mallikarjun\\upxacademylearning\\anaconda\\lib\\site-packages (from IPython>=0.13->line_profiler)\n",
      "Requirement already satisfied: backcall in d:\\mallikarjun\\upxacademylearning\\anaconda\\lib\\site-packages (from IPython>=0.13->line_profiler)\n",
      "Requirement already satisfied: setuptools>=18.5 in d:\\mallikarjun\\upxacademylearning\\anaconda\\lib\\site-packages (from IPython>=0.13->line_profiler)\n",
      "Requirement already satisfied: colorama; sys_platform == \"win32\" in d:\\mallikarjun\\upxacademylearning\\anaconda\\lib\\site-packages (from IPython>=0.13->line_profiler)\n",
      "Requirement already satisfied: decorator in d:\\mallikarjun\\upxacademylearning\\anaconda\\lib\\site-packages (from IPython>=0.13->line_profiler)\n",
      "Requirement already satisfied: six>=1.9.0 in d:\\mallikarjun\\upxacademylearning\\anaconda\\lib\\site-packages (from prompt-toolkit<2.0.0,>=1.0.15->IPython>=0.13->line_profiler)\n",
      "Requirement already satisfied: wcwidth in d:\\mallikarjun\\upxacademylearning\\anaconda\\lib\\site-packages (from prompt-toolkit<2.0.0,>=1.0.15->IPython>=0.13->line_profiler)\n",
      "Requirement already satisfied: ipython-genutils in d:\\mallikarjun\\upxacademylearning\\anaconda\\lib\\site-packages (from traitlets>=4.2->IPython>=0.13->line_profiler)\n",
      "Requirement already satisfied: parso>=0.3.0 in d:\\mallikarjun\\upxacademylearning\\anaconda\\lib\\site-packages (from jedi>=0.10->IPython>=0.13->line_profiler)\n",
      "Building wheels for collected packages: line-profiler\n",
      "  Running setup.py bdist_wheel for line-profiler: started\n",
      "  Running setup.py bdist_wheel for line-profiler: finished with status 'error'\n",
      "  Complete output from command D:\\Mallikarjun\\UPXAcademylearning\\Anaconda\\python.exe -u -c \"import setuptools, tokenize;__file__='C:\\\\Users\\\\ee206984\\\\AppData\\\\Local\\\\Temp\\\\pip-build-cg7l0_40\\\\line-profiler\\\\setup.py';f=getattr(tokenize, 'open', open)(__file__);code=f.read().replace('\\r\\n', '\\n');f.close();exec(compile(code, __file__, 'exec'))\" bdist_wheel -d C:\\Users\\ee206984\\AppData\\Local\\Temp\\tmp87059vm8pip-wheel- --python-tag cp36:\n",
      "  running bdist_wheel\n",
      "  running build\n",
      "  running build_py\n",
      "  creating build\n",
      "  creating build\\lib.win-amd64-3.6\n",
      "  copying line_profiler.py -> build\\lib.win-amd64-3.6\n",
      "  copying kernprof.py -> build\\lib.win-amd64-3.6\n",
      "  copying line_profiler_py35.py -> build\\lib.win-amd64-3.6\n",
      "  running build_ext\n",
      "  skipping '_line_profiler.c' Cython extension (up-to-date)\n",
      "  building '_line_profiler' extension\n",
      "  error: Microsoft Visual C++ 14.0 is required. Get it with \"Microsoft Visual C++ Build Tools\": http://landinghub.visualstudio.com/visual-cpp-build-tools\n",
      "  \n",
      "  ----------------------------------------\n",
      "  Running setup.py clean for line-profiler\n",
      "Failed to build line-profiler\n",
      "Installing collected packages: line-profiler\n",
      "  Running setup.py install for line-profiler: started\n",
      "    Running setup.py install for line-profiler: finished with status 'error'\n",
      "    Complete output from command D:\\Mallikarjun\\UPXAcademylearning\\Anaconda\\python.exe -u -c \"import setuptools, tokenize;__file__='C:\\\\Users\\\\ee206984\\\\AppData\\\\Local\\\\Temp\\\\pip-build-cg7l0_40\\\\line-profiler\\\\setup.py';f=getattr(tokenize, 'open', open)(__file__);code=f.read().replace('\\r\\n', '\\n');f.close();exec(compile(code, __file__, 'exec'))\" install --record C:\\Users\\ee206984\\AppData\\Local\\Temp\\pip-p9vfia3x-record\\install-record.txt --single-version-externally-managed --compile:\n",
      "    running install\n",
      "    running build\n",
      "    running build_py\n",
      "    creating build\n",
      "    creating build\\lib.win-amd64-3.6\n",
      "    copying line_profiler.py -> build\\lib.win-amd64-3.6\n",
      "    copying kernprof.py -> build\\lib.win-amd64-3.6\n",
      "    copying line_profiler_py35.py -> build\\lib.win-amd64-3.6\n",
      "    running build_ext\n",
      "    skipping '_line_profiler.c' Cython extension (up-to-date)\n",
      "    building '_line_profiler' extension\n",
      "    error: Microsoft Visual C++ 14.0 is required. Get it with \"Microsoft Visual C++ Build Tools\": http://landinghub.visualstudio.com/visual-cpp-build-tools\n",
      "    \n",
      "    ----------------------------------------\n"
     ]
    },
    {
     "name": "stderr",
     "output_type": "stream",
     "text": [
      "  Failed building wheel for line-profiler\n",
      "Command \"D:\\Mallikarjun\\UPXAcademylearning\\Anaconda\\python.exe -u -c \"import setuptools, tokenize;__file__='C:\\\\Users\\\\ee206984\\\\AppData\\\\Local\\\\Temp\\\\pip-build-cg7l0_40\\\\line-profiler\\\\setup.py';f=getattr(tokenize, 'open', open)(__file__);code=f.read().replace('\\r\\n', '\\n');f.close();exec(compile(code, __file__, 'exec'))\" install --record C:\\Users\\ee206984\\AppData\\Local\\Temp\\pip-p9vfia3x-record\\install-record.txt --single-version-externally-managed --compile\" failed with error code 1 in C:\\Users\\ee206984\\AppData\\Local\\Temp\\pip-build-cg7l0_40\\line-profiler\\\n",
      "You are using pip version 9.0.1, however version 18.1 is available.\n",
      "You should consider upgrading via the 'python -m pip install --upgrade pip' command.\n"
     ]
    }
   ],
   "source": [
    "!pip install line_profiler"
   ]
  },
  {
   "cell_type": "code",
   "execution_count": 51,
   "metadata": {},
   "outputs": [],
   "source": [
    "def foo(n):\n",
    "    phrase = 'repeat me'\n",
    "    pmul = phrase * n\n",
    "    pjoi = ''.join([phrase for x in xrange(n)])\n",
    "    pinc = ''\n",
    "    for x in xrange(n):\n",
    "        pinc += phrase\n",
    "    del pmul, pjoi, pinc"
   ]
  },
  {
   "cell_type": "code",
   "execution_count": 52,
   "metadata": {},
   "outputs": [
    {
     "name": "stderr",
     "output_type": "stream",
     "text": [
      "UsageError: Line magic function `%lprun` not found.\n"
     ]
    }
   ],
   "source": [
    "%lprun -f foo foo(10)"
   ]
  },
  {
   "cell_type": "markdown",
   "metadata": {},
   "source": [
    "**Memory Profiling**\n",
    "\n",
    "%mprun- See how much memory a script uses line by line. \n",
    "\n",
    "%memit- See how much memory a script uses overall.|"
   ]
  },
  {
   "cell_type": "code",
   "execution_count": 16,
   "metadata": {},
   "outputs": [
    {
     "name": "stdout",
     "output_type": "stream",
     "text": [
      "Object `%%memit` not found.\n"
     ]
    }
   ],
   "source": [
    "%%memit?"
   ]
  },
  {
   "cell_type": "markdown",
   "metadata": {},
   "source": [
    "### Running the commands of other languages\n",
    "\n",
    "* % bash to run cell with bash in a subprocess.\n",
    "* %matplotlib inline - Show the plot in the browser\n",
    "* %% HTML: to render the cell as HTML. So you can even embed an image or other media in your notebook:\n",
    "\n",
    "\n",
    "**use what version of pandas is used**\n"
   ]
  },
  {
   "cell_type": "code",
   "execution_count": 4,
   "metadata": {},
   "outputs": [],
   "source": [
    "%matplotlib inline "
   ]
  },
  {
   "cell_type": "code",
   "execution_count": 8,
   "metadata": {},
   "outputs": [
    {
     "name": "stdout",
     "output_type": "stream",
     "text": [
      "LICENSE.txt\n",
      "ReleaseNotes.html\n",
      "bin\n",
      "cmd\n",
      "dev\n",
      "etc\n",
      "git-bash.exe\n",
      "git-cmd.exe\n",
      "mingw64\n",
      "proc\n",
      "tmp\n",
      "unins001.dat\n",
      "unins001.exe\n",
      "unins001.msg\n",
      "usr\n"
     ]
    }
   ],
   "source": [
    "!ls /"
   ]
  },
  {
   "cell_type": "code",
   "execution_count": 10,
   "metadata": {},
   "outputs": [
    {
     "name": "stdout",
     "output_type": "stream",
     "text": [
      "pandas==0.23.4\n",
      "pandas-profiling==1.4.1\n"
     ]
    },
    {
     "name": "stderr",
     "output_type": "stream",
     "text": [
      "You are using pip version 9.0.1, however version 18.1 is available.\n",
      "You should consider upgrading via the 'python -m pip install --upgrade pip' command.\n"
     ]
    }
   ],
   "source": [
    "!pip freeze | grep pandas"
   ]
  },
  {
   "cell_type": "code",
   "execution_count": 11,
   "metadata": {},
   "outputs": [
    {
     "data": {
      "text/html": [
       "<b>Mallikarjun</b><img src='./Mallikarjun_Small_Photo.jpg' height=\"102\" width=\"102\"/>"
      ],
      "text/plain": [
       "<IPython.core.display.HTML object>"
      ]
     },
     "metadata": {},
     "output_type": "display_data"
    }
   ],
   "source": [
    "%%HTML\n",
    "<b>Mallikarjun</b><img src='./Mallikarjun_Small_Photo.jpg' height=\"102\" width=\"102\"/>"
   ]
  },
  {
   "cell_type": "markdown",
   "metadata": {},
   "source": [
    "## IPython help\n",
    "\n",
    "* Add ? after function, method, etc for documentation (can also run shift-tab 4 times in notebook). \n",
    "* Add ?? after function, method, etc to see the source."
   ]
  },
  {
   "cell_type": "code",
   "execution_count": 69,
   "metadata": {},
   "outputs": [],
   "source": [
    "#print<<shift + tab 2 times>>, <<shift tab 4 times>>"
   ]
  },
  {
   "cell_type": "code",
   "execution_count": 12,
   "metadata": {},
   "outputs": [],
   "source": [
    "print"
   ]
  },
  {
   "cell_type": "code",
   "execution_count": 71,
   "metadata": {},
   "outputs": [],
   "source": [
    "# *italicized*, **bold**, and ``monospaced text``"
   ]
  },
  {
   "cell_type": "code",
   "execution_count": 13,
   "metadata": {},
   "outputs": [
    {
     "data": {
      "text/plain": [
       "'utf-8'"
      ]
     },
     "execution_count": 13,
     "metadata": {},
     "output_type": "execute_result"
    }
   ],
   "source": [
    "import sys\n",
    "sys.getdefaultencoding() "
   ]
  },
  {
   "cell_type": "code",
   "execution_count": 14,
   "metadata": {},
   "outputs": [
    {
     "data": {
      "text/plain": [
       "'3.6.0 |Anaconda 4.3.1 (64-bit)| (default, Dec 23 2016, 11:57:41) [MSC v.1900 64 bit (AMD64)]'"
      ]
     },
     "execution_count": 14,
     "metadata": {},
     "output_type": "execute_result"
    }
   ],
   "source": [
    "sys.version"
   ]
  },
  {
   "cell_type": "markdown",
   "metadata": {},
   "source": [
    "## Variables"
   ]
  },
  {
   "cell_type": "code",
   "execution_count": null,
   "metadata": {},
   "outputs": [],
   "source": [
    "#abs, min, max\n",
    "a=400\n",
    "b=20.0"
   ]
  },
  {
   "cell_type": "markdown",
   "metadata": {},
   "source": [
    "## Strings"
   ]
  },
  {
   "cell_type": "markdown",
   "metadata": {},
   "source": [
    "#string\n",
    "\n",
    "hello=\"hello\\tthere\"\n",
    "\n",
    "hello=r'hello\\tthere' #raw\n",
    "\n",
    "hello=b'hello' #Byte string\n"
   ]
  },
  {
   "cell_type": "code",
   "execution_count": 15,
   "metadata": {},
   "outputs": [
    {
     "name": "stdout",
     "output_type": "stream",
     "text": [
      "hello\tthere\n",
      "hello\\tthere\n",
      "b'hello'\n"
     ]
    }
   ],
   "source": [
    "\n",
    "hello=\"hello\\tthere\"\n",
    "print (hello)\n",
    "hello=r'hello\\tthere' #raw\n",
    "print (hello)\n",
    "\n",
    "hello=b'hello' #Byte string\n",
    "print (hello)"
   ]
  },
  {
   "cell_type": "markdown",
   "metadata": {},
   "source": [
    "count(sub, [start, [end]]) \n",
    "*Count sub in s between start and end*"
   ]
  },
  {
   "cell_type": "code",
   "execution_count": 18,
   "metadata": {},
   "outputs": [
    {
     "data": {
      "text/plain": [
       "1"
      ]
     },
     "execution_count": 18,
     "metadata": {},
     "output_type": "execute_result"
    }
   ],
   "source": [
    "s='We are learning pythong with with with pandas'\n",
    "sub='with'\n",
    "start=1\n",
    "\n",
    "s.count(sub, start)"
   ]
  },
  {
   "cell_type": "code",
   "execution_count": 6,
   "metadata": {},
   "outputs": [
    {
     "name": "stdout",
     "output_type": "stream",
     "text": [
      "My name is Mallikarjun\n",
      "There are 10\n",
      "My name is S'Bassappa\n"
     ]
    }
   ],
   "source": [
    "#use f to format a string\n",
    "Name='Mallikarjun'\n",
    "print(f'My name is {Name}')\n",
    "\n",
    "NoOfPeople=10\n",
    "print(f'There are {NoOfPeople}')\n",
    "\n",
    "NameWithSingleQuote='S\\'Bassappa'\n",
    "print(f'My name is {NameWithSingleQuote}')"
   ]
  },
  {
   "cell_type": "code",
   "execution_count": 14,
   "metadata": {},
   "outputs": [
    {
     "name": "stdout",
     "output_type": "stream",
     "text": [
      "The cost of the pen is 10$.\n"
     ]
    }
   ],
   "source": [
    "print(\"The cost of the pen is 10{}.\".format('$'))"
   ]
  },
  {
   "cell_type": "code",
   "execution_count": 17,
   "metadata": {},
   "outputs": [
    {
     "name": "stdout",
     "output_type": "stream",
     "text": [
      "Mallu Mallu Mallu Mallu Mallu Mallu Mallu Mallu Mallu Mallu \n"
     ]
    }
   ],
   "source": [
    "print(\"Mallu \" * 10) # what'd that do?"
   ]
  },
  {
   "cell_type": "markdown",
   "metadata": {},
   "source": [
    "join(iterable)"
   ]
  },
  {
   "cell_type": "code",
   "execution_count": 19,
   "metadata": {},
   "outputs": [
    {
     "name": "stdout",
     "output_type": "stream",
     "text": [
      "Here are the days:  Mon Tue Wed Thu Fri Sat Sun\n",
      "Here are the months:  Jan\n",
      "Feb\n",
      "Mar\n",
      "Apr\n",
      "May\n",
      "Jun\n",
      "Jul\n",
      "Aug\n"
     ]
    }
   ],
   "source": [
    "months = \"Jan\\nFeb\\nMar\\nApr\\nMay\\nJun\\nJul\\nAug\"\n",
    "print(\"Here are the months: \", months)"
   ]
  },
  {
   "cell_type": "markdown",
   "metadata": {},
   "source": [
    "find(sub, [start, [end]]) *Find substring or return -1"
   ]
  },
  {
   "cell_type": "markdown",
   "metadata": {},
   "source": [
    "## Functions"
   ]
  },
  {
   "cell_type": "markdown",
   "metadata": {},
   "source": [
    "**Functions with no return**"
   ]
  },
  {
   "cell_type": "code",
   "execution_count": 28,
   "metadata": {},
   "outputs": [
    {
     "name": "stdout",
     "output_type": "stream",
     "text": [
      "arg1: Apple , arg2: Orange\n"
     ]
    }
   ],
   "source": [
    "def print_fruits(*args):\n",
    "    arg1, arg2 = args\n",
    "    print(f\"arg1: {arg1}, arg2: {arg2}\")\n",
    "\n",
    "print_fruits('Apple ','Orange')"
   ]
  },
  {
   "cell_type": "markdown",
   "metadata": {},
   "source": [
    "**Functions with return**"
   ]
  },
  {
   "cell_type": "code",
   "execution_count": 21,
   "metadata": {},
   "outputs": [
    {
     "name": "stdout",
     "output_type": "stream",
     "text": [
      "ADDING 20 + 30\n"
     ]
    },
    {
     "data": {
      "text/plain": [
       "50"
      ]
     },
     "execution_count": 21,
     "metadata": {},
     "output_type": "execute_result"
    }
   ],
   "source": [
    "def add(a, b):\n",
    "    print(f\"ADDING {a} + {b}\")\n",
    "    return a + b\n",
    "\n",
    "add(20,30)"
   ]
  },
  {
   "cell_type": "markdown",
   "metadata": {},
   "source": [
    "## Control Loops"
   ]
  },
  {
   "cell_type": "markdown",
   "metadata": {},
   "source": [
    "### IF"
   ]
  },
  {
   "cell_type": "code",
   "execution_count": 29,
   "metadata": {},
   "outputs": [
    {
     "name": "stdout",
     "output_type": "stream",
     "text": [
      "Too many cats! The world is doomed!\n"
     ]
    }
   ],
   "source": [
    "people = 20\n",
    "cats = 30\n",
    "dogs = 15\n",
    "if people < cats:\n",
    "    print(\"Too many cats! The world is doomed!\")"
   ]
  },
  {
   "cell_type": "code",
   "execution_count": 35,
   "metadata": {},
   "outputs": [
    {
     "name": "stdout",
     "output_type": "stream",
     "text": [
      "We should take the cars.\n"
     ]
    }
   ],
   "source": [
    "people = 30\n",
    "cars = 40\n",
    "trucks = 15\n",
    "if cars > people:\n",
    "    print(\"We should take the cars.\")\n",
    "elif cars < people:\n",
    "    print(\"We should not take the cars.\")\n",
    "else:\n",
    "    print(\"We can't decide.\")"
   ]
  },
  {
   "cell_type": "markdown",
   "metadata": {},
   "source": [
    "## Loop"
   ]
  },
  {
   "cell_type": "markdown",
   "metadata": {},
   "source": [
    "**For Loop**"
   ]
  },
  {
   "cell_type": "code",
   "execution_count": 38,
   "metadata": {},
   "outputs": [
    {
     "name": "stdout",
     "output_type": "stream",
     "text": [
      "This is count 1\n",
      "This is count 2\n",
      "This is count 3\n",
      "This is count 4\n",
      "This is count 5\n"
     ]
    }
   ],
   "source": [
    "the_count = [1, 2, 3, 4, 5]\n",
    "# this first kind of for-loop goes through a list\n",
    "for number in the_count:\n",
    "    print(f\"This is count {number}\")"
   ]
  },
  {
   "cell_type": "code",
   "execution_count": 40,
   "metadata": {},
   "outputs": [
    {
     "name": "stdout",
     "output_type": "stream",
     "text": [
      "Adding 0 to the list.\n",
      "Adding 1 to the list.\n",
      "Adding 2 to the list.\n",
      "Adding 3 to the list.\n",
      "Adding 4 to the list.\n",
      "Adding 5 to the list.\n"
     ]
    },
    {
     "data": {
      "text/plain": [
       "[0, 1, 2, 3, 4, 5]"
      ]
     },
     "execution_count": 40,
     "metadata": {},
     "output_type": "execute_result"
    }
   ],
   "source": [
    "#we can also build lists, first start with an empty one\n",
    "elements = []\n",
    "# use the range function to do 0 to 5 counts\n",
    "for i in range(0, 6):\n",
    "    print(f\"Adding {i} to the list.\")\n",
    "    elements.append(i)\n",
    "elements"
   ]
  },
  {
   "cell_type": "markdown",
   "metadata": {},
   "source": [
    "**While Loop**"
   ]
  },
  {
   "cell_type": "code",
   "execution_count": 43,
   "metadata": {},
   "outputs": [
    {
     "name": "stdout",
     "output_type": "stream",
     "text": [
      "At the top i is 5\n",
      "Numbers now:  [5]\n",
      "At the bottom i is 6\n"
     ]
    }
   ],
   "source": [
    "numbers=[]\n",
    "while i<6:\n",
    "    print(f\"At the top i is {i}\")\n",
    "    numbers.append(i)\n",
    "    i = i + 1\n",
    "\n",
    "print(\"Numbers now: \", numbers)\n",
    "print(f\"At the bottom i is {i}\")"
   ]
  },
  {
   "cell_type": "markdown",
   "metadata": {},
   "source": [
    "## Data structures\n",
    "**Lists**\n",
    "\n",
    "**Dictionaries**\n",
    "\n",
    "**Sets**"
   ]
  },
  {
   "cell_type": "markdown",
   "metadata": {},
   "source": [
    "### Lists\n",
    "\n",
    "* hold a series of values rather than just one value\n",
    "* can have duplicates\n",
    "* mutable series- values can be changed\n",
    "* you can access them by position\n",
    "* Unlike array you need not specify size\n",
    "* unordered collection"
   ]
  },
  {
   "cell_type": "markdown",
   "metadata": {},
   "source": [
    "#### Adding new elements to a list using\n",
    "* append\n",
    "* insert\n",
    "* extend"
   ]
  },
  {
   "cell_type": "code",
   "execution_count": 105,
   "metadata": {},
   "outputs": [
    {
     "name": "stdout",
     "output_type": "stream",
     "text": [
      "Insert appending Kiran ['KKiran', 'Mallu', 'Arvind', 'Tirupati', 1, 20.0, 'Veeresh']\n",
      "Insert extend b ['KKiran', 'Mallu', 'Arvind', 'Tirupati', 1, 20.0, 'Veeresh', 74, 75]\n"
     ]
    }
   ],
   "source": [
    "#Lists\n",
    "friends = ['Mallu', 'Arvind', 'Tirupati',1,20.0]\n",
    "# add a new element\n",
    "friends.append('Veeresh')\n",
    "#print(\"After appending Veeresh\" ,friends)\n",
    "\n",
    "# insert a new element\n",
    "friends.insert(0,'KKiran')\n",
    "print(\"Insert appending Kiran\" ,friends)\n",
    "\n",
    "# extend a new element\n",
    "b = [74, 75]\n",
    "friends.extend(b)\n",
    "print(\"Insert extend b\" ,friends)"
   ]
  },
  {
   "cell_type": "markdown",
   "metadata": {},
   "source": [
    "#### String split"
   ]
  },
  {
   "cell_type": "code",
   "execution_count": 72,
   "metadata": {},
   "outputs": [
    {
     "data": {
      "text/plain": [
       "['Mallikarjun', 'Bendigeri', 'S']"
      ]
     },
     "execution_count": 72,
     "metadata": {},
     "output_type": "execute_result"
    }
   ],
   "source": [
    "#split function of string creates a list\n",
    "\"Mallikarjun Bendigeri S\".split(' ')"
   ]
  },
  {
   "cell_type": "markdown",
   "metadata": {},
   "source": [
    "#### For loop"
   ]
  },
  {
   "cell_type": "code",
   "execution_count": 64,
   "metadata": {},
   "outputs": [
    {
     "name": "stdout",
     "output_type": "stream",
     "text": [
      "0 Mallu\n",
      "1 Arvind\n",
      "2 Tirupati\n",
      "3 Kiran\n",
      "4 1\n",
      "5 20.0\n",
      "6 Veeresh\n",
      "7 74\n",
      "8 75\n"
     ]
    }
   ],
   "source": [
    "#for (i, x) in enumerate(friends):\n",
    " #   print(i, x)\n",
    "for i in range(len(friends)):\n",
    "    print(i, friends[i])"
   ]
  },
  {
   "cell_type": "markdown",
   "metadata": {},
   "source": [
    "#### Sorting"
   ]
  },
  {
   "cell_type": "code",
   "execution_count": 68,
   "metadata": {},
   "outputs": [
    {
     "data": {
      "text/plain": [
       "['best', 'it', 'of', 'the', 'times', 'was']"
      ]
     },
     "execution_count": 68,
     "metadata": {},
     "output_type": "execute_result"
    }
   ],
   "source": [
    "#sorting\n",
    "# sorting alters the order of the elemts\n",
    "a = [\"it\", \"was\", \"the\", \"best\", \"of\", \"times\"]\n",
    "a.sort()\n",
    "a"
   ]
  },
  {
   "cell_type": "code",
   "execution_count": 71,
   "metadata": {},
   "outputs": [
    {
     "data": {
      "text/plain": [
       "['it', 'was', 'the', 'best', 'of', 'times']"
      ]
     },
     "execution_count": 71,
     "metadata": {},
     "output_type": "execute_result"
    }
   ],
   "source": [
    "import copy\n",
    "a = [\"it\", \"was\", \"the\", \"best\", \"of\", \"times\"]\n",
    "b = copy.copy(a)\n",
    "b.sort()\n",
    "a"
   ]
  },
  {
   "cell_type": "markdown",
   "metadata": {},
   "source": [
    "#### slicing operations "
   ]
  },
  {
   "cell_type": "code",
   "execution_count": 106,
   "metadata": {},
   "outputs": [
    {
     "name": "stdout",
     "output_type": "stream",
     "text": [
      "KKiran\n"
     ]
    },
    {
     "data": {
      "text/plain": [
       "75"
      ]
     },
     "execution_count": 106,
     "metadata": {},
     "output_type": "execute_result"
    }
   ],
   "source": [
    "#index operations\n",
    "# error as there is an indent\n",
    "#print (friends[0])\n",
    "friends[-1] #  len(friends) - 1"
   ]
  },
  {
   "cell_type": "code",
   "execution_count": 118,
   "metadata": {},
   "outputs": [
    {
     "name": "stdout",
     "output_type": "stream",
     "text": [
      " All friends : ['KKiran', 'Mallu', 'Arvind', 'Tirupati', 1, 20.0, 'Veeresh', 74, 75]\n",
      "Try [75, 'Veeresh', 1, 'Arvind', 'KKiran']\n"
     ]
    }
   ],
   "source": [
    "#slicing operations based on index position\n",
    "# list[i:j] # the number after the : is exclusive. so it till j-1\n",
    "\n",
    "print(' All friends :', friends)\n",
    "fr=friends[0:2] \n",
    "#print(' only first element', fr)\n",
    "fr=friends[:3]   # Implicit start at 0\n",
    "#print(' only 3', fr)\n",
    "fr=friends[1:]   # Implicit end at len(people)\n",
    "#print(' 1st to end', fr)\n",
    "fr=friends[::3]  # Take every other item\n",
    "#print('Alternate',fr)\n",
    " #negative indices to count back from the end of the list\n",
    "fr=friends[-4:-1] #last 2 elements\n",
    "#print('last 2',fr)\n",
    "fr=friends[:-3] #first 3 elements\n",
    "fr=friends[::-2] # Reverse sequence\n",
    "\n",
    "\n",
    "print('Try',fr)\n",
    "#print('Reverese', fr)"
   ]
  },
  {
   "cell_type": "markdown",
   "metadata": {},
   "source": [
    "List Operations"
   ]
  },
  {
   "cell_type": "code",
   "execution_count": 132,
   "metadata": {},
   "outputs": [
    {
     "name": "stdout",
     "output_type": "stream",
     "text": [
      "After adding 2 new fruits- ['Apple', 'Organge', 'Mango', 'PineApple', 'Bannana', 'Sapota']\n",
      "After adding Grapes- ['Apple', 'Organge', 'Mango', 'PineApple', 'Bannana', 'Sapota', 'Grapes']\n",
      "Do we have Sapota in the list:- True\n",
      "Is fruits 3 same as fruits 2  False\n",
      "Is fruits 3 >  fruits 2  8 6 False\n",
      "Is fruits >  fruits 3 True\n",
      "reverse order <list_reverseiterator object at 0x000000A516CB8A58>\n"
     ]
    }
   ],
   "source": [
    "fruits = ['Apple', 'Organge', 'Mango','PineApple']\n",
    "\n",
    "#add a list\n",
    "newfruit=['Bannana','Sapota']\n",
    "fruits=fruits + newfruit\n",
    "\n",
    "print('After adding 2 new fruits-', fruits)\n",
    "\n",
    "#a new dynamic list\n",
    "fruits=fruits + ['Grapes']\n",
    "print('After adding Grapes-', fruits)\n",
    "\n",
    "#Check for membership\n",
    "print ( 'Do we have Sapota in the list:-','Sapota' in fruits)\n",
    "\n",
    "#Compare a list\n",
    "fruits2=['Apple', 'Organge', 'Mango', 'PineApple', 'Bannana', 'Sapota']\n",
    "fruits3=['Apple', 'Organge', 'Mango', 'PineApple', 'Bannana','Grapes','1','2']\n",
    "#print ( 'Is fruits 2 same as fruits ',fruits==fruits2)\n",
    "print ( 'Is fruits 3 same as fruits 2 ',fruits2==fruits3)\n",
    "print ( 'Is fruits 3 >  fruits 2 ',len(fruits3), len(fruits2),fruits3>fruits2)\n",
    "print ( 'Is fruits >  fruits 3',fruits>fruits3)\n",
    "rev=reversed(fruits3)\n",
    "print ( 'reverse order',list (rev))\n",
    "\n",
    "#Remove an item\n",
    "#del fruits['Sapota']\n",
    "#print ( 'Do we remove Sapota from the list:-'')\n"
   ]
  },
  {
   "cell_type": "markdown",
   "metadata": {},
   "source": [
    "## Dictionaries - Key value pair\n",
    "\n",
    "Dictionaries are mutable mappings of keys to values. Keys must be hashable, but values can be any object:\n",
    "\n",
    "An object is hashable if it has a hash value which never changes during its lifetime \n",
    "(it needs a __hash__() method), and can be compared to other objects (it needs an __eq__() method). \n",
    "Hashable objects which compare equal must have the same hash value.\n",
    "\n",
    "hashable very closely means immutable.\n",
    "\n",
    "A hashing function is a function which takes an object, say a string such as “Python,” and returns a fixed-size code. For simplicity, assume the return value is an integer.\n",
    "\n",
    "The important thing is that no matter now many times I run hash(‘Python’), I’ll always get the same result with the same version of Python.\n",
    "\n",
    " Python dictionaries, for example, require the keys to be immutable. That is, keys must be objects which do not change. Strings are immutable in Python, as are the other basic types (int, float, bool). Tuples and frozensets are also immutable."
   ]
  },
  {
   "cell_type": "code",
   "execution_count": 134,
   "metadata": {},
   "outputs": [],
   "source": [
    "Kids = {'Name': 'Ishaan', 'age': 4,'School':'Play school','game':'Cars'}\n",
    "Kids2 = {'Name': 'IIshaan', 'age':5,'School':'Play school','game':'Cars'}"
   ]
  },
  {
   "cell_type": "code",
   "execution_count": 135,
   "metadata": {},
   "outputs": [
    {
     "name": "stdout",
     "output_type": "stream",
     "text": [
      "Do we have age in the list:- True\n",
      "Deleting games\n",
      "Comparing Kids False\n"
     ]
    },
    {
     "data": {
      "text/plain": [
       "dict_items([('Name', 'Ishaan'), ('age', 4), ('School', 'Play school'), ('game', 'Cars')])"
      ]
     },
     "execution_count": 135,
     "metadata": {},
     "output_type": "execute_result"
    }
   ],
   "source": [
    "#Check for membership\n",
    "print ( 'Do we have age in the list:-','age' in Kids)\n",
    "\n",
    "#Delete a key\n",
    "#del Kids['game']\n",
    "print ( 'Deleting games')\n",
    "\n",
    "print ( 'Comparing Kids', Kids2==Kids) \n",
    "\n",
    "#Remove all items (mutates d)\n",
    "#Kids2.clear()\n",
    "\n",
    "#Get value for key or return default (None)\n",
    "#d.get(key, [default])\n",
    "#Kids.get('Name1', 'None') #\n",
    "\n",
    "Kids.items()\n",
    "\n",
    "#Kids.keys()\n",
    "\n",
    "#d.values()"
   ]
  },
  {
   "cell_type": "markdown",
   "metadata": {},
   "source": [
    "## Tuples\n",
    "Tuples are immutable sequences. Typically they are used to store record type data:\n"
   ]
  },
  {
   "cell_type": "code",
   "execution_count": 96,
   "metadata": {},
   "outputs": [],
   "source": [
    "employee = ('Arvind', 'Mekin', 1972, 'BE')\n",
    "Family = ('Mallikarjun', 'Bendigeri', 'Sheela','Ishaan','Iccha')\n",
    "Salary=(1000)\n",
    "School=('LifeSpan')"
   ]
  },
  {
   "cell_type": "markdown",
   "metadata": {},
   "source": [
    "Tuples are fixed size (immutable, do not append or extend),  lists are dynamic ( mutable). \n",
    "\n",
    "Tuples are surrounded by parenthesis (), Lists are surrounded by square brackets []\n",
    "\n",
    "Tuples has smaller size than that of list, \n"
   ]
  },
  {
   "cell_type": "code",
   "execution_count": 100,
   "metadata": {},
   "outputs": [
    {
     "name": "stdout",
     "output_type": "stream",
     "text": [
      "a= 96\n",
      "b= 112\n"
     ]
    }
   ],
   "source": [
    "a= (1,2,3,4,5,6,7,8,9)\n",
    "b= [1,2,3,4,5,6,7,8,9]\n",
    "\n",
    "print('a=',a.__sizeof__())\n",
    "print('b=',b.__sizeof__())"
   ]
  },
  {
   "cell_type": "code",
   "execution_count": 104,
   "metadata": {},
   "outputs": [
    {
     "data": {
      "text/plain": [
       "3"
      ]
     },
     "execution_count": 104,
     "metadata": {},
     "output_type": "execute_result"
    }
   ],
   "source": [
    "a= (1,2,3,1,5,6,1,8,9)\n",
    "a.count(1)"
   ]
  },
  {
   "cell_type": "markdown",
   "metadata": {},
   "source": [
    "#### Named Tuples\n",
    "* subclass of tuple that has fields accessible by attribute lookup as well as being indexable and iterable\n",
    "* Used when there is a chance that items in the tuple need to change their position \n",
    "* This forces the coder to refactor also all the logic involved, which can be very costly affair."
   ]
  },
  {
   "cell_type": "code",
   "execution_count": 2,
   "metadata": {},
   "outputs": [
    {
     "name": "stdout",
     "output_type": "stream",
     "text": [
      "8\n",
      "9\n"
     ]
    }
   ],
   "source": [
    "#Normal Tuple\n",
    "figsize=('8','9') # 8 is width, 9 hieght\n",
    "# Accessible by index\n",
    "print (figsize[0])\n",
    "print (figsize[1])"
   ]
  },
  {
   "cell_type": "code",
   "execution_count": 3,
   "metadata": {},
   "outputs": [],
   "source": [
    "from collections import namedtuple"
   ]
  },
  {
   "cell_type": "code",
   "execution_count": 4,
   "metadata": {},
   "outputs": [
    {
     "name": "stdout",
     "output_type": "stream",
     "text": [
      "width is  8 height is  9\n"
     ]
    }
   ],
   "source": [
    "#named tuples\n",
    "figsizenames=namedtuple('dim',['width','hieght'])\n",
    "figsize=figsizenames(8,9)\n",
    "print ('width is ',figsize.width,'height is ',figsize.hieght)"
   ]
  },
  {
   "cell_type": "markdown",
   "metadata": {},
   "source": [
    "## Sets\n",
    "A set is a mutable unordered collection that cannot contain duplicates. Sets are used to remove duplicates and test for membership\n",
    "\n",
    "There is no empty set"
   ]
  },
  {
   "cell_type": "code",
   "execution_count": 109,
   "metadata": {},
   "outputs": [
    {
     "name": "stdout",
     "output_type": "stream",
     "text": [
      "digits set {0, 1, 2, 3, 4, 5, 6, 7, 8, 9}\n",
      "{'C', 'A', 'B'}\n",
      "True\n"
     ]
    }
   ],
   "source": [
    "digits = [0, 1, 1, 2, 3, 4, 5, 6,7, 8, 9]\n",
    "digit_set = set(digits)   # remove extra 1\n",
    "print ('digits set',digit_set)\n",
    "\n",
    "Names=['A','B','C','A','B','C']\n",
    "Names_set=set(Names)\n",
    "print(Names_set)\n",
    "print (9 in digit_set)"
   ]
  },
  {
   "cell_type": "markdown",
   "metadata": {},
   "source": [
    "Sets are useful because they provide set operations, such as union (|), intersection (&), difference (-), and xor (^):"
   ]
  },
  {
   "cell_type": "code",
   "execution_count": 111,
   "metadata": {},
   "outputs": [
    {
     "name": "stdout",
     "output_type": "stream",
     "text": [
      "Difference {0, 2, 4, 6, 8}\n",
      "Intersetion {2}\n",
      "Union {0, 1, 2, 3, 4, 5, 6, 7, 8, 9}\n",
      "Xor Not in both {0, 3, 4, 5, 6, 7, 8}\n"
     ]
    }
   ],
   "source": [
    "odd = {1, 3, 5, 7, 9}\n",
    "prime = set([2, 3, 5, 7])\n",
    "even = digit_set - odd\n",
    "print ('Difference',even)\n",
    "\n",
    "print ('Intersetion', prime & even)   # in intersection\n",
    "print ('Union', odd | even )   # in both\n",
    "print ('Xor Not in both',even ^ prime)  # not in both"
   ]
  },
  {
   "cell_type": "markdown",
   "metadata": {},
   "source": [
    "### Iterators\n",
    "* Iterator is simply an object that can be iterated upon. An object which will return data, one element at a time.\n",
    "* Iterators are everywhere in Python. They are elegantly implemented within for loops, comprehensions, generators etc. but hidden in plain sight.\n",
    "* An object is called iterable if we can get an iterator from it. list, tuple, string etc. are iterables\n",
    "*  Python iterator object must implement two special methods, __iter__() and __next__(), collectively called the iterator protocol.\n",
    "* The iter() function (which in turn calls the __iter__() method) returns an iterator from them.\n",
    "* next() function to manually iterate through all the items of an iterator."
   ]
  },
  {
   "cell_type": "code",
   "execution_count": 3,
   "metadata": {},
   "outputs": [
    {
     "name": "stdout",
     "output_type": "stream",
     "text": [
      "4\n",
      "7\n"
     ]
    }
   ],
   "source": [
    "# define a list\n",
    "my_list = [4, 7, 0, 3]\n",
    "\n",
    "# get an iterator using iter()\n",
    "my_iter = iter(my_list)\n",
    "\n",
    "## iterate through it using next() \n",
    "\n",
    "#prints 4\n",
    "print(next(my_iter))\n",
    "\n",
    "#prints 7\n",
    "print(next(my_iter))\n",
    "\n",
    "#prints 0\n",
    "print(my_iter.__next__())\n",
    "\n",
    "#prints 3\n",
    "print(my_iter.__next__())\n",
    "\n",
    "## This will raise error, no items left\n",
    "next(my_iter)\n"
   ]
  },
  {
   "cell_type": "markdown",
   "metadata": {},
   "source": [
    "##### Building Your Own Iterator in Python\n",
    "* We just have to implement the methods __iter__() and __next__().\n",
    "* The __iter__() method returns the iterator object itself.\n",
    "* The __next__() method must return the next item in the sequence.\n",
    "* On reaching the end, and in subsequent calls __next__(), it must raise StopIteration."
   ]
  },
  {
   "cell_type": "markdown",
   "metadata": {},
   "source": [
    "### Enumerate"
   ]
  },
  {
   "cell_type": "markdown",
   "metadata": {},
   "source": [
    "* Enumerate is a built-in function of Python. \n",
    "* It allows us to loop over something and have an automatic counter. \n",
    "* enumerate also accepts an optional argument which allows us to tell the enumerate from where to start the index."
   ]
  },
  {
   "cell_type": "code",
   "execution_count": 8,
   "metadata": {},
   "outputs": [
    {
     "name": "stdout",
     "output_type": "stream",
     "text": [
      "[(0, 'Mallikarjun'), (1, 'Arvind'), (2, 'Basanna'), (3, 'Veeresh')]\n"
     ]
    }
   ],
   "source": [
    "# Also create tuples containing the index and list item using a list. Here is an example:\n",
    "my_friend = ['Mallikarjun', 'Arvind', 'Basanna', 'Veeresh']\n",
    "tuple_list = list(enumerate(my_friend))\n",
    "print(tuple_list)"
   ]
  },
  {
   "cell_type": "markdown",
   "metadata": {},
   "source": [
    "### Generators\n",
    "* __iter__() and __next__() method, keep track of internal states, raise StopIteration\n",
    "* defining a normal function with yield statement instead of a return statement.\n",
    "* The difference is that, while a return statement terminates a function entirely, yield statement pauses the function saving all its states and later continues from there on successive calls.\n",
    "\n",
    "* Generator function contains one or more yield statement.\n",
    "* When called, it returns an object (iterator) but does not start execution immediately.\n",
    "* Methods like __iter__() and __next__() are implemented automatically. So we can iterate through the items using next().\n",
    "* Once the function yields, the function is paused and the control is transferred to the caller.\n",
    "* Local variables and their states are remembered between successive calls.\n",
    "* Finally, when the function terminates, StopIteration is raised automatically on further calls."
   ]
  },
  {
   "cell_type": "code",
   "execution_count": 3,
   "metadata": {},
   "outputs": [
    {
     "name": "stdout",
     "output_type": "stream",
     "text": [
      "This is printed first\n",
      "Printing from main function 1\n",
      "This is printed second\n",
      "Printing from main function 2\n",
      "This is printed at last\n",
      "Printing from main function 3\n"
     ]
    }
   ],
   "source": [
    "def my_gen():\n",
    "    n = 1\n",
    "    print('This is printed first')\n",
    "    # Generator function contains yield statements\n",
    "    yield n\n",
    "\n",
    "    n += 1\n",
    "    print('This is printed second')\n",
    "    yield n\n",
    "\n",
    "    n += 1\n",
    "    print('This is printed at last')\n",
    "    yield n\n",
    "\n",
    "# Using for loop\n",
    "for item in my_gen():\n",
    "    print(\"Printing from main function\",item) "
   ]
  },
  {
   "cell_type": "code",
   "execution_count": null,
   "metadata": {},
   "outputs": [],
   "source": []
  },
  {
   "cell_type": "markdown",
   "metadata": {},
   "source": [
    "### List Comphrension\n",
    "* A list comprehension consists of brackets containing an expression followed by a for clause, then zero or more for or if clauses. The result will be a new list resulting from evaluating the expression in the context of the for and if clauses which follow it."
   ]
  },
  {
   "cell_type": "code",
   "execution_count": 1,
   "metadata": {},
   "outputs": [
    {
     "data": {
      "text/plain": [
       "[2, 4, 6, 8]"
      ]
     },
     "execution_count": 1,
     "metadata": {},
     "output_type": "execute_result"
    }
   ],
   "source": [
    "# without comphrensions\n",
    "no=[1,2,3,4]\n",
    "sqNo=[]\n",
    "for i in no:\n",
    "    sqNo.append(i*2)\n",
    "\n",
    "sqNo"
   ]
  },
  {
   "cell_type": "code",
   "execution_count": 3,
   "metadata": {},
   "outputs": [
    {
     "data": {
      "text/plain": [
       "[3, 6, 9, 12]"
      ]
     },
     "execution_count": 3,
     "metadata": {},
     "output_type": "execute_result"
    }
   ],
   "source": [
    "sqNo=[]\n",
    "sqNo=[i*3 for i in no]\n",
    "sqNo"
   ]
  },
  {
   "cell_type": "code",
   "execution_count": 7,
   "metadata": {},
   "outputs": [
    {
     "data": {
      "text/plain": [
       "{11: 'M',\n",
       " 12: 'a',\n",
       " 13: 'l',\n",
       " 14: 'l',\n",
       " 15: 'i',\n",
       " 16: 'k',\n",
       " 17: 'a',\n",
       " 18: 'r',\n",
       " 19: 'j',\n",
       " 20: 'u',\n",
       " 21: 'n'}"
      ]
     },
     "execution_count": 7,
     "metadata": {},
     "output_type": "execute_result"
    }
   ],
   "source": [
    "list1= [letter for letter in 'Mallikarjun']\n",
    "dict={letter:i for letter,i in enumerate('Mallikarjun',11)}\n",
    "dict"
   ]
  },
  {
   "cell_type": "code",
   "execution_count": 6,
   "metadata": {},
   "outputs": [
    {
     "name": "stdout",
     "output_type": "stream",
     "text": [
      "newpoints [1, 2, 3, 4, 11, 12, 13, 14, 21, 22, 23, 24]\n"
     ]
    }
   ],
   "source": [
    "points=[[1,2,3,4],\n",
    "        [11,12,13,14],\n",
    "       [21,22,23,24]\n",
    "       ]\n",
    "newpoints=[]\n",
    "for row in points:\n",
    "    for value in row:\n",
    "        newpoints.append(value)\n",
    "\n",
    "\n",
    "print('newpoints',newpoints)\n"
   ]
  },
  {
   "cell_type": "code",
   "execution_count": 31,
   "metadata": {},
   "outputs": [
    {
     "name": "stdout",
     "output_type": "stream",
     "text": [
      "flat [1, 2, 3, 4, 11, 12, 13, 14, 21, 22, 23, 24]\n"
     ]
    }
   ],
   "source": [
    "\n",
    "flat=[value for row in points for value in row]\n",
    "print ('flat',flat)"
   ]
  },
  {
   "cell_type": "code",
   "execution_count": 12,
   "metadata": {},
   "outputs": [
    {
     "name": "stdout",
     "output_type": "stream",
     "text": [
      "newpoints-using comprehensions- [[2, 4, 6, 8], [22, 24, 26, 28], [42, 44, 46, 48]]\n"
     ]
    }
   ],
   "source": [
    "\n",
    "newpoints=[[value*2 for value in row] for row in points]\n",
    "print ('newpoints-using comprehensions-',newpoints)"
   ]
  },
  {
   "cell_type": "code",
   "execution_count": 31,
   "metadata": {},
   "outputs": [
    {
     "data": {
      "text/plain": [
       "[['Mallikarjun', 'Mallikarjun', 'MALLIKARJUN', 11],\n",
       " [' Arvind', ' Arvind', ' ARVIND', 7],\n",
       " [' Basanna', ' Basanna', ' BASANNA', 8]]"
      ]
     },
     "execution_count": 31,
     "metadata": {},
     "output_type": "execute_result"
    }
   ],
   "source": [
    "#Mutiple operations\n",
    "Names=[{name,name,name.upper(),len(name)} for name in \"Mallikarjun, Arvind, Basanna\".split(',')]\n",
    "Names"
   ]
  },
  {
   "cell_type": "code",
   "execution_count": 28,
   "metadata": {},
   "outputs": [
    {
     "name": "stdout",
     "output_type": "stream",
     "text": [
      "[(11, 'Not greator than 5'), (12, 'Not greator than 5'), (13, 'Not greator than 5'), (14, 'Not greator than 5'), (15, 'Not greator than 5'), 16, 17, 18, 19, 20, 21, 22, 23, 24, 25, 26, 27, 28, 29, 30, 31, 32, 33, 34, 35, 36, 37, 38, 39, 40, 41, 42, 43, 44, 45, 46, 47, 48, 49]\n"
     ]
    }
   ],
   "source": [
    "#print([x for x in range(1,50)if x>10])\n",
    "\n",
    "print([x if x>15 else (x,'Not greator than 5') for x in range(1,50)if x>10])"
   ]
  },
  {
   "cell_type": "code",
   "execution_count": 4,
   "metadata": {},
   "outputs": [
    {
     "name": "stdout",
     "output_type": "stream",
     "text": [
      "Requirement already satisfied: ipywidgets in d:\\mallikarjun\\upxacademylearning\\anaconda\\lib\\site-packages\n"
     ]
    },
    {
     "name": "stderr",
     "output_type": "stream",
     "text": [
      "You are using pip version 9.0.1, however version 18.0 is available.\n",
      "You should consider upgrading via the 'python -m pip install --upgrade pip' command.\n"
     ]
    }
   ],
   "source": [
    "#!pip install ipywidgets"
   ]
  },
  {
   "cell_type": "code",
   "execution_count": 6,
   "metadata": {},
   "outputs": [
    {
     "name": "stderr",
     "output_type": "stream",
     "text": [
      "Enabling notebook extension jupyter-js-widgets/extension...\n",
      "      - Validating: ok\n"
     ]
    }
   ],
   "source": [
    "!jupyter nbextension enable --py widgetsnbextension"
   ]
  },
  {
   "cell_type": "code",
   "execution_count": null,
   "metadata": {},
   "outputs": [],
   "source": [
    "#!pip update jupyter_core jupyter_client"
   ]
  },
  {
   "cell_type": "code",
   "execution_count": 21,
   "metadata": {},
   "outputs": [
    {
     "data": {
      "text/plain": [
       "'Hello World '"
      ]
     },
     "metadata": {},
     "output_type": "display_data"
    }
   ],
   "source": [
    "from ipywidgets import interact \n",
    "def myfunction(x): \n",
    "    return x \n",
    "interact(myfunction, x= \"Hello World \"); "
   ]
  },
  {
   "cell_type": "markdown",
   "metadata": {},
   "source": [
    "### Zip function\n",
    "* Join two tuples together\n",
    "* Takes a list of iterators (lists) \n",
    "* returns a zip object, which is an iterator of tuples\n",
    "* the first item in each passed iterator is paired together,\n",
    "* then the second item in each passed iterator are paired together\n",
    "\n",
    "*Syntax\n",
    "zip(iterator1, iterqator2, iterator3 ...)"
   ]
  },
  {
   "cell_type": "code",
   "execution_count": 10,
   "metadata": {},
   "outputs": [],
   "source": [
    "a = [\"Mallikarjun\", \"Basavaraj\", \"Arvind\"]\n",
    "b = [\"Bendigeri\", \"Bendigeri\", \"Mekin\"]\n",
    "c = [\"Emp001\", \"Emp002\", \"Emp003\"]\n",
    "\n",
    "x = zip(a, b,c)"
   ]
  },
  {
   "cell_type": "code",
   "execution_count": 11,
   "metadata": {},
   "outputs": [
    {
     "data": {
      "text/plain": [
       "<zip at 0x64a4c12048>"
      ]
     },
     "execution_count": 11,
     "metadata": {},
     "output_type": "execute_result"
    }
   ],
   "source": [
    "x"
   ]
  },
  {
   "cell_type": "code",
   "execution_count": 12,
   "metadata": {},
   "outputs": [
    {
     "name": "stdout",
     "output_type": "stream",
     "text": [
      "(('Mallikarjun', 'Bendigeri', 'Emp001'), ('Basavaraj', 'Bendigeri', 'Emp002'), ('Arvind', 'Mekin', 'Emp003'))\n"
     ]
    }
   ],
   "source": [
    "print(tuple(x))"
   ]
  },
  {
   "cell_type": "markdown",
   "metadata": {},
   "source": [
    "### map() function \n",
    "* returns a list of the results after applying the given function to each item of a given iterable (list, tuple etc.)\n",
    "* map(fun, iter)\n",
    "    * fun : It is a function to which map passes each element of given iterable.\n",
    "    * iter : It is a iterable which is to be mapped."
   ]
  },
  {
   "cell_type": "code",
   "execution_count": 8,
   "metadata": {},
   "outputs": [
    {
     "name": "stdout",
     "output_type": "stream",
     "text": [
      "[2, 4, 6, 8]\n"
     ]
    }
   ],
   "source": [
    "# Return double of n \n",
    "def addition(n): \n",
    "    return n + n \n",
    "  \n",
    "# We double all numbers using map() \n",
    "numbers = (1, 2, 3, 4) \n",
    "result = map(addition, numbers) \n",
    "print(list(result)) "
   ]
  },
  {
   "cell_type": "code",
   "execution_count": null,
   "metadata": {},
   "outputs": [],
   "source": []
  }
 ],
 "metadata": {
  "kernelspec": {
   "display_name": "Python 3",
   "language": "python",
   "name": "python3"
  },
  "language_info": {
   "codemirror_mode": {
    "name": "ipython",
    "version": 3
   },
   "file_extension": ".py",
   "mimetype": "text/x-python",
   "name": "python",
   "nbconvert_exporter": "python",
   "pygments_lexer": "ipython3",
   "version": "3.6.0"
  }
 },
 "nbformat": 4,
 "nbformat_minor": 2
}
