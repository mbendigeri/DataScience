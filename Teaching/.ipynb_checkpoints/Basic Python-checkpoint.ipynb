{
 "cells": [
  {
   "cell_type": "markdown",
   "metadata": {},
   "source": [
    "## Intro\n",
    "\n",
    "Hello Word"
   ]
  },
  {
   "cell_type": "code",
   "execution_count": 2,
   "metadata": {},
   "outputs": [
    {
     "name": "stdout",
     "output_type": "stream",
     "text": [
      "Hello Basavaraj, Arvind\n"
     ]
    }
   ],
   "source": [
    "print ('Hello Basavaraj, Arvind') "
   ]
  },
  {
   "cell_type": "markdown",
   "metadata": {},
   "source": [
    "* Shift+ Enter run\n",
    "* Esc Go out of cell\n",
    "* a , creates a cell above, \n",
    "* b, create a cell below\n",
    "* Enter , enters the cell\n",
    "* shift tab , code completion\n",
    "* c - Copy cell\n",
    "* v - Paste cell below\n",
    "* y - Change cell type to code\n",
    "* dd - Delete a cell"
   ]
  },
  {
   "cell_type": "markdown",
   "metadata": {},
   "source": [
    "## Cell Types\n",
    "\n",
    "* Code\n",
    "* Markdown"
   ]
  },
  {
   "cell_type": "markdown",
   "metadata": {},
   "source": [
    "### Markdown\n",
    "*Italic*\n",
    "\n",
    "**bold**\n",
    "\n",
    "``monospaced text``"
   ]
  },
  {
   "cell_type": "markdown",
   "metadata": {},
   "source": [
    "Header"
   ]
  },
  {
   "cell_type": "code",
   "execution_count": 65,
   "metadata": {},
   "outputs": [],
   "source": [
    "# H1\n",
    "## H2\n",
    "### H3"
   ]
  },
  {
   "cell_type": "markdown",
   "metadata": {},
   "source": [
    "List"
   ]
  },
  {
   "cell_type": "code",
   "execution_count": 66,
   "metadata": {},
   "outputs": [],
   "source": [
    "# First item\n",
    "#Second item"
   ]
  },
  {
   "cell_type": "markdown",
   "metadata": {},
   "source": [
    "## Magic Commands\n",
    "\n",
    "control the behavior of IPython itself, plus a lot of system-type features\n",
    "* How to take input from the user\n",
    "* How to know the execution time of a command or multiple lines of commands\n",
    "* How to address copy paste it issues\n",
    "\n",
    "There are two kinds of magics, \n",
    "* Line-oriented and cell-oriented."
   ]
  },
  {
   "cell_type": "markdown",
   "metadata": {},
   "source": [
    "### Line Magic\n",
    "Line magics are prefixed with the % character and work much like OS command-line calls: they get as an argument the rest of the line, where arguments are passed without parentheses or quotes.\n"
   ]
  },
  {
   "cell_type": "code",
   "execution_count": 3,
   "metadata": {},
   "outputs": [
    {
     "name": "stdout",
     "output_type": "stream",
     "text": [
      "Hello World\n",
      "Wall time: 0 ns\n"
     ]
    }
   ],
   "source": [
    "%time print('Hello World')"
   ]
  },
  {
   "cell_type": "code",
   "execution_count": 2,
   "metadata": {},
   "outputs": [
    {
     "name": "stdout",
     "output_type": "stream",
     "text": [
      "431 µs ± 51.8 µs per loop (mean ± std. dev. of 7 runs, 1000 loops each)\n"
     ]
    }
   ],
   "source": [
    " %timeit L = [n ** 2 for n in range(1000)]"
   ]
  },
  {
   "cell_type": "markdown",
   "metadata": {},
   "source": [
    "### Cell Magic\n",
    "\n",
    "* Cell magics are prefixed with a double %%, \n",
    "* The rest of cell will be taken as argument\n",
    "\n",
    "* %% time- how long it takes to run the cell\n",
    "\n",
    "* %%!- run the shell command\n",
    "\n",
    "* %matplotlib inline - Show the plot in the browser\n",
    "\n"
   ]
  },
  {
   "cell_type": "code",
   "execution_count": 2,
   "metadata": {},
   "outputs": [
    {
     "name": "stdout",
     "output_type": "stream",
     "text": [
      "Hello World\n",
      "Wall time: 1 ms\n"
     ]
    }
   ],
   "source": [
    "%%time \n",
    "print('Hello World')\n"
   ]
  },
  {
   "cell_type": "code",
   "execution_count": 1,
   "metadata": {},
   "outputs": [
    {
     "name": "stdout",
     "output_type": "stream",
     "text": [
      "469 µs ± 11.3 µs per loop (mean ± std. dev. of 7 runs, 1000 loops each)\n"
     ]
    }
   ],
   "source": [
    "%%timeit\n",
    "    L = []\n",
    "    for n in range(1000):\n",
    "        L.append(n ** 2)"
   ]
  },
  {
   "cell_type": "markdown",
   "metadata": {},
   "source": [
    "**List of all magic commands**"
   ]
  },
  {
   "cell_type": "code",
   "execution_count": 14,
   "metadata": {},
   "outputs": [
    {
     "data": {
      "application/json": {
       "cell": {
        "!": "OSMagics",
        "HTML": "Other",
        "SVG": "Other",
        "bash": "Other",
        "capture": "ExecutionMagics",
        "cmd": "Other",
        "debug": "ExecutionMagics",
        "file": "Other",
        "html": "DisplayMagics",
        "javascript": "DisplayMagics",
        "js": "DisplayMagics",
        "latex": "DisplayMagics",
        "markdown": "DisplayMagics",
        "perl": "Other",
        "prun": "ExecutionMagics",
        "pypy": "Other",
        "python": "Other",
        "python2": "Other",
        "python3": "Other",
        "ruby": "Other",
        "script": "ScriptMagics",
        "sh": "Other",
        "svg": "DisplayMagics",
        "sx": "OSMagics",
        "system": "OSMagics",
        "time": "ExecutionMagics",
        "timeit": "ExecutionMagics",
        "writefile": "OSMagics"
       },
       "line": {
        "alias": "OSMagics",
        "alias_magic": "BasicMagics",
        "autocall": "AutoMagics",
        "automagic": "AutoMagics",
        "autosave": "KernelMagics",
        "bookmark": "OSMagics",
        "cd": "OSMagics",
        "clear": "KernelMagics",
        "cls": "KernelMagics",
        "colors": "BasicMagics",
        "config": "ConfigMagics",
        "connect_info": "KernelMagics",
        "copy": "Other",
        "ddir": "Other",
        "debug": "ExecutionMagics",
        "dhist": "OSMagics",
        "dirs": "OSMagics",
        "doctest_mode": "BasicMagics",
        "echo": "Other",
        "ed": "Other",
        "edit": "KernelMagics",
        "env": "OSMagics",
        "gui": "BasicMagics",
        "hist": "Other",
        "history": "HistoryMagics",
        "killbgscripts": "ScriptMagics",
        "ldir": "Other",
        "less": "KernelMagics",
        "load": "CodeMagics",
        "load_ext": "ExtensionMagics",
        "loadpy": "CodeMagics",
        "logoff": "LoggingMagics",
        "logon": "LoggingMagics",
        "logstart": "LoggingMagics",
        "logstate": "LoggingMagics",
        "logstop": "LoggingMagics",
        "ls": "Other",
        "lsmagic": "BasicMagics",
        "macro": "ExecutionMagics",
        "magic": "BasicMagics",
        "matplotlib": "PylabMagics",
        "mkdir": "Other",
        "more": "KernelMagics",
        "notebook": "BasicMagics",
        "page": "BasicMagics",
        "pastebin": "CodeMagics",
        "pdb": "ExecutionMagics",
        "pdef": "NamespaceMagics",
        "pdoc": "NamespaceMagics",
        "pfile": "NamespaceMagics",
        "pinfo": "NamespaceMagics",
        "pinfo2": "NamespaceMagics",
        "pip": "BasicMagics",
        "popd": "OSMagics",
        "pprint": "BasicMagics",
        "precision": "BasicMagics",
        "profile": "BasicMagics",
        "prun": "ExecutionMagics",
        "psearch": "NamespaceMagics",
        "psource": "NamespaceMagics",
        "pushd": "OSMagics",
        "pwd": "OSMagics",
        "pycat": "OSMagics",
        "pylab": "PylabMagics",
        "qtconsole": "KernelMagics",
        "quickref": "BasicMagics",
        "recall": "HistoryMagics",
        "rehashx": "OSMagics",
        "reload_ext": "ExtensionMagics",
        "ren": "Other",
        "rep": "Other",
        "rerun": "HistoryMagics",
        "reset": "NamespaceMagics",
        "reset_selective": "NamespaceMagics",
        "rmdir": "Other",
        "run": "ExecutionMagics",
        "save": "CodeMagics",
        "sc": "OSMagics",
        "set_env": "OSMagics",
        "store": "StoreMagics",
        "sx": "OSMagics",
        "system": "OSMagics",
        "tb": "ExecutionMagics",
        "time": "ExecutionMagics",
        "timeit": "ExecutionMagics",
        "unalias": "OSMagics",
        "unload_ext": "ExtensionMagics",
        "who": "NamespaceMagics",
        "who_ls": "NamespaceMagics",
        "whos": "NamespaceMagics",
        "xdel": "NamespaceMagics",
        "xmode": "BasicMagics"
       }
      },
      "text/plain": [
       "Available line magics:\n",
       "%alias  %alias_magic  %autocall  %automagic  %autosave  %bookmark  %cd  %clear  %cls  %colors  %config  %connect_info  %copy  %ddir  %debug  %dhist  %dirs  %doctest_mode  %echo  %ed  %edit  %env  %gui  %hist  %history  %killbgscripts  %ldir  %less  %load  %load_ext  %loadpy  %logoff  %logon  %logstart  %logstate  %logstop  %ls  %lsmagic  %macro  %magic  %matplotlib  %mkdir  %more  %notebook  %page  %pastebin  %pdb  %pdef  %pdoc  %pfile  %pinfo  %pinfo2  %popd  %pprint  %precision  %profile  %prun  %psearch  %psource  %pushd  %pwd  %pycat  %pylab  %qtconsole  %quickref  %recall  %rehashx  %reload_ext  %ren  %rep  %rerun  %reset  %reset_selective  %rmdir  %run  %save  %sc  %set_env  %store  %sx  %system  %tb  %time  %timeit  %unalias  %unload_ext  %who  %who_ls  %whos  %xdel  %xmode\n",
       "\n",
       "Available cell magics:\n",
       "%%!  %%HTML  %%SVG  %%bash  %%capture  %%cmd  %%debug  %%file  %%html  %%javascript  %%js  %%latex  %%markdown  %%perl  %%prun  %%pypy  %%python  %%python2  %%python3  %%ruby  %%script  %%sh  %%svg  %%sx  %%system  %%time  %%timeit  %%writefile\n",
       "\n",
       "Automagic is ON, % prefix IS NOT needed for line magics."
      ]
     },
     "execution_count": 14,
     "metadata": {},
     "output_type": "execute_result"
    }
   ],
   "source": [
    "%lsmagic"
   ]
  },
  {
   "cell_type": "markdown",
   "metadata": {},
   "source": [
    "### Timing and Profiling in IPython\n",
    "* %time & %timeit: See how long a script takes to run (one time, or averaged over a bunch of runs).\n",
    "* %prun: See how long it took each function in a script to run.\n",
    "* %lprun: See how long it took each line in a function to run.\n",
    "* %mprun & %memit: See how much memory a script uses (line-by-line, or averaged over a bunch of runs)."
   ]
  },
  {
   "cell_type": "markdown",
   "metadata": {},
   "source": [
    "**%prun**- See how long it took each function in a script to run."
   ]
  },
  {
   "cell_type": "code",
   "execution_count": 10,
   "metadata": {},
   "outputs": [],
   "source": [
    "from time import sleep\n",
    "def foo(): sleep(1)\n",
    "def bar(): sleep(2)\n",
    "def baz(): foo(), bar()"
   ]
  },
  {
   "cell_type": "code",
   "execution_count": 11,
   "metadata": {},
   "outputs": [
    {
     "name": "stdout",
     "output_type": "stream",
     "text": [
      " "
     ]
    }
   ],
   "source": [
    "%prun baz()"
   ]
  },
  {
   "cell_type": "markdown",
   "metadata": {},
   "source": [
    "**%lprun**\n",
    "See how long it took each line in a function to run."
   ]
  },
  {
   "cell_type": "code",
   "execution_count": 12,
   "metadata": {},
   "outputs": [],
   "source": [
    "def foo(n):\n",
    "    phrase = 'repeat me'\n",
    "    pmul = phrase * n\n",
    "    pjoi = ''.join([phrase for x in xrange(n)])\n",
    "    pinc = ''\n",
    "    for x in xrange(n):\n",
    "        pinc += phrase\n",
    "    del pmul, pjoi, pinc"
   ]
  },
  {
   "cell_type": "code",
   "execution_count": 13,
   "metadata": {},
   "outputs": [
    {
     "name": "stderr",
     "output_type": "stream",
     "text": [
      "UsageError: Line magic function `%lprun` not found.\n"
     ]
    }
   ],
   "source": [
    "%lprun -f foo foo(10)"
   ]
  },
  {
   "cell_type": "markdown",
   "metadata": {},
   "source": [
    "**Memory Profiling**\n",
    "\n",
    "%mprun- See how much memory a script uses line by line. \n",
    "\n",
    "%memit- See how much memory a script uses overall.|"
   ]
  },
  {
   "cell_type": "code",
   "execution_count": 16,
   "metadata": {},
   "outputs": [
    {
     "name": "stdout",
     "output_type": "stream",
     "text": [
      "Object `%%memit` not found.\n"
     ]
    }
   ],
   "source": [
    "%%memit?\n"
   ]
  },
  {
   "cell_type": "markdown",
   "metadata": {},
   "source": [
    "### Running the commands of other languages\n",
    "\n",
    "* % bash to run cell with bash in a subprocess.\n",
    "* %matplotlib inline - Show the plot in the browser\n",
    "* %% HTML: to render the cell as HTML. So you can even embed an image or other media in your notebook:\n",
    "\n",
    "\n",
    "**use what version of pandas is used**\n"
   ]
  },
  {
   "cell_type": "code",
   "execution_count": 4,
   "metadata": {},
   "outputs": [],
   "source": [
    "%matplotlib inline "
   ]
  },
  {
   "cell_type": "code",
   "execution_count": 3,
   "metadata": {},
   "outputs": [
    {
     "name": "stdout",
     "output_type": "stream",
     "text": [
      "pandas==0.23.4\n",
      "pandas-profiling==1.4.1\n"
     ]
    },
    {
     "name": "stderr",
     "output_type": "stream",
     "text": [
      "You are using pip version 9.0.1, however version 18.0 is available.\n",
      "You should consider upgrading via the 'python -m pip install --upgrade pip' command.\n"
     ]
    }
   ],
   "source": [
    "! pip freeze | grep pandas"
   ]
  },
  {
   "cell_type": "code",
   "execution_count": 5,
   "metadata": {},
   "outputs": [
    {
     "data": {
      "text/html": [
       "<b>Mallikarjun</b><img src='./Mallikarjun_Small_Photo.jpg' height=\"102\" width=\"102\"/>"
      ],
      "text/plain": [
       "<IPython.core.display.HTML object>"
      ]
     },
     "metadata": {},
     "output_type": "display_data"
    }
   ],
   "source": [
    "%%HTML\n",
    "<b>Mallikarjun</b><img src='./Mallikarjun_Small_Photo.jpg' height=\"102\" width=\"102\"/>"
   ]
  },
  {
   "cell_type": "markdown",
   "metadata": {},
   "source": [
    "## IPython help\n",
    "\n",
    "* Add ? after function, method, etc for documentation (can also run shift-tab 4 times in notebook). \n",
    "* Add ?? after function, method, etc to see the source."
   ]
  },
  {
   "cell_type": "code",
   "execution_count": 69,
   "metadata": {},
   "outputs": [],
   "source": [
    "#print<<shift + tab 2 times>>, <<shift tab 4 times>>"
   ]
  },
  {
   "cell_type": "code",
   "execution_count": 6,
   "metadata": {},
   "outputs": [],
   "source": [
    "print?"
   ]
  },
  {
   "cell_type": "code",
   "execution_count": 71,
   "metadata": {},
   "outputs": [],
   "source": [
    "# *italicized*, **bold**, and ``monospaced text``"
   ]
  },
  {
   "cell_type": "code",
   "execution_count": 7,
   "metadata": {},
   "outputs": [
    {
     "data": {
      "text/plain": [
       "'utf-8'"
      ]
     },
     "execution_count": 7,
     "metadata": {},
     "output_type": "execute_result"
    }
   ],
   "source": [
    "import sys\n",
    "sys.getdefaultencoding() \n"
   ]
  },
  {
   "cell_type": "code",
   "execution_count": 8,
   "metadata": {},
   "outputs": [
    {
     "data": {
      "text/plain": [
       "'3.6.0 |Anaconda 4.3.1 (64-bit)| (default, Dec 23 2016, 11:57:41) [MSC v.1900 64 bit (AMD64)]'"
      ]
     },
     "execution_count": 8,
     "metadata": {},
     "output_type": "execute_result"
    }
   ],
   "source": [
    "sys.version"
   ]
  },
  {
   "cell_type": "markdown",
   "metadata": {},
   "source": [
    "## Variables"
   ]
  },
  {
   "cell_type": "code",
   "execution_count": null,
   "metadata": {},
   "outputs": [],
   "source": [
    "\n",
    "#abs, min, max\n",
    "a=400\n",
    "b=20.0"
   ]
  },
  {
   "cell_type": "markdown",
   "metadata": {},
   "source": [
    "## Strings"
   ]
  },
  {
   "cell_type": "markdown",
   "metadata": {},
   "source": [
    "#string\n",
    "\n",
    "hello=\"hello\\tthere\"\n",
    "\n",
    "hello=r'hello\\tthere' #raw\n",
    "\n",
    "hello=b'hello' #Byte string\n"
   ]
  },
  {
   "cell_type": "code",
   "execution_count": 16,
   "metadata": {},
   "outputs": [
    {
     "name": "stdout",
     "output_type": "stream",
     "text": [
      "hello\tthere\n",
      "hello\\tthere\n",
      "b'hello'\n"
     ]
    }
   ],
   "source": [
    "\n",
    "hello=\"hello\\tthere\"\n",
    "print (hello)\n",
    "hello=r'hello\\tthere' #raw\n",
    "print (hello)\n",
    "\n",
    "hello=b'hello' #Byte string\n",
    "print (hello)"
   ]
  },
  {
   "cell_type": "markdown",
   "metadata": {},
   "source": [
    "count(sub, [start, [end]]) \n",
    "*Count sub in s between start and end*"
   ]
  },
  {
   "cell_type": "code",
   "execution_count": 17,
   "metadata": {},
   "outputs": [
    {
     "data": {
      "text/plain": [
       "1"
      ]
     },
     "execution_count": 17,
     "metadata": {},
     "output_type": "execute_result"
    }
   ],
   "source": [
    "s='We are learning pythong with pandas'\n",
    "sub='learn'\n",
    "start=1\n",
    "\n",
    "s.count(sub, start)"
   ]
  },
  {
   "cell_type": "markdown",
   "metadata": {},
   "source": [
    "join(iterable)"
   ]
  },
  {
   "cell_type": "markdown",
   "metadata": {},
   "source": [
    "find(sub, [start, [end]]) *Find substring or return -1"
   ]
  },
  {
   "cell_type": "markdown",
   "metadata": {},
   "source": [
    "## Lists"
   ]
  },
  {
   "cell_type": "code",
   "execution_count": 21,
   "metadata": {},
   "outputs": [
    {
     "name": "stdout",
     "output_type": "stream",
     "text": [
      "['Mallu', 'Arvind', 'Tirupati', 1, 20.0, 'Veeresh']\n"
     ]
    }
   ],
   "source": [
    "#Lists\n",
    "friends = ['Mallu', 'Arvind', 'Tirupati',1,20.0]\n",
    "friends.append('Veeresh')\n",
    "\n",
    "print(friends)\n"
   ]
  },
  {
   "cell_type": "code",
   "execution_count": 24,
   "metadata": {},
   "outputs": [
    {
     "data": {
      "text/plain": [
       "'Veeresh'"
      ]
     },
     "execution_count": 24,
     "metadata": {},
     "output_type": "execute_result"
    }
   ],
   "source": [
    "#index operations\n",
    "# error as there is an indent\n",
    "friends[0]\n",
    "friends[-1] #  len(friends) - 1"
   ]
  },
  {
   "cell_type": "code",
   "execution_count": 38,
   "metadata": {},
   "outputs": [
    {
     "name": "stdout",
     "output_type": "stream",
     "text": [
      " All friends : ['Mallu', 'Arvind', 'Tirupati', 1, 20.0, 'Veeresh']\n",
      " only first element ['Mallu', 'Arvind']\n",
      " only 3 ['Mallu', 'Arvind', 'Tirupati']\n",
      " 1st to end ['Arvind', 'Tirupati', 1, 20.0, 'Veeresh']\n",
      "Alternate ['Mallu', 'Tirupati', 20.0]\n",
      "Try ['Mallu', 'Arvind', 'Tirupati', 1]\n"
     ]
    }
   ],
   "source": [
    "#slicing operations \n",
    "\n",
    "print(' All friends :', friends)\n",
    "fr=friends[0:2]\n",
    "print(' only first element', fr)\n",
    "fr=friends[:3]   # Implicit start at 0\n",
    "print(' only 3', fr)\n",
    "fr=friends[1:]   # Implicit end at len(people)\n",
    "print(' 1st to end', fr)\n",
    "fr=friends[::2]  # Take every other item\n",
    "print('Alternate',fr)\n",
    "fr=friends[::-1] # Reverse sequence\n",
    "\n",
    "fr=friends[:-2] # Reverse sequence\n",
    "print('Try',fr)\n",
    "#print('Reverese', fr)"
   ]
  },
  {
   "cell_type": "markdown",
   "metadata": {},
   "source": [
    "List Operations"
   ]
  },
  {
   "cell_type": "code",
   "execution_count": 64,
   "metadata": {},
   "outputs": [
    {
     "name": "stdout",
     "output_type": "stream",
     "text": [
      "After adding 2 new fruits- ['Apple', 'Organge', 'Mango', 'PineApple', 'Bannana', 'Sapota']\n",
      "After adding Grapes- ['Apple', 'Organge', 'Mango', 'PineApple', 'Bannana', 'Sapota', 'Grapes']\n",
      "Do we have Sapota in the list:- True\n",
      "Is fruits 2 same as fruits  False\n",
      "Is fruits 3 same as fruits  True\n",
      "Is fruits >  fruits 2  True\n",
      "Is fruits >  fruits 3 False\n",
      "reverse order ['Grapes', 'Sapota', 'Bannana', 'PineApple', 'Mango', 'Organge', 'Apple']\n"
     ]
    }
   ],
   "source": [
    "fruits = ['Apple', 'Organge', 'Mango','PineApple']\n",
    "\n",
    "#add a list\n",
    "newfruit=['Bannana','Sapota']\n",
    "fruits=fruits + newfruit\n",
    "\n",
    "print('After adding 2 new fruits-', fruits)\n",
    "\n",
    "#a new dynamic list\n",
    "fruits=fruits + ['Grapes']\n",
    "print('After adding Grapes-', fruits)\n",
    "\n",
    "#Check for membership\n",
    "print ( 'Do we have Sapota in the list:-','Sapota' in fruits)\n",
    "\n",
    "#Compare a list\n",
    "fruits2=['Apple', 'Organge', 'Mango', 'PineApple', 'Bannana', 'Sapota']\n",
    "fruits3=['Apple', 'Organge', 'Mango', 'PineApple', 'Bannana', 'Sapota', 'Grapes']\n",
    "print ( 'Is fruits 2 same as fruits ',fruits==fruits2)\n",
    "print ( 'Is fruits 3 same as fruits ',fruits==fruits3)\n",
    "print ( 'Is fruits >  fruits 2 ',fruits>fruits2)\n",
    "print ( 'Is fruits >  fruits 3',fruits>fruits3)\n",
    "rev=reversed(fruits3)\n",
    "print ( 'reverse order', list(rev))\n",
    "\n",
    "#Remove an item\n",
    "#del fruits['Sapota']\n",
    "#print ( 'Do we remove Sapota from the list:-'')\n"
   ]
  },
  {
   "cell_type": "markdown",
   "metadata": {},
   "source": [
    "## Dictionaries - Key value pair\n",
    "\n",
    "Dictionaries are mutable mappings of keys to values. Keys must be hashable, but values can be any object:\n",
    "\n",
    "An object is hashable if it has a hash value which never changes during its lifetime \n",
    "(it needs a __hash__() method), and can be compared to other objects (it needs an __eq__() method). \n",
    "Hashable objects which compare equal must have the same hash value.\n",
    "\n",
    "hashable very closely means immutable.\n",
    "\n",
    "A hashing function is a function which takes an object, say a string such as “Python,” and returns a fixed-size code. For simplicity, assume the return value is an integer.\n",
    "\n",
    "The important thing is that no matter now many times I run hash(‘Python’), I’ll always get the same result with the same version of Python.\n",
    "\n",
    " Python dictionaries, for example, require the keys to be immutable. That is, keys must be objects which do not change. Strings are immutable in Python, as are the other basic types (int, float, bool). Tuples and frozensets are also immutable."
   ]
  },
  {
   "cell_type": "code",
   "execution_count": 92,
   "metadata": {},
   "outputs": [],
   "source": [
    "Kids = {'Name': 'Ishaan', 'age': 4,'School':'Play school','game':'Cars'}\n",
    "Kids2 = {'Name': 'IIshaan', 'age':5,'School':'Play school','game':'Cars'}"
   ]
  },
  {
   "cell_type": "code",
   "execution_count": 94,
   "metadata": {},
   "outputs": [
    {
     "name": "stdout",
     "output_type": "stream",
     "text": [
      "Do we have age in the list:- True\n",
      "Deleting games\n",
      "Comparing Kids False\n"
     ]
    },
    {
     "data": {
      "text/plain": [
       "dict_items([('Name', 'Ishaan'), ('age', 4), ('School', 'Play school'), ('game', 'Cars')])"
      ]
     },
     "execution_count": 94,
     "metadata": {},
     "output_type": "execute_result"
    }
   ],
   "source": [
    "#Check for membership\n",
    "print ( 'Do we have age in the list:-','age' in Kids)\n",
    "\n",
    "#Delete a key\n",
    "#del Kids['game']\n",
    "print ( 'Deleting games')\n",
    "\n",
    "print ( 'Comparing Kids', Kids2==Kids) \n",
    "\n",
    "#Remove all items (mutates d)\n",
    "#Kids2.clear()\n",
    "\n",
    "#Get value for key or return default (None)\n",
    "#d.get(key, [default])\n",
    "Kids.get('Name1', 'None') #\n",
    "\n",
    "Kids.items()\n",
    "\n",
    "Kids.keys()\n",
    "\n",
    "d.values()"
   ]
  },
  {
   "cell_type": "markdown",
   "metadata": {},
   "source": [
    "## Tuples\n",
    "Tuples are immutable sequences. Typically they are used to store record type data:\n"
   ]
  },
  {
   "cell_type": "code",
   "execution_count": 96,
   "metadata": {},
   "outputs": [],
   "source": [
    "employee = ('Arvind', 'Mekin', 1972, 'BE')\n",
    "Family = ('Mallikarjun', 'Bendigeri', 'Sheela','Ishaan','Iccha')\n",
    "Salary=(1000)\n",
    "School=('LifeSpan')"
   ]
  },
  {
   "cell_type": "markdown",
   "metadata": {},
   "source": [
    "Tuples are fixed size (immutable, do not append or extend),  lists are dynamic ( mutable). \n",
    "\n",
    "Tuples are surrounded by parenthesis (), Lists are surrounded by square brackets []\n",
    "\n",
    "Tuples has smaller size than that of list, \n"
   ]
  },
  {
   "cell_type": "code",
   "execution_count": 100,
   "metadata": {},
   "outputs": [
    {
     "name": "stdout",
     "output_type": "stream",
     "text": [
      "a= 96\n",
      "b= 112\n"
     ]
    }
   ],
   "source": [
    "a= (1,2,3,4,5,6,7,8,9)\n",
    "b= [1,2,3,4,5,6,7,8,9]\n",
    "\n",
    "print('a=',a.__sizeof__())\n",
    "print('b=',b.__sizeof__())"
   ]
  },
  {
   "cell_type": "code",
   "execution_count": 104,
   "metadata": {},
   "outputs": [
    {
     "data": {
      "text/plain": [
       "3"
      ]
     },
     "execution_count": 104,
     "metadata": {},
     "output_type": "execute_result"
    }
   ],
   "source": [
    "a= (1,2,3,1,5,6,1,8,9)\n",
    "a.count(1)"
   ]
  },
  {
   "cell_type": "markdown",
   "metadata": {},
   "source": [
    "## Sets\n",
    "A set is a mutable unordered collection that cannot contain duplicates. Sets are used to remove duplicates and test for membership\n",
    "\n",
    "There is no empty set"
   ]
  },
  {
   "cell_type": "code",
   "execution_count": 109,
   "metadata": {},
   "outputs": [
    {
     "name": "stdout",
     "output_type": "stream",
     "text": [
      "digits set {0, 1, 2, 3, 4, 5, 6, 7, 8, 9}\n",
      "{'C', 'A', 'B'}\n",
      "True\n"
     ]
    }
   ],
   "source": [
    "digits = [0, 1, 1, 2, 3, 4, 5, 6,7, 8, 9]\n",
    "digit_set = set(digits)   # remove extra 1\n",
    "print ('digits set',digit_set)\n",
    "\n",
    "Names=['A','B','C','A','B','C']\n",
    "Names_set=set(Names)\n",
    "print(Names_set)\n",
    "print (9 in digit_set)"
   ]
  },
  {
   "cell_type": "markdown",
   "metadata": {},
   "source": [
    "Sets are useful because they provide set operations, such as union (|), intersection (&), difference (-), and xor (^):"
   ]
  },
  {
   "cell_type": "code",
   "execution_count": 111,
   "metadata": {},
   "outputs": [
    {
     "name": "stdout",
     "output_type": "stream",
     "text": [
      "Difference {0, 2, 4, 6, 8}\n",
      "Intersetion {2}\n",
      "Union {0, 1, 2, 3, 4, 5, 6, 7, 8, 9}\n",
      "Xor Not in both {0, 3, 4, 5, 6, 7, 8}\n"
     ]
    }
   ],
   "source": [
    "odd = {1, 3, 5, 7, 9}\n",
    "prime = set([2, 3, 5, 7])\n",
    "even = digit_set - odd\n",
    "print ('Difference',even)\n",
    "\n",
    "print ('Intersetion', prime & even)   # in intersection\n",
    "print ('Union', odd | even )   # in both\n",
    "print ('Xor Not in both',even ^ prime)  # not in both"
   ]
  },
  {
   "cell_type": "code",
   "execution_count": 4,
   "metadata": {},
   "outputs": [
    {
     "name": "stdout",
     "output_type": "stream",
     "text": [
      "Requirement already satisfied: ipywidgets in d:\\mallikarjun\\upxacademylearning\\anaconda\\lib\\site-packages\n"
     ]
    },
    {
     "name": "stderr",
     "output_type": "stream",
     "text": [
      "You are using pip version 9.0.1, however version 18.0 is available.\n",
      "You should consider upgrading via the 'python -m pip install --upgrade pip' command.\n"
     ]
    }
   ],
   "source": [
    "#!pip install ipywidgets"
   ]
  },
  {
   "cell_type": "code",
   "execution_count": 6,
   "metadata": {},
   "outputs": [
    {
     "name": "stderr",
     "output_type": "stream",
     "text": [
      "Enabling notebook extension jupyter-js-widgets/extension...\n",
      "      - Validating: ok\n"
     ]
    }
   ],
   "source": [
    "!jupyter nbextension enable --py widgetsnbextension"
   ]
  },
  {
   "cell_type": "code",
   "execution_count": null,
   "metadata": {},
   "outputs": [],
   "source": [
    "#!pip update jupyter_core jupyter_client"
   ]
  },
  {
   "cell_type": "code",
   "execution_count": 21,
   "metadata": {},
   "outputs": [
    {
     "data": {
      "text/plain": [
       "'Hello World '"
      ]
     },
     "metadata": {},
     "output_type": "display_data"
    }
   ],
   "source": [
    "from ipywidgets import interact \n",
    "def myfunction(x): \n",
    "    return x \n",
    "interact(myfunction, x= \"Hello World \"); "
   ]
  }
 ],
 "metadata": {
  "kernelspec": {
   "display_name": "Python 3",
   "language": "python",
   "name": "python3"
  },
  "language_info": {
   "codemirror_mode": {
    "name": "ipython",
    "version": 3
   },
   "file_extension": ".py",
   "mimetype": "text/x-python",
   "name": "python",
   "nbconvert_exporter": "python",
   "pygments_lexer": "ipython3",
   "version": "3.6.0"
  }
 },
 "nbformat": 4,
 "nbformat_minor": 2
}
